{
  "nbformat": 4,
  "nbformat_minor": 0,
  "metadata": {
    "colab": {
      "name": "P_Emotion_Analysis_Naive Bayes.ipynb",
      "provenance": [],
      "collapsed_sections": []
    },
    "kernelspec": {
      "name": "python3",
      "display_name": "Python 3"
    }
  },
  "cells": [
    {
      "cell_type": "markdown",
      "metadata": {
        "id": "Ryevx6MznRSm"
      },
      "source": [
        "# **NAIVE BAYES**\r\n",
        "\r\n",
        "- Supervised algorithm;\r\n",
        "- Probabilistic Classificator, based on Bayes Theory;\r\n",
        "- Takes on that features are independent;\r\n",
        "- It could be used to classify texts, spam or not spam, etc.\r\n",
        "- It used words to define if our phrase is negative or positive. We calculated the probability of a word being from a class.\r\n",
        "- We have multiple Naive Bayes algorithms (NB):\r\n",
        "\r\n",
        "  1) **Multinomial NB**: Utiliza frequencia de termos em um texto.\r\n",
        "\r\n",
        "  2) **Bernoulli NB**: Variação do Algoritmo para valores binários.\r\n",
        "\r\n",
        "  3) **Gaussian NB**: Variação do Algoritmo para valores continuos. Calcula-se média e desvio padrão dos valores de entrada e assume que os valores estão em forma normal.\r\n",
        "\r\n",
        "- **Bag of Words**: Modelagem usada para processamento de textos. Mapeia a quantidade de termos e suas frequências. Transforma todas as palavras da frase em features do modelo."
      ]
    },
    {
      "cell_type": "markdown",
      "metadata": {
        "id": "-ZF5cRoZiMr-"
      },
      "source": [
        "## **EMOTION ANALYSIS**\n",
        "\n",
        "- We are using a dataset from twitter collected by IT people from MG to check their feelings about something;"
      ]
    },
    {
      "cell_type": "code",
      "metadata": {
        "id": "2Pd9v29HV0Hc"
      },
      "source": [
        "import nltk\n",
        "import re\n",
        "import pandas as pd\n",
        "from sklearn.feature_extraction.text import CountVectorizer\n",
        "from sklearn.naive_bayes import MultinomialNB\n",
        "from sklearn import metrics\n",
        "from sklearn.model_selection import cross_val_predict"
      ],
      "execution_count": null,
      "outputs": []
    },
    {
      "cell_type": "code",
      "metadata": {
        "id": "zW91bpWJk20g"
      },
      "source": [
        "dataset = pd.read_csv('Tweets_Mg.csv',encoding='utf-8')"
      ],
      "execution_count": null,
      "outputs": []
    },
    {
      "cell_type": "code",
      "metadata": {
        "colab": {
          "base_uri": "https://localhost:8080/"
        },
        "id": "pUCtBeBdlHRH",
        "outputId": "5bd39331-6f23-4317-fb3c-44e84c828ff6"
      },
      "source": [
        "dataset.info()"
      ],
      "execution_count": null,
      "outputs": [
        {
          "output_type": "stream",
          "text": [
            "<class 'pandas.core.frame.DataFrame'>\n",
            "RangeIndex: 8199 entries, 0 to 8198\n",
            "Data columns (total 26 columns):\n",
            " #   Column                     Non-Null Count  Dtype  \n",
            "---  ------                     --------------  -----  \n",
            " 0   Unnamed: 0                 8199 non-null   int64  \n",
            " 1   Created At                 8199 non-null   object \n",
            " 2   Text                       8199 non-null   object \n",
            " 3   Geo Coordinates.latitude   104 non-null    float64\n",
            " 4   Geo Coordinates.longitude  104 non-null    float64\n",
            " 5   User Location              5489 non-null   object \n",
            " 6   Username                   8199 non-null   object \n",
            " 7   User Screen Name           8199 non-null   object \n",
            " 8   Retweet Count              8199 non-null   int64  \n",
            " 9   Classificacao              8199 non-null   object \n",
            " 10  Observação                 1 non-null      object \n",
            " 11  Unnamed: 10                0 non-null      float64\n",
            " 12  Unnamed: 11                0 non-null      float64\n",
            " 13  Unnamed: 12                0 non-null      float64\n",
            " 14  Unnamed: 13                0 non-null      float64\n",
            " 15  Unnamed: 14                0 non-null      float64\n",
            " 16  Unnamed: 15                0 non-null      float64\n",
            " 17  Unnamed: 16                0 non-null      float64\n",
            " 18  Unnamed: 17                0 non-null      float64\n",
            " 19  Unnamed: 18                0 non-null      float64\n",
            " 20  Unnamed: 19                0 non-null      float64\n",
            " 21  Unnamed: 20                0 non-null      float64\n",
            " 22  Unnamed: 21                0 non-null      float64\n",
            " 23  Unnamed: 22                0 non-null      float64\n",
            " 24  Unnamed: 23                0 non-null      float64\n",
            " 25  Unnamed: 24                0 non-null      float64\n",
            "dtypes: float64(17), int64(2), object(7)\n",
            "memory usage: 1.6+ MB\n"
          ],
          "name": "stdout"
        }
      ]
    },
    {
      "cell_type": "code",
      "metadata": {
        "colab": {
          "base_uri": "https://localhost:8080/"
        },
        "id": "aaOHF2v9lL3H",
        "outputId": "b5273113-14bd-466b-903b-2467812dd68c"
      },
      "source": [
        "# Expand our display in the text column\n",
        "pd.set_option('display.max_colwidth', -1)\n",
        "dataset.Text.head(100)"
      ],
      "execution_count": null,
      "outputs": [
        {
          "output_type": "stream",
          "text": [
            "/usr/local/lib/python3.6/dist-packages/ipykernel_launcher.py:2: FutureWarning: Passing a negative integer is deprecated in version 1.0 and will not be supported in future version. Instead, use None to not limit the column width.\n",
            "  \n"
          ],
          "name": "stderr"
        },
        {
          "output_type": "execute_result",
          "data": {
            "text/plain": [
              "0     ���⛪ @ Catedral de Santo Antônio - Governador Valadares/MG https://t.co/JSbKamIqUJ                                                         \n",
              "1     � @ Governador Valadares, Minas Gerais https://t.co/B3ThIDJCSf                                                                             \n",
              "2     �� @ Governador Valadares, Minas Gerais https://t.co/dPkgzVR2Qw                                                                            \n",
              "3     ��� https://t.co/BnDsO34qK0                                                                                                                \n",
              "4     ��� PSOL vai questionar aumento de vereadores e prefeito de BH na Justiça - Politica - Estado de Minas https://t.co/DMg7BGsek5             \n",
              "                                                                   ...                                                                           \n",
              "95    #noticiasdorenan Uso de depósitos judiciais pelo governo tem nova polêmica em MG: O Banco… https://t.co/kHuZpKQaj5                         \n",
              "96    #OperacaoBetaLab #TimBeta #Beta #BetaLab #BetaAjudaBeta #BetaSegueBeta UOL: Desastre ambiental em MG: Empresas ped… https://t.co/kwyeKjhtcI\n",
              "97    #OperacaoBetaLab #TimBeta #Beta #BetaLab #BetaAjudaBeta #BetaSegueBeta UOL: Governo em calamidade financeira: BB a… https://t.co/1rWaHUACqt\n",
              "98    #OperacaoBetaLab #TimBeta #Beta #BetaLab #BetaAjudaBeta #BetaSegueBeta UOL: Polêmica com filho de Pimentel: Govern… https://t.co/E1EhSA9Ti3\n",
              "99    #operacaobetalab BB avisa Justiça que governo de MG não tem recursos em conta judicial https://t.co/W6AoFMMsvA #rt #sdv                    \n",
              "Name: Text, Length: 100, dtype: object"
            ]
          },
          "metadata": {
            "tags": []
          },
          "execution_count": 4
        }
      ]
    },
    {
      "cell_type": "markdown",
      "metadata": {
        "id": "wZi-0Pz0mQJk"
      },
      "source": [
        "            *We have many different twitts speaking about MG Goverment*"
      ]
    },
    {
      "cell_type": "markdown",
      "metadata": {
        "id": "E9OGTCVYmfKB"
      },
      "source": [
        "**Excluding Duplicates Rows**"
      ]
    },
    {
      "cell_type": "code",
      "metadata": {
        "id": "1WWvWbUll-yn"
      },
      "source": [
        "dataset.drop_duplicates(['Text'], inplace=True)"
      ],
      "execution_count": null,
      "outputs": []
    },
    {
      "cell_type": "code",
      "metadata": {
        "colab": {
          "base_uri": "https://localhost:8080/"
        },
        "id": "IGWkHhR5mu1C",
        "outputId": "7e9d1aec-d2f8-47fb-ce65-45b737f94049"
      },
      "source": [
        "# Row Numbers\n",
        "dataset.count()"
      ],
      "execution_count": null,
      "outputs": [
        {
          "output_type": "execute_result",
          "data": {
            "text/plain": [
              "Unnamed: 0                   5765\n",
              "Created At                   5765\n",
              "Text                         5765\n",
              "Geo Coordinates.latitude     104 \n",
              "Geo Coordinates.longitude    104 \n",
              "User Location                3851\n",
              "Username                     5765\n",
              "User Screen Name             5765\n",
              "Retweet Count                5765\n",
              "Classificacao                5765\n",
              "Observação                   1   \n",
              "Unnamed: 10                  0   \n",
              "Unnamed: 11                  0   \n",
              "Unnamed: 12                  0   \n",
              "Unnamed: 13                  0   \n",
              "Unnamed: 14                  0   \n",
              "Unnamed: 15                  0   \n",
              "Unnamed: 16                  0   \n",
              "Unnamed: 17                  0   \n",
              "Unnamed: 18                  0   \n",
              "Unnamed: 19                  0   \n",
              "Unnamed: 20                  0   \n",
              "Unnamed: 21                  0   \n",
              "Unnamed: 22                  0   \n",
              "Unnamed: 23                  0   \n",
              "Unnamed: 24                  0   \n",
              "dtype: int64"
            ]
          },
          "metadata": {
            "tags": []
          },
          "execution_count": 6
        }
      ]
    },
    {
      "cell_type": "markdown",
      "metadata": {
        "id": "nTkq5p_9m_io"
      },
      "source": [
        "**Removing unnecessary columns**"
      ]
    },
    {
      "cell_type": "code",
      "metadata": {
        "colab": {
          "base_uri": "https://localhost:8080/"
        },
        "id": "bZv1mUUCmwgX",
        "outputId": "e5eca695-861b-462b-efb5-8e62b01f4171"
      },
      "source": [
        "for i in dataset.columns.values:\n",
        "  if i.startswith('Unnamed'):\n",
        "    dataset.drop(i, axis=1, inplace=True)\n",
        "    print('Deleted Columns: ', i)"
      ],
      "execution_count": null,
      "outputs": [
        {
          "output_type": "stream",
          "text": [
            "Deleted Columns:  Unnamed: 0\n",
            "Deleted Columns:  Unnamed: 10\n",
            "Deleted Columns:  Unnamed: 11\n",
            "Deleted Columns:  Unnamed: 12\n",
            "Deleted Columns:  Unnamed: 13\n",
            "Deleted Columns:  Unnamed: 14\n",
            "Deleted Columns:  Unnamed: 15\n",
            "Deleted Columns:  Unnamed: 16\n",
            "Deleted Columns:  Unnamed: 17\n",
            "Deleted Columns:  Unnamed: 18\n",
            "Deleted Columns:  Unnamed: 19\n",
            "Deleted Columns:  Unnamed: 20\n",
            "Deleted Columns:  Unnamed: 21\n",
            "Deleted Columns:  Unnamed: 22\n",
            "Deleted Columns:  Unnamed: 23\n",
            "Deleted Columns:  Unnamed: 24\n"
          ],
          "name": "stdout"
        }
      ]
    },
    {
      "cell_type": "code",
      "metadata": {
        "colab": {
          "base_uri": "https://localhost:8080/"
        },
        "id": "YebXpNkinc_8",
        "outputId": "8a02aafa-86aa-4861-927c-a36ecb21d862"
      },
      "source": [
        "dataset.columns"
      ],
      "execution_count": null,
      "outputs": [
        {
          "output_type": "execute_result",
          "data": {
            "text/plain": [
              "Index(['Created At', 'Text', 'Geo Coordinates.latitude',\n",
              "       'Geo Coordinates.longitude', 'User Location', 'Username',\n",
              "       'User Screen Name', 'Retweet Count', 'Classificacao', 'Observação'],\n",
              "      dtype='object')"
            ]
          },
          "metadata": {
            "tags": []
          },
          "execution_count": 8
        }
      ]
    },
    {
      "cell_type": "markdown",
      "metadata": {
        "id": "zGD7qbC1owAI"
      },
      "source": [
        "**Checking Neutral, Positives and Negatives class distributions**"
      ]
    },
    {
      "cell_type": "code",
      "metadata": {
        "colab": {
          "base_uri": "https://localhost:8080/"
        },
        "id": "4YHUQiHYpBu-",
        "outputId": "6feb8613-0340-436d-8e40-1c4363dfbdd9"
      },
      "source": [
        "dataset.Classificacao"
      ],
      "execution_count": null,
      "outputs": [
        {
          "output_type": "execute_result",
          "data": {
            "text/plain": [
              "0       Neutro  \n",
              "1       Neutro  \n",
              "2       Neutro  \n",
              "3       Neutro  \n",
              "4       Negativo\n",
              "          ...   \n",
              "8194    Positivo\n",
              "8195    Positivo\n",
              "8196    Positivo\n",
              "8197    Positivo\n",
              "8198    Positivo\n",
              "Name: Classificacao, Length: 5765, dtype: object"
            ]
          },
          "metadata": {
            "tags": []
          },
          "execution_count": 9
        }
      ]
    },
    {
      "cell_type": "code",
      "metadata": {
        "colab": {
          "base_uri": "https://localhost:8080/",
          "height": 317
        },
        "id": "QpMx_kWZpGOZ",
        "outputId": "b7fcae6f-1f15-45a2-8dc7-d09c6276fbc8"
      },
      "source": [
        "%matplotlib inline\n",
        "dataset.Classificacao.value_counts().plot(kind='bar')"
      ],
      "execution_count": null,
      "outputs": [
        {
          "output_type": "execute_result",
          "data": {
            "text/plain": [
              "<matplotlib.axes._subplots.AxesSubplot at 0x7f624bba21d0>"
            ]
          },
          "metadata": {
            "tags": []
          },
          "execution_count": 10
        },
        {
          "output_type": "display_data",
          "data": {
            "image/png": "[encoded data removed]",
            "text/plain": [
              "<Figure size 432x288 with 1 Axes>"
            ]
          },
          "metadata": {
            "tags": [],
            "needs_background": "light"
          }
        }
      ]
    },
    {
      "cell_type": "markdown",
      "metadata": {
        "id": "jjyiZfX2pZKs"
      },
      "source": [
        "  *We have a imbalance of class. We have too many Positives values than others*"
      ]
    },
    {
      "cell_type": "markdown",
      "metadata": {
        "id": "gRSFNKGLn7eg"
      },
      "source": [
        "**Separating tweets and their Classes**"
      ]
    },
    {
      "cell_type": "code",
      "metadata": {
        "id": "9LYcgazYnkwR"
      },
      "source": [
        "tweets = dataset['Text']\n",
        "classes = dataset['Classificacao']"
      ],
      "execution_count": null,
      "outputs": []
    },
    {
      "cell_type": "code",
      "metadata": {
        "colab": {
          "base_uri": "https://localhost:8080/"
        },
        "id": "l6fyETpB2kCs",
        "outputId": "b5f32796-bee7-4eb4-8b02-bc3965421f8e"
      },
      "source": [
        "tweets.head()"
      ],
      "execution_count": null,
      "outputs": [
        {
          "output_type": "execute_result",
          "data": {
            "text/plain": [
              "0    ���⛪ @ Catedral de Santo Antônio - Governador Valadares/MG https://t.co/JSbKamIqUJ                                            \n",
              "1    � @ Governador Valadares, Minas Gerais https://t.co/B3ThIDJCSf                                                                \n",
              "2    �� @ Governador Valadares, Minas Gerais https://t.co/dPkgzVR2Qw                                                               \n",
              "3    ��� https://t.co/BnDsO34qK0                                                                                                   \n",
              "4    ��� PSOL vai questionar aumento de vereadores e prefeito de BH na Justiça - Politica - Estado de Minas https://t.co/DMg7BGsek5\n",
              "Name: Text, dtype: object"
            ]
          },
          "metadata": {
            "tags": []
          },
          "execution_count": 12
        }
      ]
    },
    {
      "cell_type": "code",
      "metadata": {
        "colab": {
          "base_uri": "https://localhost:8080/"
        },
        "id": "vcbmQFrh2kKj",
        "outputId": "2901f545-6117-48c9-a1ac-a41f7393a0c1"
      },
      "source": [
        "classes.head()"
      ],
      "execution_count": null,
      "outputs": [
        {
          "output_type": "execute_result",
          "data": {
            "text/plain": [
              "0    Neutro  \n",
              "1    Neutro  \n",
              "2    Neutro  \n",
              "3    Neutro  \n",
              "4    Negativo\n",
              "Name: Classificacao, dtype: object"
            ]
          },
          "metadata": {
            "tags": []
          },
          "execution_count": 13
        }
      ]
    },
    {
      "cell_type": "markdown",
      "metadata": {
        "id": "grAYaSp0oUKo"
      },
      "source": [
        "**Generating Model**"
      ]
    },
    {
      "cell_type": "code",
      "metadata": {
        "id": "7JHUT4fYoTJ8"
      },
      "source": [
        "vectorizer = CountVectorizer(analyzer='word') # iNSTANCIAR o método. Analisa cada palavra\n",
        "freq_tweets = vectorizer.fit_transform(tweets) # Frequencia de tweets"
      ],
      "execution_count": null,
      "outputs": []
    },
    {
      "cell_type": "code",
      "metadata": {
        "colab": {
          "base_uri": "https://localhost:8080/"
        },
        "id": "-qrY-aru2pGl",
        "outputId": "2262b434-1448-4a5e-bc60-e81c244eb669"
      },
      "source": [
        "# Palavra e nª de palavras que aparecem\n",
        "type(freq_tweets)"
      ],
      "execution_count": null,
      "outputs": [
        {
          "output_type": "execute_result",
          "data": {
            "text/plain": [
              "scipy.sparse.csr.csr_matrix"
            ]
          },
          "metadata": {
            "tags": []
          },
          "execution_count": 15
        }
      ]
    },
    {
      "cell_type": "code",
      "metadata": {
        "colab": {
          "base_uri": "https://localhost:8080/"
        },
        "id": "YNyPDeHV2r6v",
        "outputId": "70b4543f-d1eb-4abe-ab3b-0a99a1a1bf3c"
      },
      "source": [
        "# Cada palavra da base virou uma coluna\n",
        "freq_tweets.shape"
      ],
      "execution_count": null,
      "outputs": [
        {
          "output_type": "execute_result",
          "data": {
            "text/plain": [
              "(5765, 13029)"
            ]
          },
          "metadata": {
            "tags": []
          },
          "execution_count": 16
        }
      ]
    },
    {
      "cell_type": "code",
      "metadata": {
        "colab": {
          "base_uri": "https://localhost:8080/"
        },
        "id": "bQ75Wi2u3kZg",
        "outputId": "36e1e963-86dd-4462-fb80-14cfed4752a0"
      },
      "source": [
        "# Frequencia de cada palavra na base. \r\n",
        "freq_tweets.A"
      ],
      "execution_count": null,
      "outputs": [
        {
          "output_type": "execute_result",
          "data": {
            "text/plain": [
              "array([[0, 0, 0, ..., 0, 0, 0],\n",
              "       [0, 0, 0, ..., 0, 0, 0],\n",
              "       [0, 0, 0, ..., 0, 0, 0],\n",
              "       ...,\n",
              "       [0, 0, 0, ..., 0, 0, 0],\n",
              "       [0, 0, 0, ..., 0, 0, 0],\n",
              "       [0, 0, 0, ..., 0, 0, 0]])"
            ]
          },
          "metadata": {
            "tags": []
          },
          "execution_count": 17
        }
      ]
    },
    {
      "cell_type": "markdown",
      "metadata": {
        "id": "nHS3_bhe34K8"
      },
      "source": [
        "**Creating Naive Bayes Multinomial Model**"
      ]
    },
    {
      "cell_type": "code",
      "metadata": {
        "colab": {
          "base_uri": "https://localhost:8080/"
        },
        "id": "PuEpkT5t3mhm",
        "outputId": "d79fbc8c-07af-42d6-e338-44adc1d8084b"
      },
      "source": [
        "modelo = MultinomialNB() # type of Naive Bayes\n",
        "modelo.fit(freq_tweets, classes)"
      ],
      "execution_count": null,
      "outputs": [
        {
          "output_type": "execute_result",
          "data": {
            "text/plain": [
              "MultinomialNB(alpha=1.0, class_prior=None, fit_prior=True)"
            ]
          },
          "metadata": {
            "tags": []
          },
          "execution_count": 18
        }
      ]
    },
    {
      "cell_type": "markdown",
      "metadata": {
        "id": "gVp51AyM5ZJE"
      },
      "source": [
        "**Testing our Model with some simple examples**"
      ]
    },
    {
      "cell_type": "code",
      "metadata": {
        "id": "4Kpa51qX5ULQ"
      },
      "source": [
        "# defina instâncias de teste dentro de uma lista\n",
        "testes = ['Esse governo está no início, vamos ver o que vai dar',\n",
        "          'Estou muito feliz com o governo de Minas esse ano',\n",
        "          'O estado de Minas Gerais decretou calamidade financeira!!!',\n",
        "          'A segurança desse país está deixando a desejar',\n",
        "          'O governador de Minas é mais uma vez do PT']"
      ],
      "execution_count": null,
      "outputs": []
    },
    {
      "cell_type": "code",
      "metadata": {
        "id": "98vz1ZTI5yWu"
      },
      "source": [
        "# Transform test data to word vectors\n",
        "freq_testes = vectorizer.transform(testes)"
      ],
      "execution_count": null,
      "outputs": []
    },
    {
      "cell_type": "code",
      "metadata": {
        "colab": {
          "base_uri": "https://localhost:8080/"
        },
        "id": "wl14ZSTc6KZm",
        "outputId": "054ae5d2-13c2-4995-bd68-a8e1e5494c69"
      },
      "source": [
        "# Classification of our training model\n",
        "for t, c in zip (testes,modelo.predict(freq_testes)):\n",
        "  print(t +\" - \"+ c)"
      ],
      "execution_count": null,
      "outputs": [
        {
          "output_type": "stream",
          "text": [
            "Esse governo está no início, vamos ver o que vai dar - Neutro\n",
            "Estou muito feliz com o governo de Minas esse ano - Neutro\n",
            "O estado de Minas Gerais decretou calamidade financeira!!! - Negativo\n",
            "A segurança desse país está deixando a desejar - Neutro\n",
            "O governador de Minas é mais uma vez do PT - Neutro\n"
          ],
          "name": "stdout"
        }
      ]
    },
    {
      "cell_type": "code",
      "metadata": {
        "colab": {
          "base_uri": "https://localhost:8080/"
        },
        "id": "PuAoLP-v6gCN",
        "outputId": "e72bb07b-f5f5-4af2-abbe-9dd4e2469bf4"
      },
      "source": [
        "# Class Probability\n",
        "print(modelo.classes_) # Label from each class\n",
        "modelo.predict_proba(freq_testes).round(2)"
      ],
      "execution_count": null,
      "outputs": [
        {
          "output_type": "stream",
          "text": [
            "['Negativo' 'Neutro' 'Positivo']\n"
          ],
          "name": "stdout"
        },
        {
          "output_type": "execute_result",
          "data": {
            "text/plain": [
              "array([[0.18, 0.82, 0.  ],\n",
              "       [0.02, 0.98, 0.  ],\n",
              "       [0.99, 0.01, 0.  ],\n",
              "       [0.1 , 0.89, 0.01],\n",
              "       [0.15, 0.85, 0.  ]])"
            ]
          },
          "metadata": {
            "tags": []
          },
          "execution_count": 22
        }
      ]
    },
    {
      "cell_type": "markdown",
      "metadata": {
        "id": "UFyuX6DSBV5T"
      },
      "source": [
        "### **Model Evaliation**\n",
        "\n",
        "- We will use Cross Validation Technique with 10 folds;\n"
      ]
    },
    {
      "cell_type": "code",
      "metadata": {
        "id": "rlG1-n4-7G0G"
      },
      "source": [
        "resultados = cross_val_predict(modelo, freq_tweets, classes, cv = 10)"
      ],
      "execution_count": null,
      "outputs": []
    },
    {
      "cell_type": "code",
      "metadata": {
        "colab": {
          "base_uri": "https://localhost:8080/"
        },
        "id": "NajECsp6B8JN",
        "outputId": "b0429c46-cdf1-4438-b90c-0bd3ad3f8a96"
      },
      "source": [
        "# Confusion Matrix\n",
        "print(pd.crosstab(classes, resultados, rownames=['Real'], colnames=['Predict:'], margins=True))"
      ],
      "execution_count": null,
      "outputs": [
        {
          "output_type": "stream",
          "text": [
            "Predict:  Negativo  Neutro  Positivo   All\n",
            "Real                                      \n",
            "Negativo  846       100     5         951 \n",
            "Neutro    206       1656    112       1974\n",
            "Positivo  53        294     2493      2840\n",
            "All       1105      2050    2610      5765\n"
          ],
          "name": "stdout"
        }
      ]
    },
    {
      "cell_type": "markdown",
      "metadata": {
        "id": "TcLePywSCmVN"
      },
      "source": [
        "**Validation Model Metrics**"
      ]
    },
    {
      "cell_type": "code",
      "metadata": {
        "colab": {
          "base_uri": "https://localhost:8080/"
        },
        "id": "19BE-NEBCRaz",
        "outputId": "6f00be23-2c9b-48ac-ca23-cf58264a11b3"
      },
      "source": [
        "sentimento=['Positivo', 'Negativo', 'Neutro']\n",
        "print(metrics.classification_report(classes, resultados, sentimento))"
      ],
      "execution_count": null,
      "outputs": [
        {
          "output_type": "stream",
          "text": [
            "              precision    recall  f1-score   support\n",
            "\n",
            "    Positivo       0.96      0.88      0.91      2840\n",
            "    Negativo       0.77      0.89      0.82       951\n",
            "      Neutro       0.81      0.84      0.82      1974\n",
            "\n",
            "    accuracy                           0.87      5765\n",
            "   macro avg       0.84      0.87      0.85      5765\n",
            "weighted avg       0.87      0.87      0.87      5765\n",
            "\n"
          ],
          "name": "stdout"
        }
      ]
    },
    {
      "cell_type": "markdown",
      "metadata": {
        "id": "Kw46N4tKDT0q"
      },
      "source": [
        "*We have good 'precision' to Positivo and Neutro, but less 'precision' to Negativo, because it had a lower classification number (951) compared to others.*"
      ]
    },
    {
      "cell_type": "markdown",
      "metadata": {
        "id": "HLlWdhRADJKN"
      },
      "source": [
        "### **Tunning Naive Bayes - GRIDSEARCH**\n",
        "\n",
        "- Ferramenta faz testes exaustivos de valores de parametros para alterar parametros de forma acertiva e de robustes;\n",
        "\n",
        "- Define lista de valores chaves que gostaria de alterar (Alpha) e o GridSearch vai realizar as validações e retornar o melhor valor para ter melhor acuracia.\n",
        "\n",
        "- *GridSearch will do many tests with different values to improve the parameters in a better way;*\n",
        "\n",
        "- *Define a value list and use it to change the 'Alpha' and we will receive the best value to our accuracy.*"
      ]
    },
    {
      "cell_type": "code",
      "metadata": {
        "id": "7cx2xo9uC3jp"
      },
      "source": [
        "from sklearn.model_selection import GridSearchCV"
      ],
      "execution_count": null,
      "outputs": []
    },
    {
      "cell_type": "code",
      "metadata": {
        "colab": {
          "base_uri": "https://localhost:8080/"
        },
        "id": "yESrzmYyl08I",
        "outputId": "a049654b-45b7-4c26-807d-1386445ebd92"
      },
      "source": [
        "# Defining an Alpha Values List\n",
        "lista_alpha = list(range(1,11))\n",
        "lista_alpha"
      ],
      "execution_count": null,
      "outputs": [
        {
          "output_type": "execute_result",
          "data": {
            "text/plain": [
              "[1, 2, 3, 4, 5, 6, 7, 8, 9, 10]"
            ]
          },
          "metadata": {
            "tags": []
          },
          "execution_count": 27
        }
      ]
    },
    {
      "cell_type": "code",
      "metadata": {
        "colab": {
          "base_uri": "https://localhost:8080/"
        },
        "id": "5V_lLN4KnAKw",
        "outputId": "50d7d1c4-193c-4e39-ba41-020279506634"
      },
      "source": [
        "# Creating a dictionary with parameter names and values list\n",
        "parametros_grid = dict(alpha=lista_alpha)\n",
        "parametros_grid"
      ],
      "execution_count": null,
      "outputs": [
        {
          "output_type": "execute_result",
          "data": {
            "text/plain": [
              "{'alpha': [1, 2, 3, 4, 5, 6, 7, 8, 9, 10]}"
            ]
          },
          "metadata": {
            "tags": []
          },
          "execution_count": 30
        }
      ]
    },
    {
      "cell_type": "code",
      "metadata": {
        "id": "du75C4xbnmUc"
      },
      "source": [
        "# Instanciando um modelo Default\n",
        "nvModelo = MultinomialNB()"
      ],
      "execution_count": null,
      "outputs": []
    },
    {
      "cell_type": "code",
      "metadata": {
        "id": "WVMa1X0fnsOk"
      },
      "source": [
        "# Creating Grid Object\n",
        "grid = GridSearchCV(nvModelo, parametros_grid, cv=10, scoring='accuracy')"
      ],
      "execution_count": null,
      "outputs": []
    },
    {
      "cell_type": "code",
      "metadata": {
        "colab": {
          "base_uri": "https://localhost:8080/"
        },
        "id": "058eFDoZpcqL",
        "outputId": "dd8be193-13a3-47dc-bb93-86e965ecce0a"
      },
      "source": [
        "# Running Grid\n",
        "freq_tweets = vectorizer.fit_transform(tweets)\n",
        "grid.fit(freq_tweets, classes)"
      ],
      "execution_count": null,
      "outputs": [
        {
          "output_type": "execute_result",
          "data": {
            "text/plain": [
              "GridSearchCV(cv=10, error_score=nan,\n",
              "             estimator=MultinomialNB(alpha=1.0, class_prior=None,\n",
              "                                     fit_prior=True),\n",
              "             iid='deprecated', n_jobs=None,\n",
              "             param_grid={'alpha': [1, 2, 3, 4, 5, 6, 7, 8, 9, 10]},\n",
              "             pre_dispatch='2*n_jobs', refit=True, return_train_score=False,\n",
              "             scoring='accuracy', verbose=0)"
            ]
          },
          "metadata": {
            "tags": []
          },
          "execution_count": 35
        }
      ]
    },
    {
      "cell_type": "code",
      "metadata": {
        "colab": {
          "base_uri": "https://localhost:8080/"
        },
        "id": "reK5Q5WQpc0w",
        "outputId": "ac5ff0ce-7cec-4f43-873c-fc86137a8c1e"
      },
      "source": [
        "# Scores\n",
        "grid.cv_results_"
      ],
      "execution_count": null,
      "outputs": [
        {
          "output_type": "execute_result",
          "data": {
            "text/plain": [
              "{'mean_fit_time': array([0.01429558, 0.01564968, 0.01506894, 0.01552355, 0.01535699,\n",
              "        0.01419189, 0.01441605, 0.01462822, 0.01423047, 0.01416023]),\n",
              " 'mean_score_time': array([0.00088091, 0.00093782, 0.00089407, 0.00094833, 0.00088353,\n",
              "        0.00085614, 0.0008986 , 0.00090909, 0.00085394, 0.00085874]),\n",
              " 'mean_test_score': array([0.86648463, 0.86439889, 0.86196924, 0.85537593, 0.84965007,\n",
              "        0.85779114, 0.8539756 , 0.84027958, 0.83785083, 0.83177715]),\n",
              " 'param_alpha': masked_array(data=[1, 2, 3, 4, 5, 6, 7, 8, 9, 10],\n",
              "              mask=[False, False, False, False, False, False, False, False,\n",
              "                    False, False],\n",
              "        fill_value='?',\n",
              "             dtype=object),\n",
              " 'params': [{'alpha': 1},\n",
              "  {'alpha': 2},\n",
              "  {'alpha': 3},\n",
              "  {'alpha': 4},\n",
              "  {'alpha': 5},\n",
              "  {'alpha': 6},\n",
              "  {'alpha': 7},\n",
              "  {'alpha': 8},\n",
              "  {'alpha': 9},\n",
              "  {'alpha': 10}],\n",
              " 'rank_test_score': array([ 1,  2,  3,  5,  7,  4,  6,  8,  9, 10], dtype=int32),\n",
              " 'split0_test_score': array([0.50259965, 0.50433276, 0.52339688, 0.52166378, 0.51819757,\n",
              "        0.51993068, 0.51646447, 0.52686308, 0.53379549, 0.53206239]),\n",
              " 'split1_test_score': array([0.86655113, 0.89948007, 0.90641248, 0.89948007, 0.89774697,\n",
              "        0.89428076, 0.89254766, 0.89254766, 0.88908146, 0.88214905]),\n",
              " 'split2_test_score': array([0.82322357, 0.82149047, 0.80935875, 0.80762565, 0.79896014,\n",
              "        0.91334489, 0.90294627, 0.78856153, 0.78336222, 0.78336222]),\n",
              " 'split3_test_score': array([0.91854419, 0.90294627, 0.89601386, 0.88561525, 0.88388215,\n",
              "        0.87868284, 0.87694974, 0.87521664, 0.87001733, 0.87001733]),\n",
              " 'split4_test_score': array([0.93760832, 0.93414211, 0.9220104 , 0.9202773 , 0.91681109,\n",
              "        0.91681109, 0.91161179, 0.90641248, 0.90294627, 0.89601386]),\n",
              " 'split5_test_score': array([0.96875   , 0.94618056, 0.94097222, 0.93576389, 0.93576389,\n",
              "        0.93402778, 0.93229167, 0.92708333, 0.92708333, 0.92361111]),\n",
              " 'split6_test_score': array([0.91840278, 0.91493056, 0.92013889, 0.90277778, 0.87847222,\n",
              "        0.86458333, 0.86111111, 0.85590278, 0.85069444, 0.82465278]),\n",
              " 'split7_test_score': array([0.89756944, 0.91319444, 0.91145833, 0.90277778, 0.90277778,\n",
              "        0.89756944, 0.89236111, 0.890625  , 0.88888889, 0.88194444]),\n",
              " 'split8_test_score': array([0.91666667, 0.89756944, 0.88194444, 0.88020833, 0.875     ,\n",
              "        0.87326389, 0.86979167, 0.86458333, 0.86111111, 0.85590278]),\n",
              " 'split9_test_score': array([0.91493056, 0.90972222, 0.90798611, 0.89756944, 0.88888889,\n",
              "        0.88541667, 0.88368056, 0.875     , 0.87152778, 0.86805556]),\n",
              " 'std_fit_time': array([0.00042233, 0.00108098, 0.0009878 , 0.00145376, 0.00143378,\n",
              "        0.00017376, 0.00029615, 0.00030036, 0.00020458, 0.0001325 ]),\n",
              " 'std_score_time': array([5.45727368e-05, 9.89537205e-05, 6.13964645e-05, 2.01918669e-04,\n",
              "        7.54726279e-05, 3.89083416e-05, 8.99609884e-05, 6.60464220e-05,\n",
              "        6.58719124e-05, 5.67522163e-05]),\n",
              " 'std_test_score': array([0.12690066, 0.12403493, 0.11778336, 0.11578804, 0.11561883,\n",
              "        0.11442477, 0.11421022, 0.1101547 , 0.10757453, 0.10639459])}"
            ]
          },
          "metadata": {
            "tags": []
          },
          "execution_count": 38
        }
      ]
    },
    {
      "cell_type": "code",
      "metadata": {
        "colab": {
          "base_uri": "https://localhost:8080/"
        },
        "id": "tcwPtCV2pc4V",
        "outputId": "4f3e272e-4d3d-4794-d26b-e367230c37a9"
      },
      "source": [
        "# Best Parameter\n",
        "grid.best_params_"
      ],
      "execution_count": null,
      "outputs": [
        {
          "output_type": "execute_result",
          "data": {
            "text/plain": [
              "{'alpha': 1}"
            ]
          },
          "metadata": {
            "tags": []
          },
          "execution_count": 39
        }
      ]
    },
    {
      "cell_type": "code",
      "metadata": {
        "colab": {
          "base_uri": "https://localhost:8080/"
        },
        "id": "SmEzSVbAqpBA",
        "outputId": "f2a89ae9-fa42-4b80-8fb6-a1313b155737"
      },
      "source": [
        "# Best Score\n",
        "grid.best_score_"
      ],
      "execution_count": null,
      "outputs": [
        {
          "output_type": "execute_result",
          "data": {
            "text/plain": [
              "0.8664846307529368"
            ]
          },
          "metadata": {
            "tags": []
          },
          "execution_count": 40
        }
      ]
    },
    {
      "cell_type": "markdown",
      "metadata": {
        "id": "fT9noRXUsz-u"
      },
      "source": [
        "**Tunning Validation Algorithm**\n",
        "\n",
        "We will see how sensible is our algorithm"
      ]
    },
    {
      "cell_type": "code",
      "metadata": {
        "colab": {
          "base_uri": "https://localhost:8080/"
        },
        "id": "jf1CTrm5qrY9",
        "outputId": "f1406793-0a29-4438-f278-97cc957b18e9"
      },
      "source": [
        "vectorizer = CountVectorizer(analyzer=\"word\")\n",
        "\n",
        "freq_tweets = vectorizer.fit_transform(tweets)\n",
        "\n",
        "modelo = MultinomialNB(alpha=5) # We choose 5 to se the impact\n",
        "\n",
        "modelo.fit(freq_tweets,classes)"
      ],
      "execution_count": null,
      "outputs": [
        {
          "output_type": "execute_result",
          "data": {
            "text/plain": [
              "MultinomialNB(alpha=5, class_prior=None, fit_prior=True)"
            ]
          },
          "metadata": {
            "tags": []
          },
          "execution_count": 41
        }
      ]
    },
    {
      "cell_type": "code",
      "metadata": {
        "id": "dtN8VX_9tmQV"
      },
      "source": [
        "# Testing with our phrases\n",
        "freq_testes = vectorizer.transform(testes)"
      ],
      "execution_count": null,
      "outputs": []
    },
    {
      "cell_type": "code",
      "metadata": {
        "colab": {
          "base_uri": "https://localhost:8080/"
        },
        "id": "h46mEgbWtxX_",
        "outputId": "ec5715f5-c22d-46cc-a050-079d6f8c8b56"
      },
      "source": [
        "# Fazendo a classificação com o modelo treinado.\n",
        "modelo.predict(freq_testes)"
      ],
      "execution_count": null,
      "outputs": [
        {
          "output_type": "execute_result",
          "data": {
            "text/plain": [
              "array(['Neutro', 'Neutro', 'Negativo', 'Neutro', 'Neutro'], dtype='<U8')"
            ]
          },
          "metadata": {
            "tags": []
          },
          "execution_count": 43
        }
      ]
    },
    {
      "cell_type": "markdown",
      "metadata": {
        "id": "fu_4ZxLrt4Ut"
      },
      "source": [
        "      *We had the same results*"
      ]
    },
    {
      "cell_type": "code",
      "metadata": {
        "id": "CbQU25btt0Zf"
      },
      "source": [
        "resultados = cross_val_predict(modelo, freq_tweets, classes, cv=10)"
      ],
      "execution_count": null,
      "outputs": []
    },
    {
      "cell_type": "code",
      "metadata": {
        "colab": {
          "base_uri": "https://localhost:8080/"
        },
        "id": "lXuLBflkuFfO",
        "outputId": "b75df84a-b85a-4104-c53c-f90ce5a97e5a"
      },
      "source": [
        "sentimento=['Positivo','Negativo','Neutro']\n",
        "print (metrics.classification_report(classes,resultados,sentimento))"
      ],
      "execution_count": null,
      "outputs": [
        {
          "output_type": "stream",
          "text": [
            "              precision    recall  f1-score   support\n",
            "\n",
            "    Positivo       0.89      0.92      0.90      2840\n",
            "    Negativo       0.84      0.78      0.81       951\n",
            "      Neutro       0.79      0.79      0.79      1974\n",
            "\n",
            "    accuracy                           0.85      5765\n",
            "   macro avg       0.84      0.83      0.83      5765\n",
            "weighted avg       0.85      0.85      0.85      5765\n",
            "\n"
          ],
          "name": "stdout"
        }
      ]
    },
    {
      "cell_type": "markdown",
      "metadata": {
        "id": "zqugBjZEuZAc"
      },
      "source": [
        "- Tivemos uma *precision* de 77% de 'Negativo' na anterior. Com alpha = 5 tivemos *precision* de 84% de 'Negativos', mas uma menor nas outras classes. Isto se deve pois, aumentou o peso da classificação da evidência (já que Negativo tinha menos, ela terá mais peso);\n",
        "\n",
        "- O melhor vai depender do seu negócio, dos requisitos do seu business;\n",
        "\n",
        "* Considere aumentar a quantidade de dados de treino.\n",
        "\n",
        "* Pela sua simplicidade o Naive Bayes pode ser usado perfeitamente como um algoritmo de Baseline.\n",
        "\n",
        "* Considere alterar os parâmetros do algoritmo.\n",
        "\n",
        "* Em tarefas de classificação de textos considere utilizar outras modelagens como Bigrams por exemplo.\n",
        "\n",
        "* Em tarefas envolvendo textos outras técnicas como stemming ou remoção de stoptowords podem dar bons resultados."
      ]
    },
    {
      "cell_type": "code",
      "metadata": {
        "id": "I8ZODjMZuIW2"
      },
      "source": [
        ""
      ],
      "execution_count": null,
      "outputs": []
    }
  ]
}