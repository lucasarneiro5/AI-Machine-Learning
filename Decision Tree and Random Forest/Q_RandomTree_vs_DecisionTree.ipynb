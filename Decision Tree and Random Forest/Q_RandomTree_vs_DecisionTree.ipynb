{
  "nbformat": 4,
  "nbformat_minor": 0,
  "metadata": {
    "kernelspec": {
      "display_name": "Python 3",
      "language": "python",
      "name": "python3"
    },
    "language_info": {
      "codemirror_mode": {
        "name": "ipython",
        "version": 3
      },
      "file_extension": ".py",
      "mimetype": "text/x-python",
      "name": "python",
      "nbconvert_exporter": "python",
      "pygments_lexer": "ipython3",
      "version": "3.6.5"
    },
    "colab": {
      "name": "Q_RandomTree_vs_DecisionTree.ipynb",
      "provenance": []
    }
  },
  "cells": [
    {
      "cell_type": "markdown",
      "metadata": {
        "id": "2oEpUyhMkAIn"
      },
      "source": [
        "# Machine Learning - Random Forest (Floresta Aleatória)"
      ]
    },
    {
      "cell_type": "markdown",
      "metadata": {
        "id": "x6WNac-DkAIs"
      },
      "source": [
        "#### Importação das bibliotecas necessárias"
      ]
    },
    {
      "cell_type": "code",
      "metadata": {
        "id": "EA3CZFA3kAI0"
      },
      "source": [
        "from sklearn.tree import export_graphviz\n",
        "from sklearn.ensemble import RandomForestClassifier\n",
        "from sklearn.tree import DecisionTreeClassifier\n",
        "from sklearn.preprocessing import LabelEncoder\n",
        "from sklearn.model_selection import cross_val_predict\n",
        "from sklearn.metrics import classification_report\n",
        "from sklearn.model_selection import train_test_split\n",
        "import numpy as np\n",
        "import pandas as pd\n",
        "import matplotlib.pyplot as plt\n",
        "import seaborn as sns"
      ],
      "execution_count": 37,
      "outputs": []
    },
    {
      "cell_type": "markdown",
      "metadata": {
        "id": "Ozj5xbmikAI4"
      },
      "source": [
        "#### Carregando a base de dados."
      ]
    },
    {
      "cell_type": "code",
      "metadata": {
        "id": "7cV-UiLjkAI-"
      },
      "source": [
        "df_edu = pd.read_csv('xAPI-Edu-Data.csv')"
      ],
      "execution_count": 38,
      "outputs": []
    },
    {
      "cell_type": "code",
      "metadata": {
        "colab": {
          "base_uri": "https://localhost:8080/",
          "height": 224
        },
        "id": "VMjkWekMkAJF",
        "outputId": "fa606f35-554b-487f-edc0-099127cbc0f9"
      },
      "source": [
        "df_edu.head()"
      ],
      "execution_count": 39,
      "outputs": [
        {
          "output_type": "execute_result",
          "data": {
            "text/html": [
              "<div>\n",
              "<style scoped>\n",
              "    .dataframe tbody tr th:only-of-type {\n",
              "        vertical-align: middle;\n",
              "    }\n",
              "\n",
              "    .dataframe tbody tr th {\n",
              "        vertical-align: top;\n",
              "    }\n",
              "\n",
              "    .dataframe thead th {\n",
              "        text-align: right;\n",
              "    }\n",
              "</style>\n",
              "<table border=\"1\" class=\"dataframe\">\n",
              "  <thead>\n",
              "    <tr style=\"text-align: right;\">\n",
              "      <th></th>\n",
              "      <th>gender</th>\n",
              "      <th>NationalITy</th>\n",
              "      <th>PlaceofBirth</th>\n",
              "      <th>StageID</th>\n",
              "      <th>GradeID</th>\n",
              "      <th>SectionID</th>\n",
              "      <th>Topic</th>\n",
              "      <th>Semester</th>\n",
              "      <th>Relation</th>\n",
              "      <th>raisedhands</th>\n",
              "      <th>VisITedResources</th>\n",
              "      <th>AnnouncementsView</th>\n",
              "      <th>Discussion</th>\n",
              "      <th>ParentAnsweringSurvey</th>\n",
              "      <th>ParentschoolSatisfaction</th>\n",
              "      <th>StudentAbsenceDays</th>\n",
              "      <th>Class</th>\n",
              "    </tr>\n",
              "  </thead>\n",
              "  <tbody>\n",
              "    <tr>\n",
              "      <th>0</th>\n",
              "      <td>M</td>\n",
              "      <td>KW</td>\n",
              "      <td>KuwaIT</td>\n",
              "      <td>lowerlevel</td>\n",
              "      <td>G-04</td>\n",
              "      <td>A</td>\n",
              "      <td>IT</td>\n",
              "      <td>F</td>\n",
              "      <td>Father</td>\n",
              "      <td>15</td>\n",
              "      <td>16</td>\n",
              "      <td>2</td>\n",
              "      <td>20</td>\n",
              "      <td>Yes</td>\n",
              "      <td>Good</td>\n",
              "      <td>Under-7</td>\n",
              "      <td>M</td>\n",
              "    </tr>\n",
              "    <tr>\n",
              "      <th>1</th>\n",
              "      <td>M</td>\n",
              "      <td>KW</td>\n",
              "      <td>KuwaIT</td>\n",
              "      <td>lowerlevel</td>\n",
              "      <td>G-04</td>\n",
              "      <td>A</td>\n",
              "      <td>IT</td>\n",
              "      <td>F</td>\n",
              "      <td>Father</td>\n",
              "      <td>20</td>\n",
              "      <td>20</td>\n",
              "      <td>3</td>\n",
              "      <td>25</td>\n",
              "      <td>Yes</td>\n",
              "      <td>Good</td>\n",
              "      <td>Under-7</td>\n",
              "      <td>M</td>\n",
              "    </tr>\n",
              "    <tr>\n",
              "      <th>2</th>\n",
              "      <td>M</td>\n",
              "      <td>KW</td>\n",
              "      <td>KuwaIT</td>\n",
              "      <td>lowerlevel</td>\n",
              "      <td>G-04</td>\n",
              "      <td>A</td>\n",
              "      <td>IT</td>\n",
              "      <td>F</td>\n",
              "      <td>Father</td>\n",
              "      <td>10</td>\n",
              "      <td>7</td>\n",
              "      <td>0</td>\n",
              "      <td>30</td>\n",
              "      <td>No</td>\n",
              "      <td>Bad</td>\n",
              "      <td>Above-7</td>\n",
              "      <td>L</td>\n",
              "    </tr>\n",
              "    <tr>\n",
              "      <th>3</th>\n",
              "      <td>M</td>\n",
              "      <td>KW</td>\n",
              "      <td>KuwaIT</td>\n",
              "      <td>lowerlevel</td>\n",
              "      <td>G-04</td>\n",
              "      <td>A</td>\n",
              "      <td>IT</td>\n",
              "      <td>F</td>\n",
              "      <td>Father</td>\n",
              "      <td>30</td>\n",
              "      <td>25</td>\n",
              "      <td>5</td>\n",
              "      <td>35</td>\n",
              "      <td>No</td>\n",
              "      <td>Bad</td>\n",
              "      <td>Above-7</td>\n",
              "      <td>L</td>\n",
              "    </tr>\n",
              "    <tr>\n",
              "      <th>4</th>\n",
              "      <td>M</td>\n",
              "      <td>KW</td>\n",
              "      <td>KuwaIT</td>\n",
              "      <td>lowerlevel</td>\n",
              "      <td>G-04</td>\n",
              "      <td>A</td>\n",
              "      <td>IT</td>\n",
              "      <td>F</td>\n",
              "      <td>Father</td>\n",
              "      <td>40</td>\n",
              "      <td>50</td>\n",
              "      <td>12</td>\n",
              "      <td>50</td>\n",
              "      <td>No</td>\n",
              "      <td>Bad</td>\n",
              "      <td>Above-7</td>\n",
              "      <td>M</td>\n",
              "    </tr>\n",
              "  </tbody>\n",
              "</table>\n",
              "</div>"
            ],
            "text/plain": [
              "  gender NationalITy  ... StudentAbsenceDays Class\n",
              "0      M          KW  ...            Under-7     M\n",
              "1      M          KW  ...            Under-7     M\n",
              "2      M          KW  ...            Above-7     L\n",
              "3      M          KW  ...            Above-7     L\n",
              "4      M          KW  ...            Above-7     M\n",
              "\n",
              "[5 rows x 17 columns]"
            ]
          },
          "metadata": {
            "tags": []
          },
          "execution_count": 39
        }
      ]
    },
    {
      "cell_type": "markdown",
      "metadata": {
        "id": "Y1eYRxS5kAJK"
      },
      "source": [
        "#### Verificando as distribuições de classes."
      ]
    },
    {
      "cell_type": "code",
      "metadata": {
        "colab": {
          "base_uri": "https://localhost:8080/"
        },
        "id": "ATYG1eE0kAJL",
        "outputId": "aa58a999-12aa-4ab8-bec4-6427068ac1f1"
      },
      "source": [
        "df_edu['Class'].value_counts()"
      ],
      "execution_count": 40,
      "outputs": [
        {
          "output_type": "execute_result",
          "data": {
            "text/plain": [
              "M    211\n",
              "H    142\n",
              "L    127\n",
              "Name: Class, dtype: int64"
            ]
          },
          "metadata": {
            "tags": []
          },
          "execution_count": 40
        }
      ]
    },
    {
      "cell_type": "markdown",
      "metadata": {
        "id": "5-4dF6GikAJR"
      },
      "source": [
        "#### Verificando os registros nulos"
      ]
    },
    {
      "cell_type": "code",
      "metadata": {
        "colab": {
          "base_uri": "https://localhost:8080/"
        },
        "id": "0243EuyTkAJU",
        "outputId": "bc3131e4-e10a-4b91-ff71-d9146dea17ef"
      },
      "source": [
        "df_edu.isnull().sum()"
      ],
      "execution_count": 41,
      "outputs": [
        {
          "output_type": "execute_result",
          "data": {
            "text/plain": [
              "gender                      0\n",
              "NationalITy                 0\n",
              "PlaceofBirth                0\n",
              "StageID                     0\n",
              "GradeID                     0\n",
              "SectionID                   0\n",
              "Topic                       0\n",
              "Semester                    0\n",
              "Relation                    0\n",
              "raisedhands                 0\n",
              "VisITedResources            0\n",
              "AnnouncementsView           0\n",
              "Discussion                  0\n",
              "ParentAnsweringSurvey       0\n",
              "ParentschoolSatisfaction    0\n",
              "StudentAbsenceDays          0\n",
              "Class                       0\n",
              "dtype: int64"
            ]
          },
          "metadata": {
            "tags": []
          },
          "execution_count": 41
        }
      ]
    },
    {
      "cell_type": "markdown",
      "metadata": {
        "id": "4M2RM0dBkAJY"
      },
      "source": [
        "#### Codificando os atributos numéricos."
      ]
    },
    {
      "cell_type": "code",
      "metadata": {
        "id": "NVljfJtEkAJk"
      },
      "source": [
        "# Put our datafram in a var\n",
        "Features = df_edu\n",
        "# Filter all var 'object' type\n",
        "Cat_Colums = Features.dtypes.pipe(lambda Features: Features[Features=='object']).index\n",
        "# Using LabelEncoder to transform 'object' types to numeric \n",
        "for col in Cat_Colums:\n",
        "    label = LabelEncoder()\n",
        "    Features[col] = label.fit_transform(Features[col])"
      ],
      "execution_count": 42,
      "outputs": []
    },
    {
      "cell_type": "code",
      "metadata": {
        "colab": {
          "base_uri": "https://localhost:8080/",
          "height": 224
        },
        "id": "-20wxfdZkAJm",
        "outputId": "b6267dd2-ab1d-4359-9704-05f1c7b1ec5c"
      },
      "source": [
        "Features.head()"
      ],
      "execution_count": 43,
      "outputs": [
        {
          "output_type": "execute_result",
          "data": {
            "text/html": [
              "<div>\n",
              "<style scoped>\n",
              "    .dataframe tbody tr th:only-of-type {\n",
              "        vertical-align: middle;\n",
              "    }\n",
              "\n",
              "    .dataframe tbody tr th {\n",
              "        vertical-align: top;\n",
              "    }\n",
              "\n",
              "    .dataframe thead th {\n",
              "        text-align: right;\n",
              "    }\n",
              "</style>\n",
              "<table border=\"1\" class=\"dataframe\">\n",
              "  <thead>\n",
              "    <tr style=\"text-align: right;\">\n",
              "      <th></th>\n",
              "      <th>gender</th>\n",
              "      <th>NationalITy</th>\n",
              "      <th>PlaceofBirth</th>\n",
              "      <th>StageID</th>\n",
              "      <th>GradeID</th>\n",
              "      <th>SectionID</th>\n",
              "      <th>Topic</th>\n",
              "      <th>Semester</th>\n",
              "      <th>Relation</th>\n",
              "      <th>raisedhands</th>\n",
              "      <th>VisITedResources</th>\n",
              "      <th>AnnouncementsView</th>\n",
              "      <th>Discussion</th>\n",
              "      <th>ParentAnsweringSurvey</th>\n",
              "      <th>ParentschoolSatisfaction</th>\n",
              "      <th>StudentAbsenceDays</th>\n",
              "      <th>Class</th>\n",
              "    </tr>\n",
              "  </thead>\n",
              "  <tbody>\n",
              "    <tr>\n",
              "      <th>0</th>\n",
              "      <td>1</td>\n",
              "      <td>4</td>\n",
              "      <td>4</td>\n",
              "      <td>2</td>\n",
              "      <td>1</td>\n",
              "      <td>0</td>\n",
              "      <td>7</td>\n",
              "      <td>0</td>\n",
              "      <td>0</td>\n",
              "      <td>15</td>\n",
              "      <td>16</td>\n",
              "      <td>2</td>\n",
              "      <td>20</td>\n",
              "      <td>1</td>\n",
              "      <td>1</td>\n",
              "      <td>1</td>\n",
              "      <td>2</td>\n",
              "    </tr>\n",
              "    <tr>\n",
              "      <th>1</th>\n",
              "      <td>1</td>\n",
              "      <td>4</td>\n",
              "      <td>4</td>\n",
              "      <td>2</td>\n",
              "      <td>1</td>\n",
              "      <td>0</td>\n",
              "      <td>7</td>\n",
              "      <td>0</td>\n",
              "      <td>0</td>\n",
              "      <td>20</td>\n",
              "      <td>20</td>\n",
              "      <td>3</td>\n",
              "      <td>25</td>\n",
              "      <td>1</td>\n",
              "      <td>1</td>\n",
              "      <td>1</td>\n",
              "      <td>2</td>\n",
              "    </tr>\n",
              "    <tr>\n",
              "      <th>2</th>\n",
              "      <td>1</td>\n",
              "      <td>4</td>\n",
              "      <td>4</td>\n",
              "      <td>2</td>\n",
              "      <td>1</td>\n",
              "      <td>0</td>\n",
              "      <td>7</td>\n",
              "      <td>0</td>\n",
              "      <td>0</td>\n",
              "      <td>10</td>\n",
              "      <td>7</td>\n",
              "      <td>0</td>\n",
              "      <td>30</td>\n",
              "      <td>0</td>\n",
              "      <td>0</td>\n",
              "      <td>0</td>\n",
              "      <td>1</td>\n",
              "    </tr>\n",
              "    <tr>\n",
              "      <th>3</th>\n",
              "      <td>1</td>\n",
              "      <td>4</td>\n",
              "      <td>4</td>\n",
              "      <td>2</td>\n",
              "      <td>1</td>\n",
              "      <td>0</td>\n",
              "      <td>7</td>\n",
              "      <td>0</td>\n",
              "      <td>0</td>\n",
              "      <td>30</td>\n",
              "      <td>25</td>\n",
              "      <td>5</td>\n",
              "      <td>35</td>\n",
              "      <td>0</td>\n",
              "      <td>0</td>\n",
              "      <td>0</td>\n",
              "      <td>1</td>\n",
              "    </tr>\n",
              "    <tr>\n",
              "      <th>4</th>\n",
              "      <td>1</td>\n",
              "      <td>4</td>\n",
              "      <td>4</td>\n",
              "      <td>2</td>\n",
              "      <td>1</td>\n",
              "      <td>0</td>\n",
              "      <td>7</td>\n",
              "      <td>0</td>\n",
              "      <td>0</td>\n",
              "      <td>40</td>\n",
              "      <td>50</td>\n",
              "      <td>12</td>\n",
              "      <td>50</td>\n",
              "      <td>0</td>\n",
              "      <td>0</td>\n",
              "      <td>0</td>\n",
              "      <td>2</td>\n",
              "    </tr>\n",
              "  </tbody>\n",
              "</table>\n",
              "</div>"
            ],
            "text/plain": [
              "   gender  NationalITy  ...  StudentAbsenceDays  Class\n",
              "0       1            4  ...                   1      2\n",
              "1       1            4  ...                   1      2\n",
              "2       1            4  ...                   0      1\n",
              "3       1            4  ...                   0      1\n",
              "4       1            4  ...                   0      2\n",
              "\n",
              "[5 rows x 17 columns]"
            ]
          },
          "metadata": {
            "tags": []
          },
          "execution_count": 43
        }
      ]
    },
    {
      "cell_type": "markdown",
      "metadata": {
        "id": "JJMB-YAKkAJp"
      },
      "source": [
        "#### Dividindo os dados em treino e teste"
      ]
    },
    {
      "cell_type": "code",
      "metadata": {
        "id": "FxLRmdk4kAJq"
      },
      "source": [
        "from sklearn.model_selection import train_test_split"
      ],
      "execution_count": 44,
      "outputs": []
    },
    {
      "cell_type": "code",
      "metadata": {
        "id": "bDztMvxKkAJu"
      },
      "source": [
        "X_train, X_test, y_train, y_test = train_test_split(df_edu.drop('Class',axis=1),df_edu['Class'],test_size=0.3,random_state=0)"
      ],
      "execution_count": 45,
      "outputs": []
    },
    {
      "cell_type": "markdown",
      "metadata": {
        "id": "fNb1doRUkAJz"
      },
      "source": [
        "#### Verificando a forma dos dados"
      ]
    },
    {
      "cell_type": "code",
      "metadata": {
        "id": "MRy5WR7mkAJ2",
        "colab": {
          "base_uri": "https://localhost:8080/"
        },
        "outputId": "7c5923bd-a8dd-47e3-f4f4-f07c669ccaf5"
      },
      "source": [
        "X_train.shape,X_test.shape"
      ],
      "execution_count": 46,
      "outputs": [
        {
          "output_type": "execute_result",
          "data": {
            "text/plain": [
              "((336, 16), (144, 16))"
            ]
          },
          "metadata": {
            "tags": []
          },
          "execution_count": 46
        }
      ]
    },
    {
      "cell_type": "code",
      "metadata": {
        "id": "A1U3fYXUkAJ5",
        "colab": {
          "base_uri": "https://localhost:8080/"
        },
        "outputId": "fd68097e-d8a1-4dae-a852-f91fb0dc9f47"
      },
      "source": [
        "y_train.shape,y_test.shape"
      ],
      "execution_count": 47,
      "outputs": [
        {
          "output_type": "execute_result",
          "data": {
            "text/plain": [
              "((336,), (144,))"
            ]
          },
          "metadata": {
            "tags": []
          },
          "execution_count": 47
        }
      ]
    },
    {
      "cell_type": "markdown",
      "metadata": {
        "id": "SjcrS-WSkAKI"
      },
      "source": [
        "#### Instânciando o objeto classificador"
      ]
    },
    {
      "cell_type": "code",
      "metadata": {
        "id": "EjsEVPcVkAKJ"
      },
      "source": [
        "random_clf = RandomForestClassifier()"
      ],
      "execution_count": 48,
      "outputs": []
    },
    {
      "cell_type": "markdown",
      "metadata": {
        "id": "ZDGYRuUXkAKK"
      },
      "source": [
        "#### Parâmetros do  objeto RandomForestClassifier\n",
        "* <span style=\"color:red\">n_estimators: número de árvores que serão criadas na floresta.</span>\n",
        "* <span style=\"color:red\"> bootstrap: se será considerado o bootstrap dataset durante a criação das árvores.</span>\n",
        "* <span style=\"color:red\"> max_features: número total de features que as árvores serão criadas.</span>\n",
        "* criterion: medida de qualidade da divisão.\n",
        "* splitter: estratégia utilizada para dividir o nó de decisão.\n",
        "* max_depth: profundidade máxima da árvore.\n",
        "* min_samples_split: número de amostras mínimas para considerar um nó para divisão.\n",
        "* min_samples_leaf: número de amostras mínimas no nível folha."
      ]
    },
    {
      "cell_type": "markdown",
      "metadata": {
        "id": "O8uUfHhwkAKL"
      },
      "source": [
        "#### Treinando o modelo Random Forest"
      ]
    },
    {
      "cell_type": "code",
      "metadata": {
        "colab": {
          "base_uri": "https://localhost:8080/"
        },
        "id": "CyGt1dh-kAKO",
        "outputId": "e7b4e8d4-be6f-444b-8b95-fc1a6d2eae88"
      },
      "source": [
        "random_clf.fit(X_train,y_train)"
      ],
      "execution_count": 49,
      "outputs": [
        {
          "output_type": "execute_result",
          "data": {
            "text/plain": [
              "RandomForestClassifier(bootstrap=True, ccp_alpha=0.0, class_weight=None,\n",
              "                       criterion='gini', max_depth=None, max_features='auto',\n",
              "                       max_leaf_nodes=None, max_samples=None,\n",
              "                       min_impurity_decrease=0.0, min_impurity_split=None,\n",
              "                       min_samples_leaf=1, min_samples_split=2,\n",
              "                       min_weight_fraction_leaf=0.0, n_estimators=100,\n",
              "                       n_jobs=None, oob_score=False, random_state=None,\n",
              "                       verbose=0, warm_start=False)"
            ]
          },
          "metadata": {
            "tags": []
          },
          "execution_count": 49
        }
      ]
    },
    {
      "cell_type": "markdown",
      "metadata": {
        "id": "2gyeqnSskAKQ"
      },
      "source": [
        "#### Predizendo as classes a partir do modelo treinado utilizando o conjunto de teste"
      ]
    },
    {
      "cell_type": "code",
      "metadata": {
        "id": "yAWGjPgwkAKT"
      },
      "source": [
        "resultado = random_clf.predict(X_test)"
      ],
      "execution_count": 50,
      "outputs": []
    },
    {
      "cell_type": "code",
      "metadata": {
        "colab": {
          "base_uri": "https://localhost:8080/"
        },
        "id": "Qxp2BNuakAKW",
        "outputId": "21b519d8-1612-4d5f-9580-7c559b8036a7"
      },
      "source": [
        "resultado"
      ],
      "execution_count": 51,
      "outputs": [
        {
          "output_type": "execute_result",
          "data": {
            "text/plain": [
              "array([2, 1, 1, 2, 2, 2, 0, 1, 1, 1, 0, 2, 0, 1, 2, 2, 0, 1, 1, 0, 1, 2,\n",
              "       2, 2, 2, 2, 0, 2, 2, 1, 2, 1, 0, 2, 2, 2, 0, 0, 2, 2, 2, 1, 0, 0,\n",
              "       2, 2, 0, 2, 1, 2, 2, 2, 0, 1, 0, 2, 1, 1, 0, 2, 2, 2, 0, 0, 0, 2,\n",
              "       1, 2, 1, 1, 1, 1, 0, 1, 0, 1, 2, 1, 2, 1, 0, 2, 0, 1, 1, 0, 2, 0,\n",
              "       2, 0, 2, 0, 0, 0, 2, 2, 1, 2, 1, 0, 1, 0, 2, 1, 2, 0, 1, 0, 1, 2,\n",
              "       1, 2, 1, 1, 0, 2, 2, 2, 2, 0, 2, 2, 2, 2, 2, 2, 2, 2, 1, 2, 2, 1,\n",
              "       0, 2, 2, 0, 2, 2, 2, 0, 2, 2, 2, 0])"
            ]
          },
          "metadata": {
            "tags": []
          },
          "execution_count": 51
        }
      ]
    },
    {
      "cell_type": "markdown",
      "metadata": {
        "id": "4EnqpmuWkAKb"
      },
      "source": [
        "#### Métricas de Validação"
      ]
    },
    {
      "cell_type": "code",
      "metadata": {
        "colab": {
          "base_uri": "https://localhost:8080/"
        },
        "id": "se_gY5TvkAKg",
        "outputId": "54b8f1c2-342a-4a6d-ec2e-e98977c0626a"
      },
      "source": [
        "from sklearn import metrics\n",
        "print(metrics.classification_report(y_test,resultado))"
      ],
      "execution_count": 52,
      "outputs": [
        {
          "output_type": "stream",
          "text": [
            "              precision    recall  f1-score   support\n",
            "\n",
            "           0       0.74      0.72      0.73        39\n",
            "           1       0.82      0.91      0.86        34\n",
            "           2       0.79      0.76      0.78        71\n",
            "\n",
            "    accuracy                           0.78       144\n",
            "   macro avg       0.78      0.80      0.79       144\n",
            "weighted avg       0.78      0.78      0.78       144\n",
            "\n"
          ],
          "name": "stdout"
        }
      ]
    },
    {
      "cell_type": "markdown",
      "metadata": {
        "id": "oOcRIhbckAKo"
      },
      "source": [
        "#### Verificando as features mais importantes para o modelo treinado"
      ]
    },
    {
      "cell_type": "code",
      "metadata": {
        "colab": {
          "base_uri": "https://localhost:8080/"
        },
        "id": "6-ijIYw0kAKq",
        "outputId": "048a0f34-a2c9-4825-de24-373bf59c8bd2"
      },
      "source": [
        "random_clf.feature_importances_"
      ],
      "execution_count": 53,
      "outputs": [
        {
          "output_type": "execute_result",
          "data": {
            "text/plain": [
              "array([0.02105596, 0.03306286, 0.03524603, 0.01986695, 0.03452185,\n",
              "       0.02169486, 0.04000949, 0.01152707, 0.04860859, 0.15430049,\n",
              "       0.16543958, 0.1300496 , 0.08965736, 0.0354588 , 0.02319527,\n",
              "       0.13630525])"
            ]
          },
          "metadata": {
            "tags": []
          },
          "execution_count": 53
        }
      ]
    },
    {
      "cell_type": "code",
      "metadata": {
        "id": "qtWmXD79kAKt"
      },
      "source": [
        "feature_imp = pd.Series(random_clf.feature_importances_,index=X_train.columns).sort_values(ascending=False)"
      ],
      "execution_count": 54,
      "outputs": []
    },
    {
      "cell_type": "code",
      "metadata": {
        "colab": {
          "base_uri": "https://localhost:8080/"
        },
        "id": "44CF2-hlkAKv",
        "outputId": "16af28a5-3593-4be6-cf28-7a034d819854"
      },
      "source": [
        "feature_imp"
      ],
      "execution_count": 55,
      "outputs": [
        {
          "output_type": "execute_result",
          "data": {
            "text/plain": [
              "VisITedResources            0.165440\n",
              "raisedhands                 0.154300\n",
              "StudentAbsenceDays          0.136305\n",
              "AnnouncementsView           0.130050\n",
              "Discussion                  0.089657\n",
              "Relation                    0.048609\n",
              "Topic                       0.040009\n",
              "ParentAnsweringSurvey       0.035459\n",
              "PlaceofBirth                0.035246\n",
              "GradeID                     0.034522\n",
              "NationalITy                 0.033063\n",
              "ParentschoolSatisfaction    0.023195\n",
              "SectionID                   0.021695\n",
              "gender                      0.021056\n",
              "StageID                     0.019867\n",
              "Semester                    0.011527\n",
              "dtype: float64"
            ]
          },
          "metadata": {
            "tags": []
          },
          "execution_count": 55
        }
      ]
    },
    {
      "cell_type": "markdown",
      "metadata": {
        "id": "yx1qZjhwkAKx"
      },
      "source": [
        "#### Features mais importantes de forma gráfica"
      ]
    },
    {
      "cell_type": "code",
      "metadata": {
        "id": "GJDebVZFkAKx"
      },
      "source": [
        "def visualiza_features_importantes(features_lista):\n",
        "    %matplotlib inline\n",
        "\n",
        "    plt.figure(figsize=(16,8))\n",
        "    sns.barplot(x=features_lista, y=features_lista.index)\n",
        "\n",
        "    plt.xlabel('Feature Importance Score')\n",
        "    plt.ylabel('Features')\n",
        "    plt.title(\"Visualizing Important Features\")\n",
        "    plt.show()"
      ],
      "execution_count": 56,
      "outputs": []
    },
    {
      "cell_type": "code",
      "metadata": {
        "id": "V1LVYkxAkAKz",
        "colab": {
          "base_uri": "https://localhost:8080/",
          "height": 0
        },
        "outputId": "e5b00ab1-8a4d-48ea-db26-a7271b60e89f"
      },
      "source": [
        "visualiza_features_importantes(feature_imp)"
      ],
      "execution_count": 57,
      "outputs": [
        {
          "output_type": "display_data",
          "data": {
            "image/png": "[encoded data removed]",
            "text/plain": [
              "<Figure size 1152x576 with 1 Axes>"
            ]
          },
          "metadata": {
            "tags": [],
            "needs_background": "light"
          }
        }
      ]
    },
    {
      "cell_type": "markdown",
      "metadata": {
        "id": "HdM5CteNkAK0"
      },
      "source": [
        "#### Selecionando apenas as features com importancia acima de um determinado score."
      ]
    },
    {
      "cell_type": "code",
      "metadata": {
        "colab": {
          "base_uri": "https://localhost:8080/"
        },
        "id": "pwPmh3zgkAK0",
        "outputId": "cc575cee-f4c1-4665-9569-321b2673061c"
      },
      "source": [
        "features_selecionadas = []\n",
        "# Limit our features to them higher than 0.03 score\n",
        "for feature,importancia in feature_imp.iteritems():\n",
        "    if importancia > 0.03:\n",
        "        print(\"{}:\\t{}\".format(feature, importancia))\n",
        "        features_selecionadas.append(feature)"
      ],
      "execution_count": 58,
      "outputs": [
        {
          "output_type": "stream",
          "text": [
            "VisITedResources:\t0.16543957536468157\n",
            "raisedhands:\t0.1543004881580454\n",
            "StudentAbsenceDays:\t0.13630524554845516\n",
            "AnnouncementsView:\t0.13004959986422282\n",
            "Discussion:\t0.08965736036137388\n",
            "Relation:\t0.04860859360471799\n",
            "Topic:\t0.040009488818313475\n",
            "ParentAnsweringSurvey:\t0.03545879665531517\n",
            "PlaceofBirth:\t0.03524603442946194\n",
            "GradeID:\t0.03452184668606486\n",
            "NationalITy:\t0.03306286252758235\n"
          ],
          "name": "stdout"
        }
      ]
    },
    {
      "cell_type": "markdown",
      "metadata": {
        "id": "-q9biASrkAK1"
      },
      "source": [
        "#### Separando os dados em treino e teste utilizando apenas as features selecionadas"
      ]
    },
    {
      "cell_type": "code",
      "metadata": {
        "id": "TZ-RVDM0kAK1"
      },
      "source": [
        "X_train, X_test, y_train, y_test = train_test_split(\n",
        "    df_edu[features_selecionadas],\n",
        "    df_edu['Class'],\n",
        "    test_size=0.3,\n",
        "    random_state=0\n",
        ")"
      ],
      "execution_count": 59,
      "outputs": []
    },
    {
      "cell_type": "markdown",
      "metadata": {
        "id": "PzG2Av5lkAK2"
      },
      "source": [
        "#### Verificando a nova forma dos dados"
      ]
    },
    {
      "cell_type": "code",
      "metadata": {
        "colab": {
          "base_uri": "https://localhost:8080/"
        },
        "id": "87RciNIYkAK2",
        "outputId": "57970dd2-0eda-40a1-c687-e16dec299456"
      },
      "source": [
        "X_train.shape,X_test.shape"
      ],
      "execution_count": 60,
      "outputs": [
        {
          "output_type": "execute_result",
          "data": {
            "text/plain": [
              "((336, 11), (144, 11))"
            ]
          },
          "metadata": {
            "tags": []
          },
          "execution_count": 60
        }
      ]
    },
    {
      "cell_type": "code",
      "metadata": {
        "colab": {
          "base_uri": "https://localhost:8080/"
        },
        "id": "QDkuB6IAkAK2",
        "outputId": "ed7cd53c-dd8a-4d24-9cf3-8e2d9409e056"
      },
      "source": [
        "y_train.shape,y_test.shape"
      ],
      "execution_count": 61,
      "outputs": [
        {
          "output_type": "execute_result",
          "data": {
            "text/plain": [
              "((336,), (144,))"
            ]
          },
          "metadata": {
            "tags": []
          },
          "execution_count": 61
        }
      ]
    },
    {
      "cell_type": "markdown",
      "metadata": {
        "id": "6JXjAEV_kAK3"
      },
      "source": [
        "#### Instânciando o objeto classificador"
      ]
    },
    {
      "cell_type": "code",
      "metadata": {
        "id": "xefNfox9kAK3"
      },
      "source": [
        "random_clf = RandomForestClassifier(random_state=0)"
      ],
      "execution_count": 62,
      "outputs": []
    },
    {
      "cell_type": "markdown",
      "metadata": {
        "id": "NrJn0Z3LkAK3"
      },
      "source": [
        "#### Treinando novamente o modelo Random Forest"
      ]
    },
    {
      "cell_type": "code",
      "metadata": {
        "colab": {
          "base_uri": "https://localhost:8080/"
        },
        "id": "Jfqrw2JEkAK4",
        "outputId": "2fed06ca-b5bc-4885-b45b-e50538a1d2e9"
      },
      "source": [
        "random_clf.fit(X_train,y_train)"
      ],
      "execution_count": 63,
      "outputs": [
        {
          "output_type": "execute_result",
          "data": {
            "text/plain": [
              "RandomForestClassifier(bootstrap=True, ccp_alpha=0.0, class_weight=None,\n",
              "                       criterion='gini', max_depth=None, max_features='auto',\n",
              "                       max_leaf_nodes=None, max_samples=None,\n",
              "                       min_impurity_decrease=0.0, min_impurity_split=None,\n",
              "                       min_samples_leaf=1, min_samples_split=2,\n",
              "                       min_weight_fraction_leaf=0.0, n_estimators=100,\n",
              "                       n_jobs=None, oob_score=False, random_state=0, verbose=0,\n",
              "                       warm_start=False)"
            ]
          },
          "metadata": {
            "tags": []
          },
          "execution_count": 63
        }
      ]
    },
    {
      "cell_type": "markdown",
      "metadata": {
        "id": "HQMOgC-2kAK4"
      },
      "source": [
        "#### Executando o algoritmo de arvore de decisão com o conjunto de teste"
      ]
    },
    {
      "cell_type": "code",
      "metadata": {
        "colab": {
          "base_uri": "https://localhost:8080/"
        },
        "id": "tZwqjsahkAK4",
        "outputId": "d0c54604-88f0-4439-d1aa-00e960d976d0"
      },
      "source": [
        "resultado = random_clf.predict(X_test)\n",
        "resultado"
      ],
      "execution_count": 64,
      "outputs": [
        {
          "output_type": "execute_result",
          "data": {
            "text/plain": [
              "array([2, 1, 1, 1, 2, 2, 0, 1, 1, 1, 0, 2, 0, 1, 2, 0, 0, 1, 1, 0, 1, 0,\n",
              "       2, 2, 2, 0, 0, 2, 2, 1, 2, 1, 0, 2, 2, 2, 0, 0, 0, 2, 2, 1, 0, 0,\n",
              "       2, 2, 0, 2, 1, 2, 2, 2, 0, 1, 0, 2, 1, 1, 2, 0, 2, 2, 0, 0, 0, 2,\n",
              "       1, 2, 1, 1, 1, 1, 0, 1, 0, 1, 0, 1, 2, 1, 0, 2, 2, 1, 1, 0, 2, 0,\n",
              "       2, 0, 2, 0, 0, 0, 2, 2, 1, 2, 1, 0, 1, 0, 2, 1, 2, 0, 1, 0, 1, 2,\n",
              "       1, 2, 1, 1, 0, 2, 1, 2, 2, 0, 2, 2, 2, 2, 2, 2, 2, 2, 1, 2, 2, 1,\n",
              "       0, 2, 2, 0, 2, 2, 2, 0, 2, 2, 2, 0])"
            ]
          },
          "metadata": {
            "tags": []
          },
          "execution_count": 64
        }
      ]
    },
    {
      "cell_type": "markdown",
      "metadata": {
        "id": "2ZHNjgE-kAK5"
      },
      "source": [
        "#### Métricas de Validação"
      ]
    },
    {
      "cell_type": "code",
      "metadata": {
        "colab": {
          "base_uri": "https://localhost:8080/"
        },
        "id": "qtcxdNO0kAK5",
        "outputId": "c87e7e45-8f04-43b1-c69a-78fc2be43fe4"
      },
      "source": [
        "from sklearn import metrics\n",
        "print(metrics.classification_report(y_test,resultado))"
      ],
      "execution_count": 65,
      "outputs": [
        {
          "output_type": "stream",
          "text": [
            "              precision    recall  f1-score   support\n",
            "\n",
            "           0       0.67      0.72      0.69        39\n",
            "           1       0.80      0.94      0.86        34\n",
            "           2       0.79      0.69      0.74        71\n",
            "\n",
            "    accuracy                           0.76       144\n",
            "   macro avg       0.75      0.78      0.76       144\n",
            "weighted avg       0.76      0.76      0.75       144\n",
            "\n"
          ],
          "name": "stdout"
        }
      ]
    },
    {
      "cell_type": "markdown",
      "metadata": {
        "id": "23PjPdFmkAK5"
      },
      "source": [
        "## Explorando as árvores da Floresta gerada"
      ]
    },
    {
      "cell_type": "code",
      "metadata": {
        "scrolled": false,
        "colab": {
          "base_uri": "https://localhost:8080/"
        },
        "id": "HH_P6YMdkAK6",
        "outputId": "f726d2f8-fb42-4616-f9d9-e477adb60adc"
      },
      "source": [
        "print(\"Número de árvores da floresta: {}\".format(len(random_clf.estimators_)))\n",
        "print(\"Árvores floresta gerada:\")\n",
        "for tree in random_clf.estimators_:\n",
        "    print(\"\\nNumero de nós: {}\".format(tree.tree_.node_count))\n",
        "    print(\"Profundidade da árvore: {}\".format(tree.tree_.max_depth))\n",
        "    print(\"Features importantes: {}\".format(tree.feature_importances_))\n",
        "    print(\"\\nObjeto: {}\".format(tree))\n"
      ],
      "execution_count": 66,
      "outputs": [
        {
          "output_type": "stream",
          "text": [
            "Número de árvores da floresta: 100\n",
            "Árvores floresta gerada:\n",
            "\n",
            "Numero de nós: 123\n",
            "Profundidade da árvore: 12\n",
            "Features importantes: [0.16309397 0.11847149 0.24943917 0.11965593 0.06677449 0.059832\n",
            " 0.00600223 0.07343672 0.0872917  0.04800984 0.00799245]\n",
            "\n",
            "Objeto: DecisionTreeClassifier(ccp_alpha=0.0, class_weight=None, criterion='gini',\n",
            "                       max_depth=None, max_features='auto', max_leaf_nodes=None,\n",
            "                       min_impurity_decrease=0.0, min_impurity_split=None,\n",
            "                       min_samples_leaf=1, min_samples_split=2,\n",
            "                       min_weight_fraction_leaf=0.0, presort='deprecated',\n",
            "                       random_state=209652396, splitter='best')\n",
            "\n",
            "Numero de nós: 155\n",
            "Profundidade da árvore: 11\n",
            "Features importantes: [0.156782   0.1745078  0.17276811 0.08526364 0.06156128 0.06467488\n",
            " 0.07001021 0.10337816 0.03598508 0.05053693 0.02453191]\n",
            "\n",
            "Objeto: DecisionTreeClassifier(ccp_alpha=0.0, class_weight=None, criterion='gini',\n",
            "                       max_depth=None, max_features='auto', max_leaf_nodes=None,\n",
            "                       min_impurity_decrease=0.0, min_impurity_split=None,\n",
            "                       min_samples_leaf=1, min_samples_split=2,\n",
            "                       min_weight_fraction_leaf=0.0, presort='deprecated',\n",
            "                       random_state=398764591, splitter='best')\n",
            "\n",
            "Numero de nós: 149\n",
            "Profundidade da árvore: 12\n",
            "Features importantes: [0.04751918 0.27630551 0.1233467  0.16578039 0.05728915 0.09642678\n",
            " 0.06999058 0.07299361 0.0182392  0.04896284 0.02314605]\n",
            "\n",
            "Objeto: DecisionTreeClassifier(ccp_alpha=0.0, class_weight=None, criterion='gini',\n",
            "                       max_depth=None, max_features='auto', max_leaf_nodes=None,\n",
            "                       min_impurity_decrease=0.0, min_impurity_split=None,\n",
            "                       min_samples_leaf=1, min_samples_split=2,\n",
            "                       min_weight_fraction_leaf=0.0, presort='deprecated',\n",
            "                       random_state=924231285, splitter='best')\n",
            "\n",
            "Numero de nós: 147\n",
            "Profundidade da árvore: 12\n",
            "Features importantes: [0.05131984 0.15611374 0.1171155  0.08611879 0.19207009 0.10942102\n",
            " 0.05296679 0.0819362  0.03305356 0.04488148 0.07500299]\n",
            "\n",
            "Objeto: DecisionTreeClassifier(ccp_alpha=0.0, class_weight=None, criterion='gini',\n",
            "                       max_depth=None, max_features='auto', max_leaf_nodes=None,\n",
            "                       min_impurity_decrease=0.0, min_impurity_split=None,\n",
            "                       min_samples_leaf=1, min_samples_split=2,\n",
            "                       min_weight_fraction_leaf=0.0, presort='deprecated',\n",
            "                       random_state=1478610112, splitter='best')\n",
            "\n",
            "Numero de nós: 139\n",
            "Profundidade da árvore: 11\n",
            "Features importantes: [0.38197648 0.12080234 0.122079   0.10853546 0.05430452 0.07175097\n",
            " 0.0110466  0.00997288 0.02956098 0.07003835 0.01993241]\n",
            "\n",
            "Objeto: DecisionTreeClassifier(ccp_alpha=0.0, class_weight=None, criterion='gini',\n",
            "                       max_depth=None, max_features='auto', max_leaf_nodes=None,\n",
            "                       min_impurity_decrease=0.0, min_impurity_split=None,\n",
            "                       min_samples_leaf=1, min_samples_split=2,\n",
            "                       min_weight_fraction_leaf=0.0, presort='deprecated',\n",
            "                       random_state=441365315, splitter='best')\n",
            "\n",
            "Numero de nós: 157\n",
            "Profundidade da árvore: 11\n",
            "Features importantes: [0.22726199 0.11596008 0.12677412 0.13920243 0.11351183 0.11220711\n",
            " 0.018453   0.04301238 0.01609345 0.02302013 0.06450349]\n",
            "\n",
            "Objeto: DecisionTreeClassifier(ccp_alpha=0.0, class_weight=None, criterion='gini',\n",
            "                       max_depth=None, max_features='auto', max_leaf_nodes=None,\n",
            "                       min_impurity_decrease=0.0, min_impurity_split=None,\n",
            "                       min_samples_leaf=1, min_samples_split=2,\n",
            "                       min_weight_fraction_leaf=0.0, presort='deprecated',\n",
            "                       random_state=1537364731, splitter='best')\n",
            "\n",
            "Numero de nós: 133\n",
            "Profundidade da árvore: 13\n",
            "Features importantes: [0.21971297 0.08332527 0.25579747 0.10665414 0.10171038 0.08052257\n",
            " 0.01132642 0.02067177 0.02077479 0.06342626 0.03607797]\n",
            "\n",
            "Objeto: DecisionTreeClassifier(ccp_alpha=0.0, class_weight=None, criterion='gini',\n",
            "                       max_depth=None, max_features='auto', max_leaf_nodes=None,\n",
            "                       min_impurity_decrease=0.0, min_impurity_split=None,\n",
            "                       min_samples_leaf=1, min_samples_split=2,\n",
            "                       min_weight_fraction_leaf=0.0, presort='deprecated',\n",
            "                       random_state=192771779, splitter='best')\n",
            "\n",
            "Numero de nós: 143\n",
            "Profundidade da árvore: 14\n",
            "Features importantes: [0.15412402 0.22044692 0.03140128 0.26693851 0.10047617 0.06833562\n",
            " 0.02028039 0.06403158 0.06438793 0.00231995 0.00725763]\n",
            "\n",
            "Objeto: DecisionTreeClassifier(ccp_alpha=0.0, class_weight=None, criterion='gini',\n",
            "                       max_depth=None, max_features='auto', max_leaf_nodes=None,\n",
            "                       min_impurity_decrease=0.0, min_impurity_split=None,\n",
            "                       min_samples_leaf=1, min_samples_split=2,\n",
            "                       min_weight_fraction_leaf=0.0, presort='deprecated',\n",
            "                       random_state=1491434855, splitter='best')\n",
            "\n",
            "Numero de nós: 133\n",
            "Profundidade da árvore: 14\n",
            "Features importantes: [0.08672722 0.15456135 0.19167941 0.0567767  0.07100448 0.05498857\n",
            " 0.05491566 0.11604908 0.05409292 0.07073916 0.08846545]\n",
            "\n",
            "Objeto: DecisionTreeClassifier(ccp_alpha=0.0, class_weight=None, criterion='gini',\n",
            "                       max_depth=None, max_features='auto', max_leaf_nodes=None,\n",
            "                       min_impurity_decrease=0.0, min_impurity_split=None,\n",
            "                       min_samples_leaf=1, min_samples_split=2,\n",
            "                       min_weight_fraction_leaf=0.0, presort='deprecated',\n",
            "                       random_state=1819583497, splitter='best')\n",
            "\n",
            "Numero de nós: 129\n",
            "Profundidade da árvore: 13\n",
            "Features importantes: [0.34172936 0.13371112 0.07225207 0.11494701 0.10181873 0.07417702\n",
            " 0.04427073 0.03438855 0.04472902 0.0307131  0.00726329]\n",
            "\n",
            "Objeto: DecisionTreeClassifier(ccp_alpha=0.0, class_weight=None, criterion='gini',\n",
            "                       max_depth=None, max_features='auto', max_leaf_nodes=None,\n",
            "                       min_impurity_decrease=0.0, min_impurity_split=None,\n",
            "                       min_samples_leaf=1, min_samples_split=2,\n",
            "                       min_weight_fraction_leaf=0.0, presort='deprecated',\n",
            "                       random_state=530702035, splitter='best')\n",
            "\n",
            "Numero de nós: 131\n",
            "Profundidade da árvore: 12\n",
            "Features importantes: [0.09348757 0.32841665 0.09699379 0.06465058 0.13266315 0.08548743\n",
            " 0.03151351 0.06275503 0.02632981 0.03519941 0.04250309]\n",
            "\n",
            "Objeto: DecisionTreeClassifier(ccp_alpha=0.0, class_weight=None, criterion='gini',\n",
            "                       max_depth=None, max_features='auto', max_leaf_nodes=None,\n",
            "                       min_impurity_decrease=0.0, min_impurity_split=None,\n",
            "                       min_samples_leaf=1, min_samples_split=2,\n",
            "                       min_weight_fraction_leaf=0.0, presort='deprecated',\n",
            "                       random_state=626610453, splitter='best')\n",
            "\n",
            "Numero de nós: 141\n",
            "Profundidade da árvore: 16\n",
            "Features importantes: [0.06284139 0.15153941 0.23147511 0.14982763 0.1089192  0.02356912\n",
            " 0.03945554 0.06694225 0.03585705 0.07314042 0.05643286]\n",
            "\n",
            "Objeto: DecisionTreeClassifier(ccp_alpha=0.0, class_weight=None, criterion='gini',\n",
            "                       max_depth=None, max_features='auto', max_leaf_nodes=None,\n",
            "                       min_impurity_decrease=0.0, min_impurity_split=None,\n",
            "                       min_samples_leaf=1, min_samples_split=2,\n",
            "                       min_weight_fraction_leaf=0.0, presort='deprecated',\n",
            "                       random_state=1650906866, splitter='best')\n",
            "\n",
            "Numero de nós: 135\n",
            "Profundidade da árvore: 13\n",
            "Features importantes: [0.18677646 0.17125594 0.15501512 0.07346899 0.04458226 0.16409828\n",
            " 0.01062934 0.00134554 0.02852604 0.10111891 0.06318311]\n",
            "\n",
            "Objeto: DecisionTreeClassifier(ccp_alpha=0.0, class_weight=None, criterion='gini',\n",
            "                       max_depth=None, max_features='auto', max_leaf_nodes=None,\n",
            "                       min_impurity_decrease=0.0, min_impurity_split=None,\n",
            "                       min_samples_leaf=1, min_samples_split=2,\n",
            "                       min_weight_fraction_leaf=0.0, presort='deprecated',\n",
            "                       random_state=1879422756, splitter='best')\n",
            "\n",
            "Numero de nós: 143\n",
            "Profundidade da árvore: 10\n",
            "Features importantes: [0.10065164 0.29412314 0.12205926 0.09736551 0.16402611 0.03546931\n",
            " 0.07426751 0.05664812 0.03336686 0.01478887 0.00723368]\n",
            "\n",
            "Objeto: DecisionTreeClassifier(ccp_alpha=0.0, class_weight=None, criterion='gini',\n",
            "                       max_depth=None, max_features='auto', max_leaf_nodes=None,\n",
            "                       min_impurity_decrease=0.0, min_impurity_split=None,\n",
            "                       min_samples_leaf=1, min_samples_split=2,\n",
            "                       min_weight_fraction_leaf=0.0, presort='deprecated',\n",
            "                       random_state=1277901399, splitter='best')\n",
            "\n",
            "Numero de nós: 167\n",
            "Profundidade da árvore: 13\n",
            "Features importantes: [0.3184208  0.11558328 0.13888671 0.10660727 0.08480781 0.04515218\n",
            " 0.03437385 0.01448212 0.06232756 0.05593546 0.02342298]\n",
            "\n",
            "Objeto: DecisionTreeClassifier(ccp_alpha=0.0, class_weight=None, criterion='gini',\n",
            "                       max_depth=None, max_features='auto', max_leaf_nodes=None,\n",
            "                       min_impurity_decrease=0.0, min_impurity_split=None,\n",
            "                       min_samples_leaf=1, min_samples_split=2,\n",
            "                       min_weight_fraction_leaf=0.0, presort='deprecated',\n",
            "                       random_state=1682652230, splitter='best')\n",
            "\n",
            "Numero de nós: 145\n",
            "Profundidade da árvore: 11\n",
            "Features importantes: [0.1557634  0.11848299 0.25091785 0.08244586 0.06990712 0.10129812\n",
            " 0.0527265  0.06268845 0.038415   0.02494439 0.04241031]\n",
            "\n",
            "Objeto: DecisionTreeClassifier(ccp_alpha=0.0, class_weight=None, criterion='gini',\n",
            "                       max_depth=None, max_features='auto', max_leaf_nodes=None,\n",
            "                       min_impurity_decrease=0.0, min_impurity_split=None,\n",
            "                       min_samples_leaf=1, min_samples_split=2,\n",
            "                       min_weight_fraction_leaf=0.0, presort='deprecated',\n",
            "                       random_state=243580376, splitter='best')\n",
            "\n",
            "Numero de nós: 137\n",
            "Profundidade da árvore: 13\n",
            "Features importantes: [0.14615129 0.15556849 0.09018551 0.1850185  0.07760939 0.12872206\n",
            " 0.03582545 0.04522567 0.02467533 0.01262735 0.09839096]\n",
            "\n",
            "Objeto: DecisionTreeClassifier(ccp_alpha=0.0, class_weight=None, criterion='gini',\n",
            "                       max_depth=None, max_features='auto', max_leaf_nodes=None,\n",
            "                       min_impurity_decrease=0.0, min_impurity_split=None,\n",
            "                       min_samples_leaf=1, min_samples_split=2,\n",
            "                       min_weight_fraction_leaf=0.0, presort='deprecated',\n",
            "                       random_state=1991416408, splitter='best')\n",
            "\n",
            "Numero de nós: 131\n",
            "Profundidade da árvore: 13\n",
            "Features importantes: [0.08184956 0.34168095 0.1470141  0.04915999 0.1475773  0.02993865\n",
            " 0.04440891 0.04963725 0.03328724 0.05660493 0.01884111]\n",
            "\n",
            "Objeto: DecisionTreeClassifier(ccp_alpha=0.0, class_weight=None, criterion='gini',\n",
            "                       max_depth=None, max_features='auto', max_leaf_nodes=None,\n",
            "                       min_impurity_decrease=0.0, min_impurity_split=None,\n",
            "                       min_samples_leaf=1, min_samples_split=2,\n",
            "                       min_weight_fraction_leaf=0.0, presort='deprecated',\n",
            "                       random_state=1171049868, splitter='best')\n",
            "\n",
            "Numero de nós: 159\n",
            "Profundidade da árvore: 13\n",
            "Features importantes: [0.15944433 0.29297022 0.102423   0.10623037 0.09081614 0.05728821\n",
            " 0.02496813 0.06713558 0.05019777 0.04270495 0.00582131]\n",
            "\n",
            "Objeto: DecisionTreeClassifier(ccp_alpha=0.0, class_weight=None, criterion='gini',\n",
            "                       max_depth=None, max_features='auto', max_leaf_nodes=None,\n",
            "                       min_impurity_decrease=0.0, min_impurity_split=None,\n",
            "                       min_samples_leaf=1, min_samples_split=2,\n",
            "                       min_weight_fraction_leaf=0.0, presort='deprecated',\n",
            "                       random_state=1646868794, splitter='best')\n",
            "\n",
            "Numero de nós: 169\n",
            "Profundidade da árvore: 10\n",
            "Features importantes: [0.08817679 0.32522123 0.02538882 0.13516897 0.11375574 0.04710945\n",
            " 0.04651578 0.06851052 0.07200816 0.03378931 0.04435523]\n",
            "\n",
            "Objeto: DecisionTreeClassifier(ccp_alpha=0.0, class_weight=None, criterion='gini',\n",
            "                       max_depth=None, max_features='auto', max_leaf_nodes=None,\n",
            "                       min_impurity_decrease=0.0, min_impurity_split=None,\n",
            "                       min_samples_leaf=1, min_samples_split=2,\n",
            "                       min_weight_fraction_leaf=0.0, presort='deprecated',\n",
            "                       random_state=2051556033, splitter='best')\n",
            "\n",
            "Numero de nós: 135\n",
            "Profundidade da árvore: 12\n",
            "Features importantes: [0.20432724 0.12661361 0.05962644 0.10896314 0.15209342 0.12630935\n",
            " 0.05511287 0.04141613 0.06311766 0.03544343 0.0269767 ]\n",
            "\n",
            "Objeto: DecisionTreeClassifier(ccp_alpha=0.0, class_weight=None, criterion='gini',\n",
            "                       max_depth=None, max_features='auto', max_leaf_nodes=None,\n",
            "                       min_impurity_decrease=0.0, min_impurity_split=None,\n",
            "                       min_samples_leaf=1, min_samples_split=2,\n",
            "                       min_weight_fraction_leaf=0.0, presort='deprecated',\n",
            "                       random_state=1252949478, splitter='best')\n",
            "\n",
            "Numero de nós: 151\n",
            "Profundidade da árvore: 13\n",
            "Features importantes: [0.15668778 0.16617747 0.07005398 0.25614664 0.17930376 0.01918803\n",
            " 0.01907366 0.03163638 0.04445887 0.04571472 0.01155871]\n",
            "\n",
            "Objeto: DecisionTreeClassifier(ccp_alpha=0.0, class_weight=None, criterion='gini',\n",
            "                       max_depth=None, max_features='auto', max_leaf_nodes=None,\n",
            "                       min_impurity_decrease=0.0, min_impurity_split=None,\n",
            "                       min_samples_leaf=1, min_samples_split=2,\n",
            "                       min_weight_fraction_leaf=0.0, presort='deprecated',\n",
            "                       random_state=1340754471, splitter='best')\n",
            "\n",
            "Numero de nós: 145\n",
            "Profundidade da árvore: 13\n",
            "Features importantes: [0.31048247 0.1380698  0.09480618 0.12946219 0.10514535 0.01199669\n",
            " 0.04456693 0.01173753 0.0532566  0.06559665 0.03487961]\n",
            "\n",
            "Objeto: DecisionTreeClassifier(ccp_alpha=0.0, class_weight=None, criterion='gini',\n",
            "                       max_depth=None, max_features='auto', max_leaf_nodes=None,\n",
            "                       min_impurity_decrease=0.0, min_impurity_split=None,\n",
            "                       min_samples_leaf=1, min_samples_split=2,\n",
            "                       min_weight_fraction_leaf=0.0, presort='deprecated',\n",
            "                       random_state=124102743, splitter='best')\n",
            "\n",
            "Numero de nós: 149\n",
            "Profundidade da árvore: 14\n",
            "Features importantes: [0.10332111 0.16739691 0.133756   0.2744235  0.06331115 0.05336672\n",
            " 0.05168836 0.02699047 0.06198284 0.04090138 0.02286155]\n",
            "\n",
            "Objeto: DecisionTreeClassifier(ccp_alpha=0.0, class_weight=None, criterion='gini',\n",
            "                       max_depth=None, max_features='auto', max_leaf_nodes=None,\n",
            "                       min_impurity_decrease=0.0, min_impurity_split=None,\n",
            "                       min_samples_leaf=1, min_samples_split=2,\n",
            "                       min_weight_fraction_leaf=0.0, presort='deprecated',\n",
            "                       random_state=2061486254, splitter='best')\n",
            "\n",
            "Numero de nós: 151\n",
            "Profundidade da árvore: 12\n",
            "Features importantes: [0.1454646  0.1945885  0.2125042  0.10932164 0.11092859 0.00552327\n",
            " 0.03437616 0.04545357 0.05609176 0.02947159 0.05627611]\n",
            "\n",
            "Objeto: DecisionTreeClassifier(ccp_alpha=0.0, class_weight=None, criterion='gini',\n",
            "                       max_depth=None, max_features='auto', max_leaf_nodes=None,\n",
            "                       min_impurity_decrease=0.0, min_impurity_split=None,\n",
            "                       min_samples_leaf=1, min_samples_split=2,\n",
            "                       min_weight_fraction_leaf=0.0, presort='deprecated',\n",
            "                       random_state=292249176, splitter='best')\n",
            "\n",
            "Numero de nós: 135\n",
            "Profundidade da árvore: 11\n",
            "Features importantes: [0.18256275 0.11966135 0.27838206 0.07626455 0.10915575 0.03663686\n",
            " 0.05152167 0.02485289 0.03567236 0.0493984  0.03589136]\n",
            "\n",
            "Objeto: DecisionTreeClassifier(ccp_alpha=0.0, class_weight=None, criterion='gini',\n",
            "                       max_depth=None, max_features='auto', max_leaf_nodes=None,\n",
            "                       min_impurity_decrease=0.0, min_impurity_split=None,\n",
            "                       min_samples_leaf=1, min_samples_split=2,\n",
            "                       min_weight_fraction_leaf=0.0, presort='deprecated',\n",
            "                       random_state=1686997841, splitter='best')\n",
            "\n",
            "Numero de nós: 155\n",
            "Profundidade da árvore: 16\n",
            "Features importantes: [0.16607461 0.16942952 0.04178761 0.13664214 0.13726827 0.11667862\n",
            " 0.10383974 0.02045017 0.02997424 0.01681141 0.06104368]\n",
            "\n",
            "Objeto: DecisionTreeClassifier(ccp_alpha=0.0, class_weight=None, criterion='gini',\n",
            "                       max_depth=None, max_features='auto', max_leaf_nodes=None,\n",
            "                       min_impurity_decrease=0.0, min_impurity_split=None,\n",
            "                       min_samples_leaf=1, min_samples_split=2,\n",
            "                       min_weight_fraction_leaf=0.0, presort='deprecated',\n",
            "                       random_state=1827923621, splitter='best')\n",
            "\n",
            "Numero de nós: 139\n",
            "Profundidade da árvore: 13\n",
            "Features importantes: [0.2061739  0.15243105 0.04405186 0.05243993 0.14416411 0.09833484\n",
            " 0.12769116 0.03782686 0.07002155 0.01971494 0.0471498 ]\n",
            "\n",
            "Objeto: DecisionTreeClassifier(ccp_alpha=0.0, class_weight=None, criterion='gini',\n",
            "                       max_depth=None, max_features='auto', max_leaf_nodes=None,\n",
            "                       min_impurity_decrease=0.0, min_impurity_split=None,\n",
            "                       min_samples_leaf=1, min_samples_split=2,\n",
            "                       min_weight_fraction_leaf=0.0, presort='deprecated',\n",
            "                       random_state=1443447321, splitter='best')\n",
            "\n",
            "Numero de nós: 167\n",
            "Profundidade da árvore: 12\n",
            "Features importantes: [0.14803958 0.14743037 0.22991713 0.05601989 0.07723732 0.0585897\n",
            " 0.05031283 0.08821283 0.06569147 0.05184299 0.02670588]\n",
            "\n",
            "Objeto: DecisionTreeClassifier(ccp_alpha=0.0, class_weight=None, criterion='gini',\n",
            "                       max_depth=None, max_features='auto', max_leaf_nodes=None,\n",
            "                       min_impurity_decrease=0.0, min_impurity_split=None,\n",
            "                       min_samples_leaf=1, min_samples_split=2,\n",
            "                       min_weight_fraction_leaf=0.0, presort='deprecated',\n",
            "                       random_state=305097549, splitter='best')\n",
            "\n",
            "Numero de nós: 135\n",
            "Profundidade da árvore: 12\n",
            "Features importantes: [0.29659575 0.09772595 0.13917661 0.09065862 0.11341913 0.05658459\n",
            " 0.08681638 0.0179577  0.03707811 0.01807707 0.04591009]\n",
            "\n",
            "Objeto: DecisionTreeClassifier(ccp_alpha=0.0, class_weight=None, criterion='gini',\n",
            "                       max_depth=None, max_features='auto', max_leaf_nodes=None,\n",
            "                       min_impurity_decrease=0.0, min_impurity_split=None,\n",
            "                       min_samples_leaf=1, min_samples_split=2,\n",
            "                       min_weight_fraction_leaf=0.0, presort='deprecated',\n",
            "                       random_state=1449105480, splitter='best')\n",
            "\n",
            "Numero de nós: 129\n",
            "Profundidade da árvore: 12\n",
            "Features importantes: [0.14767439 0.13616253 0.14649665 0.27339057 0.13208176 0.06516786\n",
            " 0.01760101 0.01847363 0.01383423 0.02755386 0.0215635 ]\n",
            "\n",
            "Objeto: DecisionTreeClassifier(ccp_alpha=0.0, class_weight=None, criterion='gini',\n",
            "                       max_depth=None, max_features='auto', max_leaf_nodes=None,\n",
            "                       min_impurity_decrease=0.0, min_impurity_split=None,\n",
            "                       min_samples_leaf=1, min_samples_split=2,\n",
            "                       min_weight_fraction_leaf=0.0, presort='deprecated',\n",
            "                       random_state=374217481, splitter='best')\n",
            "\n",
            "Numero de nós: 127\n",
            "Profundidade da árvore: 12\n",
            "Features importantes: [0.16595392 0.14689943 0.19868651 0.13519482 0.13299999 0.06122534\n",
            " 0.02865783 0.07914464 0.0062484  0.02885968 0.01612945]\n",
            "\n",
            "Objeto: DecisionTreeClassifier(ccp_alpha=0.0, class_weight=None, criterion='gini',\n",
            "                       max_depth=None, max_features='auto', max_leaf_nodes=None,\n",
            "                       min_impurity_decrease=0.0, min_impurity_split=None,\n",
            "                       min_samples_leaf=1, min_samples_split=2,\n",
            "                       min_weight_fraction_leaf=0.0, presort='deprecated',\n",
            "                       random_state=636393364, splitter='best')\n",
            "\n",
            "Numero de nós: 131\n",
            "Profundidade da árvore: 11\n",
            "Features importantes: [0.18155787 0.3721285  0.09597905 0.05254633 0.0989165  0.01769658\n",
            " 0.06124426 0.0459228  0.01313438 0.04190428 0.01896946]\n",
            "\n",
            "Objeto: DecisionTreeClassifier(ccp_alpha=0.0, class_weight=None, criterion='gini',\n",
            "                       max_depth=None, max_features='auto', max_leaf_nodes=None,\n",
            "                       min_impurity_decrease=0.0, min_impurity_split=None,\n",
            "                       min_samples_leaf=1, min_samples_split=2,\n",
            "                       min_weight_fraction_leaf=0.0, presort='deprecated',\n",
            "                       random_state=86837363, splitter='best')\n",
            "\n",
            "Numero de nós: 141\n",
            "Profundidade da árvore: 13\n",
            "Features importantes: [0.18102446 0.26646983 0.08108902 0.07087767 0.16259924 0.03142075\n",
            " 0.12603481 0.01627053 0.02304617 0.01635216 0.02481536]\n",
            "\n",
            "Objeto: DecisionTreeClassifier(ccp_alpha=0.0, class_weight=None, criterion='gini',\n",
            "                       max_depth=None, max_features='auto', max_leaf_nodes=None,\n",
            "                       min_impurity_decrease=0.0, min_impurity_split=None,\n",
            "                       min_samples_leaf=1, min_samples_split=2,\n",
            "                       min_weight_fraction_leaf=0.0, presort='deprecated',\n",
            "                       random_state=1581585360, splitter='best')\n",
            "\n",
            "Numero de nós: 145\n",
            "Profundidade da árvore: 11\n",
            "Features importantes: [0.05331559 0.09641009 0.224876   0.19729919 0.09680002 0.07968646\n",
            " 0.05846464 0.05796219 0.03768422 0.05208986 0.04541175]\n",
            "\n",
            "Objeto: DecisionTreeClassifier(ccp_alpha=0.0, class_weight=None, criterion='gini',\n",
            "                       max_depth=None, max_features='auto', max_leaf_nodes=None,\n",
            "                       min_impurity_decrease=0.0, min_impurity_split=None,\n",
            "                       min_samples_leaf=1, min_samples_split=2,\n",
            "                       min_weight_fraction_leaf=0.0, presort='deprecated',\n",
            "                       random_state=1428591347, splitter='best')\n",
            "\n",
            "Numero de nós: 139\n",
            "Profundidade da árvore: 12\n",
            "Features importantes: [0.16920098 0.11983821 0.21049052 0.12389356 0.07498227 0.02806465\n",
            " 0.03269764 0.12059353 0.05755073 0.02748013 0.03520777]\n",
            "\n",
            "Objeto: DecisionTreeClassifier(ccp_alpha=0.0, class_weight=None, criterion='gini',\n",
            "                       max_depth=None, max_features='auto', max_leaf_nodes=None,\n",
            "                       min_impurity_decrease=0.0, min_impurity_split=None,\n",
            "                       min_samples_leaf=1, min_samples_split=2,\n",
            "                       min_weight_fraction_leaf=0.0, presort='deprecated',\n",
            "                       random_state=1963466437, splitter='best')\n",
            "\n",
            "Numero de nós: 147\n",
            "Profundidade da árvore: 14\n",
            "Features importantes: [0.17473882 0.15149199 0.22735183 0.06270923 0.07109656 0.09629461\n",
            " 0.03388693 0.12307649 0.01847336 0.02188124 0.01899895]\n",
            "\n",
            "Objeto: DecisionTreeClassifier(ccp_alpha=0.0, class_weight=None, criterion='gini',\n",
            "                       max_depth=None, max_features='auto', max_leaf_nodes=None,\n",
            "                       min_impurity_decrease=0.0, min_impurity_split=None,\n",
            "                       min_samples_leaf=1, min_samples_split=2,\n",
            "                       min_weight_fraction_leaf=0.0, presort='deprecated',\n",
            "                       random_state=1194674174, splitter='best')\n",
            "\n",
            "Numero de nós: 121\n",
            "Profundidade da árvore: 12\n",
            "Features importantes: [0.17909181 0.23008334 0.09544766 0.08872216 0.15168176 0.03552249\n",
            " 0.03313896 0.03240671 0.04905462 0.01695659 0.0878939 ]\n",
            "\n",
            "Objeto: DecisionTreeClassifier(ccp_alpha=0.0, class_weight=None, criterion='gini',\n",
            "                       max_depth=None, max_features='auto', max_leaf_nodes=None,\n",
            "                       min_impurity_decrease=0.0, min_impurity_split=None,\n",
            "                       min_samples_leaf=1, min_samples_split=2,\n",
            "                       min_weight_fraction_leaf=0.0, presort='deprecated',\n",
            "                       random_state=602801999, splitter='best')\n",
            "\n",
            "Numero de nós: 159\n",
            "Profundidade da árvore: 14\n",
            "Features importantes: [0.21753395 0.12348781 0.15283209 0.14452241 0.06187497 0.08015123\n",
            " 0.04971892 0.0201643  0.05732239 0.02507177 0.06732015]\n",
            "\n",
            "Objeto: DecisionTreeClassifier(ccp_alpha=0.0, class_weight=None, criterion='gini',\n",
            "                       max_depth=None, max_features='auto', max_leaf_nodes=None,\n",
            "                       min_impurity_decrease=0.0, min_impurity_split=None,\n",
            "                       min_samples_leaf=1, min_samples_split=2,\n",
            "                       min_weight_fraction_leaf=0.0, presort='deprecated',\n",
            "                       random_state=1589190063, splitter='best')\n",
            "\n",
            "Numero de nós: 137\n",
            "Profundidade da árvore: 11\n",
            "Features importantes: [0.17862999 0.20820816 0.07307473 0.23767108 0.08828723 0.0108276\n",
            " 0.09682638 0.02848864 0.01921256 0.02834306 0.03043057]\n",
            "\n",
            "Objeto: DecisionTreeClassifier(ccp_alpha=0.0, class_weight=None, criterion='gini',\n",
            "                       max_depth=None, max_features='auto', max_leaf_nodes=None,\n",
            "                       min_impurity_decrease=0.0, min_impurity_split=None,\n",
            "                       min_samples_leaf=1, min_samples_split=2,\n",
            "                       min_weight_fraction_leaf=0.0, presort='deprecated',\n",
            "                       random_state=1589512640, splitter='best')\n",
            "\n",
            "Numero de nós: 143\n",
            "Profundidade da árvore: 14\n",
            "Features importantes: [0.14416623 0.14281375 0.20102547 0.17155601 0.10785241 0.10848385\n",
            " 0.03344165 0.02220026 0.00461133 0.02471268 0.03913635]\n",
            "\n",
            "Objeto: DecisionTreeClassifier(ccp_alpha=0.0, class_weight=None, criterion='gini',\n",
            "                       max_depth=None, max_features='auto', max_leaf_nodes=None,\n",
            "                       min_impurity_decrease=0.0, min_impurity_split=None,\n",
            "                       min_samples_leaf=1, min_samples_split=2,\n",
            "                       min_weight_fraction_leaf=0.0, presort='deprecated',\n",
            "                       random_state=2055650130, splitter='best')\n",
            "\n",
            "Numero de nós: 153\n",
            "Profundidade da árvore: 14\n",
            "Features importantes: [0.2909205  0.13349753 0.09264329 0.14047615 0.13224946 0.04335329\n",
            " 0.04600587 0.04494898 0.01784303 0.0325335  0.0255284 ]\n",
            "\n",
            "Objeto: DecisionTreeClassifier(ccp_alpha=0.0, class_weight=None, criterion='gini',\n",
            "                       max_depth=None, max_features='auto', max_leaf_nodes=None,\n",
            "                       min_impurity_decrease=0.0, min_impurity_split=None,\n",
            "                       min_samples_leaf=1, min_samples_split=2,\n",
            "                       min_weight_fraction_leaf=0.0, presort='deprecated',\n",
            "                       random_state=2034131043, splitter='best')\n",
            "\n",
            "Numero de nós: 129\n",
            "Profundidade da árvore: 12\n",
            "Features importantes: [0.11812735 0.23929052 0.19976072 0.14087053 0.07393857 0.03357996\n",
            " 0.03736656 0.01617587 0.0492346  0.06542381 0.02623152]\n",
            "\n",
            "Objeto: DecisionTreeClassifier(ccp_alpha=0.0, class_weight=None, criterion='gini',\n",
            "                       max_depth=None, max_features='auto', max_leaf_nodes=None,\n",
            "                       min_impurity_decrease=0.0, min_impurity_split=None,\n",
            "                       min_samples_leaf=1, min_samples_split=2,\n",
            "                       min_weight_fraction_leaf=0.0, presort='deprecated',\n",
            "                       random_state=1284876248, splitter='best')\n",
            "\n",
            "Numero de nós: 153\n",
            "Profundidade da árvore: 13\n",
            "Features importantes: [0.04959146 0.24642833 0.16830502 0.12956106 0.12541766 0.01000092\n",
            " 0.04256559 0.06925404 0.05164684 0.05260746 0.05462161]\n",
            "\n",
            "Objeto: DecisionTreeClassifier(ccp_alpha=0.0, class_weight=None, criterion='gini',\n",
            "                       max_depth=None, max_features='auto', max_leaf_nodes=None,\n",
            "                       min_impurity_decrease=0.0, min_impurity_split=None,\n",
            "                       min_samples_leaf=1, min_samples_split=2,\n",
            "                       min_weight_fraction_leaf=0.0, presort='deprecated',\n",
            "                       random_state=1292401841, splitter='best')\n",
            "\n",
            "Numero de nós: 161\n",
            "Profundidade da árvore: 14\n",
            "Features importantes: [0.30447684 0.10709741 0.15896393 0.07970065 0.11276728 0.01845414\n",
            " 0.08271517 0.01273463 0.05692113 0.03720476 0.02896407]\n",
            "\n",
            "Objeto: DecisionTreeClassifier(ccp_alpha=0.0, class_weight=None, criterion='gini',\n",
            "                       max_depth=None, max_features='auto', max_leaf_nodes=None,\n",
            "                       min_impurity_decrease=0.0, min_impurity_split=None,\n",
            "                       min_samples_leaf=1, min_samples_split=2,\n",
            "                       min_weight_fraction_leaf=0.0, presort='deprecated',\n",
            "                       random_state=1982038771, splitter='best')\n",
            "\n",
            "Numero de nós: 121\n",
            "Profundidade da árvore: 10\n",
            "Features importantes: [0.08765614 0.15766064 0.17971907 0.07674216 0.18275274 0.11034519\n",
            " 0.0404126  0.03623147 0.03137568 0.04884405 0.04826026]\n",
            "\n",
            "Objeto: DecisionTreeClassifier(ccp_alpha=0.0, class_weight=None, criterion='gini',\n",
            "                       max_depth=None, max_features='auto', max_leaf_nodes=None,\n",
            "                       min_impurity_decrease=0.0, min_impurity_split=None,\n",
            "                       min_samples_leaf=1, min_samples_split=2,\n",
            "                       min_weight_fraction_leaf=0.0, presort='deprecated',\n",
            "                       random_state=87950109, splitter='best')\n",
            "\n",
            "Numero de nós: 137\n",
            "Profundidade da árvore: 12\n",
            "Features importantes: [0.35064717 0.11501224 0.17615612 0.10255614 0.03655513 0.00573821\n",
            " 0.04389601 0.06845799 0.05849948 0.02085989 0.02162162]\n",
            "\n",
            "Objeto: DecisionTreeClassifier(ccp_alpha=0.0, class_weight=None, criterion='gini',\n",
            "                       max_depth=None, max_features='auto', max_leaf_nodes=None,\n",
            "                       min_impurity_decrease=0.0, min_impurity_split=None,\n",
            "                       min_samples_leaf=1, min_samples_split=2,\n",
            "                       min_weight_fraction_leaf=0.0, presort='deprecated',\n",
            "                       random_state=1204863635, splitter='best')\n",
            "\n",
            "Numero de nós: 159\n",
            "Profundidade da árvore: 12\n",
            "Features importantes: [0.14691182 0.13238201 0.14507437 0.1778015  0.07416801 0.05813456\n",
            " 0.02744858 0.08704005 0.03440841 0.0468587  0.06977197]\n",
            "\n",
            "Objeto: DecisionTreeClassifier(ccp_alpha=0.0, class_weight=None, criterion='gini',\n",
            "                       max_depth=None, max_features='auto', max_leaf_nodes=None,\n",
            "                       min_impurity_decrease=0.0, min_impurity_split=None,\n",
            "                       min_samples_leaf=1, min_samples_split=2,\n",
            "                       min_weight_fraction_leaf=0.0, presort='deprecated',\n",
            "                       random_state=768281747, splitter='best')\n",
            "\n",
            "Numero de nós: 149\n",
            "Profundidade da árvore: 11\n",
            "Features importantes: [0.16436441 0.2039772  0.19430986 0.09597787 0.09653813 0.03998082\n",
            " 0.05331285 0.07827983 0.0167769  0.03038588 0.02609626]\n",
            "\n",
            "Objeto: DecisionTreeClassifier(ccp_alpha=0.0, class_weight=None, criterion='gini',\n",
            "                       max_depth=None, max_features='auto', max_leaf_nodes=None,\n",
            "                       min_impurity_decrease=0.0, min_impurity_split=None,\n",
            "                       min_samples_leaf=1, min_samples_split=2,\n",
            "                       min_weight_fraction_leaf=0.0, presort='deprecated',\n",
            "                       random_state=507984782, splitter='best')\n",
            "\n",
            "Numero de nós: 155\n",
            "Profundidade da árvore: 12\n",
            "Features importantes: [0.0988363  0.14259512 0.15381082 0.13951204 0.13709371 0.06560574\n",
            " 0.06066543 0.12428714 0.04857899 0.01779719 0.01121752]\n",
            "\n",
            "Objeto: DecisionTreeClassifier(ccp_alpha=0.0, class_weight=None, criterion='gini',\n",
            "                       max_depth=None, max_features='auto', max_leaf_nodes=None,\n",
            "                       min_impurity_decrease=0.0, min_impurity_split=None,\n",
            "                       min_samples_leaf=1, min_samples_split=2,\n",
            "                       min_weight_fraction_leaf=0.0, presort='deprecated',\n",
            "                       random_state=947610023, splitter='best')\n",
            "\n",
            "Numero de nós: 133\n",
            "Profundidade da árvore: 10\n",
            "Features importantes: [0.3421054  0.20465414 0.02811286 0.11960254 0.06015265 0.02936663\n",
            " 0.02693273 0.03443594 0.04222174 0.08775916 0.02465621]\n",
            "\n",
            "Objeto: DecisionTreeClassifier(ccp_alpha=0.0, class_weight=None, criterion='gini',\n",
            "                       max_depth=None, max_features='auto', max_leaf_nodes=None,\n",
            "                       min_impurity_decrease=0.0, min_impurity_split=None,\n",
            "                       min_samples_leaf=1, min_samples_split=2,\n",
            "                       min_weight_fraction_leaf=0.0, presort='deprecated',\n",
            "                       random_state=600956192, splitter='best')\n",
            "\n",
            "Numero de nós: 135\n",
            "Profundidade da árvore: 14\n",
            "Features importantes: [0.14240599 0.18240433 0.17131783 0.12522998 0.11884403 0.08499673\n",
            " 0.04058914 0.07775735 0.0308613  0.01702857 0.00856474]\n",
            "\n",
            "Objeto: DecisionTreeClassifier(ccp_alpha=0.0, class_weight=None, criterion='gini',\n",
            "                       max_depth=None, max_features='auto', max_leaf_nodes=None,\n",
            "                       min_impurity_decrease=0.0, min_impurity_split=None,\n",
            "                       min_samples_leaf=1, min_samples_split=2,\n",
            "                       min_weight_fraction_leaf=0.0, presort='deprecated',\n",
            "                       random_state=352272321, splitter='best')\n",
            "\n",
            "Numero de nós: 125\n",
            "Profundidade da árvore: 10\n",
            "Features importantes: [0.1399443  0.10262848 0.20979785 0.16490429 0.06179064 0.06073558\n",
            " 0.05930608 0.09708717 0.03962208 0.01377243 0.0504111 ]\n",
            "\n",
            "Objeto: DecisionTreeClassifier(ccp_alpha=0.0, class_weight=None, criterion='gini',\n",
            "                       max_depth=None, max_features='auto', max_leaf_nodes=None,\n",
            "                       min_impurity_decrease=0.0, min_impurity_split=None,\n",
            "                       min_samples_leaf=1, min_samples_split=2,\n",
            "                       min_weight_fraction_leaf=0.0, presort='deprecated',\n",
            "                       random_state=615697673, splitter='best')\n",
            "\n",
            "Numero de nós: 147\n",
            "Profundidade da árvore: 13\n",
            "Features importantes: [0.26782929 0.16145439 0.06176592 0.15323201 0.07002149 0.01644191\n",
            " 0.04582504 0.03873244 0.07626909 0.06977415 0.03865427]\n",
            "\n",
            "Objeto: DecisionTreeClassifier(ccp_alpha=0.0, class_weight=None, criterion='gini',\n",
            "                       max_depth=None, max_features='auto', max_leaf_nodes=None,\n",
            "                       min_impurity_decrease=0.0, min_impurity_split=None,\n",
            "                       min_samples_leaf=1, min_samples_split=2,\n",
            "                       min_weight_fraction_leaf=0.0, presort='deprecated',\n",
            "                       random_state=160516793, splitter='best')\n",
            "\n",
            "Numero de nós: 155\n",
            "Profundidade da árvore: 11\n",
            "Features importantes: [0.16399561 0.11138229 0.22530288 0.2766401  0.05308031 0.03914353\n",
            " 0.0249015  0.0185106  0.03965905 0.03163374 0.01575039]\n",
            "\n",
            "Objeto: DecisionTreeClassifier(ccp_alpha=0.0, class_weight=None, criterion='gini',\n",
            "                       max_depth=None, max_features='auto', max_leaf_nodes=None,\n",
            "                       min_impurity_decrease=0.0, min_impurity_split=None,\n",
            "                       min_samples_leaf=1, min_samples_split=2,\n",
            "                       min_weight_fraction_leaf=0.0, presort='deprecated',\n",
            "                       random_state=1909838463, splitter='best')\n",
            "\n",
            "Numero de nós: 141\n",
            "Profundidade da árvore: 11\n",
            "Features importantes: [0.22958176 0.17621128 0.05858548 0.11469405 0.0741492  0.11413171\n",
            " 0.09690078 0.0317803  0.01892285 0.02943497 0.0556076 ]\n",
            "\n",
            "Objeto: DecisionTreeClassifier(ccp_alpha=0.0, class_weight=None, criterion='gini',\n",
            "                       max_depth=None, max_features='auto', max_leaf_nodes=None,\n",
            "                       min_impurity_decrease=0.0, min_impurity_split=None,\n",
            "                       min_samples_leaf=1, min_samples_split=2,\n",
            "                       min_weight_fraction_leaf=0.0, presort='deprecated',\n",
            "                       random_state=1110745632, splitter='best')\n",
            "\n",
            "Numero de nós: 145\n",
            "Profundidade da árvore: 14\n",
            "Features importantes: [0.10657753 0.27538958 0.19129682 0.09391898 0.09617283 0.08102039\n",
            " 0.05228935 0.02398186 0.01898721 0.02955713 0.03080832]\n",
            "\n",
            "Objeto: DecisionTreeClassifier(ccp_alpha=0.0, class_weight=None, criterion='gini',\n",
            "                       max_depth=None, max_features='auto', max_leaf_nodes=None,\n",
            "                       min_impurity_decrease=0.0, min_impurity_split=None,\n",
            "                       min_samples_leaf=1, min_samples_split=2,\n",
            "                       min_weight_fraction_leaf=0.0, presort='deprecated',\n",
            "                       random_state=93837855, splitter='best')\n",
            "\n",
            "Numero de nós: 127\n",
            "Profundidade da árvore: 11\n",
            "Features importantes: [0.30990673 0.13678856 0.11577713 0.06246134 0.04684052 0.02996043\n",
            " 0.08475523 0.0307519  0.06192032 0.05334326 0.06749458]\n",
            "\n",
            "Objeto: DecisionTreeClassifier(ccp_alpha=0.0, class_weight=None, criterion='gini',\n",
            "                       max_depth=None, max_features='auto', max_leaf_nodes=None,\n",
            "                       min_impurity_decrease=0.0, min_impurity_split=None,\n",
            "                       min_samples_leaf=1, min_samples_split=2,\n",
            "                       min_weight_fraction_leaf=0.0, presort='deprecated',\n",
            "                       random_state=454869706, splitter='best')\n",
            "\n",
            "Numero de nós: 135\n",
            "Profundidade da árvore: 11\n",
            "Features importantes: [0.10431438 0.12382956 0.24383165 0.12940269 0.10320381 0.06781903\n",
            " 0.06939513 0.03555617 0.04178357 0.05030437 0.03055964]\n",
            "\n",
            "Objeto: DecisionTreeClassifier(ccp_alpha=0.0, class_weight=None, criterion='gini',\n",
            "                       max_depth=None, max_features='auto', max_leaf_nodes=None,\n",
            "                       min_impurity_decrease=0.0, min_impurity_split=None,\n",
            "                       min_samples_leaf=1, min_samples_split=2,\n",
            "                       min_weight_fraction_leaf=0.0, presort='deprecated',\n",
            "                       random_state=1780959476, splitter='best')\n",
            "\n",
            "Numero de nós: 153\n",
            "Profundidade da árvore: 12\n",
            "Features importantes: [0.11225942 0.10183415 0.18768517 0.21475154 0.07942011 0.06274678\n",
            " 0.04646216 0.0263146  0.06768518 0.01352495 0.08731595]\n",
            "\n",
            "Objeto: DecisionTreeClassifier(ccp_alpha=0.0, class_weight=None, criterion='gini',\n",
            "                       max_depth=None, max_features='auto', max_leaf_nodes=None,\n",
            "                       min_impurity_decrease=0.0, min_impurity_split=None,\n",
            "                       min_samples_leaf=1, min_samples_split=2,\n",
            "                       min_weight_fraction_leaf=0.0, presort='deprecated',\n",
            "                       random_state=2034098327, splitter='best')\n",
            "\n",
            "Numero de nós: 137\n",
            "Profundidade da árvore: 10\n",
            "Features importantes: [0.16404613 0.09274093 0.23417069 0.24592106 0.04024454 0.05132307\n",
            " 0.05777119 0.0158578  0.04520797 0.04000048 0.01271614]\n",
            "\n",
            "Objeto: DecisionTreeClassifier(ccp_alpha=0.0, class_weight=None, criterion='gini',\n",
            "                       max_depth=None, max_features='auto', max_leaf_nodes=None,\n",
            "                       min_impurity_decrease=0.0, min_impurity_split=None,\n",
            "                       min_samples_leaf=1, min_samples_split=2,\n",
            "                       min_weight_fraction_leaf=0.0, presort='deprecated',\n",
            "                       random_state=1136257699, splitter='best')\n",
            "\n",
            "Numero de nós: 159\n",
            "Profundidade da árvore: 13\n",
            "Features importantes: [0.18598776 0.16552512 0.1054893  0.1393692  0.08251549 0.12214611\n",
            " 0.05023028 0.0091688  0.05860435 0.04039859 0.040565  ]\n",
            "\n",
            "Objeto: DecisionTreeClassifier(ccp_alpha=0.0, class_weight=None, criterion='gini',\n",
            "                       max_depth=None, max_features='auto', max_leaf_nodes=None,\n",
            "                       min_impurity_decrease=0.0, min_impurity_split=None,\n",
            "                       min_samples_leaf=1, min_samples_split=2,\n",
            "                       min_weight_fraction_leaf=0.0, presort='deprecated',\n",
            "                       random_state=800291326, splitter='best')\n",
            "\n",
            "Numero de nós: 139\n",
            "Profundidade da árvore: 12\n",
            "Features importantes: [0.13159282 0.14232357 0.19473427 0.07008683 0.08552982 0.03966747\n",
            " 0.07407435 0.09948579 0.04556495 0.07496464 0.04197549]\n",
            "\n",
            "Objeto: DecisionTreeClassifier(ccp_alpha=0.0, class_weight=None, criterion='gini',\n",
            "                       max_depth=None, max_features='auto', max_leaf_nodes=None,\n",
            "                       min_impurity_decrease=0.0, min_impurity_split=None,\n",
            "                       min_samples_leaf=1, min_samples_split=2,\n",
            "                       min_weight_fraction_leaf=0.0, presort='deprecated',\n",
            "                       random_state=1177824715, splitter='best')\n",
            "\n",
            "Numero de nós: 161\n",
            "Profundidade da árvore: 13\n",
            "Features importantes: [0.35308889 0.07173387 0.02614613 0.11405389 0.10473768 0.03258911\n",
            " 0.10089816 0.06847415 0.02591011 0.04388083 0.05848718]\n",
            "\n",
            "Objeto: DecisionTreeClassifier(ccp_alpha=0.0, class_weight=None, criterion='gini',\n",
            "                       max_depth=None, max_features='auto', max_leaf_nodes=None,\n",
            "                       min_impurity_decrease=0.0, min_impurity_split=None,\n",
            "                       min_samples_leaf=1, min_samples_split=2,\n",
            "                       min_weight_fraction_leaf=0.0, presort='deprecated',\n",
            "                       random_state=1017555826, splitter='best')\n",
            "\n",
            "Numero de nós: 129\n",
            "Profundidade da árvore: 10\n",
            "Features importantes: [0.19098922 0.22754617 0.05743265 0.14927274 0.06110725 0.05803743\n",
            " 0.07148906 0.05917323 0.02880133 0.04561518 0.05053574]\n",
            "\n",
            "Objeto: DecisionTreeClassifier(ccp_alpha=0.0, class_weight=None, criterion='gini',\n",
            "                       max_depth=None, max_features='auto', max_leaf_nodes=None,\n",
            "                       min_impurity_decrease=0.0, min_impurity_split=None,\n",
            "                       min_samples_leaf=1, min_samples_split=2,\n",
            "                       min_weight_fraction_leaf=0.0, presort='deprecated',\n",
            "                       random_state=1959150775, splitter='best')\n",
            "\n",
            "Numero de nós: 151\n",
            "Profundidade da árvore: 11\n",
            "Features importantes: [0.13512277 0.25779658 0.09548692 0.23419503 0.13484304 0.00791365\n",
            " 0.02969503 0.03531077 0.03547325 0.00861592 0.02554705]\n",
            "\n",
            "Objeto: DecisionTreeClassifier(ccp_alpha=0.0, class_weight=None, criterion='gini',\n",
            "                       max_depth=None, max_features='auto', max_leaf_nodes=None,\n",
            "                       min_impurity_decrease=0.0, min_impurity_split=None,\n",
            "                       min_samples_leaf=1, min_samples_split=2,\n",
            "                       min_weight_fraction_leaf=0.0, presort='deprecated',\n",
            "                       random_state=930076700, splitter='best')\n",
            "\n",
            "Numero de nós: 141\n",
            "Profundidade da árvore: 13\n",
            "Features importantes: [0.34804813 0.13274282 0.0887555  0.0811444  0.13422572 0.05026109\n",
            " 0.06609768 0.01358255 0.0142558  0.05541027 0.01547603]\n",
            "\n",
            "Objeto: DecisionTreeClassifier(ccp_alpha=0.0, class_weight=None, criterion='gini',\n",
            "                       max_depth=None, max_features='auto', max_leaf_nodes=None,\n",
            "                       min_impurity_decrease=0.0, min_impurity_split=None,\n",
            "                       min_samples_leaf=1, min_samples_split=2,\n",
            "                       min_weight_fraction_leaf=0.0, presort='deprecated',\n",
            "                       random_state=293921570, splitter='best')\n",
            "\n",
            "Numero de nós: 153\n",
            "Profundidade da árvore: 11\n",
            "Features importantes: [0.16976308 0.21226452 0.24518102 0.03136753 0.09084243 0.05398293\n",
            " 0.04008982 0.02031179 0.01400533 0.08085834 0.04133321]\n",
            "\n",
            "Objeto: DecisionTreeClassifier(ccp_alpha=0.0, class_weight=None, criterion='gini',\n",
            "                       max_depth=None, max_features='auto', max_leaf_nodes=None,\n",
            "                       min_impurity_decrease=0.0, min_impurity_split=None,\n",
            "                       min_samples_leaf=1, min_samples_split=2,\n",
            "                       min_weight_fraction_leaf=0.0, presort='deprecated',\n",
            "                       random_state=580757632, splitter='best')\n",
            "\n",
            "Numero de nós: 149\n",
            "Profundidade da árvore: 11\n",
            "Features importantes: [0.16032524 0.18296703 0.09197258 0.12649784 0.15738861 0.10419221\n",
            " 0.02526806 0.04412409 0.04914504 0.01966146 0.03845784]\n",
            "\n",
            "Objeto: DecisionTreeClassifier(ccp_alpha=0.0, class_weight=None, criterion='gini',\n",
            "                       max_depth=None, max_features='auto', max_leaf_nodes=None,\n",
            "                       min_impurity_decrease=0.0, min_impurity_split=None,\n",
            "                       min_samples_leaf=1, min_samples_split=2,\n",
            "                       min_weight_fraction_leaf=0.0, presort='deprecated',\n",
            "                       random_state=80701568, splitter='best')\n",
            "\n",
            "Numero de nós: 129\n",
            "Profundidade da árvore: 11\n",
            "Features importantes: [0.06171553 0.10362449 0.13994582 0.24073532 0.1222168  0.10690281\n",
            " 0.07979603 0.04089394 0.0355381  0.04169282 0.02693834]\n",
            "\n",
            "Objeto: DecisionTreeClassifier(ccp_alpha=0.0, class_weight=None, criterion='gini',\n",
            "                       max_depth=None, max_features='auto', max_leaf_nodes=None,\n",
            "                       min_impurity_decrease=0.0, min_impurity_split=None,\n",
            "                       min_samples_leaf=1, min_samples_split=2,\n",
            "                       min_weight_fraction_leaf=0.0, presort='deprecated',\n",
            "                       random_state=1392175012, splitter='best')\n",
            "\n",
            "Numero de nós: 141\n",
            "Profundidade da árvore: 13\n",
            "Features importantes: [0.17889673 0.23818203 0.22204183 0.11217988 0.11141278 0.01302339\n",
            " 0.04729718 0.00626174 0.02338513 0.02929111 0.0180282 ]\n",
            "\n",
            "Objeto: DecisionTreeClassifier(ccp_alpha=0.0, class_weight=None, criterion='gini',\n",
            "                       max_depth=None, max_features='auto', max_leaf_nodes=None,\n",
            "                       min_impurity_decrease=0.0, min_impurity_split=None,\n",
            "                       min_samples_leaf=1, min_samples_split=2,\n",
            "                       min_weight_fraction_leaf=0.0, presort='deprecated',\n",
            "                       random_state=505240629, splitter='best')\n",
            "\n",
            "Numero de nós: 165\n",
            "Profundidade da árvore: 12\n",
            "Features importantes: [0.36088754 0.11777138 0.05342398 0.11562133 0.07937388 0.06667699\n",
            " 0.06204781 0.05855656 0.         0.04974029 0.03590023]\n",
            "\n",
            "Objeto: DecisionTreeClassifier(ccp_alpha=0.0, class_weight=None, criterion='gini',\n",
            "                       max_depth=None, max_features='auto', max_leaf_nodes=None,\n",
            "                       min_impurity_decrease=0.0, min_impurity_split=None,\n",
            "                       min_samples_leaf=1, min_samples_split=2,\n",
            "                       min_weight_fraction_leaf=0.0, presort='deprecated',\n",
            "                       random_state=642848645, splitter='best')\n",
            "\n",
            "Numero de nós: 141\n",
            "Profundidade da árvore: 12\n",
            "Features importantes: [0.10811512 0.30087378 0.04408177 0.1403684  0.14684537 0.02445627\n",
            " 0.03468629 0.04219363 0.01975836 0.08451804 0.05410297]\n",
            "\n",
            "Objeto: DecisionTreeClassifier(ccp_alpha=0.0, class_weight=None, criterion='gini',\n",
            "                       max_depth=None, max_features='auto', max_leaf_nodes=None,\n",
            "                       min_impurity_decrease=0.0, min_impurity_split=None,\n",
            "                       min_samples_leaf=1, min_samples_split=2,\n",
            "                       min_weight_fraction_leaf=0.0, presort='deprecated',\n",
            "                       random_state=481447462, splitter='best')\n",
            "\n",
            "Numero de nós: 149\n",
            "Profundidade da árvore: 12\n",
            "Features importantes: [0.11045756 0.26606784 0.12621623 0.09960599 0.09783279 0.04809001\n",
            " 0.06957847 0.02262113 0.04121936 0.05384233 0.06446828]\n",
            "\n",
            "Objeto: DecisionTreeClassifier(ccp_alpha=0.0, class_weight=None, criterion='gini',\n",
            "                       max_depth=None, max_features='auto', max_leaf_nodes=None,\n",
            "                       min_impurity_decrease=0.0, min_impurity_split=None,\n",
            "                       min_samples_leaf=1, min_samples_split=2,\n",
            "                       min_weight_fraction_leaf=0.0, presort='deprecated',\n",
            "                       random_state=954863080, splitter='best')\n",
            "\n",
            "Numero de nós: 141\n",
            "Profundidade da árvore: 11\n",
            "Features importantes: [0.21372795 0.16692667 0.21501489 0.10888555 0.10043323 0.01081527\n",
            " 0.0604882  0.02199596 0.03278222 0.02776523 0.04116483]\n",
            "\n",
            "Objeto: DecisionTreeClassifier(ccp_alpha=0.0, class_weight=None, criterion='gini',\n",
            "                       max_depth=None, max_features='auto', max_leaf_nodes=None,\n",
            "                       min_impurity_decrease=0.0, min_impurity_split=None,\n",
            "                       min_samples_leaf=1, min_samples_split=2,\n",
            "                       min_weight_fraction_leaf=0.0, presort='deprecated',\n",
            "                       random_state=502227700, splitter='best')\n",
            "\n",
            "Numero de nós: 155\n",
            "Profundidade da árvore: 11\n",
            "Features importantes: [0.10736018 0.22823224 0.06439959 0.24341549 0.10713359 0.05573901\n",
            " 0.04691365 0.03490424 0.0256421  0.05251164 0.03374828]\n",
            "\n",
            "Objeto: DecisionTreeClassifier(ccp_alpha=0.0, class_weight=None, criterion='gini',\n",
            "                       max_depth=None, max_features='auto', max_leaf_nodes=None,\n",
            "                       min_impurity_decrease=0.0, min_impurity_split=None,\n",
            "                       min_samples_leaf=1, min_samples_split=2,\n",
            "                       min_weight_fraction_leaf=0.0, presort='deprecated',\n",
            "                       random_state=1659957521, splitter='best')\n",
            "\n",
            "Numero de nós: 145\n",
            "Profundidade da árvore: 13\n",
            "Features importantes: [0.29828937 0.11113336 0.06734576 0.13366767 0.11016694 0.10694912\n",
            " 0.05216947 0.01462083 0.04765369 0.01881658 0.0391872 ]\n",
            "\n",
            "Objeto: DecisionTreeClassifier(ccp_alpha=0.0, class_weight=None, criterion='gini',\n",
            "                       max_depth=None, max_features='auto', max_leaf_nodes=None,\n",
            "                       min_impurity_decrease=0.0, min_impurity_split=None,\n",
            "                       min_samples_leaf=1, min_samples_split=2,\n",
            "                       min_weight_fraction_leaf=0.0, presort='deprecated',\n",
            "                       random_state=1905883471, splitter='best')\n",
            "\n",
            "Numero de nós: 139\n",
            "Profundidade da árvore: 11\n",
            "Features importantes: [0.20062934 0.15210706 0.10311827 0.2025777  0.11395632 0.01795435\n",
            " 0.05552284 0.02548691 0.01796032 0.03326287 0.077424  ]\n",
            "\n",
            "Objeto: DecisionTreeClassifier(ccp_alpha=0.0, class_weight=None, criterion='gini',\n",
            "                       max_depth=None, max_features='auto', max_leaf_nodes=None,\n",
            "                       min_impurity_decrease=0.0, min_impurity_split=None,\n",
            "                       min_samples_leaf=1, min_samples_split=2,\n",
            "                       min_weight_fraction_leaf=0.0, presort='deprecated',\n",
            "                       random_state=1729147268, splitter='best')\n",
            "\n",
            "Numero de nós: 147\n",
            "Profundidade da árvore: 17\n",
            "Features importantes: [0.29054493 0.06084381 0.21491223 0.19699126 0.05728156 0.02760489\n",
            " 0.01395814 0.01726711 0.02116877 0.05711242 0.04231488]\n",
            "\n",
            "Objeto: DecisionTreeClassifier(ccp_alpha=0.0, class_weight=None, criterion='gini',\n",
            "                       max_depth=None, max_features='auto', max_leaf_nodes=None,\n",
            "                       min_impurity_decrease=0.0, min_impurity_split=None,\n",
            "                       min_samples_leaf=1, min_samples_split=2,\n",
            "                       min_weight_fraction_leaf=0.0, presort='deprecated',\n",
            "                       random_state=780912233, splitter='best')\n",
            "\n",
            "Numero de nós: 155\n",
            "Profundidade da árvore: 13\n",
            "Features importantes: [0.11407696 0.14523537 0.13403061 0.19479464 0.07002256 0.00867161\n",
            " 0.0762434  0.10598247 0.03423606 0.01132964 0.10537669]\n",
            "\n",
            "Objeto: DecisionTreeClassifier(ccp_alpha=0.0, class_weight=None, criterion='gini',\n",
            "                       max_depth=None, max_features='auto', max_leaf_nodes=None,\n",
            "                       min_impurity_decrease=0.0, min_impurity_split=None,\n",
            "                       min_samples_leaf=1, min_samples_split=2,\n",
            "                       min_weight_fraction_leaf=0.0, presort='deprecated',\n",
            "                       random_state=1932520490, splitter='best')\n",
            "\n",
            "Numero de nós: 143\n",
            "Profundidade da árvore: 12\n",
            "Features importantes: [0.15104928 0.14859566 0.19794237 0.16594407 0.07339048 0.08582733\n",
            " 0.062413   0.01483444 0.03745705 0.0492612  0.01328513]\n",
            "\n",
            "Objeto: DecisionTreeClassifier(ccp_alpha=0.0, class_weight=None, criterion='gini',\n",
            "                       max_depth=None, max_features='auto', max_leaf_nodes=None,\n",
            "                       min_impurity_decrease=0.0, min_impurity_split=None,\n",
            "                       min_samples_leaf=1, min_samples_split=2,\n",
            "                       min_weight_fraction_leaf=0.0, presort='deprecated',\n",
            "                       random_state=1544074682, splitter='best')\n",
            "\n",
            "Numero de nós: 141\n",
            "Profundidade da árvore: 13\n",
            "Features importantes: [0.29085259 0.10816684 0.07021871 0.12321286 0.10248889 0.05343345\n",
            " 0.06979121 0.03597425 0.01788383 0.09624012 0.03173725]\n",
            "\n",
            "Objeto: DecisionTreeClassifier(ccp_alpha=0.0, class_weight=None, criterion='gini',\n",
            "                       max_depth=None, max_features='auto', max_leaf_nodes=None,\n",
            "                       min_impurity_decrease=0.0, min_impurity_split=None,\n",
            "                       min_samples_leaf=1, min_samples_split=2,\n",
            "                       min_weight_fraction_leaf=0.0, presort='deprecated',\n",
            "                       random_state=485603871, splitter='best')\n",
            "\n",
            "Numero de nós: 137\n",
            "Profundidade da árvore: 10\n",
            "Features importantes: [0.11609706 0.28994244 0.06151429 0.18657862 0.11138975 0.05445466\n",
            " 0.04989676 0.01024675 0.00791109 0.06161409 0.05035448]\n",
            "\n",
            "Objeto: DecisionTreeClassifier(ccp_alpha=0.0, class_weight=None, criterion='gini',\n",
            "                       max_depth=None, max_features='auto', max_leaf_nodes=None,\n",
            "                       min_impurity_decrease=0.0, min_impurity_split=None,\n",
            "                       min_samples_leaf=1, min_samples_split=2,\n",
            "                       min_weight_fraction_leaf=0.0, presort='deprecated',\n",
            "                       random_state=1877037944, splitter='best')\n",
            "\n",
            "Numero de nós: 151\n",
            "Profundidade da árvore: 11\n",
            "Features importantes: [0.29619324 0.15316493 0.08250514 0.15244871 0.09658419 0.00739812\n",
            " 0.02299501 0.04556596 0.02497483 0.04799874 0.07017114]\n",
            "\n",
            "Objeto: DecisionTreeClassifier(ccp_alpha=0.0, class_weight=None, criterion='gini',\n",
            "                       max_depth=None, max_features='auto', max_leaf_nodes=None,\n",
            "                       min_impurity_decrease=0.0, min_impurity_split=None,\n",
            "                       min_samples_leaf=1, min_samples_split=2,\n",
            "                       min_weight_fraction_leaf=0.0, presort='deprecated',\n",
            "                       random_state=1728073985, splitter='best')\n",
            "\n",
            "Numero de nós: 151\n",
            "Profundidade da árvore: 15\n",
            "Features importantes: [0.2825191  0.12417959 0.10114272 0.11910369 0.1315889  0.04176022\n",
            " 0.05970227 0.04148495 0.00825504 0.01336647 0.07689706]\n",
            "\n",
            "Objeto: DecisionTreeClassifier(ccp_alpha=0.0, class_weight=None, criterion='gini',\n",
            "                       max_depth=None, max_features='auto', max_leaf_nodes=None,\n",
            "                       min_impurity_decrease=0.0, min_impurity_split=None,\n",
            "                       min_samples_leaf=1, min_samples_split=2,\n",
            "                       min_weight_fraction_leaf=0.0, presort='deprecated',\n",
            "                       random_state=848819521, splitter='best')\n",
            "\n",
            "Numero de nós: 161\n",
            "Profundidade da árvore: 14\n",
            "Features importantes: [0.24279143 0.06684717 0.07577769 0.23625528 0.05989958 0.03752335\n",
            " 0.0664503  0.03748425 0.01662812 0.05837322 0.1019696 ]\n",
            "\n",
            "Objeto: DecisionTreeClassifier(ccp_alpha=0.0, class_weight=None, criterion='gini',\n",
            "                       max_depth=None, max_features='auto', max_leaf_nodes=None,\n",
            "                       min_impurity_decrease=0.0, min_impurity_split=None,\n",
            "                       min_samples_leaf=1, min_samples_split=2,\n",
            "                       min_weight_fraction_leaf=0.0, presort='deprecated',\n",
            "                       random_state=426405863, splitter='best')\n",
            "\n",
            "Numero de nós: 151\n",
            "Profundidade da árvore: 13\n",
            "Features importantes: [0.13172857 0.12539564 0.08536595 0.16432036 0.13632661 0.02723381\n",
            " 0.11574209 0.03143689 0.06936661 0.05517143 0.05791204]\n",
            "\n",
            "Objeto: DecisionTreeClassifier(ccp_alpha=0.0, class_weight=None, criterion='gini',\n",
            "                       max_depth=None, max_features='auto', max_leaf_nodes=None,\n",
            "                       min_impurity_decrease=0.0, min_impurity_split=None,\n",
            "                       min_samples_leaf=1, min_samples_split=2,\n",
            "                       min_weight_fraction_leaf=0.0, presort='deprecated',\n",
            "                       random_state=258666409, splitter='best')\n",
            "\n",
            "Numero de nós: 163\n",
            "Profundidade da árvore: 12\n",
            "Features importantes: [0.12444527 0.31576857 0.08485894 0.07672057 0.08125787 0.10052313\n",
            " 0.07498617 0.00450608 0.04671792 0.06750646 0.02270903]\n",
            "\n",
            "Objeto: DecisionTreeClassifier(ccp_alpha=0.0, class_weight=None, criterion='gini',\n",
            "                       max_depth=None, max_features='auto', max_leaf_nodes=None,\n",
            "                       min_impurity_decrease=0.0, min_impurity_split=None,\n",
            "                       min_samples_leaf=1, min_samples_split=2,\n",
            "                       min_weight_fraction_leaf=0.0, presort='deprecated',\n",
            "                       random_state=2017814585, splitter='best')\n",
            "\n",
            "Numero de nós: 139\n",
            "Profundidade da árvore: 11\n",
            "Features importantes: [0.22353678 0.13958562 0.07269088 0.28878887 0.04360985 0.03868398\n",
            " 0.04705986 0.         0.04789012 0.07063387 0.02752017]\n",
            "\n",
            "Objeto: DecisionTreeClassifier(ccp_alpha=0.0, class_weight=None, criterion='gini',\n",
            "                       max_depth=None, max_features='auto', max_leaf_nodes=None,\n",
            "                       min_impurity_decrease=0.0, min_impurity_split=None,\n",
            "                       min_samples_leaf=1, min_samples_split=2,\n",
            "                       min_weight_fraction_leaf=0.0, presort='deprecated',\n",
            "                       random_state=716257571, splitter='best')\n",
            "\n",
            "Numero de nós: 147\n",
            "Profundidade da árvore: 10\n",
            "Features importantes: [0.16742072 0.1769338  0.20253157 0.12207688 0.05999416 0.03908889\n",
            " 0.03205789 0.12037721 0.01726421 0.01679786 0.04545681]\n",
            "\n",
            "Objeto: DecisionTreeClassifier(ccp_alpha=0.0, class_weight=None, criterion='gini',\n",
            "                       max_depth=None, max_features='auto', max_leaf_nodes=None,\n",
            "                       min_impurity_decrease=0.0, min_impurity_split=None,\n",
            "                       min_samples_leaf=1, min_samples_split=2,\n",
            "                       min_weight_fraction_leaf=0.0, presort='deprecated',\n",
            "                       random_state=657731430, splitter='best')\n",
            "\n",
            "Numero de nós: 159\n",
            "Profundidade da árvore: 15\n",
            "Features importantes: [0.1150646  0.20888875 0.10582309 0.19845875 0.11872617 0.02311086\n",
            " 0.03247561 0.0586443  0.1077951  0.01935545 0.01165732]\n",
            "\n",
            "Objeto: DecisionTreeClassifier(ccp_alpha=0.0, class_weight=None, criterion='gini',\n",
            "                       max_depth=None, max_features='auto', max_leaf_nodes=None,\n",
            "                       min_impurity_decrease=0.0, min_impurity_split=None,\n",
            "                       min_samples_leaf=1, min_samples_split=2,\n",
            "                       min_weight_fraction_leaf=0.0, presort='deprecated',\n",
            "                       random_state=732884087, splitter='best')\n",
            "\n",
            "Numero de nós: 147\n",
            "Profundidade da árvore: 14\n",
            "Features importantes: [0.04696102 0.14922723 0.13158163 0.31173439 0.11537776 0.05116554\n",
            " 0.05867981 0.01985733 0.05363966 0.03176453 0.0300111 ]\n",
            "\n",
            "Objeto: DecisionTreeClassifier(ccp_alpha=0.0, class_weight=None, criterion='gini',\n",
            "                       max_depth=None, max_features='auto', max_leaf_nodes=None,\n",
            "                       min_impurity_decrease=0.0, min_impurity_split=None,\n",
            "                       min_samples_leaf=1, min_samples_split=2,\n",
            "                       min_weight_fraction_leaf=0.0, presort='deprecated',\n",
            "                       random_state=734051083, splitter='best')\n",
            "\n",
            "Numero de nós: 117\n",
            "Profundidade da árvore: 13\n",
            "Features importantes: [0.19452246 0.19301583 0.22551356 0.09333504 0.07341928 0.00923268\n",
            " 0.01684743 0.01937724 0.03946631 0.09995058 0.0353196 ]\n",
            "\n",
            "Objeto: DecisionTreeClassifier(ccp_alpha=0.0, class_weight=None, criterion='gini',\n",
            "                       max_depth=None, max_features='auto', max_leaf_nodes=None,\n",
            "                       min_impurity_decrease=0.0, min_impurity_split=None,\n",
            "                       min_samples_leaf=1, min_samples_split=2,\n",
            "                       min_weight_fraction_leaf=0.0, presort='deprecated',\n",
            "                       random_state=903586222, splitter='best')\n",
            "\n",
            "Numero de nós: 137\n",
            "Profundidade da árvore: 15\n",
            "Features importantes: [0.15047297 0.3269255  0.09985559 0.17352685 0.0421755  0.00163313\n",
            " 0.00807493 0.0317323  0.06379802 0.02150263 0.08030258]\n",
            "\n",
            "Objeto: DecisionTreeClassifier(ccp_alpha=0.0, class_weight=None, criterion='gini',\n",
            "                       max_depth=None, max_features='auto', max_leaf_nodes=None,\n",
            "                       min_impurity_decrease=0.0, min_impurity_split=None,\n",
            "                       min_samples_leaf=1, min_samples_split=2,\n",
            "                       min_weight_fraction_leaf=0.0, presort='deprecated',\n",
            "                       random_state=1538251858, splitter='best')\n",
            "\n",
            "Numero de nós: 159\n",
            "Profundidade da árvore: 13\n",
            "Features importantes: [0.0723675  0.26028843 0.19987417 0.03728139 0.1446701  0.01886589\n",
            " 0.05488999 0.09624324 0.03999451 0.02166054 0.05386424]\n",
            "\n",
            "Objeto: DecisionTreeClassifier(ccp_alpha=0.0, class_weight=None, criterion='gini',\n",
            "                       max_depth=None, max_features='auto', max_leaf_nodes=None,\n",
            "                       min_impurity_decrease=0.0, min_impurity_split=None,\n",
            "                       min_samples_leaf=1, min_samples_split=2,\n",
            "                       min_weight_fraction_leaf=0.0, presort='deprecated',\n",
            "                       random_state=553734235, splitter='best')\n",
            "\n",
            "Numero de nós: 149\n",
            "Profundidade da árvore: 15\n",
            "Features importantes: [0.15271246 0.19367267 0.2212863  0.14000254 0.11787866 0.00753472\n",
            " 0.04298018 0.00945965 0.05545375 0.01439233 0.04462675]\n",
            "\n",
            "Objeto: DecisionTreeClassifier(ccp_alpha=0.0, class_weight=None, criterion='gini',\n",
            "                       max_depth=None, max_features='auto', max_leaf_nodes=None,\n",
            "                       min_impurity_decrease=0.0, min_impurity_split=None,\n",
            "                       min_samples_leaf=1, min_samples_split=2,\n",
            "                       min_weight_fraction_leaf=0.0, presort='deprecated',\n",
            "                       random_state=1076688768, splitter='best')\n",
            "\n",
            "Numero de nós: 135\n",
            "Profundidade da árvore: 13\n",
            "Features importantes: [0.25361469 0.04299514 0.23659689 0.11068888 0.15015977 0.03289965\n",
            " 0.02571452 0.00645057 0.08024327 0.03524457 0.02539204]\n",
            "\n",
            "Objeto: DecisionTreeClassifier(ccp_alpha=0.0, class_weight=None, criterion='gini',\n",
            "                       max_depth=None, max_features='auto', max_leaf_nodes=None,\n",
            "                       min_impurity_decrease=0.0, min_impurity_split=None,\n",
            "                       min_samples_leaf=1, min_samples_split=2,\n",
            "                       min_weight_fraction_leaf=0.0, presort='deprecated',\n",
            "                       random_state=1354754446, splitter='best')\n",
            "\n",
            "Numero de nós: 143\n",
            "Profundidade da árvore: 12\n",
            "Features importantes: [0.30169924 0.1604898  0.12679318 0.07585991 0.09296825 0.01859128\n",
            " 0.06312219 0.0355802  0.06329231 0.03301843 0.02858521]\n",
            "\n",
            "Objeto: DecisionTreeClassifier(ccp_alpha=0.0, class_weight=None, criterion='gini',\n",
            "                       max_depth=None, max_features='auto', max_leaf_nodes=None,\n",
            "                       min_impurity_decrease=0.0, min_impurity_split=None,\n",
            "                       min_samples_leaf=1, min_samples_split=2,\n",
            "                       min_weight_fraction_leaf=0.0, presort='deprecated',\n",
            "                       random_state=463129187, splitter='best')\n",
            "\n",
            "Numero de nós: 151\n",
            "Profundidade da árvore: 11\n",
            "Features importantes: [0.10458015 0.31196313 0.12628763 0.11979288 0.03547383 0.03983421\n",
            " 0.03527924 0.05301384 0.05988118 0.04781981 0.06607409]\n",
            "\n",
            "Objeto: DecisionTreeClassifier(ccp_alpha=0.0, class_weight=None, criterion='gini',\n",
            "                       max_depth=None, max_features='auto', max_leaf_nodes=None,\n",
            "                       min_impurity_decrease=0.0, min_impurity_split=None,\n",
            "                       min_samples_leaf=1, min_samples_split=2,\n",
            "                       min_weight_fraction_leaf=0.0, presort='deprecated',\n",
            "                       random_state=1562125877, splitter='best')\n",
            "\n",
            "Numero de nós: 129\n",
            "Profundidade da árvore: 13\n",
            "Features importantes: [0.08895275 0.16188631 0.15293339 0.23580242 0.17129064 0.03102154\n",
            " 0.02908107 0.04050148 0.0683707  0.00606307 0.01409663]\n",
            "\n",
            "Objeto: DecisionTreeClassifier(ccp_alpha=0.0, class_weight=None, criterion='gini',\n",
            "                       max_depth=None, max_features='auto', max_leaf_nodes=None,\n",
            "                       min_impurity_decrease=0.0, min_impurity_split=None,\n",
            "                       min_samples_leaf=1, min_samples_split=2,\n",
            "                       min_weight_fraction_leaf=0.0, presort='deprecated',\n",
            "                       random_state=1396067212, splitter='best')\n"
          ],
          "name": "stdout"
        }
      ]
    },
    {
      "cell_type": "markdown",
      "metadata": {
        "id": "KLmcAeJYkAK6"
      },
      "source": [
        "#### Selecionando uma árvore da floresta"
      ]
    },
    {
      "cell_type": "code",
      "metadata": {
        "id": "b_FSmo7KkAK7"
      },
      "source": [
        "# Selecting one tree\r\n",
        "tree0 = random_clf.estimators_[0]"
      ],
      "execution_count": 67,
      "outputs": []
    },
    {
      "cell_type": "markdown",
      "metadata": {
        "id": "XaJtzaS2kAK7"
      },
      "source": [
        "#### Visualizando de forma gráfica"
      ]
    },
    {
      "cell_type": "code",
      "metadata": {
        "colab": {
          "base_uri": "https://localhost:8080/",
          "height": 616
        },
        "id": "7ksE27l6kAK7",
        "outputId": "ccd41fb5-9c43-4f72-f27d-5636e629d049"
      },
      "source": [
        "from sklearn.tree import export_graphviz\n",
        "import graphviz \n",
        "\n",
        "dot_data = export_graphviz(\n",
        "         tree0,\n",
        "         max_depth=2,\n",
        "         out_file=None,\n",
        "         feature_names=X_train.columns,\n",
        "         class_names=['0','1','2'], \n",
        "         filled=True, rounded=True,\n",
        "         proportion=True,\n",
        "         node_ids=True,\n",
        "         rotate=False,\n",
        "         label='all',\n",
        "         special_characters=True\n",
        "        )  \n",
        "graph = graphviz.Source(dot_data)  \n",
        "graph"
      ],
      "execution_count": 68,
      "outputs": [
        {
          "output_type": "execute_result",
          "data": {
            "text/plain": [
              "<graphviz.files.Source at 0x7f5645388850>"
            ],
            "image/svg+xml": "<?xml version=\"1.0\" encoding=\"UTF-8\" standalone=\"no\"?>\n<!DOCTYPE svg PUBLIC \"-//W3C//DTD SVG 1.1//EN\"\n \"http://www.w3.org/Graphics/SVG/1.1/DTD/svg11.dtd\">\n<!-- Generated by graphviz version 2.40.1 (20161225.0304)\n -->\n<!-- Title: Tree Pages: 1 -->\n<svg width=\"836pt\" height=\"446pt\"\n viewBox=\"0.00 0.00 836.00 446.00\" xmlns=\"http://www.w3.org/2000/svg\" xmlns:xlink=\"http://www.w3.org/1999/xlink\">\n<g id=\"graph0\" class=\"graph\" transform=\"scale(1 1) rotate(0) translate(4 442)\">\n<title>Tree</title>\n<polygon fill=\"#ffffff\" stroke=\"transparent\" points=\"-4,4 -4,-442 832,-442 832,4 -4,4\"/>\n<!-- 0 -->\n<g id=\"node1\" class=\"node\">\n<title>0</title>\n<path fill=\"#ece0fb\" stroke=\"#000000\" d=\"M492,-438C492,-438 322,-438 322,-438 316,-438 310,-432 310,-426 310,-426 310,-352 310,-352 310,-346 316,-340 322,-340 322,-340 492,-340 492,-340 498,-340 504,-346 504,-352 504,-352 504,-426 504,-426 504,-432 498,-438 492,-438\"/>\n<text text-anchor=\"start\" x=\"380\" y=\"-422.8\" font-family=\"Helvetica,sans-Serif\" font-size=\"14.00\" fill=\"#000000\">node #0</text>\n<text text-anchor=\"start\" x=\"318\" y=\"-407.8\" font-family=\"Helvetica,sans-Serif\" font-size=\"14.00\" fill=\"#000000\">StudentAbsenceDays ≤ 0.5</text>\n<text text-anchor=\"start\" x=\"369\" y=\"-392.8\" font-family=\"Helvetica,sans-Serif\" font-size=\"14.00\" fill=\"#000000\">gini = 0.657</text>\n<text text-anchor=\"start\" x=\"346.5\" y=\"-377.8\" font-family=\"Helvetica,sans-Serif\" font-size=\"14.00\" fill=\"#000000\">samples = 100.0%</text>\n<text text-anchor=\"start\" x=\"319\" y=\"-362.8\" font-family=\"Helvetica,sans-Serif\" font-size=\"14.00\" fill=\"#000000\">value = [0.307, 0.28, 0.414]</text>\n<text text-anchor=\"start\" x=\"378\" y=\"-347.8\" font-family=\"Helvetica,sans-Serif\" font-size=\"14.00\" fill=\"#000000\">class = 2</text>\n</g>\n<!-- 1 -->\n<g id=\"node2\" class=\"node\">\n<title>1</title>\n<path fill=\"#9af2bf\" stroke=\"#000000\" d=\"M388,-304C388,-304 212,-304 212,-304 206,-304 200,-298 200,-292 200,-292 200,-218 200,-218 200,-212 206,-206 212,-206 212,-206 388,-206 388,-206 394,-206 400,-212 400,-218 400,-218 400,-292 400,-292 400,-298 394,-304 388,-304\"/>\n<text text-anchor=\"start\" x=\"273\" y=\"-288.8\" font-family=\"Helvetica,sans-Serif\" font-size=\"14.00\" fill=\"#000000\">node #1</text>\n<text text-anchor=\"start\" x=\"243\" y=\"-273.8\" font-family=\"Helvetica,sans-Serif\" font-size=\"14.00\" fill=\"#000000\">PlaceofBirth ≤ 3.5</text>\n<text text-anchor=\"start\" x=\"262\" y=\"-258.8\" font-family=\"Helvetica,sans-Serif\" font-size=\"14.00\" fill=\"#000000\">gini = 0.454</text>\n<text text-anchor=\"start\" x=\"244\" y=\"-243.8\" font-family=\"Helvetica,sans-Serif\" font-size=\"14.00\" fill=\"#000000\">samples = 42.5%</text>\n<text text-anchor=\"start\" x=\"208\" y=\"-228.8\" font-family=\"Helvetica,sans-Serif\" font-size=\"14.00\" fill=\"#000000\">value = [0.015, 0.667, 0.319]</text>\n<text text-anchor=\"start\" x=\"271\" y=\"-213.8\" font-family=\"Helvetica,sans-Serif\" font-size=\"14.00\" fill=\"#000000\">class = 1</text>\n</g>\n<!-- 0&#45;&gt;1 -->\n<g id=\"edge1\" class=\"edge\">\n<title>0&#45;&gt;1</title>\n<path fill=\"none\" stroke=\"#000000\" d=\"M367.7647,-339.8642C360.5683,-330.8519 353.0004,-321.3743 345.6357,-312.1513\"/>\n<polygon fill=\"#000000\" stroke=\"#000000\" points=\"348.2054,-309.7603 339.2305,-304.1298 342.7354,-314.1282 348.2054,-309.7603\"/>\n<text text-anchor=\"middle\" x=\"336.4471\" y=\"-325.2744\" font-family=\"Helvetica,sans-Serif\" font-size=\"14.00\" fill=\"#000000\">True</text>\n</g>\n<!-- 48 -->\n<g id=\"node9\" class=\"node\">\n<title>48</title>\n<path fill=\"#fef9f6\" stroke=\"#000000\" d=\"M598,-304C598,-304 430,-304 430,-304 424,-304 418,-298 418,-292 418,-292 418,-218 418,-218 418,-212 424,-206 430,-206 430,-206 598,-206 598,-206 604,-206 610,-212 610,-218 610,-218 610,-292 610,-292 610,-298 604,-304 598,-304\"/>\n<text text-anchor=\"start\" x=\"483\" y=\"-288.8\" font-family=\"Helvetica,sans-Serif\" font-size=\"14.00\" fill=\"#000000\">node #48</text>\n<text text-anchor=\"start\" x=\"452\" y=\"-273.8\" font-family=\"Helvetica,sans-Serif\" font-size=\"14.00\" fill=\"#000000\">raisedhands ≤ 47.5</text>\n<text text-anchor=\"start\" x=\"476\" y=\"-258.8\" font-family=\"Helvetica,sans-Serif\" font-size=\"14.00\" fill=\"#000000\">gini = 0.519</text>\n<text text-anchor=\"start\" x=\"458\" y=\"-243.8\" font-family=\"Helvetica,sans-Serif\" font-size=\"14.00\" fill=\"#000000\">samples = 57.5%</text>\n<text text-anchor=\"start\" x=\"426\" y=\"-228.8\" font-family=\"Helvetica,sans-Serif\" font-size=\"14.00\" fill=\"#000000\">value = [0.502, 0.02, 0.478]</text>\n<text text-anchor=\"start\" x=\"485\" y=\"-213.8\" font-family=\"Helvetica,sans-Serif\" font-size=\"14.00\" fill=\"#000000\">class = 0</text>\n</g>\n<!-- 0&#45;&gt;48 -->\n<g id=\"edge8\" class=\"edge\">\n<title>0&#45;&gt;48</title>\n<path fill=\"none\" stroke=\"#000000\" d=\"M446.2353,-339.8642C453.4317,-330.8519 460.9996,-321.3743 468.3643,-312.1513\"/>\n<polygon fill=\"#000000\" stroke=\"#000000\" points=\"471.2646,-314.1282 474.7695,-304.1298 465.7946,-309.7603 471.2646,-314.1282\"/>\n<text text-anchor=\"middle\" x=\"477.5529\" y=\"-325.2744\" font-family=\"Helvetica,sans-Serif\" font-size=\"14.00\" fill=\"#000000\">False</text>\n</g>\n<!-- 2 -->\n<g id=\"node3\" class=\"node\">\n<title>2</title>\n<path fill=\"#faf8fe\" stroke=\"#000000\" d=\"M172,-170C172,-170 12,-170 12,-170 6,-170 0,-164 0,-158 0,-158 0,-84 0,-84 0,-78 6,-72 12,-72 12,-72 172,-72 172,-72 178,-72 184,-78 184,-84 184,-84 184,-158 184,-158 184,-164 178,-170 172,-170\"/>\n<text text-anchor=\"start\" x=\"65\" y=\"-154.8\" font-family=\"Helvetica,sans-Serif\" font-size=\"14.00\" fill=\"#000000\">node #2</text>\n<text text-anchor=\"start\" x=\"10.5\" y=\"-139.8\" font-family=\"Helvetica,sans-Serif\" font-size=\"14.00\" fill=\"#000000\">VisITedResources ≤ 37.0</text>\n<text text-anchor=\"start\" x=\"62.5\" y=\"-124.8\" font-family=\"Helvetica,sans-Serif\" font-size=\"14.00\" fill=\"#000000\">gini = 0.5</text>\n<text text-anchor=\"start\" x=\"36\" y=\"-109.8\" font-family=\"Helvetica,sans-Serif\" font-size=\"14.00\" fill=\"#000000\">samples = 17.0%</text>\n<text text-anchor=\"start\" x=\"8\" y=\"-94.8\" font-family=\"Helvetica,sans-Serif\" font-size=\"14.00\" fill=\"#000000\">value = [0.0, 0.491, 0.509]</text>\n<text text-anchor=\"start\" x=\"63\" y=\"-79.8\" font-family=\"Helvetica,sans-Serif\" font-size=\"14.00\" fill=\"#000000\">class = 2</text>\n</g>\n<!-- 1&#45;&gt;2 -->\n<g id=\"edge2\" class=\"edge\">\n<title>1&#45;&gt;2</title>\n<path fill=\"none\" stroke=\"#000000\" d=\"M223.7296,-205.8642C208.4685,-196.0326 192.348,-185.6473 176.8186,-175.6428\"/>\n<polygon fill=\"#000000\" stroke=\"#000000\" points=\"178.5633,-172.6033 168.2612,-170.1298 174.7722,-178.4879 178.5633,-172.6033\"/>\n</g>\n<!-- 17 -->\n<g id=\"node6\" class=\"node\">\n<title>17</title>\n<path fill=\"#6feca3\" stroke=\"#000000\" d=\"M388,-170C388,-170 214,-170 214,-170 208,-170 202,-164 202,-158 202,-158 202,-84 202,-84 202,-78 208,-72 214,-72 214,-72 388,-72 388,-72 394,-72 400,-78 400,-84 400,-84 400,-158 400,-158 400,-164 394,-170 388,-170\"/>\n<text text-anchor=\"start\" x=\"270\" y=\"-154.8\" font-family=\"Helvetica,sans-Serif\" font-size=\"14.00\" fill=\"#000000\">node #17</text>\n<text text-anchor=\"start\" x=\"210\" y=\"-139.8\" font-family=\"Helvetica,sans-Serif\" font-size=\"14.00\" fill=\"#000000\">AnnouncementsView ≤ 49.0</text>\n<text text-anchor=\"start\" x=\"263\" y=\"-124.8\" font-family=\"Helvetica,sans-Serif\" font-size=\"14.00\" fill=\"#000000\">gini = 0.352</text>\n<text text-anchor=\"start\" x=\"245\" y=\"-109.8\" font-family=\"Helvetica,sans-Serif\" font-size=\"14.00\" fill=\"#000000\">samples = 25.5%</text>\n<text text-anchor=\"start\" x=\"213\" y=\"-94.8\" font-family=\"Helvetica,sans-Serif\" font-size=\"14.00\" fill=\"#000000\">value = [0.024, 0.78, 0.195]</text>\n<text text-anchor=\"start\" x=\"272\" y=\"-79.8\" font-family=\"Helvetica,sans-Serif\" font-size=\"14.00\" fill=\"#000000\">class = 1</text>\n</g>\n<!-- 1&#45;&gt;17 -->\n<g id=\"edge5\" class=\"edge\">\n<title>1&#45;&gt;17</title>\n<path fill=\"none\" stroke=\"#000000\" d=\"M300.3667,-205.8642C300.4285,-197.5802 300.4933,-188.903 300.5568,-180.3918\"/>\n<polygon fill=\"#000000\" stroke=\"#000000\" points=\"304.0585,-180.1557 300.6334,-170.1298 297.0587,-180.1034 304.0585,-180.1557\"/>\n</g>\n<!-- 3 -->\n<g id=\"node4\" class=\"node\">\n<title>3</title>\n<path fill=\"#c0c0c0\" stroke=\"#000000\" d=\"M88,-36C88,-36 58,-36 58,-36 52,-36 46,-30 46,-24 46,-24 46,-12 46,-12 46,-6 52,0 58,0 58,0 88,0 88,0 94,0 100,-6 100,-12 100,-12 100,-24 100,-24 100,-30 94,-36 88,-36\"/>\n<text text-anchor=\"middle\" x=\"73\" y=\"-14.3\" font-family=\"Helvetica,sans-Serif\" font-size=\"14.00\" fill=\"#000000\">(...)</text>\n</g>\n<!-- 2&#45;&gt;3 -->\n<g id=\"edge3\" class=\"edge\">\n<title>2&#45;&gt;3</title>\n<path fill=\"none\" stroke=\"#000000\" d=\"M82.9452,-71.9133C81.3418,-63.2215 79.7215,-54.4378 78.2675,-46.5555\"/>\n<polygon fill=\"#000000\" stroke=\"#000000\" points=\"81.6611,-45.6581 76.405,-36.4589 74.7772,-46.9279 81.6611,-45.6581\"/>\n</g>\n<!-- 8 -->\n<g id=\"node5\" class=\"node\">\n<title>8</title>\n<path fill=\"#c0c0c0\" stroke=\"#000000\" d=\"M160,-36C160,-36 130,-36 130,-36 124,-36 118,-30 118,-24 118,-24 118,-12 118,-12 118,-6 124,0 130,0 130,0 160,0 160,0 166,0 172,-6 172,-12 172,-12 172,-24 172,-24 172,-30 166,-36 160,-36\"/>\n<text text-anchor=\"middle\" x=\"145\" y=\"-14.3\" font-family=\"Helvetica,sans-Serif\" font-size=\"14.00\" fill=\"#000000\">(...)</text>\n</g>\n<!-- 2&#45;&gt;8 -->\n<g id=\"edge4\" class=\"edge\">\n<title>2&#45;&gt;8</title>\n<path fill=\"none\" stroke=\"#000000\" d=\"M117.2582,-71.9133C121.934,-62.8264 126.6614,-53.6391 130.8565,-45.4863\"/>\n<polygon fill=\"#000000\" stroke=\"#000000\" points=\"134.0384,-46.9522 135.5017,-36.4589 127.8141,-43.7494 134.0384,-46.9522\"/>\n</g>\n<!-- 18 -->\n<g id=\"node7\" class=\"node\">\n<title>18</title>\n<path fill=\"#c0c0c0\" stroke=\"#000000\" d=\"M263,-36C263,-36 233,-36 233,-36 227,-36 221,-30 221,-24 221,-24 221,-12 221,-12 221,-6 227,0 233,0 233,0 263,0 263,0 269,0 275,-6 275,-12 275,-12 275,-24 275,-24 275,-30 269,-36 263,-36\"/>\n<text text-anchor=\"middle\" x=\"248\" y=\"-14.3\" font-family=\"Helvetica,sans-Serif\" font-size=\"14.00\" fill=\"#000000\">(...)</text>\n</g>\n<!-- 17&#45;&gt;18 -->\n<g id=\"edge6\" class=\"edge\">\n<title>17&#45;&gt;18</title>\n<path fill=\"none\" stroke=\"#000000\" d=\"M275.7418,-71.9133C271.066,-62.8264 266.3386,-53.6391 262.1435,-45.4863\"/>\n<polygon fill=\"#000000\" stroke=\"#000000\" points=\"265.1859,-43.7494 257.4983,-36.4589 258.9616,-46.9522 265.1859,-43.7494\"/>\n</g>\n<!-- 41 -->\n<g id=\"node8\" class=\"node\">\n<title>41</title>\n<path fill=\"#c0c0c0\" stroke=\"#000000\" d=\"M335,-36C335,-36 305,-36 305,-36 299,-36 293,-30 293,-24 293,-24 293,-12 293,-12 293,-6 299,0 305,0 305,0 335,0 335,0 341,0 347,-6 347,-12 347,-12 347,-24 347,-24 347,-30 341,-36 335,-36\"/>\n<text text-anchor=\"middle\" x=\"320\" y=\"-14.3\" font-family=\"Helvetica,sans-Serif\" font-size=\"14.00\" fill=\"#000000\">(...)</text>\n</g>\n<!-- 17&#45;&gt;41 -->\n<g id=\"edge7\" class=\"edge\">\n<title>17&#45;&gt;41</title>\n<path fill=\"none\" stroke=\"#000000\" d=\"M310.0548,-71.9133C311.6582,-63.2215 313.2785,-54.4378 314.7325,-46.5555\"/>\n<polygon fill=\"#000000\" stroke=\"#000000\" points=\"318.2228,-46.9279 316.595,-36.4589 311.3389,-45.6581 318.2228,-46.9279\"/>\n</g>\n<!-- 49 -->\n<g id=\"node10\" class=\"node\">\n<title>49</title>\n<path fill=\"#a673ed\" stroke=\"#000000\" d=\"M598,-170C598,-170 430,-170 430,-170 424,-170 418,-164 418,-158 418,-158 418,-84 418,-84 418,-78 424,-72 430,-72 430,-72 598,-72 598,-72 604,-72 610,-78 610,-84 610,-84 610,-158 610,-158 610,-164 604,-170 598,-170\"/>\n<text text-anchor=\"start\" x=\"483\" y=\"-154.8\" font-family=\"Helvetica,sans-Serif\" font-size=\"14.00\" fill=\"#000000\">node #49</text>\n<text text-anchor=\"start\" x=\"457\" y=\"-139.8\" font-family=\"Helvetica,sans-Serif\" font-size=\"14.00\" fill=\"#000000\">PlaceofBirth ≤ 6.0</text>\n<text text-anchor=\"start\" x=\"476\" y=\"-124.8\" font-family=\"Helvetica,sans-Serif\" font-size=\"14.00\" fill=\"#000000\">gini = 0.381</text>\n<text text-anchor=\"start\" x=\"458\" y=\"-109.8\" font-family=\"Helvetica,sans-Serif\" font-size=\"14.00\" fill=\"#000000\">samples = 19.8%</text>\n<text text-anchor=\"start\" x=\"426\" y=\"-94.8\" font-family=\"Helvetica,sans-Serif\" font-size=\"14.00\" fill=\"#000000\">value = [0.19, 0.048, 0.762]</text>\n<text text-anchor=\"start\" x=\"485\" y=\"-79.8\" font-family=\"Helvetica,sans-Serif\" font-size=\"14.00\" fill=\"#000000\">class = 2</text>\n</g>\n<!-- 48&#45;&gt;49 -->\n<g id=\"edge9\" class=\"edge\">\n<title>48&#45;&gt;49</title>\n<path fill=\"none\" stroke=\"#000000\" d=\"M514,-205.8642C514,-197.5802 514,-188.903 514,-180.3918\"/>\n<polygon fill=\"#000000\" stroke=\"#000000\" points=\"517.5001,-180.1298 514,-170.1298 510.5001,-180.1299 517.5001,-180.1298\"/>\n</g>\n<!-- 76 -->\n<g id=\"node13\" class=\"node\">\n<title>76</title>\n<path fill=\"#f3c6a5\" stroke=\"#000000\" d=\"M816,-170C816,-170 640,-170 640,-170 634,-170 628,-164 628,-158 628,-158 628,-84 628,-84 628,-78 634,-72 640,-72 640,-72 816,-72 816,-72 822,-72 828,-78 828,-84 828,-84 828,-158 828,-158 828,-164 822,-170 816,-170\"/>\n<text text-anchor=\"start\" x=\"697\" y=\"-154.8\" font-family=\"Helvetica,sans-Serif\" font-size=\"14.00\" fill=\"#000000\">node #76</text>\n<text text-anchor=\"start\" x=\"666\" y=\"-139.8\" font-family=\"Helvetica,sans-Serif\" font-size=\"14.00\" fill=\"#000000\">raisedhands ≤ 81.5</text>\n<text text-anchor=\"start\" x=\"690\" y=\"-124.8\" font-family=\"Helvetica,sans-Serif\" font-size=\"14.00\" fill=\"#000000\">gini = 0.463</text>\n<text text-anchor=\"start\" x=\"672\" y=\"-109.8\" font-family=\"Helvetica,sans-Serif\" font-size=\"14.00\" fill=\"#000000\">samples = 37.7%</text>\n<text text-anchor=\"start\" x=\"636\" y=\"-94.8\" font-family=\"Helvetica,sans-Serif\" font-size=\"14.00\" fill=\"#000000\">value = [0.645, 0.007, 0.348]</text>\n<text text-anchor=\"start\" x=\"699\" y=\"-79.8\" font-family=\"Helvetica,sans-Serif\" font-size=\"14.00\" fill=\"#000000\">class = 0</text>\n</g>\n<!-- 48&#45;&gt;76 -->\n<g id=\"edge12\" class=\"edge\">\n<title>48&#45;&gt;76</title>\n<path fill=\"none\" stroke=\"#000000\" d=\"M592.4705,-205.8642C608.1718,-196.0326 624.7573,-185.6473 640.7347,-175.6428\"/>\n<polygon fill=\"#000000\" stroke=\"#000000\" points=\"642.9209,-178.4034 649.5389,-170.1298 639.2059,-172.4705 642.9209,-178.4034\"/>\n</g>\n<!-- 50 -->\n<g id=\"node11\" class=\"node\">\n<title>50</title>\n<path fill=\"#c0c0c0\" stroke=\"#000000\" d=\"M493,-36C493,-36 463,-36 463,-36 457,-36 451,-30 451,-24 451,-24 451,-12 451,-12 451,-6 457,0 463,0 463,0 493,0 493,0 499,0 505,-6 505,-12 505,-12 505,-24 505,-24 505,-30 499,-36 493,-36\"/>\n<text text-anchor=\"middle\" x=\"478\" y=\"-14.3\" font-family=\"Helvetica,sans-Serif\" font-size=\"14.00\" fill=\"#000000\">(...)</text>\n</g>\n<!-- 49&#45;&gt;50 -->\n<g id=\"edge10\" class=\"edge\">\n<title>49&#45;&gt;50</title>\n<path fill=\"none\" stroke=\"#000000\" d=\"M496.8435,-71.9133C493.7365,-63.0239 490.596,-54.0385 487.7932,-46.0195\"/>\n<polygon fill=\"#000000\" stroke=\"#000000\" points=\"491.0552,-44.7441 484.4517,-36.4589 484.4471,-47.0538 491.0552,-44.7441\"/>\n</g>\n<!-- 69 -->\n<g id=\"node12\" class=\"node\">\n<title>69</title>\n<path fill=\"#c0c0c0\" stroke=\"#000000\" d=\"M565,-36C565,-36 535,-36 535,-36 529,-36 523,-30 523,-24 523,-24 523,-12 523,-12 523,-6 529,0 535,0 535,0 565,0 565,0 571,0 577,-6 577,-12 577,-12 577,-24 577,-24 577,-30 571,-36 565,-36\"/>\n<text text-anchor=\"middle\" x=\"550\" y=\"-14.3\" font-family=\"Helvetica,sans-Serif\" font-size=\"14.00\" fill=\"#000000\">(...)</text>\n</g>\n<!-- 49&#45;&gt;69 -->\n<g id=\"edge11\" class=\"edge\">\n<title>49&#45;&gt;69</title>\n<path fill=\"none\" stroke=\"#000000\" d=\"M531.1565,-71.9133C534.2635,-63.0239 537.404,-54.0385 540.2068,-46.0195\"/>\n<polygon fill=\"#000000\" stroke=\"#000000\" points=\"543.5529,-47.0538 543.5483,-36.4589 536.9448,-44.7441 543.5529,-47.0538\"/>\n</g>\n<!-- 77 -->\n<g id=\"node14\" class=\"node\">\n<title>77</title>\n<path fill=\"#c0c0c0\" stroke=\"#000000\" d=\"M707,-36C707,-36 677,-36 677,-36 671,-36 665,-30 665,-24 665,-24 665,-12 665,-12 665,-6 671,0 677,0 677,0 707,0 707,0 713,0 719,-6 719,-12 719,-12 719,-24 719,-24 719,-30 713,-36 707,-36\"/>\n<text text-anchor=\"middle\" x=\"692\" y=\"-14.3\" font-family=\"Helvetica,sans-Serif\" font-size=\"14.00\" fill=\"#000000\">(...)</text>\n</g>\n<!-- 76&#45;&gt;77 -->\n<g id=\"edge13\" class=\"edge\">\n<title>76&#45;&gt;77</title>\n<path fill=\"none\" stroke=\"#000000\" d=\"M710.8435,-71.9133C707.7365,-63.0239 704.596,-54.0385 701.7932,-46.0195\"/>\n<polygon fill=\"#000000\" stroke=\"#000000\" points=\"705.0552,-44.7441 698.4517,-36.4589 698.4471,-47.0538 705.0552,-44.7441\"/>\n</g>\n<!-- 112 -->\n<g id=\"node15\" class=\"node\">\n<title>112</title>\n<path fill=\"#c0c0c0\" stroke=\"#000000\" d=\"M779,-36C779,-36 749,-36 749,-36 743,-36 737,-30 737,-24 737,-24 737,-12 737,-12 737,-6 743,0 749,0 749,0 779,0 779,0 785,0 791,-6 791,-12 791,-12 791,-24 791,-24 791,-30 785,-36 779,-36\"/>\n<text text-anchor=\"middle\" x=\"764\" y=\"-14.3\" font-family=\"Helvetica,sans-Serif\" font-size=\"14.00\" fill=\"#000000\">(...)</text>\n</g>\n<!-- 76&#45;&gt;112 -->\n<g id=\"edge14\" class=\"edge\">\n<title>76&#45;&gt;112</title>\n<path fill=\"none\" stroke=\"#000000\" d=\"M745.1565,-71.9133C748.2635,-63.0239 751.404,-54.0385 754.2068,-46.0195\"/>\n<polygon fill=\"#000000\" stroke=\"#000000\" points=\"757.5529,-47.0538 757.5483,-36.4589 750.9448,-44.7441 757.5529,-47.0538\"/>\n</g>\n</g>\n</svg>\n"
          },
          "metadata": {
            "tags": []
          },
          "execution_count": 68
        }
      ]
    },
    {
      "cell_type": "markdown",
      "metadata": {
        "id": "WZ8C2QNckAK-"
      },
      "source": [
        "#### Selecionando outra árvore da floresta"
      ]
    },
    {
      "cell_type": "code",
      "metadata": {
        "id": "zszG08YrkALC"
      },
      "source": [
        "tree1 = random_clf.estimators_[1]"
      ],
      "execution_count": 69,
      "outputs": []
    },
    {
      "cell_type": "markdown",
      "metadata": {
        "id": "-eVO0JFOkALF"
      },
      "source": [
        "#### Visualizando de forma gráfica"
      ]
    },
    {
      "cell_type": "code",
      "metadata": {
        "id": "qXpSAcChkALG",
        "colab": {
          "base_uri": "https://localhost:8080/",
          "height": 616
        },
        "outputId": "137ba047-fc37-46d4-f986-0087f43698a3"
      },
      "source": [
        "dot_data = export_graphviz(\n",
        "         tree1,\n",
        "         max_depth=2,\n",
        "         out_file=None,\n",
        "         feature_names=X_train.columns,\n",
        "         class_names=['0','1','2'], \n",
        "         filled=True, rounded=True,\n",
        "         proportion=True,\n",
        "         node_ids=True,\n",
        "         rotate=False,\n",
        "         label='all',\n",
        "         special_characters=True\n",
        "        )  \n",
        "graph = graphviz.Source(dot_data)  \n",
        "graph"
      ],
      "execution_count": 70,
      "outputs": [
        {
          "output_type": "execute_result",
          "data": {
            "text/plain": [
              "<graphviz.files.Source at 0x7f564531b210>"
            ],
            "image/svg+xml": "<?xml version=\"1.0\" encoding=\"UTF-8\" standalone=\"no\"?>\n<!DOCTYPE svg PUBLIC \"-//W3C//DTD SVG 1.1//EN\"\n \"http://www.w3.org/Graphics/SVG/1.1/DTD/svg11.dtd\">\n<!-- Generated by graphviz version 2.40.1 (20161225.0304)\n -->\n<!-- Title: Tree Pages: 1 -->\n<svg width=\"846pt\" height=\"446pt\"\n viewBox=\"0.00 0.00 846.00 446.00\" xmlns=\"http://www.w3.org/2000/svg\" xmlns:xlink=\"http://www.w3.org/1999/xlink\">\n<g id=\"graph0\" class=\"graph\" transform=\"scale(1 1) rotate(0) translate(4 442)\">\n<title>Tree</title>\n<polygon fill=\"#ffffff\" stroke=\"transparent\" points=\"-4,4 -4,-442 842,-442 842,4 -4,4\"/>\n<!-- 0 -->\n<g id=\"node1\" class=\"node\">\n<title>0</title>\n<path fill=\"#f0e8fc\" stroke=\"#000000\" d=\"M503.5,-438C503.5,-438 318.5,-438 318.5,-438 312.5,-438 306.5,-432 306.5,-426 306.5,-426 306.5,-352 306.5,-352 306.5,-346 312.5,-340 318.5,-340 318.5,-340 503.5,-340 503.5,-340 509.5,-340 515.5,-346 515.5,-352 515.5,-352 515.5,-426 515.5,-426 515.5,-432 509.5,-438 503.5,-438\"/>\n<text text-anchor=\"start\" x=\"384\" y=\"-422.8\" font-family=\"Helvetica,sans-Serif\" font-size=\"14.00\" fill=\"#000000\">node #0</text>\n<text text-anchor=\"start\" x=\"314.5\" y=\"-407.8\" font-family=\"Helvetica,sans-Serif\" font-size=\"14.00\" fill=\"#000000\">ParentAnsweringSurvey ≤ 0.5</text>\n<text text-anchor=\"start\" x=\"373\" y=\"-392.8\" font-family=\"Helvetica,sans-Serif\" font-size=\"14.00\" fill=\"#000000\">gini = 0.655</text>\n<text text-anchor=\"start\" x=\"350.5\" y=\"-377.8\" font-family=\"Helvetica,sans-Serif\" font-size=\"14.00\" fill=\"#000000\">samples = 100.0%</text>\n<text text-anchor=\"start\" x=\"319\" y=\"-362.8\" font-family=\"Helvetica,sans-Serif\" font-size=\"14.00\" fill=\"#000000\">value = [0.333, 0.256, 0.411]</text>\n<text text-anchor=\"start\" x=\"382\" y=\"-347.8\" font-family=\"Helvetica,sans-Serif\" font-size=\"14.00\" fill=\"#000000\">class = 2</text>\n</g>\n<!-- 1 -->\n<g id=\"node2\" class=\"node\">\n<title>1</title>\n<path fill=\"#eafcf2\" stroke=\"#000000\" d=\"M390,-304C390,-304 214,-304 214,-304 208,-304 202,-298 202,-292 202,-292 202,-218 202,-218 202,-212 208,-206 214,-206 214,-206 390,-206 390,-206 396,-206 402,-212 402,-218 402,-218 402,-292 402,-292 402,-298 396,-304 390,-304\"/>\n<text text-anchor=\"start\" x=\"275\" y=\"-288.8\" font-family=\"Helvetica,sans-Serif\" font-size=\"14.00\" fill=\"#000000\">node #1</text>\n<text text-anchor=\"start\" x=\"213\" y=\"-273.8\" font-family=\"Helvetica,sans-Serif\" font-size=\"14.00\" fill=\"#000000\">StudentAbsenceDays ≤ 0.5</text>\n<text text-anchor=\"start\" x=\"264\" y=\"-258.8\" font-family=\"Helvetica,sans-Serif\" font-size=\"14.00\" fill=\"#000000\">gini = 0.599</text>\n<text text-anchor=\"start\" x=\"246\" y=\"-243.8\" font-family=\"Helvetica,sans-Serif\" font-size=\"14.00\" fill=\"#000000\">samples = 44.6%</text>\n<text text-anchor=\"start\" x=\"210\" y=\"-228.8\" font-family=\"Helvetica,sans-Serif\" font-size=\"14.00\" fill=\"#000000\">value = [0.124, 0.469, 0.407]</text>\n<text text-anchor=\"start\" x=\"273\" y=\"-213.8\" font-family=\"Helvetica,sans-Serif\" font-size=\"14.00\" fill=\"#000000\">class = 1</text>\n</g>\n<!-- 0&#45;&gt;1 -->\n<g id=\"edge1\" class=\"edge\">\n<title>0&#45;&gt;1</title>\n<path fill=\"none\" stroke=\"#000000\" d=\"M371.0314,-339.8642C363.7004,-330.8519 355.9911,-321.3743 348.4887,-312.1513\"/>\n<polygon fill=\"#000000\" stroke=\"#000000\" points=\"350.9893,-309.6788 341.9638,-304.1298 345.559,-314.0961 350.9893,-309.6788\"/>\n<text text-anchor=\"middle\" x=\"339.4053\" y=\"-325.2986\" font-family=\"Helvetica,sans-Serif\" font-size=\"14.00\" fill=\"#000000\">True</text>\n</g>\n<!-- 78 -->\n<g id=\"node9\" class=\"node\">\n<title>78</title>\n<path fill=\"#fceee4\" stroke=\"#000000\" d=\"M608,-304C608,-304 432,-304 432,-304 426,-304 420,-298 420,-292 420,-292 420,-218 420,-218 420,-212 426,-206 432,-206 432,-206 608,-206 608,-206 614,-206 620,-212 620,-218 620,-218 620,-292 620,-292 620,-298 614,-304 608,-304\"/>\n<text text-anchor=\"start\" x=\"489\" y=\"-288.8\" font-family=\"Helvetica,sans-Serif\" font-size=\"14.00\" fill=\"#000000\">node #78</text>\n<text text-anchor=\"start\" x=\"458\" y=\"-273.8\" font-family=\"Helvetica,sans-Serif\" font-size=\"14.00\" fill=\"#000000\">raisedhands ≤ 52.5</text>\n<text text-anchor=\"start\" x=\"482\" y=\"-258.8\" font-family=\"Helvetica,sans-Serif\" font-size=\"14.00\" fill=\"#000000\">gini = 0.578</text>\n<text text-anchor=\"start\" x=\"464\" y=\"-243.8\" font-family=\"Helvetica,sans-Serif\" font-size=\"14.00\" fill=\"#000000\">samples = 55.4%</text>\n<text text-anchor=\"start\" x=\"428\" y=\"-228.8\" font-family=\"Helvetica,sans-Serif\" font-size=\"14.00\" fill=\"#000000\">value = [0.492, 0.094, 0.414]</text>\n<text text-anchor=\"start\" x=\"491\" y=\"-213.8\" font-family=\"Helvetica,sans-Serif\" font-size=\"14.00\" fill=\"#000000\">class = 0</text>\n</g>\n<!-- 0&#45;&gt;78 -->\n<g id=\"edge8\" class=\"edge\">\n<title>0&#45;&gt;78</title>\n<path fill=\"none\" stroke=\"#000000\" d=\"M450.9686,-339.8642C458.2996,-330.8519 466.0089,-321.3743 473.5113,-312.1513\"/>\n<polygon fill=\"#000000\" stroke=\"#000000\" points=\"476.441,-314.0961 480.0362,-304.1298 471.0107,-309.6788 476.441,-314.0961\"/>\n<text text-anchor=\"middle\" x=\"482.5947\" y=\"-325.2986\" font-family=\"Helvetica,sans-Serif\" font-size=\"14.00\" fill=\"#000000\">False</text>\n</g>\n<!-- 2 -->\n<g id=\"node3\" class=\"node\">\n<title>2</title>\n<path fill=\"#66eb9d\" stroke=\"#000000\" d=\"M172,-170C172,-170 12,-170 12,-170 6,-170 0,-164 0,-158 0,-158 0,-84 0,-84 0,-78 6,-72 12,-72 12,-72 172,-72 172,-72 178,-72 184,-78 184,-84 184,-84 184,-158 184,-158 184,-164 178,-170 172,-170\"/>\n<text text-anchor=\"start\" x=\"65\" y=\"-154.8\" font-family=\"Helvetica,sans-Serif\" font-size=\"14.00\" fill=\"#000000\">node #2</text>\n<text text-anchor=\"start\" x=\"30\" y=\"-139.8\" font-family=\"Helvetica,sans-Serif\" font-size=\"14.00\" fill=\"#000000\">raisedhands ≤ 32.5</text>\n<text text-anchor=\"start\" x=\"54\" y=\"-124.8\" font-family=\"Helvetica,sans-Serif\" font-size=\"14.00\" fill=\"#000000\">gini = 0.301</text>\n<text text-anchor=\"start\" x=\"36\" y=\"-109.8\" font-family=\"Helvetica,sans-Serif\" font-size=\"14.00\" fill=\"#000000\">samples = 23.0%</text>\n<text text-anchor=\"start\" x=\"8\" y=\"-94.8\" font-family=\"Helvetica,sans-Serif\" font-size=\"14.00\" fill=\"#000000\">value = [0.0, 0.816, 0.184]</text>\n<text text-anchor=\"start\" x=\"63\" y=\"-79.8\" font-family=\"Helvetica,sans-Serif\" font-size=\"14.00\" fill=\"#000000\">class = 1</text>\n</g>\n<!-- 1&#45;&gt;2 -->\n<g id=\"edge2\" class=\"edge\">\n<title>1&#45;&gt;2</title>\n<path fill=\"none\" stroke=\"#000000\" d=\"M224.9962,-205.8642C209.5884,-196.0326 193.3129,-185.6473 177.6342,-175.6428\"/>\n<polygon fill=\"#000000\" stroke=\"#000000\" points=\"179.3072,-172.5585 168.9945,-170.1298 175.5418,-178.4595 179.3072,-172.5585\"/>\n</g>\n<!-- 29 -->\n<g id=\"node6\" class=\"node\">\n<title>29</title>\n<path fill=\"#bc96f1\" stroke=\"#000000\" d=\"M390,-170C390,-170 214,-170 214,-170 208,-170 202,-164 202,-158 202,-158 202,-84 202,-84 202,-78 208,-72 214,-72 214,-72 390,-72 390,-72 396,-72 402,-78 402,-84 402,-84 402,-158 402,-158 402,-164 396,-170 390,-170\"/>\n<text text-anchor=\"start\" x=\"271\" y=\"-154.8\" font-family=\"Helvetica,sans-Serif\" font-size=\"14.00\" fill=\"#000000\">node #29</text>\n<text text-anchor=\"start\" x=\"220.5\" y=\"-139.8\" font-family=\"Helvetica,sans-Serif\" font-size=\"14.00\" fill=\"#000000\">VisITedResources ≤ 13.5</text>\n<text text-anchor=\"start\" x=\"264\" y=\"-124.8\" font-family=\"Helvetica,sans-Serif\" font-size=\"14.00\" fill=\"#000000\">gini = 0.499</text>\n<text text-anchor=\"start\" x=\"246\" y=\"-109.8\" font-family=\"Helvetica,sans-Serif\" font-size=\"14.00\" fill=\"#000000\">samples = 21.6%</text>\n<text text-anchor=\"start\" x=\"210\" y=\"-94.8\" font-family=\"Helvetica,sans-Serif\" font-size=\"14.00\" fill=\"#000000\">value = [0.261, 0.087, 0.652]</text>\n<text text-anchor=\"start\" x=\"273\" y=\"-79.8\" font-family=\"Helvetica,sans-Serif\" font-size=\"14.00\" fill=\"#000000\">class = 2</text>\n</g>\n<!-- 1&#45;&gt;29 -->\n<g id=\"edge5\" class=\"edge\">\n<title>1&#45;&gt;29</title>\n<path fill=\"none\" stroke=\"#000000\" d=\"M302,-205.8642C302,-197.5802 302,-188.903 302,-180.3918\"/>\n<polygon fill=\"#000000\" stroke=\"#000000\" points=\"305.5001,-180.1298 302,-170.1298 298.5001,-180.1299 305.5001,-180.1298\"/>\n</g>\n<!-- 3 -->\n<g id=\"node4\" class=\"node\">\n<title>3</title>\n<path fill=\"#c0c0c0\" stroke=\"#000000\" d=\"M88,-36C88,-36 58,-36 58,-36 52,-36 46,-30 46,-24 46,-24 46,-12 46,-12 46,-6 52,0 58,0 58,0 88,0 88,0 94,0 100,-6 100,-12 100,-12 100,-24 100,-24 100,-30 94,-36 88,-36\"/>\n<text text-anchor=\"middle\" x=\"73\" y=\"-14.3\" font-family=\"Helvetica,sans-Serif\" font-size=\"14.00\" fill=\"#000000\">(...)</text>\n</g>\n<!-- 2&#45;&gt;3 -->\n<g id=\"edge3\" class=\"edge\">\n<title>2&#45;&gt;3</title>\n<path fill=\"none\" stroke=\"#000000\" d=\"M82.9452,-71.9133C81.3418,-63.2215 79.7215,-54.4378 78.2675,-46.5555\"/>\n<polygon fill=\"#000000\" stroke=\"#000000\" points=\"81.6611,-45.6581 76.405,-36.4589 74.7772,-46.9279 81.6611,-45.6581\"/>\n</g>\n<!-- 22 -->\n<g id=\"node5\" class=\"node\">\n<title>22</title>\n<path fill=\"#c0c0c0\" stroke=\"#000000\" d=\"M160,-36C160,-36 130,-36 130,-36 124,-36 118,-30 118,-24 118,-24 118,-12 118,-12 118,-6 124,0 130,0 130,0 160,0 160,0 166,0 172,-6 172,-12 172,-12 172,-24 172,-24 172,-30 166,-36 160,-36\"/>\n<text text-anchor=\"middle\" x=\"145\" y=\"-14.3\" font-family=\"Helvetica,sans-Serif\" font-size=\"14.00\" fill=\"#000000\">(...)</text>\n</g>\n<!-- 2&#45;&gt;22 -->\n<g id=\"edge4\" class=\"edge\">\n<title>2&#45;&gt;22</title>\n<path fill=\"none\" stroke=\"#000000\" d=\"M117.2582,-71.9133C121.934,-62.8264 126.6614,-53.6391 130.8565,-45.4863\"/>\n<polygon fill=\"#000000\" stroke=\"#000000\" points=\"134.0384,-46.9522 135.5017,-36.4589 127.8141,-43.7494 134.0384,-46.9522\"/>\n</g>\n<!-- 30 -->\n<g id=\"node7\" class=\"node\">\n<title>30</title>\n<path fill=\"#c0c0c0\" stroke=\"#000000\" d=\"M265,-36C265,-36 235,-36 235,-36 229,-36 223,-30 223,-24 223,-24 223,-12 223,-12 223,-6 229,0 235,0 235,0 265,0 265,0 271,0 277,-6 277,-12 277,-12 277,-24 277,-24 277,-30 271,-36 265,-36\"/>\n<text text-anchor=\"middle\" x=\"250\" y=\"-14.3\" font-family=\"Helvetica,sans-Serif\" font-size=\"14.00\" fill=\"#000000\">(...)</text>\n</g>\n<!-- 29&#45;&gt;30 -->\n<g id=\"edge6\" class=\"edge\">\n<title>29&#45;&gt;30</title>\n<path fill=\"none\" stroke=\"#000000\" d=\"M277.2184,-71.9133C272.6308,-62.8264 267.9926,-53.6391 263.8766,-45.4863\"/>\n<polygon fill=\"#000000\" stroke=\"#000000\" points=\"266.9503,-43.8084 259.3191,-36.4589 260.7015,-46.9632 266.9503,-43.8084\"/>\n</g>\n<!-- 37 -->\n<g id=\"node8\" class=\"node\">\n<title>37</title>\n<path fill=\"#c0c0c0\" stroke=\"#000000\" d=\"M337,-36C337,-36 307,-36 307,-36 301,-36 295,-30 295,-24 295,-24 295,-12 295,-12 295,-6 301,0 307,0 307,0 337,0 337,0 343,0 349,-6 349,-12 349,-12 349,-24 349,-24 349,-30 343,-36 337,-36\"/>\n<text text-anchor=\"middle\" x=\"322\" y=\"-14.3\" font-family=\"Helvetica,sans-Serif\" font-size=\"14.00\" fill=\"#000000\">(...)</text>\n</g>\n<!-- 29&#45;&gt;37 -->\n<g id=\"edge7\" class=\"edge\">\n<title>29&#45;&gt;37</title>\n<path fill=\"none\" stroke=\"#000000\" d=\"M311.5314,-71.9133C313.2383,-63.1227 314.9635,-54.2382 316.5073,-46.2872\"/>\n<polygon fill=\"#000000\" stroke=\"#000000\" points=\"319.9453,-46.9427 318.4157,-36.4589 313.0737,-45.6084 319.9453,-46.9427\"/>\n</g>\n<!-- 79 -->\n<g id=\"node10\" class=\"node\">\n<title>79</title>\n<path fill=\"#b68cf0\" stroke=\"#000000\" d=\"M608,-170C608,-170 432,-170 432,-170 426,-170 420,-164 420,-158 420,-158 420,-84 420,-84 420,-78 426,-72 432,-72 432,-72 608,-72 608,-72 614,-72 620,-78 620,-84 620,-84 620,-158 620,-158 620,-164 614,-170 608,-170\"/>\n<text text-anchor=\"start\" x=\"489\" y=\"-154.8\" font-family=\"Helvetica,sans-Serif\" font-size=\"14.00\" fill=\"#000000\">node #79</text>\n<text text-anchor=\"start\" x=\"443\" y=\"-139.8\" font-family=\"Helvetica,sans-Serif\" font-size=\"14.00\" fill=\"#000000\">VisITedResources ≤ 8.0</text>\n<text text-anchor=\"start\" x=\"486.5\" y=\"-124.8\" font-family=\"Helvetica,sans-Serif\" font-size=\"14.00\" fill=\"#000000\">gini = 0.48</text>\n<text text-anchor=\"start\" x=\"464\" y=\"-109.8\" font-family=\"Helvetica,sans-Serif\" font-size=\"14.00\" fill=\"#000000\">samples = 21.1%</text>\n<text text-anchor=\"start\" x=\"428\" y=\"-94.8\" font-family=\"Helvetica,sans-Serif\" font-size=\"14.00\" fill=\"#000000\">value = [0.092, 0.231, 0.677]</text>\n<text text-anchor=\"start\" x=\"491\" y=\"-79.8\" font-family=\"Helvetica,sans-Serif\" font-size=\"14.00\" fill=\"#000000\">class = 2</text>\n</g>\n<!-- 78&#45;&gt;79 -->\n<g id=\"edge9\" class=\"edge\">\n<title>78&#45;&gt;79</title>\n<path fill=\"none\" stroke=\"#000000\" d=\"M520,-205.8642C520,-197.5802 520,-188.903 520,-180.3918\"/>\n<polygon fill=\"#000000\" stroke=\"#000000\" points=\"523.5001,-180.1298 520,-170.1298 516.5001,-180.1299 523.5001,-180.1298\"/>\n</g>\n<!-- 114 -->\n<g id=\"node13\" class=\"node\">\n<title>114</title>\n<path fill=\"#f0b68c\" stroke=\"#000000\" d=\"M826,-170C826,-170 650,-170 650,-170 644,-170 638,-164 638,-158 638,-158 638,-84 638,-84 638,-78 644,-72 650,-72 650,-72 826,-72 826,-72 832,-72 838,-78 838,-84 838,-84 838,-158 838,-158 838,-164 832,-170 826,-170\"/>\n<text text-anchor=\"start\" x=\"703\" y=\"-154.8\" font-family=\"Helvetica,sans-Serif\" font-size=\"14.00\" fill=\"#000000\">node #114</text>\n<text text-anchor=\"start\" x=\"656.5\" y=\"-139.8\" font-family=\"Helvetica,sans-Serif\" font-size=\"14.00\" fill=\"#000000\">VisITedResources ≤ 88.5</text>\n<text text-anchor=\"start\" x=\"700\" y=\"-124.8\" font-family=\"Helvetica,sans-Serif\" font-size=\"14.00\" fill=\"#000000\">gini = 0.434</text>\n<text text-anchor=\"start\" x=\"682\" y=\"-109.8\" font-family=\"Helvetica,sans-Serif\" font-size=\"14.00\" fill=\"#000000\">samples = 34.3%</text>\n<text text-anchor=\"start\" x=\"646\" y=\"-94.8\" font-family=\"Helvetica,sans-Serif\" font-size=\"14.00\" fill=\"#000000\">value = [0.698, 0.024, 0.278]</text>\n<text text-anchor=\"start\" x=\"709\" y=\"-79.8\" font-family=\"Helvetica,sans-Serif\" font-size=\"14.00\" fill=\"#000000\">class = 0</text>\n</g>\n<!-- 78&#45;&gt;114 -->\n<g id=\"edge12\" class=\"edge\">\n<title>78&#45;&gt;114</title>\n<path fill=\"none\" stroke=\"#000000\" d=\"M599.9373,-205.8642C615.9321,-196.0326 632.8276,-185.6473 649.1035,-175.6428\"/>\n<polygon fill=\"#000000\" stroke=\"#000000\" points=\"651.3859,-178.3482 658.0724,-170.1298 647.7203,-172.3847 651.3859,-178.3482\"/>\n</g>\n<!-- 80 -->\n<g id=\"node11\" class=\"node\">\n<title>80</title>\n<path fill=\"#c0c0c0\" stroke=\"#000000\" d=\"M499,-36C499,-36 469,-36 469,-36 463,-36 457,-30 457,-24 457,-24 457,-12 457,-12 457,-6 463,0 469,0 469,0 499,0 499,0 505,0 511,-6 511,-12 511,-12 511,-24 511,-24 511,-30 505,-36 499,-36\"/>\n<text text-anchor=\"middle\" x=\"484\" y=\"-14.3\" font-family=\"Helvetica,sans-Serif\" font-size=\"14.00\" fill=\"#000000\">(...)</text>\n</g>\n<!-- 79&#45;&gt;80 -->\n<g id=\"edge10\" class=\"edge\">\n<title>79&#45;&gt;80</title>\n<path fill=\"none\" stroke=\"#000000\" d=\"M502.8435,-71.9133C499.7365,-63.0239 496.596,-54.0385 493.7932,-46.0195\"/>\n<polygon fill=\"#000000\" stroke=\"#000000\" points=\"497.0552,-44.7441 490.4517,-36.4589 490.4471,-47.0538 497.0552,-44.7441\"/>\n</g>\n<!-- 81 -->\n<g id=\"node12\" class=\"node\">\n<title>81</title>\n<path fill=\"#c0c0c0\" stroke=\"#000000\" d=\"M571,-36C571,-36 541,-36 541,-36 535,-36 529,-30 529,-24 529,-24 529,-12 529,-12 529,-6 535,0 541,0 541,0 571,0 571,0 577,0 583,-6 583,-12 583,-12 583,-24 583,-24 583,-30 577,-36 571,-36\"/>\n<text text-anchor=\"middle\" x=\"556\" y=\"-14.3\" font-family=\"Helvetica,sans-Serif\" font-size=\"14.00\" fill=\"#000000\">(...)</text>\n</g>\n<!-- 79&#45;&gt;81 -->\n<g id=\"edge11\" class=\"edge\">\n<title>79&#45;&gt;81</title>\n<path fill=\"none\" stroke=\"#000000\" d=\"M537.1565,-71.9133C540.2635,-63.0239 543.404,-54.0385 546.2068,-46.0195\"/>\n<polygon fill=\"#000000\" stroke=\"#000000\" points=\"549.5529,-47.0538 549.5483,-36.4589 542.9448,-44.7441 549.5529,-47.0538\"/>\n</g>\n<!-- 115 -->\n<g id=\"node14\" class=\"node\">\n<title>115</title>\n<path fill=\"#c0c0c0\" stroke=\"#000000\" d=\"M717,-36C717,-36 687,-36 687,-36 681,-36 675,-30 675,-24 675,-24 675,-12 675,-12 675,-6 681,0 687,0 687,0 717,0 717,0 723,0 729,-6 729,-12 729,-12 729,-24 729,-24 729,-30 723,-36 717,-36\"/>\n<text text-anchor=\"middle\" x=\"702\" y=\"-14.3\" font-family=\"Helvetica,sans-Serif\" font-size=\"14.00\" fill=\"#000000\">(...)</text>\n</g>\n<!-- 114&#45;&gt;115 -->\n<g id=\"edge13\" class=\"edge\">\n<title>114&#45;&gt;115</title>\n<path fill=\"none\" stroke=\"#000000\" d=\"M720.8435,-71.9133C717.7365,-63.0239 714.596,-54.0385 711.7932,-46.0195\"/>\n<polygon fill=\"#000000\" stroke=\"#000000\" points=\"715.0552,-44.7441 708.4517,-36.4589 708.4471,-47.0538 715.0552,-44.7441\"/>\n</g>\n<!-- 142 -->\n<g id=\"node15\" class=\"node\">\n<title>142</title>\n<path fill=\"#c0c0c0\" stroke=\"#000000\" d=\"M789,-36C789,-36 759,-36 759,-36 753,-36 747,-30 747,-24 747,-24 747,-12 747,-12 747,-6 753,0 759,0 759,0 789,0 789,0 795,0 801,-6 801,-12 801,-12 801,-24 801,-24 801,-30 795,-36 789,-36\"/>\n<text text-anchor=\"middle\" x=\"774\" y=\"-14.3\" font-family=\"Helvetica,sans-Serif\" font-size=\"14.00\" fill=\"#000000\">(...)</text>\n</g>\n<!-- 114&#45;&gt;142 -->\n<g id=\"edge14\" class=\"edge\">\n<title>114&#45;&gt;142</title>\n<path fill=\"none\" stroke=\"#000000\" d=\"M755.1565,-71.9133C758.2635,-63.0239 761.404,-54.0385 764.2068,-46.0195\"/>\n<polygon fill=\"#000000\" stroke=\"#000000\" points=\"767.5529,-47.0538 767.5483,-36.4589 760.9448,-44.7441 767.5529,-47.0538\"/>\n</g>\n</g>\n</svg>\n"
          },
          "metadata": {
            "tags": []
          },
          "execution_count": 70
        }
      ]
    },
    {
      "cell_type": "markdown",
      "metadata": {
        "id": "pBn3MbNUfK7Y"
      },
      "source": [
        "=========//=========================\r\n",
        "# **Testing Models**"
      ]
    },
    {
      "cell_type": "markdown",
      "metadata": {
        "id": "b8Iu9k1VdnHU"
      },
      "source": [
        "#### Separando os dados e classes"
      ]
    },
    {
      "cell_type": "code",
      "metadata": {
        "id": "mUDLpFtednHV"
      },
      "source": [
        "dataset = df_edu.drop('Class',axis=1)"
      ],
      "execution_count": 71,
      "outputs": []
    },
    {
      "cell_type": "code",
      "metadata": {
        "id": "rjv5OEGsdnHX"
      },
      "source": [
        "classes = df_edu['Class']"
      ],
      "execution_count": 72,
      "outputs": []
    },
    {
      "cell_type": "markdown",
      "metadata": {
        "id": "IV7wsH7wdnHX"
      },
      "source": [
        "# Random Forest vs Árvore de Decisão"
      ]
    },
    {
      "cell_type": "markdown",
      "metadata": {
        "id": "MNx50KwtdnHX"
      },
      "source": [
        "#### **Resultados Random Forest**"
      ]
    },
    {
      "cell_type": "code",
      "metadata": {
        "id": "d0YI7_rcdnHY"
      },
      "source": [
        "# 100 random trees\r\n",
        "random_clf = RandomForestClassifier(random_state=1,n_estimators=100)"
      ],
      "execution_count": 73,
      "outputs": []
    },
    {
      "cell_type": "code",
      "metadata": {
        "id": "9d08xFoidnHY"
      },
      "source": [
        "# Cross validation\r\n",
        "resultados_random = cross_val_predict(random_clf, dataset, classes, cv=5)"
      ],
      "execution_count": 74,
      "outputs": []
    },
    {
      "cell_type": "code",
      "metadata": {
        "scrolled": true,
        "id": "XluBXIqjdnHY",
        "colab": {
          "base_uri": "https://localhost:8080/"
        },
        "outputId": "44d71ac0-4487-451c-f374-39f9225ca1cd"
      },
      "source": [
        "print(classification_report(classes,resultados_random))"
      ],
      "execution_count": 75,
      "outputs": [
        {
          "output_type": "stream",
          "text": [
            "              precision    recall  f1-score   support\n",
            "\n",
            "           0       0.65      0.64      0.65       142\n",
            "           1       0.77      0.78      0.77       127\n",
            "           2       0.63      0.63      0.63       211\n",
            "\n",
            "    accuracy                           0.67       480\n",
            "   macro avg       0.68      0.68      0.68       480\n",
            "weighted avg       0.67      0.67      0.67       480\n",
            "\n"
          ],
          "name": "stdout"
        }
      ]
    },
    {
      "cell_type": "markdown",
      "metadata": {
        "id": "7iFu5gugdnHZ"
      },
      "source": [
        "#### **Resultados Decision Tree**"
      ]
    },
    {
      "cell_type": "code",
      "metadata": {
        "id": "oxnjxiUOdnHZ"
      },
      "source": [
        "tree_clf = DecisionTreeClassifier(random_state=1)"
      ],
      "execution_count": 76,
      "outputs": []
    },
    {
      "cell_type": "code",
      "metadata": {
        "id": "0E7m-CYNdnHZ"
      },
      "source": [
        "resultados_tree = cross_val_predict(tree_clf,dataset,classes,cv=5)"
      ],
      "execution_count": 77,
      "outputs": []
    },
    {
      "cell_type": "code",
      "metadata": {
        "scrolled": false,
        "id": "srprkUL_dnHa",
        "colab": {
          "base_uri": "https://localhost:8080/"
        },
        "outputId": "6b5beedb-0047-4286-bdc3-596de2994209"
      },
      "source": [
        "print(classification_report(classes,resultados_tree))"
      ],
      "execution_count": 78,
      "outputs": [
        {
          "output_type": "stream",
          "text": [
            "              precision    recall  f1-score   support\n",
            "\n",
            "           0       0.50      0.61      0.55       142\n",
            "           1       0.74      0.68      0.70       127\n",
            "           2       0.54      0.49      0.52       211\n",
            "\n",
            "    accuracy                           0.57       480\n",
            "   macro avg       0.59      0.59      0.59       480\n",
            "weighted avg       0.58      0.57      0.58       480\n",
            "\n"
          ],
          "name": "stdout"
        }
      ]
    },
    {
      "cell_type": "markdown",
      "metadata": {
        "id": "VvxOiquchDsg"
      },
      "source": [
        "        We had a better accuracy using Random Forest in a standart configuration."
      ]
    },
    {
      "cell_type": "markdown",
      "metadata": {
        "id": "BL7vJv13dnHa"
      },
      "source": [
        "#### Verificando Overfitting"
      ]
    },
    {
      "cell_type": "code",
      "metadata": {
        "id": "PQzre2tndnHa"
      },
      "source": [
        "X_train, X_test, y_train, y_test = train_test_split(df_edu.drop('Class',axis=1),df_edu['Class'],test_size=0.3,random_state=1)"
      ],
      "execution_count": 79,
      "outputs": []
    },
    {
      "cell_type": "code",
      "metadata": {
        "id": "BwckqMXhdnHb"
      },
      "source": [
        "def compara_modelos_random_forest(maxdepth):\n",
        "    if maxdepth == 0:\n",
        "        rf = RandomForestClassifier(n_estimators=100,random_state=1)\n",
        "    else: \n",
        "        rf = RandomForestClassifier(n_estimators=100,random_state=1, max_depth=maxdepth)\n",
        "    rf.fit(X_train, y_train)\n",
        "    train_score = rf.score(X_train, y_train)\n",
        "    test_score = rf.score(X_test, y_test)\n",
        "    return train_score,test_score"
      ],
      "execution_count": 80,
      "outputs": []
    },
    {
      "cell_type": "code",
      "metadata": {
        "id": "yMMlRsZUdnHb",
        "colab": {
          "base_uri": "https://localhost:8080/"
        },
        "outputId": "7f731fa9-e9ac-40e8-c988-f5847c679481"
      },
      "source": [
        "print('{:10} {:20} {:20}'.format('depth', 'Training score','Testing score'))\n",
        "print('{:10} {:20} {:20}'.format('-----', '--------------','-------------'))\n",
        "print('{:1}         {} '.format(2,str(compara_modelos_random_forest(2))))\n",
        "print('{:1}         {} '.format(3,str(compara_modelos_random_forest(3))))\n",
        "print('{:1}         {} '.format(4,str(compara_modelos_random_forest(4))))\n",
        "print('{:1}         {} '.format(10,str(compara_modelos_random_forest(10))))\n",
        "print('{:1}         {} '.format(15,str(compara_modelos_random_forest(15))))\n",
        "print('{:1}         {} '.format('Full',str(compara_modelos_random_forest(0))))"
      ],
      "execution_count": 81,
      "outputs": [
        {
          "output_type": "stream",
          "text": [
            "depth      Training score       Testing score       \n",
            "-----      --------------       -------------       \n",
            "2         (0.75, 0.6180555555555556) \n",
            "3         (0.8244047619047619, 0.6805555555555556) \n",
            "4         (0.8720238095238095, 0.7152777777777778) \n",
            "10         (1.0, 0.7569444444444444) \n",
            "15         (1.0, 0.7986111111111112) \n",
            "Full         (1.0, 0.7986111111111112) \n"
          ],
          "name": "stdout"
        }
      ]
    },
    {
      "cell_type": "code",
      "metadata": {
        "id": "LqMAggCHdnHc"
      },
      "source": [
        "def compara_modelos_decision_tree(maxdepth):\n",
        "    if maxdepth == 0:\n",
        "        df = DecisionTreeClassifier(random_state=1)\n",
        "    else: \n",
        "        df = DecisionTreeClassifier(random_state=1, max_depth=maxdepth)\n",
        "    df.fit(X_train, y_train)\n",
        "    train_score = df.score(X_train, y_train)\n",
        "    test_score = df.score(X_test, y_test)\n",
        "    return train_score,test_score"
      ],
      "execution_count": 82,
      "outputs": []
    },
    {
      "cell_type": "code",
      "metadata": {
        "id": "crChiG7QdnHc",
        "colab": {
          "base_uri": "https://localhost:8080/"
        },
        "outputId": "ae5d39a7-b467-4dbc-f539-c61d5974b755"
      },
      "source": [
        "print('{:10} {:20} {:20}'.format('depth', 'Training score','Testing score'))\n",
        "print('{:10} {:20} {:20}'.format('-----', '--------------','-------------'))\n",
        "print('{:1}         {} '.format(2,str(compara_modelos_decision_tree(2))))\n",
        "print('{:1}         {} '.format(3,str(compara_modelos_decision_tree(3))))\n",
        "print('{:1}         {} '.format(4,str(compara_modelos_decision_tree(4))))\n",
        "print('{:1}         {} '.format(10,str(compara_modelos_decision_tree(10))))\n",
        "print('{:1}         {} '.format(15,str(compara_modelos_decision_tree(15))))\n",
        "print('{:1}         {} '.format('Full',str(compara_modelos_decision_tree(0))))"
      ],
      "execution_count": 83,
      "outputs": [
        {
          "output_type": "stream",
          "text": [
            "depth      Training score       Testing score       \n",
            "-----      --------------       -------------       \n",
            "2         (0.6398809523809523, 0.6805555555555556) \n",
            "3         (0.7321428571428571, 0.7013888888888888) \n",
            "4         (0.7916666666666666, 0.7430555555555556) \n",
            "10         (0.9910714285714286, 0.6875) \n",
            "15         (1.0, 0.6944444444444444) \n",
            "Full         (1.0, 0.6944444444444444) \n"
          ],
          "name": "stdout"
        }
      ]
    },
    {
      "cell_type": "markdown",
      "metadata": {
        "id": "1ZqGL_aRipPO"
      },
      "source": [
        "* max_depth = 2: 64% training and 68% testing score;\r\n",
        "* max_depth = 3: 73% training and 70% testing score;\r\n",
        "* max_depth = 4: 79% training and 74% testing score;\r\n",
        "* max_depth = 4: 99% training (OVERFITTING) and 74% testing score;\r\n",
        ".\r\n",
        ".\r\n",
        "."
      ]
    },
    {
      "cell_type": "markdown",
      "metadata": {
        "id": "zTBYsY6VdnHd"
      },
      "source": [
        "==========================================//=========================================\r\n",
        "# **Tunning do Modelo para Garantir o Melhor Desempenho**"
      ]
    },
    {
      "cell_type": "markdown",
      "metadata": {
        "id": "XSm1_OQLdnHd"
      },
      "source": [
        "#### Como encontrar os melhores valores para os parametros do modelo?"
      ]
    },
    {
      "cell_type": "markdown",
      "metadata": {
        "id": "_hqkq0rhdnHd"
      },
      "source": [
        "RandomForestClassifier(\n",
        "n_estimators=?,\n",
        "criterion='gini' ou 'entropy',\n",
        "max_depth=?,\n",
        "min_samples_split=?,\n",
        "min_samples_leaf=?\n",
        ") ..."
      ]
    },
    {
      "cell_type": "markdown",
      "metadata": {
        "id": "Jr9AZgVJdnHe"
      },
      "source": [
        "##### **GridSearchCV para testes de Hyperparametros**"
      ]
    },
    {
      "cell_type": "code",
      "metadata": {
        "id": "ZnnzePAtdnHe"
      },
      "source": [
        "from sklearn.model_selection import GridSearchCV"
      ],
      "execution_count": 84,
      "outputs": []
    },
    {
      "cell_type": "markdown",
      "metadata": {
        "id": "JkGswax7dnHe"
      },
      "source": [
        "##### **Lista de possíveis valores de estimators ou quantidade de árvores da floresta.**"
      ]
    },
    {
      "cell_type": "code",
      "metadata": {
        "id": "Lr8xpIuWdnHe"
      },
      "source": [
        "valores_estimators = [10, 20, 50, 100, 150]"
      ],
      "execution_count": 85,
      "outputs": []
    },
    {
      "cell_type": "markdown",
      "metadata": {
        "id": "Vc6n4M1UdnHf"
      },
      "source": [
        "##### **Lista de possíveis valores para o critério de divisão.**"
      ]
    },
    {
      "cell_type": "code",
      "metadata": {
        "id": "7dPgYbb9dnHf"
      },
      "source": [
        "valores_criterion = ['gini','entropy']"
      ],
      "execution_count": 86,
      "outputs": []
    },
    {
      "cell_type": "markdown",
      "metadata": {
        "id": "GV9FltzUdnHf"
      },
      "source": [
        "##### **Lista de possíveis valores para a profundidade máxima de cada árvore**"
      ]
    },
    {
      "cell_type": "code",
      "metadata": {
        "id": "RD71rwFMdnHf"
      },
      "source": [
        "valores_max_depth = [10, 20, 50, 100]"
      ],
      "execution_count": 87,
      "outputs": []
    },
    {
      "cell_type": "markdown",
      "metadata": {
        "id": "nP1fZ2pDdnHg"
      },
      "source": [
        "##### **Lista de possíveis valores para os parametros min_samples_split e min_samples_leaf.**"
      ]
    },
    {
      "cell_type": "code",
      "metadata": {
        "id": "4WP23kCzdnHi"
      },
      "source": [
        "valores_min_samples_split = [2, 5, 10,15]\n",
        "valores_min_samples_leaf = [1, 5, 10,15]"
      ],
      "execution_count": 88,
      "outputs": []
    },
    {
      "cell_type": "markdown",
      "metadata": {
        "id": "V-XPuRq3dnHj"
      },
      "source": [
        "##### **Define um dicionário que recebe as listas de parâmetros e valores.**"
      ]
    },
    {
      "cell_type": "code",
      "metadata": {
        "id": "b-vez765dnHk"
      },
      "source": [
        "parametros_grid = dict(n_estimators=valores_estimators,\n",
        "                       criterion=valores_criterion,\n",
        "                       max_depth=valores_max_depth,\n",
        "                       min_samples_split=valores_min_samples_split,\n",
        "                       min_samples_leaf=valores_min_samples_leaf \n",
        "                      )"
      ],
      "execution_count": 89,
      "outputs": []
    },
    {
      "cell_type": "markdown",
      "metadata": {
        "id": "Og-bI01ldnHl"
      },
      "source": [
        "##### **Dicionário com os parametros que serão utilizados no grid.**"
      ]
    },
    {
      "cell_type": "code",
      "metadata": {
        "scrolled": true,
        "id": "jWuCAlCrdnHm",
        "colab": {
          "base_uri": "https://localhost:8080/"
        },
        "outputId": "bbe87dd2-9146-45bf-b477-84da88c6231e"
      },
      "source": [
        "parametros_grid"
      ],
      "execution_count": 90,
      "outputs": [
        {
          "output_type": "execute_result",
          "data": {
            "text/plain": [
              "{'criterion': ['gini', 'entropy'],\n",
              " 'max_depth': [10, 20, 50, 100],\n",
              " 'min_samples_leaf': [1, 5, 10, 15],\n",
              " 'min_samples_split': [2, 5, 10, 15],\n",
              " 'n_estimators': [10, 20, 50, 100, 150]}"
            ]
          },
          "metadata": {
            "tags": []
          },
          "execution_count": 90
        }
      ]
    },
    {
      "cell_type": "markdown",
      "metadata": {
        "id": "Nx3xGq73dnHn"
      },
      "source": [
        "##### **Instancia o GridSearch com o modelo a ser utilizado, parametros, número de folds e scoring.**"
      ]
    },
    {
      "cell_type": "code",
      "metadata": {
        "id": "HpL_efaOdnHn"
      },
      "source": [
        "rf = RandomForestClassifier()"
      ],
      "execution_count": 91,
      "outputs": []
    },
    {
      "cell_type": "code",
      "metadata": {
        "id": "QzBKLkgvdnHn"
      },
      "source": [
        "grid = GridSearchCV(rf, parametros_grid, cv=5, scoring='accuracy')"
      ],
      "execution_count": 92,
      "outputs": []
    },
    {
      "cell_type": "markdown",
      "metadata": {
        "id": "RQfprd8xdnHn"
      },
      "source": [
        "##### **Aplica o GridSearch passando as features e classes**"
      ]
    },
    {
      "cell_type": "code",
      "metadata": {
        "id": "Qxx_j2yFdnHo",
        "colab": {
          "base_uri": "https://localhost:8080/"
        },
        "outputId": "5033f58f-8366-4efe-f252-5efb045b310f"
      },
      "source": [
        "grid.fit(df_edu.drop('Class',axis=1),df_edu['Class'])"
      ],
      "execution_count": 93,
      "outputs": [
        {
          "output_type": "execute_result",
          "data": {
            "text/plain": [
              "GridSearchCV(cv=5, error_score=nan,\n",
              "             estimator=RandomForestClassifier(bootstrap=True, ccp_alpha=0.0,\n",
              "                                              class_weight=None,\n",
              "                                              criterion='gini', max_depth=None,\n",
              "                                              max_features='auto',\n",
              "                                              max_leaf_nodes=None,\n",
              "                                              max_samples=None,\n",
              "                                              min_impurity_decrease=0.0,\n",
              "                                              min_impurity_split=None,\n",
              "                                              min_samples_leaf=1,\n",
              "                                              min_samples_split=2,\n",
              "                                              min_weight_fraction_leaf=0.0,\n",
              "                                              n_estimators=100, n_jobs=None,\n",
              "                                              oob_score=False,\n",
              "                                              random_state=None, verbose=0,\n",
              "                                              warm_start=False),\n",
              "             iid='deprecated', n_jobs=None,\n",
              "             param_grid={'criterion': ['gini', 'entropy'],\n",
              "                         'max_depth': [10, 20, 50, 100],\n",
              "                         'min_samples_leaf': [1, 5, 10, 15],\n",
              "                         'min_samples_split': [2, 5, 10, 15],\n",
              "                         'n_estimators': [10, 20, 50, 100, 150]},\n",
              "             pre_dispatch='2*n_jobs', refit=True, return_train_score=False,\n",
              "             scoring='accuracy', verbose=0)"
            ]
          },
          "metadata": {
            "tags": []
          },
          "execution_count": 93
        }
      ]
    },
    {
      "cell_type": "markdown",
      "metadata": {
        "id": "72TxKWi8dnHo"
      },
      "source": [
        "##### **Imprime os scores por combinações.**"
      ]
    },
    {
      "cell_type": "markdown",
      "metadata": {
        "id": "yxyJ9QdJdnHp"
      },
      "source": [
        "#### Verificando os melhores parâmetros."
      ]
    },
    {
      "cell_type": "code",
      "metadata": {
        "id": "oydPjnBydnHp",
        "colab": {
          "base_uri": "https://localhost:8080/"
        },
        "outputId": "1cb4c69b-95a7-4815-f752-126e0ec812a0"
      },
      "source": [
        "grid.best_params_"
      ],
      "execution_count": 96,
      "outputs": [
        {
          "output_type": "execute_result",
          "data": {
            "text/plain": [
              "{'criterion': 'gini',\n",
              " 'max_depth': 50,\n",
              " 'min_samples_leaf': 5,\n",
              " 'min_samples_split': 2,\n",
              " 'n_estimators': 100}"
            ]
          },
          "metadata": {
            "tags": []
          },
          "execution_count": 96
        }
      ]
    },
    {
      "cell_type": "markdown",
      "metadata": {
        "id": "jq8gASj-dnHq"
      },
      "source": [
        "#### Verificando o melhor score."
      ]
    },
    {
      "cell_type": "code",
      "metadata": {
        "scrolled": true,
        "id": "cBfkKSkrdnHq",
        "colab": {
          "base_uri": "https://localhost:8080/"
        },
        "outputId": "291a0bc5-4a16-489a-8edd-89439a37ddb1"
      },
      "source": [
        "grid.best_score_"
      ],
      "execution_count": 95,
      "outputs": [
        {
          "output_type": "execute_result",
          "data": {
            "text/plain": [
              "0.7229166666666667"
            ]
          },
          "metadata": {
            "tags": []
          },
          "execution_count": 95
        }
      ]
    }
  ]
}