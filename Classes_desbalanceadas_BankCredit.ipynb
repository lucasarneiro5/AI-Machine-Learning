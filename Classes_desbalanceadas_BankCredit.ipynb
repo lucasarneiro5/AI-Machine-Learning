{
  "nbformat": 4,
  "nbformat_minor": 0,
  "metadata": {
    "colab": {
      "name": "Q_classes-desbalanceadas_BankCredit.ipynb",
      "provenance": [],
      "collapsed_sections": []
    },
    "kernelspec": {
      "name": "python3",
      "display_name": "Python 3"
    }
  },
  "cells": [
    {
      "cell_type": "markdown",
      "metadata": {
        "id": "xxirEIQiSEhz"
      },
      "source": [
        "**Comando para evitar mensagens de Warning**"
      ]
    },
    {
      "cell_type": "code",
      "metadata": {
        "id": "7N4k5vuktXVz"
      },
      "source": [
        "import warnings\n",
        "warnings.filterwarnings(\"ignore\", category=DeprecationWarning)"
      ],
      "execution_count": 1,
      "outputs": []
    },
    {
      "cell_type": "markdown",
      "metadata": {
        "id": "6slSY0FKR9a7"
      },
      "source": [
        "**Caso não tenha instalado no seu Google Colab ou no seu Anaconda**"
      ]
    },
    {
      "cell_type": "code",
      "metadata": {
        "id": "PLzivCqq4PKM",
        "colab": {
          "base_uri": "https://localhost:8080/"
        },
        "outputId": "f4ef28c4-966f-44aa-92b5-6f0bc4188c26"
      },
      "source": [
        "# caso você não tem essa biblioteca instalada use o comando abaixo.\n",
        "!pip install imblearn"
      ],
      "execution_count": 2,
      "outputs": [
        {
          "output_type": "stream",
          "text": [
            "Requirement already satisfied: imblearn in /usr/local/lib/python3.7/dist-packages (0.0)\n",
            "Requirement already satisfied: imbalanced-learn in /usr/local/lib/python3.7/dist-packages (from imblearn) (0.4.3)\n",
            "Requirement already satisfied: scipy>=0.13.3 in /usr/local/lib/python3.7/dist-packages (from imbalanced-learn->imblearn) (1.4.1)\n",
            "Requirement already satisfied: numpy>=1.8.2 in /usr/local/lib/python3.7/dist-packages (from imbalanced-learn->imblearn) (1.19.5)\n",
            "Requirement already satisfied: scikit-learn>=0.20 in /usr/local/lib/python3.7/dist-packages (from imbalanced-learn->imblearn) (0.22.2.post1)\n",
            "Requirement already satisfied: joblib>=0.11 in /usr/local/lib/python3.7/dist-packages (from scikit-learn>=0.20->imbalanced-learn->imblearn) (1.0.1)\n"
          ],
          "name": "stdout"
        }
      ]
    },
    {
      "cell_type": "code",
      "metadata": {
        "id": "KjckYxAEC63P",
        "colab": {
          "base_uri": "https://localhost:8080/"
        },
        "outputId": "9e033fb2-b3c0-4226-84c2-b02ed4328204"
      },
      "source": [
        "import numpy as np\n",
        "import pandas as pd\n",
        "from sklearn.linear_model import LogisticRegression\n",
        "from sklearn.model_selection import train_test_split\n",
        "from sklearn.metrics import accuracy_score, confusion_matrix, classification_report\n",
        "from imblearn.over_sampling import SMOTE\n",
        "from imblearn.under_sampling import NearMiss\n",
        "import seaborn as sns"
      ],
      "execution_count": 3,
      "outputs": [
        {
          "output_type": "stream",
          "text": [
            "/usr/local/lib/python3.7/dist-packages/sklearn/externals/six.py:31: FutureWarning: The module is deprecated in version 0.21 and will be removed in version 0.23 since we've dropped support for Python 2.7. Please rely on the official version of six (https://pypi.org/project/six/).\n",
            "  \"(https://pypi.org/project/six/).\", FutureWarning)\n",
            "/usr/local/lib/python3.7/dist-packages/sklearn/utils/deprecation.py:144: FutureWarning: The sklearn.neighbors.base module is  deprecated in version 0.22 and will be removed in version 0.24. The corresponding classes / functions should instead be imported from sklearn.neighbors. Anything that cannot be imported from sklearn.neighbors is now part of the private API.\n",
            "  warnings.warn(message, FutureWarning)\n"
          ],
          "name": "stderr"
        }
      ]
    },
    {
      "cell_type": "markdown",
      "metadata": {
        "id": "GzdQEAFJ45KG"
      },
      "source": [
        "### **Modelo com classes desbalanceadas**"
      ]
    },
    {
      "cell_type": "code",
      "metadata": {
        "id": "WsUXJ3DfYOCX",
        "colab": {
          "base_uri": "https://localhost:8080/"
        },
        "outputId": "f88c27a6-e54d-45a9-ae00-85e9196e93f5"
      },
      "source": [
        "from google.colab import drive\n",
        "drive.mount('/content/drive')"
      ],
      "execution_count": 4,
      "outputs": [
        {
          "output_type": "stream",
          "text": [
            "Mounted at /content/drive\n"
          ],
          "name": "stdout"
        }
      ]
    },
    {
      "cell_type": "code",
      "metadata": {
        "id": "ibi8UPN6Kmnx"
      },
      "source": [
        "import pandas as pd"
      ],
      "execution_count": 5,
      "outputs": []
    },
    {
      "cell_type": "code",
      "metadata": {
        "id": "rWYy0iHaKmwY"
      },
      "source": [
        "df = pd.read_csv('/content/drive/My Drive/bank-full.csv', sep=';')"
      ],
      "execution_count": 7,
      "outputs": []
    },
    {
      "cell_type": "code",
      "metadata": {
        "id": "7v-L91GDKmzw",
        "colab": {
          "base_uri": "https://localhost:8080/",
          "height": 204
        },
        "outputId": "66cacddb-6605-498b-91c2-9e06b54772cc"
      },
      "source": [
        "df.head()"
      ],
      "execution_count": 8,
      "outputs": [
        {
          "output_type": "execute_result",
          "data": {
            "text/html": [
              "<div>\n",
              "<style scoped>\n",
              "    .dataframe tbody tr th:only-of-type {\n",
              "        vertical-align: middle;\n",
              "    }\n",
              "\n",
              "    .dataframe tbody tr th {\n",
              "        vertical-align: top;\n",
              "    }\n",
              "\n",
              "    .dataframe thead th {\n",
              "        text-align: right;\n",
              "    }\n",
              "</style>\n",
              "<table border=\"1\" class=\"dataframe\">\n",
              "  <thead>\n",
              "    <tr style=\"text-align: right;\">\n",
              "      <th></th>\n",
              "      <th>age</th>\n",
              "      <th>job</th>\n",
              "      <th>marital</th>\n",
              "      <th>education</th>\n",
              "      <th>default</th>\n",
              "      <th>balance</th>\n",
              "      <th>housing</th>\n",
              "      <th>loan</th>\n",
              "      <th>contact</th>\n",
              "      <th>day</th>\n",
              "      <th>month</th>\n",
              "      <th>duration</th>\n",
              "      <th>campaign</th>\n",
              "      <th>pdays</th>\n",
              "      <th>previous</th>\n",
              "      <th>poutcome</th>\n",
              "      <th>y</th>\n",
              "    </tr>\n",
              "  </thead>\n",
              "  <tbody>\n",
              "    <tr>\n",
              "      <th>0</th>\n",
              "      <td>58</td>\n",
              "      <td>management</td>\n",
              "      <td>married</td>\n",
              "      <td>tertiary</td>\n",
              "      <td>no</td>\n",
              "      <td>2143</td>\n",
              "      <td>yes</td>\n",
              "      <td>no</td>\n",
              "      <td>unknown</td>\n",
              "      <td>5</td>\n",
              "      <td>may</td>\n",
              "      <td>261</td>\n",
              "      <td>1</td>\n",
              "      <td>-1</td>\n",
              "      <td>0</td>\n",
              "      <td>unknown</td>\n",
              "      <td>no</td>\n",
              "    </tr>\n",
              "    <tr>\n",
              "      <th>1</th>\n",
              "      <td>44</td>\n",
              "      <td>technician</td>\n",
              "      <td>single</td>\n",
              "      <td>secondary</td>\n",
              "      <td>no</td>\n",
              "      <td>29</td>\n",
              "      <td>yes</td>\n",
              "      <td>no</td>\n",
              "      <td>unknown</td>\n",
              "      <td>5</td>\n",
              "      <td>may</td>\n",
              "      <td>151</td>\n",
              "      <td>1</td>\n",
              "      <td>-1</td>\n",
              "      <td>0</td>\n",
              "      <td>unknown</td>\n",
              "      <td>no</td>\n",
              "    </tr>\n",
              "    <tr>\n",
              "      <th>2</th>\n",
              "      <td>33</td>\n",
              "      <td>entrepreneur</td>\n",
              "      <td>married</td>\n",
              "      <td>secondary</td>\n",
              "      <td>no</td>\n",
              "      <td>2</td>\n",
              "      <td>yes</td>\n",
              "      <td>yes</td>\n",
              "      <td>unknown</td>\n",
              "      <td>5</td>\n",
              "      <td>may</td>\n",
              "      <td>76</td>\n",
              "      <td>1</td>\n",
              "      <td>-1</td>\n",
              "      <td>0</td>\n",
              "      <td>unknown</td>\n",
              "      <td>no</td>\n",
              "    </tr>\n",
              "    <tr>\n",
              "      <th>3</th>\n",
              "      <td>47</td>\n",
              "      <td>blue-collar</td>\n",
              "      <td>married</td>\n",
              "      <td>unknown</td>\n",
              "      <td>no</td>\n",
              "      <td>1506</td>\n",
              "      <td>yes</td>\n",
              "      <td>no</td>\n",
              "      <td>unknown</td>\n",
              "      <td>5</td>\n",
              "      <td>may</td>\n",
              "      <td>92</td>\n",
              "      <td>1</td>\n",
              "      <td>-1</td>\n",
              "      <td>0</td>\n",
              "      <td>unknown</td>\n",
              "      <td>no</td>\n",
              "    </tr>\n",
              "    <tr>\n",
              "      <th>4</th>\n",
              "      <td>33</td>\n",
              "      <td>unknown</td>\n",
              "      <td>single</td>\n",
              "      <td>unknown</td>\n",
              "      <td>no</td>\n",
              "      <td>1</td>\n",
              "      <td>no</td>\n",
              "      <td>no</td>\n",
              "      <td>unknown</td>\n",
              "      <td>5</td>\n",
              "      <td>may</td>\n",
              "      <td>198</td>\n",
              "      <td>1</td>\n",
              "      <td>-1</td>\n",
              "      <td>0</td>\n",
              "      <td>unknown</td>\n",
              "      <td>no</td>\n",
              "    </tr>\n",
              "  </tbody>\n",
              "</table>\n",
              "</div>"
            ],
            "text/plain": [
              "   age           job  marital  education  ... pdays  previous poutcome   y\n",
              "0   58    management  married   tertiary  ...    -1         0  unknown  no\n",
              "1   44    technician   single  secondary  ...    -1         0  unknown  no\n",
              "2   33  entrepreneur  married  secondary  ...    -1         0  unknown  no\n",
              "3   47   blue-collar  married    unknown  ...    -1         0  unknown  no\n",
              "4   33       unknown   single    unknown  ...    -1         0  unknown  no\n",
              "\n",
              "[5 rows x 17 columns]"
            ]
          },
          "metadata": {
            "tags": []
          },
          "execution_count": 8
        }
      ]
    },
    {
      "cell_type": "code",
      "metadata": {
        "id": "2l6Qf6jXFP9d",
        "colab": {
          "base_uri": "https://localhost:8080/"
        },
        "outputId": "391bf635-6a83-4b22-f3e0-24e50b78dc2b"
      },
      "source": [
        "df.info()"
      ],
      "execution_count": 9,
      "outputs": [
        {
          "output_type": "stream",
          "text": [
            "<class 'pandas.core.frame.DataFrame'>\n",
            "RangeIndex: 45211 entries, 0 to 45210\n",
            "Data columns (total 17 columns):\n",
            " #   Column     Non-Null Count  Dtype \n",
            "---  ------     --------------  ----- \n",
            " 0   age        45211 non-null  int64 \n",
            " 1   job        45211 non-null  object\n",
            " 2   marital    45211 non-null  object\n",
            " 3   education  45211 non-null  object\n",
            " 4   default    45211 non-null  object\n",
            " 5   balance    45211 non-null  int64 \n",
            " 6   housing    45211 non-null  object\n",
            " 7   loan       45211 non-null  object\n",
            " 8   contact    45211 non-null  object\n",
            " 9   day        45211 non-null  int64 \n",
            " 10  month      45211 non-null  object\n",
            " 11  duration   45211 non-null  int64 \n",
            " 12  campaign   45211 non-null  int64 \n",
            " 13  pdays      45211 non-null  int64 \n",
            " 14  previous   45211 non-null  int64 \n",
            " 15  poutcome   45211 non-null  object\n",
            " 16  y          45211 non-null  object\n",
            "dtypes: int64(7), object(10)\n",
            "memory usage: 5.9+ MB\n"
          ],
          "name": "stdout"
        }
      ]
    },
    {
      "cell_type": "markdown",
      "metadata": {
        "id": "9dq6YDHhtjUu"
      },
      "source": [
        "**Formatando algumas colunas**"
      ]
    },
    {
      "cell_type": "code",
      "metadata": {
        "id": "4F1QsQ51FcWX"
      },
      "source": [
        "df[\"default\"] = df[\"default\"].map({\"no\":0,\"yes\":1})\n",
        "df[\"housing\"] = df[\"housing\"].map({\"no\":0,\"yes\":1})\n",
        "df[\"loan\"] = df[\"loan\"].map({\"no\":0,\"yes\":1})\n",
        "df[\"y\"] = df[\"y\"].map({\"no\":0,\"yes\":1})\n",
        "df.education = df.education.map({\"primary\": 0, \"secondary\":1, \"tertiary\":2})\n",
        "df.poutcome = df.poutcome.map({\"unknown\": 0, \"failure\":1, \"other\":2, \"success\":3})\n",
        "df.contact = df.contact.map({\"cellular\": 0, \"unknown\":1, \"telephone\":2})\n",
        "df.month = pd.to_datetime(df.month, format = \"%b\").dt.month"
      ],
      "execution_count": 10,
      "outputs": []
    },
    {
      "cell_type": "markdown",
      "metadata": {
        "id": "wm0IUIrUtquj"
      },
      "source": [
        "**Checando missing values**"
      ]
    },
    {
      "cell_type": "code",
      "metadata": {
        "id": "i4M15QeqFHw1",
        "colab": {
          "base_uri": "https://localhost:8080/"
        },
        "outputId": "7c182de7-27c5-4976-8a16-5f85c699687d"
      },
      "source": [
        "df.isnull().sum()"
      ],
      "execution_count": 11,
      "outputs": [
        {
          "output_type": "execute_result",
          "data": {
            "text/plain": [
              "age             0\n",
              "job             0\n",
              "marital         0\n",
              "education    1857\n",
              "default         0\n",
              "balance         0\n",
              "housing         0\n",
              "loan            0\n",
              "contact         0\n",
              "day             0\n",
              "month           0\n",
              "duration        0\n",
              "campaign        0\n",
              "pdays           0\n",
              "previous        0\n",
              "poutcome        0\n",
              "y               0\n",
              "dtype: int64"
            ]
          },
          "metadata": {
            "tags": []
          },
          "execution_count": 11
        }
      ]
    },
    {
      "cell_type": "markdown",
      "metadata": {
        "id": "ibMAaofJtxSc"
      },
      "source": [
        "**Removendo missing values**"
      ]
    },
    {
      "cell_type": "code",
      "metadata": {
        "id": "vEzeTYF8FHg3"
      },
      "source": [
        "df.dropna(inplace = True)"
      ],
      "execution_count": 12,
      "outputs": []
    },
    {
      "cell_type": "code",
      "metadata": {
        "id": "sDKpQWGiGzts",
        "colab": {
          "base_uri": "https://localhost:8080/",
          "height": 204
        },
        "outputId": "bbfa4633-3b56-40a3-c060-95f3942c49c6"
      },
      "source": [
        "df.head()"
      ],
      "execution_count": 13,
      "outputs": [
        {
          "output_type": "execute_result",
          "data": {
            "text/html": [
              "<div>\n",
              "<style scoped>\n",
              "    .dataframe tbody tr th:only-of-type {\n",
              "        vertical-align: middle;\n",
              "    }\n",
              "\n",
              "    .dataframe tbody tr th {\n",
              "        vertical-align: top;\n",
              "    }\n",
              "\n",
              "    .dataframe thead th {\n",
              "        text-align: right;\n",
              "    }\n",
              "</style>\n",
              "<table border=\"1\" class=\"dataframe\">\n",
              "  <thead>\n",
              "    <tr style=\"text-align: right;\">\n",
              "      <th></th>\n",
              "      <th>age</th>\n",
              "      <th>job</th>\n",
              "      <th>marital</th>\n",
              "      <th>education</th>\n",
              "      <th>default</th>\n",
              "      <th>balance</th>\n",
              "      <th>housing</th>\n",
              "      <th>loan</th>\n",
              "      <th>contact</th>\n",
              "      <th>day</th>\n",
              "      <th>month</th>\n",
              "      <th>duration</th>\n",
              "      <th>campaign</th>\n",
              "      <th>pdays</th>\n",
              "      <th>previous</th>\n",
              "      <th>poutcome</th>\n",
              "      <th>y</th>\n",
              "    </tr>\n",
              "  </thead>\n",
              "  <tbody>\n",
              "    <tr>\n",
              "      <th>0</th>\n",
              "      <td>58</td>\n",
              "      <td>management</td>\n",
              "      <td>married</td>\n",
              "      <td>2.0</td>\n",
              "      <td>0</td>\n",
              "      <td>2143</td>\n",
              "      <td>1</td>\n",
              "      <td>0</td>\n",
              "      <td>1</td>\n",
              "      <td>5</td>\n",
              "      <td>5</td>\n",
              "      <td>261</td>\n",
              "      <td>1</td>\n",
              "      <td>-1</td>\n",
              "      <td>0</td>\n",
              "      <td>0</td>\n",
              "      <td>0</td>\n",
              "    </tr>\n",
              "    <tr>\n",
              "      <th>1</th>\n",
              "      <td>44</td>\n",
              "      <td>technician</td>\n",
              "      <td>single</td>\n",
              "      <td>1.0</td>\n",
              "      <td>0</td>\n",
              "      <td>29</td>\n",
              "      <td>1</td>\n",
              "      <td>0</td>\n",
              "      <td>1</td>\n",
              "      <td>5</td>\n",
              "      <td>5</td>\n",
              "      <td>151</td>\n",
              "      <td>1</td>\n",
              "      <td>-1</td>\n",
              "      <td>0</td>\n",
              "      <td>0</td>\n",
              "      <td>0</td>\n",
              "    </tr>\n",
              "    <tr>\n",
              "      <th>2</th>\n",
              "      <td>33</td>\n",
              "      <td>entrepreneur</td>\n",
              "      <td>married</td>\n",
              "      <td>1.0</td>\n",
              "      <td>0</td>\n",
              "      <td>2</td>\n",
              "      <td>1</td>\n",
              "      <td>1</td>\n",
              "      <td>1</td>\n",
              "      <td>5</td>\n",
              "      <td>5</td>\n",
              "      <td>76</td>\n",
              "      <td>1</td>\n",
              "      <td>-1</td>\n",
              "      <td>0</td>\n",
              "      <td>0</td>\n",
              "      <td>0</td>\n",
              "    </tr>\n",
              "    <tr>\n",
              "      <th>5</th>\n",
              "      <td>35</td>\n",
              "      <td>management</td>\n",
              "      <td>married</td>\n",
              "      <td>2.0</td>\n",
              "      <td>0</td>\n",
              "      <td>231</td>\n",
              "      <td>1</td>\n",
              "      <td>0</td>\n",
              "      <td>1</td>\n",
              "      <td>5</td>\n",
              "      <td>5</td>\n",
              "      <td>139</td>\n",
              "      <td>1</td>\n",
              "      <td>-1</td>\n",
              "      <td>0</td>\n",
              "      <td>0</td>\n",
              "      <td>0</td>\n",
              "    </tr>\n",
              "    <tr>\n",
              "      <th>6</th>\n",
              "      <td>28</td>\n",
              "      <td>management</td>\n",
              "      <td>single</td>\n",
              "      <td>2.0</td>\n",
              "      <td>0</td>\n",
              "      <td>447</td>\n",
              "      <td>1</td>\n",
              "      <td>1</td>\n",
              "      <td>1</td>\n",
              "      <td>5</td>\n",
              "      <td>5</td>\n",
              "      <td>217</td>\n",
              "      <td>1</td>\n",
              "      <td>-1</td>\n",
              "      <td>0</td>\n",
              "      <td>0</td>\n",
              "      <td>0</td>\n",
              "    </tr>\n",
              "  </tbody>\n",
              "</table>\n",
              "</div>"
            ],
            "text/plain": [
              "   age           job  marital  education  ...  pdays  previous  poutcome  y\n",
              "0   58    management  married        2.0  ...     -1         0         0  0\n",
              "1   44    technician   single        1.0  ...     -1         0         0  0\n",
              "2   33  entrepreneur  married        1.0  ...     -1         0         0  0\n",
              "5   35    management  married        2.0  ...     -1         0         0  0\n",
              "6   28    management   single        2.0  ...     -1         0         0  0\n",
              "\n",
              "[5 rows x 17 columns]"
            ]
          },
          "metadata": {
            "tags": []
          },
          "execution_count": 13
        }
      ]
    },
    {
      "cell_type": "markdown",
      "metadata": {
        "id": "9yDAYs_gt3AU"
      },
      "source": [
        "**Transformando colunas categóricas em numéricas**"
      ]
    },
    {
      "cell_type": "code",
      "metadata": {
        "id": "xls3ZWpbGwGG"
      },
      "source": [
        "df = pd.get_dummies(df)"
      ],
      "execution_count": 14,
      "outputs": []
    },
    {
      "cell_type": "code",
      "metadata": {
        "id": "sM0iUfvAG3q8",
        "colab": {
          "base_uri": "https://localhost:8080/",
          "height": 241
        },
        "outputId": "1b9a963d-1300-4b3d-e400-0fae2d118e50"
      },
      "source": [
        "df.head()"
      ],
      "execution_count": 15,
      "outputs": [
        {
          "output_type": "execute_result",
          "data": {
            "text/html": [
              "<div>\n",
              "<style scoped>\n",
              "    .dataframe tbody tr th:only-of-type {\n",
              "        vertical-align: middle;\n",
              "    }\n",
              "\n",
              "    .dataframe tbody tr th {\n",
              "        vertical-align: top;\n",
              "    }\n",
              "\n",
              "    .dataframe thead th {\n",
              "        text-align: right;\n",
              "    }\n",
              "</style>\n",
              "<table border=\"1\" class=\"dataframe\">\n",
              "  <thead>\n",
              "    <tr style=\"text-align: right;\">\n",
              "      <th></th>\n",
              "      <th>age</th>\n",
              "      <th>education</th>\n",
              "      <th>default</th>\n",
              "      <th>balance</th>\n",
              "      <th>housing</th>\n",
              "      <th>loan</th>\n",
              "      <th>contact</th>\n",
              "      <th>day</th>\n",
              "      <th>month</th>\n",
              "      <th>duration</th>\n",
              "      <th>campaign</th>\n",
              "      <th>pdays</th>\n",
              "      <th>previous</th>\n",
              "      <th>poutcome</th>\n",
              "      <th>y</th>\n",
              "      <th>job_admin.</th>\n",
              "      <th>job_blue-collar</th>\n",
              "      <th>job_entrepreneur</th>\n",
              "      <th>job_housemaid</th>\n",
              "      <th>job_management</th>\n",
              "      <th>job_retired</th>\n",
              "      <th>job_self-employed</th>\n",
              "      <th>job_services</th>\n",
              "      <th>job_student</th>\n",
              "      <th>job_technician</th>\n",
              "      <th>job_unemployed</th>\n",
              "      <th>job_unknown</th>\n",
              "      <th>marital_divorced</th>\n",
              "      <th>marital_married</th>\n",
              "      <th>marital_single</th>\n",
              "    </tr>\n",
              "  </thead>\n",
              "  <tbody>\n",
              "    <tr>\n",
              "      <th>0</th>\n",
              "      <td>58</td>\n",
              "      <td>2.0</td>\n",
              "      <td>0</td>\n",
              "      <td>2143</td>\n",
              "      <td>1</td>\n",
              "      <td>0</td>\n",
              "      <td>1</td>\n",
              "      <td>5</td>\n",
              "      <td>5</td>\n",
              "      <td>261</td>\n",
              "      <td>1</td>\n",
              "      <td>-1</td>\n",
              "      <td>0</td>\n",
              "      <td>0</td>\n",
              "      <td>0</td>\n",
              "      <td>0</td>\n",
              "      <td>0</td>\n",
              "      <td>0</td>\n",
              "      <td>0</td>\n",
              "      <td>1</td>\n",
              "      <td>0</td>\n",
              "      <td>0</td>\n",
              "      <td>0</td>\n",
              "      <td>0</td>\n",
              "      <td>0</td>\n",
              "      <td>0</td>\n",
              "      <td>0</td>\n",
              "      <td>0</td>\n",
              "      <td>1</td>\n",
              "      <td>0</td>\n",
              "    </tr>\n",
              "    <tr>\n",
              "      <th>1</th>\n",
              "      <td>44</td>\n",
              "      <td>1.0</td>\n",
              "      <td>0</td>\n",
              "      <td>29</td>\n",
              "      <td>1</td>\n",
              "      <td>0</td>\n",
              "      <td>1</td>\n",
              "      <td>5</td>\n",
              "      <td>5</td>\n",
              "      <td>151</td>\n",
              "      <td>1</td>\n",
              "      <td>-1</td>\n",
              "      <td>0</td>\n",
              "      <td>0</td>\n",
              "      <td>0</td>\n",
              "      <td>0</td>\n",
              "      <td>0</td>\n",
              "      <td>0</td>\n",
              "      <td>0</td>\n",
              "      <td>0</td>\n",
              "      <td>0</td>\n",
              "      <td>0</td>\n",
              "      <td>0</td>\n",
              "      <td>0</td>\n",
              "      <td>1</td>\n",
              "      <td>0</td>\n",
              "      <td>0</td>\n",
              "      <td>0</td>\n",
              "      <td>0</td>\n",
              "      <td>1</td>\n",
              "    </tr>\n",
              "    <tr>\n",
              "      <th>2</th>\n",
              "      <td>33</td>\n",
              "      <td>1.0</td>\n",
              "      <td>0</td>\n",
              "      <td>2</td>\n",
              "      <td>1</td>\n",
              "      <td>1</td>\n",
              "      <td>1</td>\n",
              "      <td>5</td>\n",
              "      <td>5</td>\n",
              "      <td>76</td>\n",
              "      <td>1</td>\n",
              "      <td>-1</td>\n",
              "      <td>0</td>\n",
              "      <td>0</td>\n",
              "      <td>0</td>\n",
              "      <td>0</td>\n",
              "      <td>0</td>\n",
              "      <td>1</td>\n",
              "      <td>0</td>\n",
              "      <td>0</td>\n",
              "      <td>0</td>\n",
              "      <td>0</td>\n",
              "      <td>0</td>\n",
              "      <td>0</td>\n",
              "      <td>0</td>\n",
              "      <td>0</td>\n",
              "      <td>0</td>\n",
              "      <td>0</td>\n",
              "      <td>1</td>\n",
              "      <td>0</td>\n",
              "    </tr>\n",
              "    <tr>\n",
              "      <th>5</th>\n",
              "      <td>35</td>\n",
              "      <td>2.0</td>\n",
              "      <td>0</td>\n",
              "      <td>231</td>\n",
              "      <td>1</td>\n",
              "      <td>0</td>\n",
              "      <td>1</td>\n",
              "      <td>5</td>\n",
              "      <td>5</td>\n",
              "      <td>139</td>\n",
              "      <td>1</td>\n",
              "      <td>-1</td>\n",
              "      <td>0</td>\n",
              "      <td>0</td>\n",
              "      <td>0</td>\n",
              "      <td>0</td>\n",
              "      <td>0</td>\n",
              "      <td>0</td>\n",
              "      <td>0</td>\n",
              "      <td>1</td>\n",
              "      <td>0</td>\n",
              "      <td>0</td>\n",
              "      <td>0</td>\n",
              "      <td>0</td>\n",
              "      <td>0</td>\n",
              "      <td>0</td>\n",
              "      <td>0</td>\n",
              "      <td>0</td>\n",
              "      <td>1</td>\n",
              "      <td>0</td>\n",
              "    </tr>\n",
              "    <tr>\n",
              "      <th>6</th>\n",
              "      <td>28</td>\n",
              "      <td>2.0</td>\n",
              "      <td>0</td>\n",
              "      <td>447</td>\n",
              "      <td>1</td>\n",
              "      <td>1</td>\n",
              "      <td>1</td>\n",
              "      <td>5</td>\n",
              "      <td>5</td>\n",
              "      <td>217</td>\n",
              "      <td>1</td>\n",
              "      <td>-1</td>\n",
              "      <td>0</td>\n",
              "      <td>0</td>\n",
              "      <td>0</td>\n",
              "      <td>0</td>\n",
              "      <td>0</td>\n",
              "      <td>0</td>\n",
              "      <td>0</td>\n",
              "      <td>1</td>\n",
              "      <td>0</td>\n",
              "      <td>0</td>\n",
              "      <td>0</td>\n",
              "      <td>0</td>\n",
              "      <td>0</td>\n",
              "      <td>0</td>\n",
              "      <td>0</td>\n",
              "      <td>0</td>\n",
              "      <td>0</td>\n",
              "      <td>1</td>\n",
              "    </tr>\n",
              "  </tbody>\n",
              "</table>\n",
              "</div>"
            ],
            "text/plain": [
              "   age  education  default  ...  marital_divorced  marital_married  marital_single\n",
              "0   58        2.0        0  ...                 0                1               0\n",
              "1   44        1.0        0  ...                 0                0               1\n",
              "2   33        1.0        0  ...                 0                1               0\n",
              "5   35        2.0        0  ...                 0                1               0\n",
              "6   28        2.0        0  ...                 0                0               1\n",
              "\n",
              "[5 rows x 30 columns]"
            ]
          },
          "metadata": {
            "tags": []
          },
          "execution_count": 15
        }
      ]
    },
    {
      "cell_type": "markdown",
      "metadata": {
        "id": "nd4Yigdb6ro2"
      },
      "source": [
        "**Visualizando a distribuição das classes**"
      ]
    },
    {
      "cell_type": "code",
      "metadata": {
        "id": "CgSWPoSjKm27",
        "colab": {
          "base_uri": "https://localhost:8080/"
        },
        "outputId": "7521440f-3052-48ec-c58a-d6ee29d569ca"
      },
      "source": [
        "df.y.value_counts()"
      ],
      "execution_count": 16,
      "outputs": [
        {
          "output_type": "execute_result",
          "data": {
            "text/plain": [
              "0    38317\n",
              "1     5037\n",
              "Name: y, dtype: int64"
            ]
          },
          "metadata": {
            "tags": []
          },
          "execution_count": 16
        }
      ]
    },
    {
      "cell_type": "code",
      "metadata": {
        "id": "gAKReNK7u0zR",
        "colab": {
          "base_uri": "https://localhost:8080/",
          "height": 282
        },
        "outputId": "38071027-3d7a-4a74-d619-bc81354ff315"
      },
      "source": [
        "import seaborn as sns\n",
        "ax = sns.countplot(x=\"y\", data=df)"
      ],
      "execution_count": 17,
      "outputs": [
        {
          "output_type": "display_data",
          "data": {
            "image/png": "[encoded data removed]",
            "text/plain": [
              "<Figure size 432x288 with 1 Axes>"
            ]
          },
          "metadata": {
            "tags": [],
            "needs_background": "light"
          }
        }
      ]
    },
    {
      "cell_type": "markdown",
      "metadata": {
        "id": "W7xhACf_kEr5"
      },
      "source": [
        "**Executando um Algoritmo Classificador**"
      ]
    },
    {
      "cell_type": "code",
      "metadata": {
        "id": "jVXZ6aCIKm54"
      },
      "source": [
        "lr = LogisticRegression()"
      ],
      "execution_count": 18,
      "outputs": []
    },
    {
      "cell_type": "markdown",
      "metadata": {
        "id": "nt-6Ef1YyoKA"
      },
      "source": [
        "**Separa dados e suas classes**"
      ]
    },
    {
      "cell_type": "code",
      "metadata": {
        "id": "wiPB5tU-DM82"
      },
      "source": [
        "X = df.drop(\"y\", axis = 1)\n",
        "y = df.y"
      ],
      "execution_count": 19,
      "outputs": []
    },
    {
      "cell_type": "markdown",
      "metadata": {
        "id": "67T5_Mmkysbv"
      },
      "source": [
        "**Separa dados de treino e teste**"
      ]
    },
    {
      "cell_type": "code",
      "metadata": {
        "id": "rnGLaLnhDHD2"
      },
      "source": [
        "X_train, X_test, y_train, y_test = train_test_split(X, y, random_state = 1, stratify=y)"
      ],
      "execution_count": 20,
      "outputs": []
    },
    {
      "cell_type": "markdown",
      "metadata": {
        "id": "vZBm7ZDmyw-3"
      },
      "source": [
        "**Treina o algoritmo**"
      ]
    },
    {
      "cell_type": "code",
      "metadata": {
        "id": "mLw7eBk7Csho",
        "colab": {
          "base_uri": "https://localhost:8080/"
        },
        "outputId": "dcf82621-e658-42a6-8f04-e685d1d6c9ee"
      },
      "source": [
        "lr.fit(X_train, y_train)"
      ],
      "execution_count": 21,
      "outputs": [
        {
          "output_type": "stream",
          "text": [
            "/usr/local/lib/python3.7/dist-packages/sklearn/linear_model/_logistic.py:940: ConvergenceWarning: lbfgs failed to converge (status=1):\n",
            "STOP: TOTAL NO. of ITERATIONS REACHED LIMIT.\n",
            "\n",
            "Increase the number of iterations (max_iter) or scale the data as shown in:\n",
            "    https://scikit-learn.org/stable/modules/preprocessing.html\n",
            "Please also refer to the documentation for alternative solver options:\n",
            "    https://scikit-learn.org/stable/modules/linear_model.html#logistic-regression\n",
            "  extra_warning_msg=_LOGISTIC_SOLVER_CONVERGENCE_MSG)\n"
          ],
          "name": "stderr"
        },
        {
          "output_type": "execute_result",
          "data": {
            "text/plain": [
              "LogisticRegression(C=1.0, class_weight=None, dual=False, fit_intercept=True,\n",
              "                   intercept_scaling=1, l1_ratio=None, max_iter=100,\n",
              "                   multi_class='auto', n_jobs=None, penalty='l2',\n",
              "                   random_state=None, solver='lbfgs', tol=0.0001, verbose=0,\n",
              "                   warm_start=False)"
            ]
          },
          "metadata": {
            "tags": []
          },
          "execution_count": 21
        }
      ]
    },
    {
      "cell_type": "markdown",
      "metadata": {
        "id": "Ewd79BESy1dI"
      },
      "source": [
        "**Coloca as classificações na variável y_pred**"
      ]
    },
    {
      "cell_type": "code",
      "metadata": {
        "id": "SbmryYYbCseW"
      },
      "source": [
        "y_pred = lr.predict(X_test)"
      ],
      "execution_count": 22,
      "outputs": []
    },
    {
      "cell_type": "markdown",
      "metadata": {
        "id": "nY00eEKNy8BX"
      },
      "source": [
        "**Checa a acurácia do modelo**"
      ]
    },
    {
      "cell_type": "code",
      "metadata": {
        "id": "V_d5Od-1CsS_",
        "colab": {
          "base_uri": "https://localhost:8080/"
        },
        "outputId": "0e3d93c0-8f1b-4a80-c798-44c5f7ea53cb"
      },
      "source": [
        "accuracy_score(y_test, y_pred)"
      ],
      "execution_count": 23,
      "outputs": [
        {
          "output_type": "execute_result",
          "data": {
            "text/plain": [
              "0.8903957929698312"
            ]
          },
          "metadata": {
            "tags": []
          },
          "execution_count": 23
        }
      ]
    },
    {
      "cell_type": "markdown",
      "metadata": {
        "id": "XboDyEg47vg8"
      },
      "source": [
        "**Relatório de Classificação**"
      ]
    },
    {
      "cell_type": "markdown",
      "metadata": {
        "id": "XVFov4xF9Dop"
      },
      "source": [
        "- *Observe o Recall*\n",
        "\n",
        "\n"
      ]
    },
    {
      "cell_type": "code",
      "metadata": {
        "id": "chzCyy3l7qJy",
        "colab": {
          "base_uri": "https://localhost:8080/"
        },
        "outputId": "daa09895-919b-443d-8299-ebd359eb31e1"
      },
      "source": [
        "print (classification_report(y_test, y_pred))"
      ],
      "execution_count": 24,
      "outputs": [
        {
          "output_type": "stream",
          "text": [
            "              precision    recall  f1-score   support\n",
            "\n",
            "           0       0.90      0.98      0.94      9580\n",
            "           1       0.58      0.20      0.30      1259\n",
            "\n",
            "    accuracy                           0.89     10839\n",
            "   macro avg       0.74      0.59      0.62     10839\n",
            "weighted avg       0.87      0.89      0.87     10839\n",
            "\n"
          ],
          "name": "stdout"
        }
      ]
    },
    {
      "cell_type": "markdown",
      "metadata": {
        "id": "Qo0ptTsfn-SC"
      },
      "source": [
        "      Vemos que o modelo aprendeu muito bem a prever a classe 0, mas para prever a 1 ele foi muito mal! \r\n",
        "      Ou seja, modelo sabe somente dizer quando o cliente tem crédito negado e não aceito pelo banco."
      ]
    },
    {
      "cell_type": "markdown",
      "metadata": {
        "id": "LfvusDcLzAh3"
      },
      "source": [
        "**Matriz de confusão**"
      ]
    },
    {
      "cell_type": "code",
      "metadata": {
        "id": "ByfpUOU0Dhm_",
        "colab": {
          "base_uri": "https://localhost:8080/"
        },
        "outputId": "a7539cd9-01d5-47eb-bcb9-fbee0b2d1b6d"
      },
      "source": [
        "print (pd.crosstab(y_test, y_pred, rownames=['Real'], colnames=['Predito'], margins=True))"
      ],
      "execution_count": 25,
      "outputs": [
        {
          "output_type": "stream",
          "text": [
            "Predito      0    1    All\n",
            "Real                      \n",
            "0         9401  179   9580\n",
            "1         1009  250   1259\n",
            "All      10410  429  10839\n"
          ],
          "name": "stdout"
        }
      ]
    },
    {
      "cell_type": "markdown",
      "metadata": {
        "id": "2-WG8UTETnAw"
      },
      "source": [
        "### **Aplicando NearMiss:**"
      ]
    },
    {
      "cell_type": "markdown",
      "metadata": {
        "id": "JTLb-Ne3qsLr"
      },
      "source": [
        "*   Método de Undersampling.\n",
        "*   Iguala as quantidade de amostras entre as classes. Reduz a quantidade de elementos da classe com maior número de dados, mantendo uma igualdade de elementos.\n",
        "\n"
      ]
    },
    {
      "cell_type": "code",
      "metadata": {
        "id": "9-GDH10OUXMf"
      },
      "source": [
        "from imblearn.under_sampling import NearMiss"
      ],
      "execution_count": 26,
      "outputs": []
    },
    {
      "cell_type": "markdown",
      "metadata": {
        "id": "JM9o0nSHzZh_"
      },
      "source": [
        "**Instancia o NearMiss**"
      ]
    },
    {
      "cell_type": "code",
      "metadata": {
        "id": "WSq600T1UZjL"
      },
      "source": [
        "nr = NearMiss()"
      ],
      "execution_count": 27,
      "outputs": []
    },
    {
      "cell_type": "markdown",
      "metadata": {
        "id": "w5fM7NVOzeb_"
      },
      "source": [
        "**Aplica o NearMiss**"
      ]
    },
    {
      "cell_type": "markdown",
      "metadata": {
        "id": "vDqdqRAqyBvi"
      },
      "source": [
        "\n",
        "\n",
        "*   Aplica o NearMiss nos dados para igualar a quantidade de amostras das classes\n",
        "\n"
      ]
    },
    {
      "cell_type": "code",
      "metadata": {
        "id": "CHdQyFqGwLK9",
        "colab": {
          "base_uri": "https://localhost:8080/"
        },
        "outputId": "c084ddaa-84ff-4d45-bb7e-63c16e3c6a56"
      },
      "source": [
        "X, y = nr.fit_sample(X, y)"
      ],
      "execution_count": 28,
      "outputs": [
        {
          "output_type": "stream",
          "text": [
            "/usr/local/lib/python3.7/dist-packages/sklearn/utils/deprecation.py:87: FutureWarning: Function safe_indexing is deprecated; safe_indexing is deprecated in version 0.22 and will be removed in version 0.24.\n",
            "  warnings.warn(msg, category=FutureWarning)\n",
            "/usr/local/lib/python3.7/dist-packages/sklearn/utils/deprecation.py:87: FutureWarning: Function safe_indexing is deprecated; safe_indexing is deprecated in version 0.22 and will be removed in version 0.24.\n",
            "  warnings.warn(msg, category=FutureWarning)\n",
            "/usr/local/lib/python3.7/dist-packages/sklearn/utils/deprecation.py:87: FutureWarning: Function safe_indexing is deprecated; safe_indexing is deprecated in version 0.22 and will be removed in version 0.24.\n",
            "  warnings.warn(msg, category=FutureWarning)\n"
          ],
          "name": "stderr"
        }
      ]
    },
    {
      "cell_type": "markdown",
      "metadata": {
        "id": "UgXSnMFy5r0i"
      },
      "source": [
        "**Checa a quantidade de amostras entre as classes**"
      ]
    },
    {
      "cell_type": "code",
      "metadata": {
        "id": "2vLgDUbQ5qLu",
        "colab": {
          "base_uri": "https://localhost:8080/",
          "height": 265
        },
        "outputId": "ca14dce8-befd-4693-dd29-2d128b412771"
      },
      "source": [
        "ax = sns.countplot(x=y)"
      ],
      "execution_count": 29,
      "outputs": [
        {
          "output_type": "display_data",
          "data": {
            "image/png": "[encoded data removed]",
            "text/plain": [
              "<Figure size 432x288 with 1 Axes>"
            ]
          },
          "metadata": {
            "tags": [],
            "needs_background": "light"
          }
        }
      ]
    },
    {
      "cell_type": "markdown",
      "metadata": {
        "id": "Zw91T_iqyVa8"
      },
      "source": [
        "\n",
        "\n",
        "*   Separa em 70% dos dados para treino e 30% para teste.\n",
        "\n",
        "\n"
      ]
    },
    {
      "cell_type": "code",
      "metadata": {
        "id": "XZEX1j4IC8Eo"
      },
      "source": [
        "X_train, X_test, y_train, y_test = train_test_split(X, y, random_state = 1, stratify=y)"
      ],
      "execution_count": 30,
      "outputs": []
    },
    {
      "cell_type": "markdown",
      "metadata": {
        "id": "mBNANpQ20QjP"
      },
      "source": [
        "**Instância o classificador**"
      ]
    },
    {
      "cell_type": "code",
      "metadata": {
        "id": "VUjhQVI70Gre"
      },
      "source": [
        "lr = LogisticRegression()"
      ],
      "execution_count": 31,
      "outputs": []
    },
    {
      "cell_type": "markdown",
      "metadata": {
        "id": "7pW-1L2r0UtW"
      },
      "source": [
        "**Treina o algoritmo**"
      ]
    },
    {
      "cell_type": "code",
      "metadata": {
        "id": "U-a6acyl0Gd2",
        "colab": {
          "base_uri": "https://localhost:8080/"
        },
        "outputId": "d55bf3e1-0500-400d-904a-2eff8b954a4f"
      },
      "source": [
        "lr.fit(X_train, y_train)"
      ],
      "execution_count": 32,
      "outputs": [
        {
          "output_type": "stream",
          "text": [
            "/usr/local/lib/python3.7/dist-packages/sklearn/linear_model/_logistic.py:940: ConvergenceWarning: lbfgs failed to converge (status=1):\n",
            "STOP: TOTAL NO. of ITERATIONS REACHED LIMIT.\n",
            "\n",
            "Increase the number of iterations (max_iter) or scale the data as shown in:\n",
            "    https://scikit-learn.org/stable/modules/preprocessing.html\n",
            "Please also refer to the documentation for alternative solver options:\n",
            "    https://scikit-learn.org/stable/modules/linear_model.html#logistic-regression\n",
            "  extra_warning_msg=_LOGISTIC_SOLVER_CONVERGENCE_MSG)\n"
          ],
          "name": "stderr"
        },
        {
          "output_type": "execute_result",
          "data": {
            "text/plain": [
              "LogisticRegression(C=1.0, class_weight=None, dual=False, fit_intercept=True,\n",
              "                   intercept_scaling=1, l1_ratio=None, max_iter=100,\n",
              "                   multi_class='auto', n_jobs=None, penalty='l2',\n",
              "                   random_state=None, solver='lbfgs', tol=0.0001, verbose=0,\n",
              "                   warm_start=False)"
            ]
          },
          "metadata": {
            "tags": []
          },
          "execution_count": 32
        }
      ]
    },
    {
      "cell_type": "markdown",
      "metadata": {
        "id": "8Yke1n18160H"
      },
      "source": [
        "**Coloca as classificações na variável y_pred**"
      ]
    },
    {
      "cell_type": "code",
      "metadata": {
        "id": "Ov6k9KFj0JaO"
      },
      "source": [
        "y_pred = lr.predict(X_test)"
      ],
      "execution_count": 33,
      "outputs": []
    },
    {
      "cell_type": "markdown",
      "metadata": {
        "id": "tZuU5QAe2ChO"
      },
      "source": [
        "**Checa a acurácia do modelo**"
      ]
    },
    {
      "cell_type": "code",
      "metadata": {
        "id": "aFWKvAIeUgMY",
        "colab": {
          "base_uri": "https://localhost:8080/"
        },
        "outputId": "fd8b487d-2f5c-4baf-aa73-91952bf79b76"
      },
      "source": [
        "accuracy_score(y_test, y_pred)"
      ],
      "execution_count": 34,
      "outputs": [
        {
          "output_type": "execute_result",
          "data": {
            "text/plain": [
              "0.8721714966256451"
            ]
          },
          "metadata": {
            "tags": []
          },
          "execution_count": 34
        }
      ]
    },
    {
      "cell_type": "markdown",
      "metadata": {
        "id": "73agp_Ma2KvY"
      },
      "source": [
        "*Recall*"
      ]
    },
    {
      "cell_type": "code",
      "metadata": {
        "id": "gLYn3aVmUhLY",
        "colab": {
          "base_uri": "https://localhost:8080/"
        },
        "outputId": "36bd909b-62ec-4edb-e7aa-62247659b08d"
      },
      "source": [
        "print (classification_report(y_test, y_pred))"
      ],
      "execution_count": 35,
      "outputs": [
        {
          "output_type": "stream",
          "text": [
            "              precision    recall  f1-score   support\n",
            "\n",
            "           0       0.85      0.90      0.88      1259\n",
            "           1       0.89      0.85      0.87      1260\n",
            "\n",
            "    accuracy                           0.87      2519\n",
            "   macro avg       0.87      0.87      0.87      2519\n",
            "weighted avg       0.87      0.87      0.87      2519\n",
            "\n"
          ],
          "name": "stdout"
        }
      ]
    },
    {
      "cell_type": "markdown",
      "metadata": {
        "id": "PGvZNMW52HB1"
      },
      "source": [
        "**Matriz de confusão**"
      ]
    },
    {
      "cell_type": "code",
      "metadata": {
        "id": "5MJsMXL7UZb-",
        "colab": {
          "base_uri": "https://localhost:8080/"
        },
        "outputId": "a9fb0de4-d6dc-46a6-c294-47fcddff3f90"
      },
      "source": [
        "print (pd.crosstab(y_test, y_pred, rownames=['Real'], colnames=['Predito'], margins=True))"
      ],
      "execution_count": 36,
      "outputs": [
        {
          "output_type": "stream",
          "text": [
            "Predito     0     1   All\n",
            "Real                     \n",
            "0        1129   130  1259\n",
            "1         192  1068  1260\n",
            "All      1321  1198  2519\n"
          ],
          "name": "stdout"
        }
      ]
    },
    {
      "cell_type": "markdown",
      "metadata": {
        "id": "bgaNYw3tIF3i"
      },
      "source": [
        "### **Aplicando o SMOTE (Synthetic Minority Over-sampling Technique)**"
      ]
    },
    {
      "cell_type": "markdown",
      "metadata": {
        "id": "sS-CA3cRzzeV"
      },
      "source": [
        "\n",
        "\n",
        "*   Gera dados sintéticos da classe minoritária.\n",
        "\n"
      ]
    },
    {
      "cell_type": "markdown",
      "metadata": {
        "id": "bUVunUBgzMlm"
      },
      "source": [
        "**Separa os dados e as classes**"
      ]
    },
    {
      "cell_type": "markdown",
      "metadata": {
        "id": "LuQsijqK0Bsq"
      },
      "source": [
        "*Aqui vamos repetir esse passo, pois, no teste do NearMiss a gente substituiu os dados das varíaveis X e y*"
      ]
    },
    {
      "cell_type": "code",
      "metadata": {
        "id": "jLuBioYRzLmv"
      },
      "source": [
        "X = df.drop(\"y\", axis = 1)\n",
        "y = df.y"
      ],
      "execution_count": 37,
      "outputs": []
    },
    {
      "cell_type": "markdown",
      "metadata": {
        "id": "efo410iW3SW-"
      },
      "source": [
        "**Visualizando a quantidade de dados por classe**"
      ]
    },
    {
      "cell_type": "code",
      "metadata": {
        "id": "gd7iUgJb2jcP",
        "colab": {
          "base_uri": "https://localhost:8080/"
        },
        "outputId": "00e69ffe-92ac-4cd1-ebfb-6eb01d68681a"
      },
      "source": [
        "np.bincount(y)"
      ],
      "execution_count": 38,
      "outputs": [
        {
          "output_type": "execute_result",
          "data": {
            "text/plain": [
              "array([38317,  5037])"
            ]
          },
          "metadata": {
            "tags": []
          },
          "execution_count": 38
        }
      ]
    },
    {
      "cell_type": "code",
      "metadata": {
        "id": "LUi_hdK0fQXH",
        "colab": {
          "base_uri": "https://localhost:8080/",
          "height": 282
        },
        "outputId": "e24af155-4ced-4b39-f288-46e909590d14"
      },
      "source": [
        "ax = sns.countplot(x=y)"
      ],
      "execution_count": 39,
      "outputs": [
        {
          "output_type": "display_data",
          "data": {
            "image/png": "[encoded data removed]",
            "text/plain": [
              "<Figure size 432x288 with 1 Axes>"
            ]
          },
          "metadata": {
            "tags": [],
            "needs_background": "light"
          }
        }
      ]
    },
    {
      "cell_type": "markdown",
      "metadata": {
        "id": "xAmBrTAW3iRi"
      },
      "source": [
        "**Instância o SMOTE**"
      ]
    },
    {
      "cell_type": "code",
      "metadata": {
        "id": "0fyjMCK3JbqM"
      },
      "source": [
        "# sampling_strategy=0.5\n",
        "smt = SMOTE(sampling_strategy=0.5)"
      ],
      "execution_count": 41,
      "outputs": []
    },
    {
      "cell_type": "markdown",
      "metadata": {
        "id": "4GA4q37MsPJS"
      },
      "source": [
        "Por padrão ele torna a classe minoritaria com mesmo numero de elementos, dados sintéticos, da classe majoritaria. No caso, deixamos em 50% da classe majioritaria."
      ]
    },
    {
      "cell_type": "markdown",
      "metadata": {
        "id": "kxgIV6453mEP"
      },
      "source": [
        "**Aplica o SMOTE nos dados**"
      ]
    },
    {
      "cell_type": "code",
      "metadata": {
        "id": "KQnQnseXJt5w",
        "colab": {
          "base_uri": "https://localhost:8080/"
        },
        "outputId": "d748a009-b48b-4ca2-cf48-e64afceceb01"
      },
      "source": [
        "X, y = smt.fit_sample(X, y)"
      ],
      "execution_count": 42,
      "outputs": [
        {
          "output_type": "stream",
          "text": [
            "/usr/local/lib/python3.7/dist-packages/sklearn/utils/deprecation.py:87: FutureWarning: Function safe_indexing is deprecated; safe_indexing is deprecated in version 0.22 and will be removed in version 0.24.\n",
            "  warnings.warn(msg, category=FutureWarning)\n"
          ],
          "name": "stderr"
        }
      ]
    },
    {
      "cell_type": "markdown",
      "metadata": {
        "id": "SWnr8AOu3bbG"
      },
      "source": [
        "**Visualizando a distribuição das amostras**"
      ]
    },
    {
      "cell_type": "code",
      "metadata": {
        "id": "Rbc-Paow3cTw",
        "colab": {
          "base_uri": "https://localhost:8080/"
        },
        "outputId": "ca7b5374-56c0-4bff-868f-f7bd4c17e1cc"
      },
      "source": [
        "np.bincount(y)"
      ],
      "execution_count": 43,
      "outputs": [
        {
          "output_type": "execute_result",
          "data": {
            "text/plain": [
              "array([38317, 19158])"
            ]
          },
          "metadata": {
            "tags": []
          },
          "execution_count": 43
        }
      ]
    },
    {
      "cell_type": "code",
      "metadata": {
        "id": "f0bG7q_jfXZ4",
        "colab": {
          "base_uri": "https://localhost:8080/",
          "height": 268
        },
        "outputId": "02bf6437-c79f-48a1-97c8-c8e80d4fa582"
      },
      "source": [
        "ax = sns.countplot(x=y)"
      ],
      "execution_count": 44,
      "outputs": [
        {
          "output_type": "display_data",
          "data": {
            "image/png": "[encoded data removed]",
            "text/plain": [
              "<Figure size 432x288 with 1 Axes>"
            ]
          },
          "metadata": {
            "tags": [],
            "needs_background": "light"
          }
        }
      ]
    },
    {
      "cell_type": "markdown",
      "metadata": {
        "id": "Pfetvpui3XZ2"
      },
      "source": [
        "**Separando Treino e Teste**"
      ]
    },
    {
      "cell_type": "markdown",
      "metadata": {
        "id": "1I47ZHAk0rcE"
      },
      "source": [
        "\n",
        "\n",
        "*   Separa em 70% dos dados para treino e 30% para teste.\n",
        "\n",
        "\n"
      ]
    },
    {
      "cell_type": "code",
      "metadata": {
        "id": "axAyeCcuQf3R"
      },
      "source": [
        "X_train, X_test, y_train, y_test = train_test_split(X, y, random_state = 1, stratify=y)"
      ],
      "execution_count": 45,
      "outputs": []
    },
    {
      "cell_type": "markdown",
      "metadata": {
        "id": "arO-_7qp3qbN"
      },
      "source": [
        "**Instância o classificador**"
      ]
    },
    {
      "cell_type": "code",
      "metadata": {
        "id": "PAuf47lpQwon"
      },
      "source": [
        "lr = LogisticRegression()"
      ],
      "execution_count": 46,
      "outputs": []
    },
    {
      "cell_type": "markdown",
      "metadata": {
        "id": "9FUmzpSX3u8N"
      },
      "source": [
        "**Treina o algoritmo**"
      ]
    },
    {
      "cell_type": "code",
      "metadata": {
        "id": "s8sw9VQoQxQg",
        "colab": {
          "base_uri": "https://localhost:8080/"
        },
        "outputId": "06fce241-b12a-4345-cfa4-6e31cfd07bd4"
      },
      "source": [
        "lr.fit(X_train, y_train)"
      ],
      "execution_count": 47,
      "outputs": [
        {
          "output_type": "stream",
          "text": [
            "/usr/local/lib/python3.7/dist-packages/sklearn/linear_model/_logistic.py:940: ConvergenceWarning: lbfgs failed to converge (status=1):\n",
            "STOP: TOTAL NO. of ITERATIONS REACHED LIMIT.\n",
            "\n",
            "Increase the number of iterations (max_iter) or scale the data as shown in:\n",
            "    https://scikit-learn.org/stable/modules/preprocessing.html\n",
            "Please also refer to the documentation for alternative solver options:\n",
            "    https://scikit-learn.org/stable/modules/linear_model.html#logistic-regression\n",
            "  extra_warning_msg=_LOGISTIC_SOLVER_CONVERGENCE_MSG)\n"
          ],
          "name": "stderr"
        },
        {
          "output_type": "execute_result",
          "data": {
            "text/plain": [
              "LogisticRegression(C=1.0, class_weight=None, dual=False, fit_intercept=True,\n",
              "                   intercept_scaling=1, l1_ratio=None, max_iter=100,\n",
              "                   multi_class='auto', n_jobs=None, penalty='l2',\n",
              "                   random_state=None, solver='lbfgs', tol=0.0001, verbose=0,\n",
              "                   warm_start=False)"
            ]
          },
          "metadata": {
            "tags": []
          },
          "execution_count": 47
        }
      ]
    },
    {
      "cell_type": "markdown",
      "metadata": {
        "id": "6mKpVmdC4SE9"
      },
      "source": [
        "**Coloca as classificações na variável y_pred**"
      ]
    },
    {
      "cell_type": "code",
      "metadata": {
        "id": "skz7tSBQQzY_"
      },
      "source": [
        "y_pred = lr.predict(X_test)"
      ],
      "execution_count": 48,
      "outputs": []
    },
    {
      "cell_type": "markdown",
      "metadata": {
        "id": "05CIkbqN4d9J"
      },
      "source": [
        "**Checa a acurácia do modelo**"
      ]
    },
    {
      "cell_type": "code",
      "metadata": {
        "id": "dZ9edEwj4d9S",
        "colab": {
          "base_uri": "https://localhost:8080/"
        },
        "outputId": "fe95ffc6-64e8-4d23-a087-c5198330aee5"
      },
      "source": [
        "accuracy_score(y_test, y_pred)"
      ],
      "execution_count": 49,
      "outputs": [
        {
          "output_type": "execute_result",
          "data": {
            "text/plain": [
              "0.8006820238012388"
            ]
          },
          "metadata": {
            "tags": []
          },
          "execution_count": 49
        }
      ]
    },
    {
      "cell_type": "markdown",
      "metadata": {
        "id": "sWN3BXWc1gtA"
      },
      "source": [
        "*Recall*"
      ]
    },
    {
      "cell_type": "code",
      "metadata": {
        "id": "V0o25a15V46s",
        "colab": {
          "base_uri": "https://localhost:8080/"
        },
        "outputId": "3bea3d5e-03d0-426e-9359-5877485ed7a1"
      },
      "source": [
        "print (classification_report(y_test, y_pred))"
      ],
      "execution_count": 50,
      "outputs": [
        {
          "output_type": "stream",
          "text": [
            "              precision    recall  f1-score   support\n",
            "\n",
            "           0       0.82      0.89      0.86      9579\n",
            "           1       0.74      0.61      0.67      4790\n",
            "\n",
            "    accuracy                           0.80     14369\n",
            "   macro avg       0.78      0.75      0.76     14369\n",
            "weighted avg       0.80      0.80      0.80     14369\n",
            "\n"
          ],
          "name": "stdout"
        }
      ]
    },
    {
      "cell_type": "markdown",
      "metadata": {
        "id": "h4GN3Lt64gAO"
      },
      "source": [
        "**Matriz de Confusão**"
      ]
    },
    {
      "cell_type": "code",
      "metadata": {
        "id": "3TWIQCDir3XK",
        "colab": {
          "base_uri": "https://localhost:8080/"
        },
        "outputId": "127c02ee-268a-4824-b222-0fde7e50a2de"
      },
      "source": [
        "print (pd.crosstab(y_test, y_pred, rownames=['Real'], colnames=['Predito'], margins=True))"
      ],
      "execution_count": 51,
      "outputs": [
        {
          "output_type": "stream",
          "text": [
            "Predito      0     1    All\n",
            "Real                       \n",
            "0         8566  1013   9579\n",
            "1         1851  2939   4790\n",
            "All      10417  3952  14369\n"
          ],
          "name": "stdout"
        }
      ]
    },
    {
      "cell_type": "code",
      "metadata": {
        "id": "sNCiJ_YSs5RB"
      },
      "source": [
        ""
      ],
      "execution_count": null,
      "outputs": []
    }
  ]
}