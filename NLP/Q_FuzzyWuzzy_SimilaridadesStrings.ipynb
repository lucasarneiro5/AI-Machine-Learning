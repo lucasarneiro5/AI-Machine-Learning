{
  "nbformat": 4,
  "nbformat_minor": 0,
  "metadata": {
    "kernelspec": {
      "display_name": "Python 3",
      "language": "python",
      "name": "python3"
    },
    "language_info": {
      "codemirror_mode": {
        "name": "ipython",
        "version": 3
      },
      "file_extension": ".py",
      "mimetype": "text/x-python",
      "name": "python",
      "nbconvert_exporter": "python",
      "pygments_lexer": "ipython3",
      "version": "3.6.5"
    },
    "colab": {
      "name": "Q_FuzzyWuzzy-SimilaridadesStrings.ipynb",
      "provenance": []
    }
  },
  "cells": [
    {
      "cell_type": "markdown",
      "metadata": {
        "id": "hX2xSzTinNAl"
      },
      "source": [
        "## **Similaridade de Strings**"
      ]
    },
    {
      "cell_type": "markdown",
      "metadata": {
        "id": "cEyVVrJVnNAo"
      },
      "source": [
        "Aplicações:\n",
        "\n",
        "    * Data Cleaning\n",
        "    * Correção de digitação\n",
        "    * Tradução de idiomas"
      ]
    },
    {
      "cell_type": "markdown",
      "metadata": {
        "id": "3LKwMmt9nNAr"
      },
      "source": [
        "FuzzyWuzzy - Levenshtein_distance - https://en.wikipedia.org/wiki/Levenshtein_distance"
      ]
    },
    {
      "cell_type": "code",
      "metadata": {
        "colab": {
          "base_uri": "https://localhost:8080/"
        },
        "id": "0bmo28_pnNAs",
        "outputId": "0e577b8c-fd3c-4e00-88fb-be0d421a33ee"
      },
      "source": [
        "!pip install fuzzywuzzy"
      ],
      "execution_count": 1,
      "outputs": [
        {
          "output_type": "stream",
          "text": [
            "Collecting fuzzywuzzy\n",
            "  Downloading https://files.pythonhosted.org/packages/43/ff/74f23998ad2f93b945c0309f825be92e04e0348e062026998b5eefef4c33/fuzzywuzzy-0.18.0-py2.py3-none-any.whl\n",
            "Installing collected packages: fuzzywuzzy\n",
            "Successfully installed fuzzywuzzy-0.18.0\n"
          ],
          "name": "stdout"
        }
      ]
    },
    {
      "cell_type": "code",
      "metadata": {
        "colab": {
          "base_uri": "https://localhost:8080/"
        },
        "id": "RtfyebOunNAt",
        "outputId": "abe39ead-ba12-4cf3-d065-7da25100bca1"
      },
      "source": [
        "!pip install fuzzywuzzy[speedup]"
      ],
      "execution_count": 2,
      "outputs": [
        {
          "output_type": "stream",
          "text": [
            "Requirement already satisfied: fuzzywuzzy[speedup] in /usr/local/lib/python3.7/dist-packages (0.18.0)\n",
            "Collecting python-levenshtein>=0.12; extra == \"speedup\"\n",
            "\u001b[?25l  Downloading https://files.pythonhosted.org/packages/2a/dc/97f2b63ef0fa1fd78dcb7195aca577804f6b2b51e712516cc0e902a9a201/python-Levenshtein-0.12.2.tar.gz (50kB)\n",
            "\u001b[K     |████████████████████████████████| 51kB 5.3MB/s \n",
            "\u001b[?25hRequirement already satisfied: setuptools in /usr/local/lib/python3.7/dist-packages (from python-levenshtein>=0.12; extra == \"speedup\"->fuzzywuzzy[speedup]) (56.1.0)\n",
            "Building wheels for collected packages: python-levenshtein\n",
            "  Building wheel for python-levenshtein (setup.py) ... \u001b[?25l\u001b[?25hdone\n",
            "  Created wheel for python-levenshtein: filename=python_Levenshtein-0.12.2-cp37-cp37m-linux_x86_64.whl size=149806 sha256=b1ba8c2620aba645915c071a9ab52c7d2af9ccd8c5c75177b938958db1d21883\n",
            "  Stored in directory: /root/.cache/pip/wheels/b3/26/73/4b48503bac73f01cf18e52cd250947049a7f339e940c5df8fc\n",
            "Successfully built python-levenshtein\n",
            "Installing collected packages: python-levenshtein\n",
            "Successfully installed python-levenshtein-0.12.2\n"
          ],
          "name": "stdout"
        }
      ]
    },
    {
      "cell_type": "markdown",
      "metadata": {
        "id": "hMBMz1QKnNAu"
      },
      "source": [
        "**Importa a biblitoteca**"
      ]
    },
    {
      "cell_type": "code",
      "metadata": {
        "id": "xMWj52YknNAu"
      },
      "source": [
        "from fuzzywuzzy import fuzz\n",
        "from fuzzywuzzy import process"
      ],
      "execution_count": 3,
      "outputs": []
    },
    {
      "cell_type": "markdown",
      "metadata": {
        "id": "m_e_7WcNnNAv"
      },
      "source": [
        "**Aplicando a fuzzywuzzy em duas strings**"
      ]
    },
    {
      "cell_type": "code",
      "metadata": {
        "colab": {
          "base_uri": "https://localhost:8080/"
        },
        "id": "sZevIj8enNAv",
        "outputId": "b2a8e10c-621f-4f8e-d939-17376eebefc2"
      },
      "source": [
        "s1 = 'Doença Cardiovascular'\n",
        "s2 = 'Doença Cardiovascular'\n",
        "fuzz.ratio(s1,s2)"
      ],
      "execution_count": 4,
      "outputs": [
        {
          "output_type": "execute_result",
          "data": {
            "text/plain": [
              "100"
            ]
          },
          "metadata": {
            "tags": []
          },
          "execution_count": 4
        }
      ]
    },
    {
      "cell_type": "markdown",
      "metadata": {
        "id": "9mOTRTgLqEMN"
      },
      "source": [
        "      Mostra 100% de similaridade"
      ]
    },
    {
      "cell_type": "code",
      "metadata": {
        "colab": {
          "base_uri": "https://localhost:8080/"
        },
        "id": "vvhIdoN4nNAw",
        "outputId": "02d3b3eb-b7fb-4109-83e7-e4b0aab92532"
      },
      "source": [
        "s1 = 'Doença Cardiovascular'\n",
        "s2 = 'Doença Cardiovasculhar'\n",
        "fuzz.ratio(s1,s2)"
      ],
      "execution_count": 5,
      "outputs": [
        {
          "output_type": "execute_result",
          "data": {
            "text/plain": [
              "98"
            ]
          },
          "metadata": {
            "tags": []
          },
          "execution_count": 5
        }
      ]
    },
    {
      "cell_type": "markdown",
      "metadata": {
        "id": "NE19a6rFqMo-"
      },
      "source": [
        "    Similaridade de 98%"
      ]
    },
    {
      "cell_type": "markdown",
      "metadata": {
        "id": "kbUddCu_nNAx"
      },
      "source": [
        "**Letras maiusculas e minúsculas**"
      ]
    },
    {
      "cell_type": "code",
      "metadata": {
        "colab": {
          "base_uri": "https://localhost:8080/"
        },
        "id": "2S0yZyj5nNAy",
        "outputId": "b47b03f0-45bf-470a-c7fa-63bacafca981"
      },
      "source": [
        "s1 = 'Doença Cardiovascular'\n",
        "s2 = 'doença Cardiovascular'\n",
        "fuzz.ratio(s1,s2)"
      ],
      "execution_count": 6,
      "outputs": [
        {
          "output_type": "execute_result",
          "data": {
            "text/plain": [
              "95"
            ]
          },
          "metadata": {
            "tags": []
          },
          "execution_count": 6
        }
      ]
    },
    {
      "cell_type": "markdown",
      "metadata": {
        "id": "nImd_zcZqZXZ"
      },
      "source": [
        "    Similaridade de 95%. Diferença do tamanho do caracter tem certo peso"
      ]
    },
    {
      "cell_type": "markdown",
      "metadata": {
        "id": "LrvtuS_1nNAy"
      },
      "source": [
        "**Pontuação ou outros caracteres influenciam no score?**"
      ]
    },
    {
      "cell_type": "code",
      "metadata": {
        "colab": {
          "base_uri": "https://localhost:8080/"
        },
        "id": "ju2G-Rz6nNA0",
        "outputId": "e8c7c7b4-edbd-406d-fd78-4c0c40c5e830"
      },
      "source": [
        "s1 = 'Doença Cardiovascular'\n",
        "s2 = 'Doença Cardiovascular!!'\n",
        "fuzz.ratio(s1,s2)"
      ],
      "execution_count": 7,
      "outputs": [
        {
          "output_type": "execute_result",
          "data": {
            "text/plain": [
              "95"
            ]
          },
          "metadata": {
            "tags": []
          },
          "execution_count": 7
        }
      ]
    },
    {
      "cell_type": "markdown",
      "metadata": {
        "id": "SQ10Ey2QqhCS"
      },
      "source": [
        "    Similaridade foi pouco interferida, devido aos carcteres especiais de pontuação"
      ]
    },
    {
      "cell_type": "markdown",
      "metadata": {
        "id": "tq6J7d_znNA0"
      },
      "source": [
        "## **Similaridade Parcial**"
      ]
    },
    {
      "cell_type": "markdown",
      "metadata": {
        "id": "WtAzx0XdnNA1"
      },
      "source": [
        "* Similaridade parcial busca apenas a string em questão e descarta o resto.\n",
        "* Extremamente útil para trabalhar com dados coletados da web."
      ]
    },
    {
      "cell_type": "code",
      "metadata": {
        "colab": {
          "base_uri": "https://localhost:8080/"
        },
        "id": "w6VL_WW2nNA2",
        "outputId": "efc46648-1693-4e1e-dde3-336827a47324"
      },
      "source": [
        "# Consultando o score usando o método ratio\n",
        "s1 = 'Doença Cardiovascular'\n",
        "s2 = '###$$%$!Doença Cardiovascular#$#%#ˆˆˆˆˆ!!'\n",
        "fuzz.ratio(s1,s2)"
      ],
      "execution_count": 8,
      "outputs": [
        {
          "output_type": "execute_result",
          "data": {
            "text/plain": [
              "68"
            ]
          },
          "metadata": {
            "tags": []
          },
          "execution_count": 8
        }
      ]
    },
    {
      "cell_type": "code",
      "metadata": {
        "colab": {
          "base_uri": "https://localhost:8080/"
        },
        "id": "I0gZpk-VnNA3",
        "outputId": "4456cc60-ad6f-4ddd-c930-2bb2285e530f"
      },
      "source": [
        "# Consultando o score usando o método partial\n",
        "s1 = 'Doença Cardiovascular'\n",
        "s2 = '###$$%$!Doença Cardiovascular#$#%#ˆˆˆˆˆ!!'\n",
        "fuzz.partial_ratio(s1,s2)"
      ],
      "execution_count": 9,
      "outputs": [
        {
          "output_type": "execute_result",
          "data": {
            "text/plain": [
              "100"
            ]
          },
          "metadata": {
            "tags": []
          },
          "execution_count": 9
        }
      ]
    },
    {
      "cell_type": "markdown",
      "metadata": {
        "id": "STX02vNvtlnl"
      },
      "source": [
        "    Essa função ignora as strings especiais"
      ]
    },
    {
      "cell_type": "code",
      "metadata": {
        "colab": {
          "base_uri": "https://localhost:8080/"
        },
        "id": "a4EEDVSNnNA3",
        "outputId": "dffbc26e-a291-4678-c34d-e5bf5f9aa2ec"
      },
      "source": [
        "# Consultando o score usando o método partial\n",
        "# alteração nas strings\n",
        "s1 = 'Doença Cardiovascular'\n",
        "s2 = '###$$%$!Doença Cardiovasculhar#$#%#ˆˆˆˆˆ!!'\n",
        "fuzz.partial_ratio(s1,s2)"
      ],
      "execution_count": 10,
      "outputs": [
        {
          "output_type": "execute_result",
          "data": {
            "text/plain": [
              "95"
            ]
          },
          "metadata": {
            "tags": []
          },
          "execution_count": 10
        }
      ]
    },
    {
      "cell_type": "markdown",
      "metadata": {
        "id": "dMtR1H4unNA4"
      },
      "source": [
        "**Ordem de caracteres diferentes?**"
      ]
    },
    {
      "cell_type": "code",
      "metadata": {
        "colab": {
          "base_uri": "https://localhost:8080/"
        },
        "id": "heu1jHU-nNA7",
        "outputId": "38058670-c862-45c7-985c-a73fcf69cfb0"
      },
      "source": [
        "# Consultando o score usando o método partial\n",
        "# alteração nas strings\n",
        "s1 = 'Doença Cardiovascular'\n",
        "s2 = 'Cardiovascular Doença'\n",
        "fuzz.partial_ratio(s1,s2)"
      ],
      "execution_count": 11,
      "outputs": [
        {
          "output_type": "execute_result",
          "data": {
            "text/plain": [
              "67"
            ]
          },
          "metadata": {
            "tags": []
          },
          "execution_count": 11
        }
      ]
    },
    {
      "cell_type": "markdown",
      "metadata": {
        "id": "09m_xCNJnNA8"
      },
      "source": [
        "* Função **partial_token_sort_ratio()** separa os tokens por espaço e ordena por ordem alfabética.\n",
        "* Coloca as strings em letras minúsculas.\n",
        "* Considera apenas as strings consultadas."
      ]
    },
    {
      "cell_type": "code",
      "metadata": {
        "colab": {
          "base_uri": "https://localhost:8080/"
        },
        "id": "YRT8LaOBnNA9",
        "outputId": "b1726739-d366-4854-def2-171416239050"
      },
      "source": [
        "# Consultando o score usando o método partial\n",
        "# alteração nas strings\n",
        "s1 = 'Doença Cardiovascular'\n",
        "s2 = 'Cardiovascular Doença'\n",
        "fuzz.partial_token_sort_ratio(s1,s2)"
      ],
      "execution_count": 12,
      "outputs": [
        {
          "output_type": "execute_result",
          "data": {
            "text/plain": [
              "100"
            ]
          },
          "metadata": {
            "tags": []
          },
          "execution_count": 12
        }
      ]
    },
    {
      "cell_type": "code",
      "metadata": {
        "colab": {
          "base_uri": "https://localhost:8080/"
        },
        "id": "iCNE0kzHnNA-",
        "outputId": "3850bd0f-f328-48f3-81c7-586b523cb608"
      },
      "source": [
        "# Consultando o score usando o método partial\n",
        "# alteração nas strings\n",
        "s1 = 'Doença Cardiovascular'\n",
        "s2 = 'cardiovascular doença'\n",
        "fuzz.partial_token_sort_ratio(s1,s2)"
      ],
      "execution_count": 13,
      "outputs": [
        {
          "output_type": "execute_result",
          "data": {
            "text/plain": [
              "100"
            ]
          },
          "metadata": {
            "tags": []
          },
          "execution_count": 13
        }
      ]
    },
    {
      "cell_type": "code",
      "metadata": {
        "colab": {
          "base_uri": "https://localhost:8080/"
        },
        "id": "31yuTP0SnNA_",
        "outputId": "1e1aea10-c52e-42ee-e03a-36b5107c9b51"
      },
      "source": [
        "# Consultando o score usando o método partial\n",
        "# alteração nas strings\n",
        "s1 = 'Doença Cardiovascular'\n",
        "s2 = '%%%%%cardiovascular doença&&&&****@@@'\n",
        "fuzz.partial_token_sort_ratio(s1,s2)"
      ],
      "execution_count": 14,
      "outputs": [
        {
          "output_type": "execute_result",
          "data": {
            "text/plain": [
              "100"
            ]
          },
          "metadata": {
            "tags": []
          },
          "execution_count": 14
        }
      ]
    },
    {
      "cell_type": "markdown",
      "metadata": {
        "id": "I8qFe2eWnNA_"
      },
      "source": [
        "## **Processando uma Lista de Strings**"
      ]
    },
    {
      "cell_type": "markdown",
      "metadata": {
        "id": "70JyHJ42nNBA"
      },
      "source": [
        "* Aplicar o fuzzywuzzy para corrigir strings em uma base de dados"
      ]
    },
    {
      "cell_type": "code",
      "metadata": {
        "id": "J-hR4aKznNBB"
      },
      "source": [
        "from fuzzywuzzy import process"
      ],
      "execution_count": 15,
      "outputs": []
    },
    {
      "cell_type": "markdown",
      "metadata": {
        "id": "yzFHwxfYnNBB"
      },
      "source": [
        "**Cria lista de strings**"
      ]
    },
    {
      "cell_type": "code",
      "metadata": {
        "id": "H0AO3UAlnNBC"
      },
      "source": [
        "lista = ['Doença Cardiovascular.','doença cardiovascular!!', 'Doenca Cardiovascular', 'Doenc. Cardio']"
      ],
      "execution_count": 16,
      "outputs": []
    },
    {
      "cell_type": "code",
      "metadata": {
        "colab": {
          "base_uri": "https://localhost:8080/"
        },
        "id": "M9J81JggnNBD",
        "outputId": "015120ed-cf4b-410e-c1b1-b517915215b5"
      },
      "source": [
        "lista"
      ],
      "execution_count": 17,
      "outputs": [
        {
          "output_type": "execute_result",
          "data": {
            "text/plain": [
              "['Doença Cardiovascular.',\n",
              " 'doença cardiovascular!!',\n",
              " 'Doenca Cardiovascular',\n",
              " 'Doenc. Cardio']"
            ]
          },
          "metadata": {
            "tags": []
          },
          "execution_count": 17
        }
      ]
    },
    {
      "cell_type": "markdown",
      "metadata": {
        "id": "ljTp5XNYnNBD"
      },
      "source": [
        "**Extrai os scores de similaridades com uma string em questão**"
      ]
    },
    {
      "cell_type": "code",
      "metadata": {
        "colab": {
          "base_uri": "https://localhost:8080/"
        },
        "id": "pqxOSj4gnNBE",
        "outputId": "74a08bab-4a00-4597-c1c2-b92c77f1a76e"
      },
      "source": [
        "process.extract('Doença Cardiovascular', lista, scorer=fuzz.partial_ratio)"
      ],
      "execution_count": 18,
      "outputs": [
        {
          "output_type": "execute_result",
          "data": {
            "text/plain": [
              "[('Doença Cardiovascular.', 100),\n",
              " ('doença cardiovascular!!', 100),\n",
              " ('Doenca Cardiovascular', 95),\n",
              " ('Doenc. Cardio', 85)]"
            ]
          },
          "metadata": {
            "tags": []
          },
          "execution_count": 18
        }
      ]
    },
    {
      "cell_type": "markdown",
      "metadata": {
        "id": "J8ZiQfS2nNBE"
      },
      "source": [
        "**Limitando o retorno**"
      ]
    },
    {
      "cell_type": "code",
      "metadata": {
        "colab": {
          "base_uri": "https://localhost:8080/"
        },
        "id": "dlWkfOoanNBE",
        "outputId": "55ee71ce-b018-451c-ef15-2fcc7bc4cbf0"
      },
      "source": [
        "process.extract('Doença Cardiovascular', lista, scorer=fuzz.partial_ratio,limit=2)"
      ],
      "execution_count": 19,
      "outputs": [
        {
          "output_type": "execute_result",
          "data": {
            "text/plain": [
              "[('Doença Cardiovascular.', 100), ('doença cardiovascular!!', 100)]"
            ]
          },
          "metadata": {
            "tags": []
          },
          "execution_count": 19
        }
      ]
    },
    {
      "cell_type": "markdown",
      "metadata": {
        "id": "w4zl4_DpnNBF"
      },
      "source": [
        "**Retorna apenas uma string com um score acima de 95**"
      ]
    },
    {
      "cell_type": "code",
      "metadata": {
        "colab": {
          "base_uri": "https://localhost:8080/"
        },
        "id": "hmjgBuZ7nNBF",
        "outputId": "63f12fe9-62fe-45b9-8b8b-4ca82d973108"
      },
      "source": [
        "# Método extractOne\n",
        "process.extractOne('Doença Cardiovascular', lista, scorer=fuzz.partial_ratio, score_cutoff=95)"
      ],
      "execution_count": 20,
      "outputs": [
        {
          "output_type": "execute_result",
          "data": {
            "text/plain": [
              "('Doença Cardiovascular.', 100)"
            ]
          },
          "metadata": {
            "tags": []
          },
          "execution_count": 20
        }
      ]
    },
    {
      "cell_type": "markdown",
      "metadata": {
        "id": "l7dZPDv3nNBG"
      },
      "source": [
        "## **Data Cleaning em um DataFrame**"
      ]
    },
    {
      "cell_type": "markdown",
      "metadata": {
        "id": "L1SIZl4-nNBG"
      },
      "source": [
        "* Aplicar o fuzzywuzzy em uma base de dados\n",
        "* Medir a similaridade de strings e fazer **Data Cleaning**"
      ]
    },
    {
      "cell_type": "code",
      "metadata": {
        "id": "cxdhUpoInNBG"
      },
      "source": [
        "import pandas as pd\n",
        "from collections import OrderedDict\n",
        "data = OrderedDict(\n",
        "    {\n",
        "        'codigo_produto': [10 , 11, 12, 13, 14],\n",
        "        'descrição': ['iphone 6ss', 'iphone 6s', 'iphoni 6s', 'ipone 6s','Iphone 6s,,,,']\n",
        "        \n",
        "    })"
      ],
      "execution_count": 21,
      "outputs": []
    },
    {
      "cell_type": "code",
      "metadata": {
        "colab": {
          "base_uri": "https://localhost:8080/"
        },
        "id": "_F844UopnNBH",
        "outputId": "05b0d7a4-462a-4a68-96f7-63bdc78f2885"
      },
      "source": [
        "data"
      ],
      "execution_count": 22,
      "outputs": [
        {
          "output_type": "execute_result",
          "data": {
            "text/plain": [
              "OrderedDict([('codigo_produto', [10, 11, 12, 13, 14]),\n",
              "             ('descrição',\n",
              "              ['iphone 6ss',\n",
              "               'iphone 6s',\n",
              "               'iphoni 6s',\n",
              "               'ipone 6s',\n",
              "               'Iphone 6s,,,,'])])"
            ]
          },
          "metadata": {
            "tags": []
          },
          "execution_count": 22
        }
      ]
    },
    {
      "cell_type": "code",
      "metadata": {
        "id": "_qWN13I1nNBH"
      },
      "source": [
        "dataset = pd.DataFrame(data)"
      ],
      "execution_count": 24,
      "outputs": []
    },
    {
      "cell_type": "code",
      "metadata": {
        "colab": {
          "base_uri": "https://localhost:8080/",
          "height": 204
        },
        "id": "7-1MBJKZnNBH",
        "outputId": "c77938f9-3bbe-4d87-bb24-744a436e7bb2"
      },
      "source": [
        "dataset"
      ],
      "execution_count": 25,
      "outputs": [
        {
          "output_type": "execute_result",
          "data": {
            "text/html": [
              "<div>\n",
              "<style scoped>\n",
              "    .dataframe tbody tr th:only-of-type {\n",
              "        vertical-align: middle;\n",
              "    }\n",
              "\n",
              "    .dataframe tbody tr th {\n",
              "        vertical-align: top;\n",
              "    }\n",
              "\n",
              "    .dataframe thead th {\n",
              "        text-align: right;\n",
              "    }\n",
              "</style>\n",
              "<table border=\"1\" class=\"dataframe\">\n",
              "  <thead>\n",
              "    <tr style=\"text-align: right;\">\n",
              "      <th></th>\n",
              "      <th>codigo_produto</th>\n",
              "      <th>descrição</th>\n",
              "    </tr>\n",
              "  </thead>\n",
              "  <tbody>\n",
              "    <tr>\n",
              "      <th>0</th>\n",
              "      <td>10</td>\n",
              "      <td>iphone 6ss</td>\n",
              "    </tr>\n",
              "    <tr>\n",
              "      <th>1</th>\n",
              "      <td>11</td>\n",
              "      <td>iphone 6s</td>\n",
              "    </tr>\n",
              "    <tr>\n",
              "      <th>2</th>\n",
              "      <td>12</td>\n",
              "      <td>iphoni 6s</td>\n",
              "    </tr>\n",
              "    <tr>\n",
              "      <th>3</th>\n",
              "      <td>13</td>\n",
              "      <td>ipone 6s</td>\n",
              "    </tr>\n",
              "    <tr>\n",
              "      <th>4</th>\n",
              "      <td>14</td>\n",
              "      <td>Iphone 6s,,,,</td>\n",
              "    </tr>\n",
              "  </tbody>\n",
              "</table>\n",
              "</div>"
            ],
            "text/plain": [
              "   codigo_produto      descrição\n",
              "0              10     iphone 6ss\n",
              "1              11      iphone 6s\n",
              "2              12      iphoni 6s\n",
              "3              13       ipone 6s\n",
              "4              14  Iphone 6s,,,,"
            ]
          },
          "metadata": {
            "tags": []
          },
          "execution_count": 25
        }
      ]
    },
    {
      "cell_type": "code",
      "metadata": {
        "colab": {
          "base_uri": "https://localhost:8080/"
        },
        "id": "Ne1UNLs8nNBI",
        "outputId": "15e96382-3027-4856-846a-49e6afaaa9e9"
      },
      "source": [
        "process.extractOne('Iphone 6s', choices=dataset.descrição, scorer=fuzz.ratio, score_cutoff=95)"
      ],
      "execution_count": 27,
      "outputs": [
        {
          "output_type": "execute_result",
          "data": {
            "text/plain": [
              "('iphone 6s', 100, 1)"
            ]
          },
          "metadata": {
            "tags": []
          },
          "execution_count": 27
        }
      ]
    },
    {
      "cell_type": "markdown",
      "metadata": {
        "id": "mqqp6k0Izlu6"
      },
      "source": [
        "    Percorre a coluna \"descriçao\" e encontra a localização da string com mais de 95% de similaridade de 'Iphone 6s'."
      ]
    },
    {
      "cell_type": "markdown",
      "metadata": {
        "id": "h21z_VTCnNBI"
      },
      "source": [
        "**Função que aplica o Fuzzy**"
      ]
    },
    {
      "cell_type": "code",
      "metadata": {
        "id": "Pz9L2gR8nNBI"
      },
      "source": [
        "def AplicaFuzzy(query, dados, metodo_ratio, score_corte):\n",
        "    return process.extractOne(query, choices=dados, scorer=metodo_ratio, score_cutoff=score_corte)"
      ],
      "execution_count": 29,
      "outputs": []
    },
    {
      "cell_type": "markdown",
      "metadata": {
        "id": "yPOC9joHnNBJ"
      },
      "source": [
        "**Testa a função**"
      ]
    },
    {
      "cell_type": "code",
      "metadata": {
        "colab": {
          "base_uri": "https://localhost:8080/"
        },
        "id": "95m4HXvJnNBJ",
        "outputId": "8f97249f-a314-495b-dc61-9c7450dd5547"
      },
      "source": [
        "AplicaFuzzy('Iphone 6s', dataset.descrição, fuzz.ratio, 90)"
      ],
      "execution_count": 30,
      "outputs": [
        {
          "output_type": "execute_result",
          "data": {
            "text/plain": [
              "('iphone 6s', 100, 1)"
            ]
          },
          "metadata": {
            "tags": []
          },
          "execution_count": 30
        }
      ]
    },
    {
      "cell_type": "markdown",
      "metadata": {
        "id": "XL0xXAEMnNBN"
      },
      "source": [
        "**Criando uma nova coluna no Dataset a partir das string similares**"
      ]
    },
    {
      "cell_type": "code",
      "metadata": {
        "id": "WifemuxYnNBO"
      },
      "source": [
        "# Cria uma nova coluna 'descriçao2', aplicando a funçao e filtrando as strings com > 95% de similaridade\n",
        "dataset['descrição2'] = AplicaFuzzy('Iphone 6s', dataset.descrição, fuzz.ratio, 95)[0]"
      ],
      "execution_count": 33,
      "outputs": []
    },
    {
      "cell_type": "code",
      "metadata": {
        "colab": {
          "base_uri": "https://localhost:8080/",
          "height": 204
        },
        "id": "UOM2MXRcnNBP",
        "outputId": "0cbd4d09-a355-49fe-9ac5-2ece95209383"
      },
      "source": [
        "dataset"
      ],
      "execution_count": 34,
      "outputs": [
        {
          "output_type": "execute_result",
          "data": {
            "text/html": [
              "<div>\n",
              "<style scoped>\n",
              "    .dataframe tbody tr th:only-of-type {\n",
              "        vertical-align: middle;\n",
              "    }\n",
              "\n",
              "    .dataframe tbody tr th {\n",
              "        vertical-align: top;\n",
              "    }\n",
              "\n",
              "    .dataframe thead th {\n",
              "        text-align: right;\n",
              "    }\n",
              "</style>\n",
              "<table border=\"1\" class=\"dataframe\">\n",
              "  <thead>\n",
              "    <tr style=\"text-align: right;\">\n",
              "      <th></th>\n",
              "      <th>codigo_produto</th>\n",
              "      <th>descrição</th>\n",
              "      <th>descrição2</th>\n",
              "    </tr>\n",
              "  </thead>\n",
              "  <tbody>\n",
              "    <tr>\n",
              "      <th>0</th>\n",
              "      <td>10</td>\n",
              "      <td>iphone 6ss</td>\n",
              "      <td>iphone 6s</td>\n",
              "    </tr>\n",
              "    <tr>\n",
              "      <th>1</th>\n",
              "      <td>11</td>\n",
              "      <td>iphone 6s</td>\n",
              "      <td>iphone 6s</td>\n",
              "    </tr>\n",
              "    <tr>\n",
              "      <th>2</th>\n",
              "      <td>12</td>\n",
              "      <td>iphoni 6s</td>\n",
              "      <td>iphone 6s</td>\n",
              "    </tr>\n",
              "    <tr>\n",
              "      <th>3</th>\n",
              "      <td>13</td>\n",
              "      <td>ipone 6s</td>\n",
              "      <td>iphone 6s</td>\n",
              "    </tr>\n",
              "    <tr>\n",
              "      <th>4</th>\n",
              "      <td>14</td>\n",
              "      <td>Iphone 6s,,,,</td>\n",
              "      <td>iphone 6s</td>\n",
              "    </tr>\n",
              "  </tbody>\n",
              "</table>\n",
              "</div>"
            ],
            "text/plain": [
              "   codigo_produto      descrição descrição2\n",
              "0              10     iphone 6ss  iphone 6s\n",
              "1              11      iphone 6s  iphone 6s\n",
              "2              12      iphoni 6s  iphone 6s\n",
              "3              13       ipone 6s  iphone 6s\n",
              "4              14  Iphone 6s,,,,  iphone 6s"
            ]
          },
          "metadata": {
            "tags": []
          },
          "execution_count": 34
        }
      ]
    },
    {
      "cell_type": "code",
      "metadata": {
        "id": "w7W1iYWd0qlm"
      },
      "source": [
        ""
      ],
      "execution_count": null,
      "outputs": []
    }
  ]
}