{
  "nbformat": 4,
  "nbformat_minor": 0,
  "metadata": {
    "kernelspec": {
      "display_name": "Python 3",
      "language": "python",
      "name": "python3"
    },
    "language_info": {
      "codemirror_mode": {
        "name": "ipython",
        "version": 3
      },
      "file_extension": ".py",
      "mimetype": "text/x-python",
      "name": "python",
      "nbconvert_exporter": "python",
      "pygments_lexer": "ipython3",
      "version": "3.6.5"
    },
    "colab": {
      "name": "P_AnaliseSentimentos-Tweets.ipynb",
      "provenance": []
    }
  },
  "cells": [
    {
      "cell_type": "markdown",
      "metadata": {
        "id": "ACL-pnbQnyvl"
      },
      "source": [
        "## **Análise de Sentimentos usando Machine Learning**"
      ]
    },
    {
      "cell_type": "markdown",
      "metadata": {
        "id": "emITzsBBnyvm"
      },
      "source": [
        "* Criando modelos para análise de sentimentos de tweets\n",
        "* Teste com Modelo usando tag de negações\n",
        "* Teste com Modelo usando Bigrams"
      ]
    },
    {
      "cell_type": "code",
      "metadata": {
        "id": "mcyQ02A4nyvn"
      },
      "source": [
        "from nltk import word_tokenize\n",
        "import nltk\n",
        "import re\n",
        "import pandas as pd\n",
        "from sklearn.feature_extraction.text import CountVectorizer\n",
        "from sklearn.naive_bayes import MultinomialNB\n",
        "from sklearn import metrics\n",
        "from sklearn.model_selection import cross_val_predict"
      ],
      "execution_count": 1,
      "outputs": []
    },
    {
      "cell_type": "markdown",
      "metadata": {
        "id": "emNwGpSRnyvo"
      },
      "source": [
        "**Ler arquivo de dados e conta a quantidade de linhas**"
      ]
    },
    {
      "cell_type": "code",
      "metadata": {
        "id": "K1kmqKKFnyvo"
      },
      "source": [
        "dataset = pd.read_csv('Tweets_Mg.csv', encoding='utf-8')"
      ],
      "execution_count": 3,
      "outputs": []
    },
    {
      "cell_type": "markdown",
      "metadata": {
        "id": "DmGWPld6nyvp"
      },
      "source": [
        "**Exibe as 50 primeiras lihas de tweets**"
      ]
    },
    {
      "cell_type": "code",
      "metadata": {
        "id": "IoiOAJa6nyvp",
        "colab": {
          "base_uri": "https://localhost:8080/"
        },
        "outputId": "9481b36a-54ef-4b17-8611-e46b3d988955"
      },
      "source": [
        "dataset.Text.head(50)"
      ],
      "execution_count": 4,
      "outputs": [
        {
          "output_type": "execute_result",
          "data": {
            "text/plain": [
              "0     ���⛪ @ Catedral de Santo Antônio - Governador ...\n",
              "1     � @ Governador Valadares, Minas Gerais https:/...\n",
              "2     �� @ Governador Valadares, Minas Gerais https:...\n",
              "3                           ��� https://t.co/BnDsO34qK0\n",
              "4     ��� PSOL vai questionar aumento de vereadores ...\n",
              "5     \" bom é bandido morto\"\\nDeputado Cabo Júlio é ...\n",
              "6     \"..E 25% dos mineiros dizem não torcer para ti...\n",
              "7     \"A gigantesca barba do mal\" em destaque no cad...\n",
              "8     \"BB e governo de Minas travam disputa sobre de...\n",
              "9     \"com vcs bh fica pequena!\" Belo Horizonte (pro...\n",
              "10    \"Daí a gente visita governador valadares\"\\n\"Qu...\n",
              "11    \"É bonita e é bonita...\" \\n#latergram #ibituru...\n",
              "12    \"erro desconhecido\" é mato! Aliás, é da secret...\n",
              "13    \"La La Land: Cantando Estações\" arrasa no Glob...\n",
              "14    \"La La Land: Cantando Estações\" arrasa no Glob...\n",
              "15    \"Los abusos, aun en el estado más sólido, son ...\n",
              "16    \"Mesmo sem muito dinheiro no caixa o governo d...\n",
              "17    \"Modelo de segurança será o nosso legado\", diz...\n",
              "18    \"Modelo de segurança será o nosso legado\", diz...\n",
              "19    \"Modelo de segurança será o nosso legado\", diz...\n",
              "20    \"O governo de Minas Gerais não comentou o assu...\n",
              "21    \"O governo federal publicou no dia 27 de dezem...\n",
              "22    \"Polícia Federal acaba de divulgar que encontr...\n",
              "23    \"Praia da Estação\" lota neste sábado de verão ...\n",
              "24    \"Representando mais uma ferramenta de monitora...\n",
              "25    \"uso de aeronave pertencente ao  Estado de MG,...\n",
              "26    \"vou postar umas curiosidades sobre o corpo hu...\n",
              "27    #ACORDAMINAS!!!\\n\\nO governador Fernando Pimen...\n",
              "28    #ACORDAMINAS!!!!\\n\\nO povo mineiro tem que da ...\n",
              "29    #Alerta - Nome da CEEE é utilizado em golpe no...\n",
              "30    #beta #betalab #mg Afiliada da Globo: Apresent...\n",
              "31    #beta #betalab #mg Caos nos presídios: AM pede...\n",
              "32    #beta #betalab #mg Caos nos presídios: Temer e...\n",
              "33    #beta #betalab #mg Crise carcerária: Governo d...\n",
              "34    #beta #betalab #mg Crise carcerária: Secretári...\n",
              "35    #beta #betalab #mg Crise política no DF se agr...\n",
              "36    #beta #betalab #mg Escalada de violência nos p...\n",
              "37    #beta #betalab #mg Escalada de violência: Crim...\n",
              "38    #beta #betalab #mg Estado afirma não ter sido ...\n",
              "39    #beta #betalab #mg Estado de espírito do pauli...\n",
              "40    #beta #betalab #mg Estados falidos: Parte do P...\n",
              "41    #beta #betalab #mg Ex-ministro e outros: Servi...\n",
              "42    #beta #betalab #mg Ex-presidente da Câmara: Ju...\n",
              "43    #beta #betalab #mg Governo em calamidade finan...\n",
              "44    #beta #betalab #mg Mais sobre o massacre: PF: ...\n",
              "45    #beta #betalab #mg Marketing e veto a medidas ...\n",
              "46    #beta #betalab #mg Massacre em presídio de Man...\n",
              "47    #beta #betalab #mg Mudanças propostas pelo gov...\n",
              "48    #beta #betalab #mg Muitas páginas de investiga...\n",
              "49    #beta #betalab #mg Nos últimos dois anos: Gove...\n",
              "Name: Text, dtype: object"
            ]
          },
          "metadata": {
            "tags": []
          },
          "execution_count": 4
        }
      ]
    },
    {
      "cell_type": "markdown",
      "metadata": {
        "id": "y2ymQC8Jnyvq"
      },
      "source": [
        "**Conta a quantidade de linhas de tweets neutros, positivos e negativos**"
      ]
    },
    {
      "cell_type": "code",
      "metadata": {
        "id": "7ar8--V_nyvq",
        "colab": {
          "base_uri": "https://localhost:8080/"
        },
        "outputId": "b1ef0d69-e310-45f6-d01d-69f8d9ec7b2b"
      },
      "source": [
        "dataset[dataset.Classificacao=='Neutro'].count()"
      ],
      "execution_count": 5,
      "outputs": [
        {
          "output_type": "execute_result",
          "data": {
            "text/plain": [
              "Unnamed: 0                   2453\n",
              "Created At                   2453\n",
              "Text                         2453\n",
              "Geo Coordinates.latitude      102\n",
              "Geo Coordinates.longitude     102\n",
              "User Location                1712\n",
              "Username                     2453\n",
              "User Screen Name             2453\n",
              "Retweet Count                2453\n",
              "Classificacao                2453\n",
              "Observação                      0\n",
              "Unnamed: 10                     0\n",
              "Unnamed: 11                     0\n",
              "Unnamed: 12                     0\n",
              "Unnamed: 13                     0\n",
              "Unnamed: 14                     0\n",
              "Unnamed: 15                     0\n",
              "Unnamed: 16                     0\n",
              "Unnamed: 17                     0\n",
              "Unnamed: 18                     0\n",
              "Unnamed: 19                     0\n",
              "Unnamed: 20                     0\n",
              "Unnamed: 21                     0\n",
              "Unnamed: 22                     0\n",
              "Unnamed: 23                     0\n",
              "Unnamed: 24                     0\n",
              "dtype: int64"
            ]
          },
          "metadata": {
            "tags": []
          },
          "execution_count": 5
        }
      ]
    },
    {
      "cell_type": "code",
      "metadata": {
        "id": "XCoxQ09Ynyvq",
        "colab": {
          "base_uri": "https://localhost:8080/"
        },
        "outputId": "ed383680-fa1d-4ec7-e301-335bd414e17c"
      },
      "source": [
        "dataset[dataset.Classificacao=='Positivo'].count()"
      ],
      "execution_count": 6,
      "outputs": [
        {
          "output_type": "execute_result",
          "data": {
            "text/plain": [
              "Unnamed: 0                   3300\n",
              "Created At                   3300\n",
              "Text                         3300\n",
              "Geo Coordinates.latitude        1\n",
              "Geo Coordinates.longitude       1\n",
              "User Location                2118\n",
              "Username                     3300\n",
              "User Screen Name             3300\n",
              "Retweet Count                3300\n",
              "Classificacao                3300\n",
              "Observação                      1\n",
              "Unnamed: 10                     0\n",
              "Unnamed: 11                     0\n",
              "Unnamed: 12                     0\n",
              "Unnamed: 13                     0\n",
              "Unnamed: 14                     0\n",
              "Unnamed: 15                     0\n",
              "Unnamed: 16                     0\n",
              "Unnamed: 17                     0\n",
              "Unnamed: 18                     0\n",
              "Unnamed: 19                     0\n",
              "Unnamed: 20                     0\n",
              "Unnamed: 21                     0\n",
              "Unnamed: 22                     0\n",
              "Unnamed: 23                     0\n",
              "Unnamed: 24                     0\n",
              "dtype: int64"
            ]
          },
          "metadata": {
            "tags": []
          },
          "execution_count": 6
        }
      ]
    },
    {
      "cell_type": "code",
      "metadata": {
        "id": "d9PDzfOXnyvr",
        "colab": {
          "base_uri": "https://localhost:8080/"
        },
        "outputId": "646beb48-1538-430b-be61-1a5f9f39aa9b"
      },
      "source": [
        "dataset[dataset.Classificacao=='Negativo'].count()"
      ],
      "execution_count": 7,
      "outputs": [
        {
          "output_type": "execute_result",
          "data": {
            "text/plain": [
              "Unnamed: 0                   2446\n",
              "Created At                   2446\n",
              "Text                         2446\n",
              "Geo Coordinates.latitude        1\n",
              "Geo Coordinates.longitude       1\n",
              "User Location                1659\n",
              "Username                     2446\n",
              "User Screen Name             2446\n",
              "Retweet Count                2446\n",
              "Classificacao                2446\n",
              "Observação                      0\n",
              "Unnamed: 10                     0\n",
              "Unnamed: 11                     0\n",
              "Unnamed: 12                     0\n",
              "Unnamed: 13                     0\n",
              "Unnamed: 14                     0\n",
              "Unnamed: 15                     0\n",
              "Unnamed: 16                     0\n",
              "Unnamed: 17                     0\n",
              "Unnamed: 18                     0\n",
              "Unnamed: 19                     0\n",
              "Unnamed: 20                     0\n",
              "Unnamed: 21                     0\n",
              "Unnamed: 22                     0\n",
              "Unnamed: 23                     0\n",
              "Unnamed: 24                     0\n",
              "dtype: int64"
            ]
          },
          "metadata": {
            "tags": []
          },
          "execution_count": 7
        }
      ]
    },
    {
      "cell_type": "code",
      "metadata": {
        "id": "xwW38pfknyvr",
        "colab": {
          "base_uri": "https://localhost:8080/",
          "height": 317
        },
        "outputId": "00f2cd43-e579-4395-81e9-801f469d2214"
      },
      "source": [
        "%matplotlib inline\n",
        "dataset.Classificacao.value_counts().plot(kind='bar')"
      ],
      "execution_count": 8,
      "outputs": [
        {
          "output_type": "execute_result",
          "data": {
            "text/plain": [
              "<matplotlib.axes._subplots.AxesSubplot at 0x7f17de959710>"
            ]
          },
          "metadata": {
            "tags": []
          },
          "execution_count": 8
        },
        {
          "output_type": "display_data",
          "data": {
            "image/png": "[encoded data removed]",
            "text/plain": [
              "<Figure size 432x288 with 1 Axes>"
            ]
          },
          "metadata": {
            "tags": [],
            "needs_background": "light"
          }
        }
      ]
    },
    {
      "cell_type": "code",
      "metadata": {
        "id": "uQlnaSfrnyvs",
        "colab": {
          "base_uri": "https://localhost:8080/"
        },
        "outputId": "890f2255-3ed7-4dd3-af84-0e6302373d79"
      },
      "source": [
        "dataset.count()"
      ],
      "execution_count": 9,
      "outputs": [
        {
          "output_type": "execute_result",
          "data": {
            "text/plain": [
              "Unnamed: 0                   8199\n",
              "Created At                   8199\n",
              "Text                         8199\n",
              "Geo Coordinates.latitude      104\n",
              "Geo Coordinates.longitude     104\n",
              "User Location                5489\n",
              "Username                     8199\n",
              "User Screen Name             8199\n",
              "Retweet Count                8199\n",
              "Classificacao                8199\n",
              "Observação                      1\n",
              "Unnamed: 10                     0\n",
              "Unnamed: 11                     0\n",
              "Unnamed: 12                     0\n",
              "Unnamed: 13                     0\n",
              "Unnamed: 14                     0\n",
              "Unnamed: 15                     0\n",
              "Unnamed: 16                     0\n",
              "Unnamed: 17                     0\n",
              "Unnamed: 18                     0\n",
              "Unnamed: 19                     0\n",
              "Unnamed: 20                     0\n",
              "Unnamed: 21                     0\n",
              "Unnamed: 22                     0\n",
              "Unnamed: 23                     0\n",
              "Unnamed: 24                     0\n",
              "dtype: int64"
            ]
          },
          "metadata": {
            "tags": []
          },
          "execution_count": 9
        }
      ]
    },
    {
      "cell_type": "markdown",
      "metadata": {
        "id": "l3nGZM_Unyvs"
      },
      "source": [
        "## **Pre-Processamento dos Dados**"
      ]
    },
    {
      "cell_type": "markdown",
      "metadata": {
        "id": "rYRx7AdYnyvt"
      },
      "source": [
        "* Remove linhas duplicadas na base de dados\n",
        "    - Problema na coleta dos dados.\n",
        "* Remove Stopwords\n",
        "* Faz Stemming nos dados\n",
        "* Remove caracteres indesejados como links, pontuação etc."
      ]
    },
    {
      "cell_type": "code",
      "metadata": {
        "id": "OHENzZCUnyvt"
      },
      "source": [
        "dataset.drop_duplicates(['Text'], inplace=True)"
      ],
      "execution_count": 11,
      "outputs": []
    },
    {
      "cell_type": "code",
      "metadata": {
        "id": "VB_s3lijnyvu",
        "colab": {
          "base_uri": "https://localhost:8080/"
        },
        "outputId": "c7ca1320-1bb4-402e-eefa-cd4a7ce96bcc"
      },
      "source": [
        "dataset.Text.count()"
      ],
      "execution_count": 12,
      "outputs": [
        {
          "output_type": "execute_result",
          "data": {
            "text/plain": [
              "5765"
            ]
          },
          "metadata": {
            "tags": []
          },
          "execution_count": 12
        }
      ]
    },
    {
      "cell_type": "markdown",
      "metadata": {
        "id": "xF3oBxu7nyvu"
      },
      "source": [
        "## **Separando tweets e suas Classes**"
      ]
    },
    {
      "cell_type": "code",
      "metadata": {
        "id": "u4EjnfConyvv"
      },
      "source": [
        "tweets = dataset['Text']\n",
        "classes = dataset['Classificacao']"
      ],
      "execution_count": 13,
      "outputs": []
    },
    {
      "cell_type": "markdown",
      "metadata": {
        "id": "YXPo754Ynyvv"
      },
      "source": [
        "**Instala bibliotecas e baixa a base de dados**"
      ]
    },
    {
      "cell_type": "code",
      "metadata": {
        "id": "pFWl8Ssenyvv",
        "colab": {
          "base_uri": "https://localhost:8080/"
        },
        "outputId": "fdf8405b-2ddc-4ff8-e6e7-8ea316788e02"
      },
      "source": [
        "import nltk\n",
        "nltk.download('stopwords')\n",
        "nltk.download('rslp')"
      ],
      "execution_count": 14,
      "outputs": [
        {
          "output_type": "stream",
          "text": [
            "[nltk_data] Downloading package stopwords to /root/nltk_data...\n",
            "[nltk_data]   Unzipping corpora/stopwords.zip.\n",
            "[nltk_data] Downloading package rslp to /root/nltk_data...\n",
            "[nltk_data]   Unzipping stemmers/rslp.zip.\n"
          ],
          "name": "stdout"
        },
        {
          "output_type": "execute_result",
          "data": {
            "text/plain": [
              "True"
            ]
          },
          "metadata": {
            "tags": []
          },
          "execution_count": 14
        }
      ]
    },
    {
      "cell_type": "markdown",
      "metadata": {
        "id": "5B1S_QMlnyvw"
      },
      "source": [
        "**Funções de Pre-processamento de dados**"
      ]
    },
    {
      "cell_type": "code",
      "metadata": {
        "id": "qE1W0yL8nyvw"
      },
      "source": [
        "def RemoveStopWords(instancia):\n",
        "    stopwords = set(nltk.corpus.stopwords.words('portuguese'))\n",
        "    palavras = [i for i in instancia.split() if not i in stopwords]\n",
        "    return (\" \".join(palavras))"
      ],
      "execution_count": 15,
      "outputs": []
    },
    {
      "cell_type": "code",
      "metadata": {
        "id": "ZnYH9DqUnyvx"
      },
      "source": [
        "def Stemming(instancia):\n",
        "    stemmer = nltk.stem.RSLPStemmer()\n",
        "    palavras = []\n",
        "    for w in instancia.split():\n",
        "        palavras.append(stemmer.stem(w))\n",
        "    return (\" \".join(palavras))"
      ],
      "execution_count": 16,
      "outputs": []
    },
    {
      "cell_type": "code",
      "metadata": {
        "id": "-DXOiUE-nyvx"
      },
      "source": [
        "def Limpeza_dados(instancia):\n",
        "    # remove links, pontos, virgulas,ponto e virgulas dos tweets\n",
        "    instancia = re.sub(r\"http\\S+\", \"\", instancia).lower().replace('.','').replace(';','').replace('-','').replace(':','').replace(')','')\n",
        "    return (instancia)"
      ],
      "execution_count": 20,
      "outputs": []
    },
    {
      "cell_type": "markdown",
      "metadata": {
        "id": "sPZpjgh4nyvy"
      },
      "source": [
        "**Entenda como funciona cada função**"
      ]
    },
    {
      "cell_type": "code",
      "metadata": {
        "id": "x-guekzZnyvy",
        "colab": {
          "base_uri": "https://localhost:8080/",
          "height": 35
        },
        "outputId": "4def227f-d1ca-4c5d-e2de-e1a503393f4d"
      },
      "source": [
        "RemoveStopWords('Eu não gosto do partido, e também não votaria novamente nesse governante!')"
      ],
      "execution_count": 17,
      "outputs": [
        {
          "output_type": "execute_result",
          "data": {
            "application/vnd.google.colaboratory.intrinsic+json": {
              "type": "string"
            },
            "text/plain": [
              "'Eu gosto partido, votaria novamente nesse governante!'"
            ]
          },
          "metadata": {
            "tags": []
          },
          "execution_count": 17
        }
      ]
    },
    {
      "cell_type": "code",
      "metadata": {
        "id": "OGry1Ar7nyvz",
        "colab": {
          "base_uri": "https://localhost:8080/",
          "height": 35
        },
        "outputId": "3bcb0c0b-c1d1-4cc3-dbc9-d59106777aa5"
      },
      "source": [
        "Stemming('Eu não gosto do partido, e também não votaria novamente nesse governante!')"
      ],
      "execution_count": 18,
      "outputs": [
        {
          "output_type": "execute_result",
          "data": {
            "application/vnd.google.colaboratory.intrinsic+json": {
              "type": "string"
            },
            "text/plain": [
              "'eu não gost do partido, e também não vot nov ness governante!'"
            ]
          },
          "metadata": {
            "tags": []
          },
          "execution_count": 18
        }
      ]
    },
    {
      "cell_type": "code",
      "metadata": {
        "id": "iQIl5ticnyvz",
        "colab": {
          "base_uri": "https://localhost:8080/",
          "height": 35
        },
        "outputId": "bd66d725-7b78-4706-d20d-3e0dbd1523e2"
      },
      "source": [
        "Limpeza_dados('Assita aqui o video do Governador falando sobre a CEMIG https://www.uol.com.br :) ;)')"
      ],
      "execution_count": 21,
      "outputs": [
        {
          "output_type": "execute_result",
          "data": {
            "application/vnd.google.colaboratory.intrinsic+json": {
              "type": "string"
            },
            "text/plain": [
              "'assita aqui o video do governador falando sobre a cemig   '"
            ]
          },
          "metadata": {
            "tags": []
          },
          "execution_count": 21
        }
      ]
    },
    {
      "cell_type": "markdown",
      "metadata": {
        "id": "RaBiK7sjnyvz"
      },
      "source": [
        "**Aplica as 3 funções de Pre-processamento nos dados**"
      ]
    },
    {
      "cell_type": "code",
      "metadata": {
        "id": "9LI2AWdfnyv0"
      },
      "source": [
        "def Preprocessing(instancia):\n",
        "    stemmer = nltk.stem.RSLPStemmer()\n",
        "    instancia = re.sub(r\"http\\S+\", \"\", instancia).lower().replace('.','').replace(';','').replace('-','').replace(':','').replace(')','')\n",
        "    stopwords = set(nltk.corpus.stopwords.words('portuguese'))\n",
        "    palavras = [stemmer.stem(i) for i in instancia.split() if not i in stopwords]\n",
        "    return (\" \".join(palavras))\n",
        "\n",
        "# Aplica a função em todos os dados:\n",
        "tweets = [Preprocessing(i) for i in tweets]"
      ],
      "execution_count": 23,
      "outputs": []
    },
    {
      "cell_type": "code",
      "metadata": {
        "id": "X3gMOHnqnyv0",
        "colab": {
          "base_uri": "https://localhost:8080/",
          "height": 35
        },
        "outputId": "9e18fe40-fe7d-4eed-fddc-c3031e824612"
      },
      "source": [
        "Preprocessing('Eu não gosto do partido, e também não votaria novamente nesse governante. Assita o video aqui https:// :)')"
      ],
      "execution_count": 24,
      "outputs": [
        {
          "output_type": "execute_result",
          "data": {
            "application/vnd.google.colaboratory.intrinsic+json": {
              "type": "string"
            },
            "text/plain": [
              "'gost partido, vot nov ness govern assit vide aqu'"
            ]
          },
          "metadata": {
            "tags": []
          },
          "execution_count": 24
        }
      ]
    },
    {
      "cell_type": "markdown",
      "metadata": {
        "id": "tgU6yWvhnyv1"
      },
      "source": [
        "**Visualize os dados e veja como ficou após o pré-processamento**"
      ]
    },
    {
      "cell_type": "code",
      "metadata": {
        "id": "XFg2gbTxnyv1",
        "colab": {
          "base_uri": "https://localhost:8080/"
        },
        "outputId": "baaa1c36-0891-4dc4-fbf3-b6c18ff517ff"
      },
      "source": [
        "tweets[:50]"
      ],
      "execution_count": 25,
      "outputs": [
        {
          "output_type": "execute_result",
          "data": {
            "text/plain": [
              "['���⛪ @ catedr sant antôni govern valadares/mg',\n",
              " '� @ govern valadares, min geral',\n",
              " '�� @ govern valadares, min geral',\n",
              " '���',\n",
              " '��� psol vai quest aument vere prefeit bh justiç poli est min',\n",
              " '\" bom band morto\" deput cab júli conden fic ineleg 10 ano poli est min',\n",
              " '\"e 25% min diz torc tim nenhum,mesm dentr est atléticomg cruz pq?\"',\n",
              " '\"a gigantesc barb mal\" destaqu cadern cult est min',\n",
              " '\"bb govern min tr disput sobr depósit judiciais\"',\n",
              " '\"com vc bh fic pequena!\" bel horizont (pron [bɛloɾiˈzõntʃi][10] capit est mg, áre aproximad 331 km²',\n",
              " '\"daí gent visit govern valadares\" \"qu lug eh mãe?\" \"mg, gent um parent la\" man ond q parent',\n",
              " '\"é bonit bonita\" #latergr #ibiturun #hom @ govern valadares, min geral',\n",
              " '\"err desconhecido\" mato! aliás, secret estad fazend tá assim mg precis dinh não, governador?',\n",
              " '\"la la land cant estações\" arras glob our est min',\n",
              " '\"la la land cant estações\" arras glob our est min',\n",
              " '\"lo abusos, aun en el est má sólido, son min sord tard tempr estallan\" joseph sanialdubay',\n",
              " '\"mesm dinh caix govern min geral compr 2 (doil helicópteros\" doi helicópter min geral #2017 s1',\n",
              " '\"model seguranç legado\", diz cláudi beat poli est min',\n",
              " '\"model seguranç legado\", diz cláudi beat poli est min',\n",
              " '\"model seguranç legado\", diz cláudi beat poli est min',\n",
              " '\"o govern min geral coment assunt \"',\n",
              " '\"o govern feder public dia 27 dezembr 2016, med provisór 764/16 permit diferenci',\n",
              " '\"políc feder acab divulg encontr prov apart lula, 4ª série\" jorn est min',\n",
              " '\"pra estação\" lot nest sáb ver bh geral est min',\n",
              " '\"represent ferrament monitor educ red estad minas, secret est',\n",
              " '\"us aeronav pertenc est mg, domingo, p/ fim pessoais, clar desvi finalidade\"',\n",
              " '\"vou post uma curios sobr corp humano\" *o jap men est min gerais* ????¿¿¿?¿',\n",
              " '#acordaminas!!! govern fern pimentel, ser flagr us helicópter est mg',\n",
              " '#acordaminas!!!! pov min pé bund dess canalh',\n",
              " '#alert nom cee utiliz golp est',\n",
              " '#bet #betalab #mg afili glob apresent am demit após critic governador…',\n",
              " '#bet #betalab #mg cao presídi am ped apoi uni seil dia após massacr',\n",
              " '#bet #betalab #mg cao presídi tem cármen lúc reún debat cris',\n",
              " '#bet #betalab #mg cris carcerár govern rora ped forç nacion tem',\n",
              " '#bet #betalab #mg cris carcerár secret sp diz hav guerr facç país',\n",
              " '#bet #betalab #mg cris polít df agrav rollemberg exon vicegovern cargo… #timbet #rt #brasil',\n",
              " '#bet #betalab #mg escal viol presídi am ped apoi forç nacional…',\n",
              " '#bet #betalab #mg escal viol crim organiz brasil disput 27…',\n",
              " '#bet #betalab #mg est afirm ter sid notific apes decis judicial, reajuste……',\n",
              " '#bet #betalab #mg est espírit paulist \"voz\" trânsito, buzin reflet pressa,……',\n",
              " '#bet #betalab #mg est fal part pmdb qu barr vet tem negoci de……',\n",
              " '#bet #betalab #mg exministr outr serv pt mantêm carg estratégicos… #timbet #rt #brasil',\n",
              " \"#bet #betalab #mg expresid câm justiç suíç vê 'indíci concretos' contra…\",\n",
              " '#bet #betalab #mg govern calam financ bb avis justiç min tem…',\n",
              " \"#bet #betalab #mg sobr massacr pf facç 'cel comando' dentr prisão…\",\n",
              " '#bet #betalab #mg marketing vet med pae doaç sang capoe 1ª……',\n",
              " '#bet #betalab #mg massacr presídi manau govern am rebat ministr justiç e… #timbet #rt #brasil',\n",
              " '#bet #betalab #mg mudanç propost govern reform lib trabalh 12 hor alguns……',\n",
              " '#bet #betalab #mg muit págin investig \"qg\" lav jat reún 30 milhões……',\n",
              " '#bet #betalab #mg últ doi ano govern pag r$ 2,4 bi alv lav jat']"
            ]
          },
          "metadata": {
            "tags": []
          },
          "execution_count": 25
        }
      ]
    },
    {
      "cell_type": "markdown",
      "metadata": {
        "collapsed": true,
        "id": "0mlQ8UqInyv1"
      },
      "source": [
        "## **Criando o modelo**"
      ]
    },
    {
      "cell_type": "markdown",
      "metadata": {
        "id": "N9U-Lmt-nyv2"
      },
      "source": [
        "**Instancia o objeto que faz a vetorização dos dados de texto**"
      ]
    },
    {
      "cell_type": "code",
      "metadata": {
        "id": "8vefjfaAnyv2"
      },
      "source": [
        "vectorizer = CountVectorizer(analyzer=\"word\")"
      ],
      "execution_count": 27,
      "outputs": []
    },
    {
      "cell_type": "markdown",
      "metadata": {
        "id": "EIVFKYu8nyv2"
      },
      "source": [
        "**Aplica o vetorizador nos dados de texto**"
      ]
    },
    {
      "cell_type": "code",
      "metadata": {
        "id": "RuQtQW5Tnyv3",
        "colab": {
          "base_uri": "https://localhost:8080/"
        },
        "outputId": "2315c197-7f90-4b13-97f0-f331a14756a4"
      },
      "source": [
        "freq_tweets = vectorizer.fit_transform(tweets)\n",
        "type(freq_tweets)"
      ],
      "execution_count": 28,
      "outputs": [
        {
          "output_type": "execute_result",
          "data": {
            "text/plain": [
              "scipy.sparse.csr.csr_matrix"
            ]
          },
          "metadata": {
            "tags": []
          },
          "execution_count": 28
        }
      ]
    },
    {
      "cell_type": "code",
      "metadata": {
        "id": "UZJDLfLPnyv3",
        "colab": {
          "base_uri": "https://localhost:8080/"
        },
        "outputId": "5ca580fb-96a7-4b63-b407-66e24a00131b"
      },
      "source": [
        "modelo = MultinomialNB()\n",
        "modelo.fit(freq_tweets,classes)"
      ],
      "execution_count": 29,
      "outputs": [
        {
          "output_type": "execute_result",
          "data": {
            "text/plain": [
              "MultinomialNB(alpha=1.0, class_prior=None, fit_prior=True)"
            ]
          },
          "metadata": {
            "tags": []
          },
          "execution_count": 29
        }
      ]
    },
    {
      "cell_type": "markdown",
      "metadata": {
        "id": "FLsxrnpYnyv3"
      },
      "source": [
        "**Formato (Linhas, Colunas) da matriz**"
      ]
    },
    {
      "cell_type": "code",
      "metadata": {
        "id": "Vwk27NSQnyv4",
        "colab": {
          "base_uri": "https://localhost:8080/"
        },
        "outputId": "3d8c3b7e-bdf7-4d20-83ff-7c3a1dffea59"
      },
      "source": [
        "freq_tweets.shape"
      ],
      "execution_count": 30,
      "outputs": [
        {
          "output_type": "execute_result",
          "data": {
            "text/plain": [
              "(5765, 5903)"
            ]
          },
          "metadata": {
            "tags": []
          },
          "execution_count": 30
        }
      ]
    },
    {
      "cell_type": "markdown",
      "metadata": {
        "id": "uLhLD10Cnyv4"
      },
      "source": [
        "**Matriz**"
      ]
    },
    {
      "cell_type": "code",
      "metadata": {
        "id": "mabFToKNnyv4",
        "colab": {
          "base_uri": "https://localhost:8080/"
        },
        "outputId": "b89e1dac-92d0-4cab-96a0-e910a4a3e758"
      },
      "source": [
        "freq_tweets.A"
      ],
      "execution_count": 31,
      "outputs": [
        {
          "output_type": "execute_result",
          "data": {
            "text/plain": [
              "array([[0, 0, 0, ..., 0, 0, 0],\n",
              "       [0, 0, 0, ..., 0, 0, 0],\n",
              "       [0, 0, 0, ..., 0, 0, 0],\n",
              "       ...,\n",
              "       [0, 0, 0, ..., 0, 0, 0],\n",
              "       [0, 0, 0, ..., 0, 0, 0],\n",
              "       [0, 0, 0, ..., 0, 0, 0]])"
            ]
          },
          "metadata": {
            "tags": []
          },
          "execution_count": 31
        }
      ]
    },
    {
      "cell_type": "markdown",
      "metadata": {
        "id": "SdQVtB1enyv5"
      },
      "source": [
        "**Testando o modelo com algumas instâncias simples**"
      ]
    },
    {
      "cell_type": "code",
      "metadata": {
        "id": "QGsyl7mlnyv5"
      },
      "source": [
        "# defina instâncias de teste dentro de uma lista\n",
        "testes = ['Esse governo está no início, vamos ver o que vai dar',\n",
        "          'Estou muito feliz com o governo de Minas esse ano',\n",
        "          'O estado de Minas Gerais decretou calamidade financeira!!!',\n",
        "          'A segurança desse país está deixando a desejar',\n",
        "          'O governador de Minas é mais uma vez do PT']"
      ],
      "execution_count": 32,
      "outputs": []
    },
    {
      "cell_type": "markdown",
      "metadata": {
        "id": "19Togpmqnyv6"
      },
      "source": [
        "**Aplica a função de Pré-processamento nos dados**"
      ]
    },
    {
      "cell_type": "code",
      "metadata": {
        "id": "8ONMo1JLnyv6"
      },
      "source": [
        "testes = [Preprocessing(i) for i in testes]"
      ],
      "execution_count": 37,
      "outputs": []
    },
    {
      "cell_type": "code",
      "metadata": {
        "id": "Ou_rHmT9nyv7"
      },
      "source": [
        "# Transforma os dados de teste em vetores de palavras.\n",
        "freq_testes = vectorizer.transform(testes)"
      ],
      "execution_count": 38,
      "outputs": []
    },
    {
      "cell_type": "code",
      "metadata": {
        "id": "XuzJ7a1Vnyv7",
        "colab": {
          "base_uri": "https://localhost:8080/"
        },
        "outputId": "3799913e-7c73-4f9d-f712-bc5981115dab"
      },
      "source": [
        "# Fazendo a classificação com o modelo treinado.\n",
        "for t, c in zip (testes,modelo.predict(freq_testes)):\n",
        "    print (t +\", \"+ c)"
      ],
      "execution_count": 39,
      "outputs": [
        {
          "output_type": "stream",
          "text": [
            "govern início, vam ver vai dar, Neutro\n",
            "feliz govern min ano, Neutro\n",
            "est min geral decret calam financeira!!!, Negativo\n",
            "seguranç dess país deix desej, Neutro\n",
            "govern min vez pt, Negativo\n"
          ],
          "name": "stdout"
        }
      ]
    },
    {
      "cell_type": "code",
      "metadata": {
        "id": "7DIoAUtjnyv7",
        "colab": {
          "base_uri": "https://localhost:8080/"
        },
        "outputId": "1086ae9d-f01b-4772-880a-7afcc2907ecf"
      },
      "source": [
        "# Probabilidades de cada classe\n",
        "print (modelo.classes_)\n",
        "modelo.predict_proba(freq_testes).round(2)"
      ],
      "execution_count": 40,
      "outputs": [
        {
          "output_type": "stream",
          "text": [
            "['Negativo' 'Neutro' 'Positivo']\n"
          ],
          "name": "stdout"
        },
        {
          "output_type": "execute_result",
          "data": {
            "text/plain": [
              "array([[0.12, 0.88, 0.  ],\n",
              "       [0.02, 0.96, 0.02],\n",
              "       [1.  , 0.  , 0.  ],\n",
              "       [0.01, 0.98, 0.01],\n",
              "       [0.67, 0.32, 0.  ]])"
            ]
          },
          "metadata": {
            "tags": []
          },
          "execution_count": 40
        }
      ]
    },
    {
      "cell_type": "markdown",
      "metadata": {
        "id": "wBHwW9u-nyv8"
      },
      "source": [
        "## **Função de Tags de Negações**"
      ]
    },
    {
      "cell_type": "markdown",
      "metadata": {
        "id": "n4wJFS_onyv8"
      },
      "source": [
        "* Acrescenta uma tag _NEG encontrada após um 'não'.\n",
        "* Objetivo é dar mais peso para o modelo identificar uma inversão de sentimento da frase.\n",
        "* Exemplos: \n",
        "    - Eu gosto de cachorros, positivo.\n",
        "    - Eu **não** gosto de cachorros, negativo."
      ]
    },
    {
      "cell_type": "code",
      "metadata": {
        "id": "6yFy2ogjnyv9"
      },
      "source": [
        "def marque_negacao(texto):\n",
        "    negacoes = ['não','not']\n",
        "    negacao_detectada = False\n",
        "    resultado = []\n",
        "    palavras = texto.split()\n",
        "    for p in palavras:\n",
        "        p = p.lower()\n",
        "        if negacao_detectada == True:\n",
        "            p = p + '_NEG'\n",
        "        if p in negacoes:\n",
        "            negacao_detectada = True\n",
        "        resultado.append(p)\n",
        "    return (\" \".join(resultado))"
      ],
      "execution_count": 42,
      "outputs": []
    },
    {
      "cell_type": "markdown",
      "metadata": {
        "id": "HOe1sgUZnyv-"
      },
      "source": [
        "**Exemplos de utilização da tag de negações**"
      ]
    },
    {
      "cell_type": "code",
      "metadata": {
        "id": "lDAqO_nbnyv-",
        "colab": {
          "base_uri": "https://localhost:8080/",
          "height": 35
        },
        "outputId": "0efe201b-8743-4c21-ce90-fdcda2fd3c37"
      },
      "source": [
        "marque_negacao('Eu gosto do partido, votaria novamente nesse governante!')"
      ],
      "execution_count": 43,
      "outputs": [
        {
          "output_type": "execute_result",
          "data": {
            "application/vnd.google.colaboratory.intrinsic+json": {
              "type": "string"
            },
            "text/plain": [
              "'eu gosto do partido, votaria novamente nesse governante!'"
            ]
          },
          "metadata": {
            "tags": []
          },
          "execution_count": 43
        }
      ]
    },
    {
      "cell_type": "code",
      "metadata": {
        "id": "vZdjBhC7nyv-",
        "colab": {
          "base_uri": "https://localhost:8080/",
          "height": 35
        },
        "outputId": "f4693a52-a61e-4b26-8272-1a6b8baf59f0"
      },
      "source": [
        "marque_negacao('Eu Não gosto do partido, e também não votaria novamente nesse governante!')"
      ],
      "execution_count": 44,
      "outputs": [
        {
          "output_type": "execute_result",
          "data": {
            "application/vnd.google.colaboratory.intrinsic+json": {
              "type": "string"
            },
            "text/plain": [
              "'eu não gosto_NEG do_NEG partido,_NEG e_NEG também_NEG não_NEG votaria_NEG novamente_NEG nesse_NEG governante!_NEG'"
            ]
          },
          "metadata": {
            "tags": []
          },
          "execution_count": 44
        }
      ]
    },
    {
      "cell_type": "markdown",
      "metadata": {
        "id": "Za1MSneinyv-"
      },
      "source": [
        "## **Criando modelos com Pipelines**"
      ]
    },
    {
      "cell_type": "markdown",
      "metadata": {
        "id": "WxVgM0ffnyv_"
      },
      "source": [
        "* Pipelines são interessantes para reduzir código e automatizar fluxos"
      ]
    },
    {
      "cell_type": "code",
      "metadata": {
        "id": "XBRK7BbKnyv_"
      },
      "source": [
        "from sklearn.pipeline import Pipeline"
      ],
      "execution_count": 46,
      "outputs": []
    },
    {
      "cell_type": "code",
      "metadata": {
        "id": "3XtMbyj8nyv_"
      },
      "source": [
        "pipeline_simples = Pipeline([\n",
        "  ('counts', CountVectorizer()),\n",
        "  ('classifier', MultinomialNB())\n",
        "])"
      ],
      "execution_count": 47,
      "outputs": []
    },
    {
      "cell_type": "markdown",
      "metadata": {
        "id": "kFPwQ46OnywA"
      },
      "source": [
        "* Pipeline que atribui tag de negacoes nas palavras"
      ]
    },
    {
      "cell_type": "code",
      "metadata": {
        "id": "Sm7hxc6UnywA"
      },
      "source": [
        "pipeline_negacoes = Pipeline([\n",
        "  ('counts', CountVectorizer(tokenizer=lambda text: marque_negacao(text))),\n",
        "  ('classifier', MultinomialNB())\n",
        "])"
      ],
      "execution_count": 48,
      "outputs": []
    },
    {
      "cell_type": "code",
      "metadata": {
        "id": "8sY9NZJPnywB",
        "colab": {
          "base_uri": "https://localhost:8080/"
        },
        "outputId": "b7dca4e8-3f0a-4a17-8556-92b9136ffa1f"
      },
      "source": [
        "pipeline_simples.fit(tweets,classes)"
      ],
      "execution_count": 49,
      "outputs": [
        {
          "output_type": "execute_result",
          "data": {
            "text/plain": [
              "Pipeline(memory=None,\n",
              "         steps=[('counts',\n",
              "                 CountVectorizer(analyzer='word', binary=False,\n",
              "                                 decode_error='strict',\n",
              "                                 dtype=<class 'numpy.int64'>, encoding='utf-8',\n",
              "                                 input='content', lowercase=True, max_df=1.0,\n",
              "                                 max_features=None, min_df=1,\n",
              "                                 ngram_range=(1, 1), preprocessor=None,\n",
              "                                 stop_words=None, strip_accents=None,\n",
              "                                 token_pattern='(?u)\\\\b\\\\w\\\\w+\\\\b',\n",
              "                                 tokenizer=None, vocabulary=None)),\n",
              "                ('classifier',\n",
              "                 MultinomialNB(alpha=1.0, class_prior=None, fit_prior=True))],\n",
              "         verbose=False)"
            ]
          },
          "metadata": {
            "tags": []
          },
          "execution_count": 49
        }
      ]
    },
    {
      "cell_type": "code",
      "metadata": {
        "id": "hOMaD7K8nywB",
        "colab": {
          "base_uri": "https://localhost:8080/"
        },
        "outputId": "88e23560-2894-40e8-9f85-6d7861c35a26"
      },
      "source": [
        "pipeline_simples.steps"
      ],
      "execution_count": 50,
      "outputs": [
        {
          "output_type": "execute_result",
          "data": {
            "text/plain": [
              "[('counts',\n",
              "  CountVectorizer(analyzer='word', binary=False, decode_error='strict',\n",
              "                  dtype=<class 'numpy.int64'>, encoding='utf-8', input='content',\n",
              "                  lowercase=True, max_df=1.0, max_features=None, min_df=1,\n",
              "                  ngram_range=(1, 1), preprocessor=None, stop_words=None,\n",
              "                  strip_accents=None, token_pattern='(?u)\\\\b\\\\w\\\\w+\\\\b',\n",
              "                  tokenizer=None, vocabulary=None)),\n",
              " ('classifier', MultinomialNB(alpha=1.0, class_prior=None, fit_prior=True))]"
            ]
          },
          "metadata": {
            "tags": []
          },
          "execution_count": 50
        }
      ]
    },
    {
      "cell_type": "markdown",
      "metadata": {
        "id": "5QTYAv3bnywB"
      },
      "source": [
        "* Gera o modelo de negações"
      ]
    },
    {
      "cell_type": "code",
      "metadata": {
        "id": "L7kjfhlMnywC",
        "colab": {
          "base_uri": "https://localhost:8080/"
        },
        "outputId": "cf4e8a96-4b3f-42d4-a1f6-ee49520bcff6"
      },
      "source": [
        "pipeline_negacoes.fit(tweets,classes)"
      ],
      "execution_count": 51,
      "outputs": [
        {
          "output_type": "execute_result",
          "data": {
            "text/plain": [
              "Pipeline(memory=None,\n",
              "         steps=[('counts',\n",
              "                 CountVectorizer(analyzer='word', binary=False,\n",
              "                                 decode_error='strict',\n",
              "                                 dtype=<class 'numpy.int64'>, encoding='utf-8',\n",
              "                                 input='content', lowercase=True, max_df=1.0,\n",
              "                                 max_features=None, min_df=1,\n",
              "                                 ngram_range=(1, 1), preprocessor=None,\n",
              "                                 stop_words=None, strip_accents=None,\n",
              "                                 token_pattern='(?u)\\\\b\\\\w\\\\w+\\\\b',\n",
              "                                 tokenizer=<function <lambda> at 0x7f17ddd06c20>,\n",
              "                                 vocabulary=None)),\n",
              "                ('classifier',\n",
              "                 MultinomialNB(alpha=1.0, class_prior=None, fit_prior=True))],\n",
              "         verbose=False)"
            ]
          },
          "metadata": {
            "tags": []
          },
          "execution_count": 51
        }
      ]
    },
    {
      "cell_type": "markdown",
      "metadata": {
        "id": "VlLdt5_JnywC"
      },
      "source": [
        "* Etapas do pipeline"
      ]
    },
    {
      "cell_type": "code",
      "metadata": {
        "id": "zFYNQ9Y2nywC",
        "colab": {
          "base_uri": "https://localhost:8080/"
        },
        "outputId": "f6281b36-8331-4f36-adab-597e1e980e83"
      },
      "source": [
        "pipeline_negacoes.steps"
      ],
      "execution_count": 52,
      "outputs": [
        {
          "output_type": "execute_result",
          "data": {
            "text/plain": [
              "[('counts',\n",
              "  CountVectorizer(analyzer='word', binary=False, decode_error='strict',\n",
              "                  dtype=<class 'numpy.int64'>, encoding='utf-8', input='content',\n",
              "                  lowercase=True, max_df=1.0, max_features=None, min_df=1,\n",
              "                  ngram_range=(1, 1), preprocessor=None, stop_words=None,\n",
              "                  strip_accents=None, token_pattern='(?u)\\\\b\\\\w\\\\w+\\\\b',\n",
              "                  tokenizer=<function <lambda> at 0x7f17ddd06c20>,\n",
              "                  vocabulary=None)),\n",
              " ('classifier', MultinomialNB(alpha=1.0, class_prior=None, fit_prior=True))]"
            ]
          },
          "metadata": {
            "tags": []
          },
          "execution_count": 52
        }
      ]
    },
    {
      "cell_type": "markdown",
      "metadata": {
        "id": "XNAiIjgenywD"
      },
      "source": [
        "## **Validando os Modelos com Validação Cruzada**"
      ]
    },
    {
      "cell_type": "markdown",
      "metadata": {
        "collapsed": true,
        "id": "JOodci6GnywD"
      },
      "source": [
        "* Fazendo o cross validation do modelo"
      ]
    },
    {
      "cell_type": "code",
      "metadata": {
        "id": "LWDFPw3dnywD"
      },
      "source": [
        "resultados = cross_val_predict(pipeline_simples, tweets, classes, cv=10)"
      ],
      "execution_count": 53,
      "outputs": []
    },
    {
      "cell_type": "markdown",
      "metadata": {
        "collapsed": true,
        "id": "QYMM7P64nywE"
      },
      "source": [
        "* Medindo a acurácia média do modelo"
      ]
    },
    {
      "cell_type": "code",
      "metadata": {
        "id": "w_Y4jwrlnywE",
        "colab": {
          "base_uri": "https://localhost:8080/"
        },
        "outputId": "62a3c4a5-9cc1-4b43-ca81-012f150509e0"
      },
      "source": [
        "metrics.accuracy_score(classes,resultados)"
      ],
      "execution_count": 54,
      "outputs": [
        {
          "output_type": "execute_result",
          "data": {
            "text/plain": [
              "0.8631396357328708"
            ]
          },
          "metadata": {
            "tags": []
          },
          "execution_count": 54
        }
      ]
    },
    {
      "cell_type": "markdown",
      "metadata": {
        "collapsed": true,
        "id": "qEKpE-D0nywE"
      },
      "source": [
        "* Medidas de validação do modelo"
      ]
    },
    {
      "cell_type": "code",
      "metadata": {
        "id": "w9YbIqG8nywF",
        "colab": {
          "base_uri": "https://localhost:8080/"
        },
        "outputId": "dabea2ff-d9c3-4c05-ab53-20c9120d64a2"
      },
      "source": [
        "sentimento=['Positivo','Negativo','Neutro']\n",
        "print (metrics.classification_report(classes,resultados,sentimento))"
      ],
      "execution_count": 55,
      "outputs": [
        {
          "output_type": "stream",
          "text": [
            "              precision    recall  f1-score   support\n",
            "\n",
            "    Positivo       0.96      0.86      0.91      2840\n",
            "    Negativo       0.77      0.90      0.83       951\n",
            "      Neutro       0.80      0.85      0.82      1974\n",
            "\n",
            "    accuracy                           0.86      5765\n",
            "   macro avg       0.84      0.87      0.85      5765\n",
            "weighted avg       0.87      0.86      0.87      5765\n",
            "\n"
          ],
          "name": "stdout"
        }
      ]
    },
    {
      "cell_type": "markdown",
      "metadata": {
        "id": "pL-DLUixnywF"
      },
      "source": [
        "* Matriz de confusão"
      ]
    },
    {
      "cell_type": "code",
      "metadata": {
        "id": "rNtzXDHfnywF",
        "colab": {
          "base_uri": "https://localhost:8080/"
        },
        "outputId": "a86932cb-e5b4-41b5-f8f7-716f53e69b8a"
      },
      "source": [
        "print (pd.crosstab(classes, resultados, rownames=['Real'], colnames=['Predito'], margins=True))"
      ],
      "execution_count": 56,
      "outputs": [
        {
          "output_type": "stream",
          "text": [
            "Predito   Negativo  Neutro  Positivo   All\n",
            "Real                                      \n",
            "Negativo       852      91         8   951\n",
            "Neutro         196    1674       104  1974\n",
            "Positivo        64     326      2450  2840\n",
            "All           1112    2091      2562  5765\n"
          ],
          "name": "stdout"
        }
      ]
    },
    {
      "cell_type": "markdown",
      "metadata": {
        "id": "8aKsqwFynywG"
      },
      "source": [
        "## **Modelo com a Tag de Negações**"
      ]
    },
    {
      "cell_type": "code",
      "metadata": {
        "id": "GqhMfpAVnywG"
      },
      "source": [
        "resultados = cross_val_predict(pipeline_negacoes, tweets, classes, cv=10)"
      ],
      "execution_count": 57,
      "outputs": []
    },
    {
      "cell_type": "markdown",
      "metadata": {
        "id": "uX7Ymv0ynywG"
      },
      "source": [
        "* Medindo a acurácia média do modelo"
      ]
    },
    {
      "cell_type": "code",
      "metadata": {
        "id": "6ZiUOD9MnywH",
        "colab": {
          "base_uri": "https://localhost:8080/"
        },
        "outputId": "4c5f736d-b323-41d5-c6c5-54c3ec0836e1"
      },
      "source": [
        "metrics.accuracy_score(classes,resultados)"
      ],
      "execution_count": 58,
      "outputs": [
        {
          "output_type": "execute_result",
          "data": {
            "text/plain": [
              "0.6993928881179532"
            ]
          },
          "metadata": {
            "tags": []
          },
          "execution_count": 58
        }
      ]
    },
    {
      "cell_type": "code",
      "metadata": {
        "id": "qVivPBZEnywH",
        "colab": {
          "base_uri": "https://localhost:8080/"
        },
        "outputId": "89b7740b-f806-4486-9ac7-e0197a5d7d46"
      },
      "source": [
        "sentimento=['Positivo','Negativo','Neutro']\n",
        "print (metrics.classification_report(classes,resultados,sentimento))"
      ],
      "execution_count": 59,
      "outputs": [
        {
          "output_type": "stream",
          "text": [
            "              precision    recall  f1-score   support\n",
            "\n",
            "    Positivo       0.72      0.83      0.77      2840\n",
            "    Negativo       0.66      0.53      0.59       951\n",
            "      Neutro       0.69      0.59      0.64      1974\n",
            "\n",
            "    accuracy                           0.70      5765\n",
            "   macro avg       0.69      0.65      0.66      5765\n",
            "weighted avg       0.70      0.70      0.69      5765\n",
            "\n"
          ],
          "name": "stdout"
        }
      ]
    },
    {
      "cell_type": "markdown",
      "metadata": {
        "collapsed": true,
        "id": "RTr7NMkFnywI"
      },
      "source": [
        "* Matriz de confusão"
      ]
    },
    {
      "cell_type": "code",
      "metadata": {
        "id": "9if4V-_ZnywI",
        "colab": {
          "base_uri": "https://localhost:8080/"
        },
        "outputId": "024bff37-f5f0-4b19-d051-4bda3c9d33cf"
      },
      "source": [
        "print (pd.crosstab(classes, resultados, rownames=['Real'], colnames=['Predito'], margins=True))"
      ],
      "execution_count": 60,
      "outputs": [
        {
          "output_type": "stream",
          "text": [
            "Predito   Negativo  Neutro  Positivo   All\n",
            "Real                                      \n",
            "Negativo       502     170       279   951\n",
            "Neutro         149    1169       656  1974\n",
            "Positivo       113     366      2361  2840\n",
            "All            764    1705      3296  5765\n"
          ],
          "name": "stdout"
        }
      ]
    },
    {
      "cell_type": "markdown",
      "metadata": {
        "id": "vT4ypMRVOlQ9"
      },
      "source": [
        "      O modelo que atribuiu tags de negações nao se saiu bem."
      ]
    },
    {
      "cell_type": "markdown",
      "metadata": {
        "id": "kQP3GEyYnywJ"
      },
      "source": [
        "## **Avaliando modelo com Bigrams**\n",
        "\n",
        "Dupla de palavras, em conjunto"
      ]
    },
    {
      "cell_type": "code",
      "metadata": {
        "id": "LR82tyDMnywK",
        "colab": {
          "base_uri": "https://localhost:8080/"
        },
        "outputId": "551ab621-1e1b-492b-a97d-f5b0bf2990c3"
      },
      "source": [
        "'eu gosto', 'gosto do' , 'do brasil'"
      ],
      "execution_count": 61,
      "outputs": [
        {
          "output_type": "execute_result",
          "data": {
            "text/plain": [
              "('eu gosto', 'gosto do', 'do brasil')"
            ]
          },
          "metadata": {
            "tags": []
          },
          "execution_count": 61
        }
      ]
    },
    {
      "cell_type": "code",
      "metadata": {
        "id": "0XX5QfF6nywL",
        "colab": {
          "base_uri": "https://localhost:8080/"
        },
        "outputId": "fe3457de-4bea-48a8-c2e7-0f8cd59a85ae"
      },
      "source": [
        "vectorizer = CountVectorizer(ngram_range=(1,2))\n",
        "freq_tweets = vectorizer.fit_transform(tweets)\n",
        "modelo = MultinomialNB()\n",
        "modelo.fit(freq_tweets,classes)"
      ],
      "execution_count": 62,
      "outputs": [
        {
          "output_type": "execute_result",
          "data": {
            "text/plain": [
              "MultinomialNB(alpha=1.0, class_prior=None, fit_prior=True)"
            ]
          },
          "metadata": {
            "tags": []
          },
          "execution_count": 62
        }
      ]
    },
    {
      "cell_type": "code",
      "metadata": {
        "id": "tOEz-XxonywM"
      },
      "source": [
        "resultados = cross_val_predict(modelo, freq_tweets, classes, cv=10)"
      ],
      "execution_count": 63,
      "outputs": []
    },
    {
      "cell_type": "code",
      "metadata": {
        "id": "-4M0vmTznywN",
        "colab": {
          "base_uri": "https://localhost:8080/"
        },
        "outputId": "21456e0f-a679-44d2-86da-bda1866518b8"
      },
      "source": [
        "metrics.accuracy_score(classes,resultados)"
      ],
      "execution_count": 64,
      "outputs": [
        {
          "output_type": "execute_result",
          "data": {
            "text/plain": [
              "0.8659150043365135"
            ]
          },
          "metadata": {
            "tags": []
          },
          "execution_count": 64
        }
      ]
    },
    {
      "cell_type": "code",
      "metadata": {
        "id": "pOU7tc4MnywO",
        "colab": {
          "base_uri": "https://localhost:8080/"
        },
        "outputId": "1495a355-a705-46bd-93a6-e75c6a3a6618"
      },
      "source": [
        "sentimento=['Positivo','Negativo','Neutro']\n",
        "print (metrics.classification_report(classes,resultados,sentimento))"
      ],
      "execution_count": 65,
      "outputs": [
        {
          "output_type": "stream",
          "text": [
            "              precision    recall  f1-score   support\n",
            "\n",
            "    Positivo       0.96      0.87      0.92      2840\n",
            "    Negativo       0.70      0.93      0.80       951\n",
            "      Neutro       0.84      0.82      0.83      1974\n",
            "\n",
            "    accuracy                           0.87      5765\n",
            "   macro avg       0.84      0.88      0.85      5765\n",
            "weighted avg       0.88      0.87      0.87      5765\n",
            "\n"
          ],
          "name": "stdout"
        }
      ]
    },
    {
      "cell_type": "code",
      "metadata": {
        "id": "B71UK4RanywP",
        "colab": {
          "base_uri": "https://localhost:8080/"
        },
        "outputId": "2458f7f1-6ce9-42ee-f590-357916aa683d"
      },
      "source": [
        "print (pd.crosstab(classes, resultados, rownames=['Real'], colnames=['Predito'], margins=True))"
      ],
      "execution_count": 66,
      "outputs": [
        {
          "output_type": "stream",
          "text": [
            "Predito   Negativo  Neutro  Positivo   All\n",
            "Real                                      \n",
            "Negativo       889      59         3   951\n",
            "Neutro         264    1621        89  1974\n",
            "Positivo       118     240      2482  2840\n",
            "All           1271    1920      2574  5765\n"
          ],
          "name": "stdout"
        }
      ]
    },
    {
      "cell_type": "markdown",
      "metadata": {
        "id": "shXY4QgwnywQ"
      },
      "source": [
        "## **Considerações Finais**"
      ]
    },
    {
      "cell_type": "markdown",
      "metadata": {
        "id": "ugPrLdEvnywR"
      },
      "source": [
        "* Considere aumentar a quantidade de dados de treino.\n",
        "\n",
        "* Pela sua simplicidade o Naive Bayes pode ser usado perfeitamente como um algoritmo de Baseline.\n",
        "\n",
        "* Considere alterar os parâmetros do algoritmo."
      ]
    }
  ]
}