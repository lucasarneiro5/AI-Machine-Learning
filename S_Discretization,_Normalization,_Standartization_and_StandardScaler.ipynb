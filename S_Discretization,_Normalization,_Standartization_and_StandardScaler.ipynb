{
  "nbformat": 4,
  "nbformat_minor": 0,
  "metadata": {
    "kernelspec": {
      "display_name": "Python 3",
      "language": "python",
      "name": "python3"
    },
    "language_info": {
      "codemirror_mode": {
        "name": "ipython",
        "version": 3
      },
      "file_extension": ".py",
      "mimetype": "text/x-python",
      "name": "python",
      "nbconvert_exporter": "python",
      "pygments_lexer": "ipython3",
      "version": "3.6.5"
    },
    "colab": {
      "name": "Discretization, Normalization, Standartization and StandardScaler.ipynb",
      "provenance": [],
      "collapsed_sections": []
    }
  },
  "cells": [
    {
      "cell_type": "markdown",
      "metadata": {
        "id": "CNJklPrvL0ob"
      },
      "source": [
        "# Curso Data Science do Zero - Minerando Dados"
      ]
    },
    {
      "cell_type": "markdown",
      "metadata": {
        "id": "nu4aaBoFL0oe"
      },
      "source": [
        "## **Discretização**\n",
        "\n",
        "Consists in replace numbers to names our classifications"
      ]
    },
    {
      "cell_type": "markdown",
      "metadata": {
        "id": "8KzLbh0lL0oe"
      },
      "source": [
        "##### importando a biblioteca pandas"
      ]
    },
    {
      "cell_type": "code",
      "metadata": {
        "id": "8n14mgsrL0of"
      },
      "source": [
        "import pandas as pd"
      ],
      "execution_count": 2,
      "outputs": []
    },
    {
      "cell_type": "markdown",
      "metadata": {
        "id": "Zi6r3CEdL0oo"
      },
      "source": [
        "##### cojunto de dados de exemplo"
      ]
    },
    {
      "cell_type": "code",
      "metadata": {
        "id": "fEXjoKMkL0oq"
      },
      "source": [
        "altura = [1.50,1.57,1.62,1.70,1.85,1.90]"
      ],
      "execution_count": 3,
      "outputs": []
    },
    {
      "cell_type": "markdown",
      "metadata": {
        "id": "289hu1IIL0ou"
      },
      "source": [
        "##### aplicando a discretização em 3 bins de tamanho igual e com os labels P, M e G"
      ]
    },
    {
      "cell_type": "code",
      "metadata": {
        "id": "H5TXXd1eL0ov"
      },
      "source": [
        "altura = pd.qcut(altura,3,labels=['P','M','G'])"
      ],
      "execution_count": 4,
      "outputs": []
    },
    {
      "cell_type": "code",
      "metadata": {
        "id": "dzx_DpXmL0o3",
        "outputId": "91314ba8-5e8b-4556-815f-61c55ae1ea03",
        "colab": {
          "base_uri": "https://localhost:8080/",
          "height": 51
        }
      },
      "source": [
        "print(altura)"
      ],
      "execution_count": 5,
      "outputs": [
        {
          "output_type": "stream",
          "text": [
            "['P', 'P', 'M', 'M', 'G', 'G']\n",
            "Categories (3, object): ['P' < 'M' < 'G']\n"
          ],
          "name": "stdout"
        }
      ]
    },
    {
      "cell_type": "markdown",
      "metadata": {
        "id": "wm7VEMzDL0o9"
      },
      "source": [
        "##### verificando a quantidade de objetos em cada bin"
      ]
    },
    {
      "cell_type": "code",
      "metadata": {
        "id": "XTmL121tL0o-",
        "outputId": "a56806f5-e7d7-4b05-f511-9acf4d38be31",
        "colab": {
          "base_uri": "https://localhost:8080/",
          "height": 85
        }
      },
      "source": [
        "altura.value_counts()"
      ],
      "execution_count": 6,
      "outputs": [
        {
          "output_type": "execute_result",
          "data": {
            "text/plain": [
              "P    2\n",
              "M    2\n",
              "G    2\n",
              "dtype: int64"
            ]
          },
          "metadata": {
            "tags": []
          },
          "execution_count": 6
        }
      ]
    },
    {
      "cell_type": "markdown",
      "metadata": {
        "id": "3HtplYhjL0pF"
      },
      "source": [
        "##### lendo a base de dados"
      ]
    },
    {
      "cell_type": "code",
      "metadata": {
        "id": "At1HzoH9L0pG"
      },
      "source": [
        "dataset = pd.read_csv('kc_house_data.csv')"
      ],
      "execution_count": 7,
      "outputs": []
    },
    {
      "cell_type": "markdown",
      "metadata": {
        "id": "Py2lB9dXL0pO"
      },
      "source": [
        "##### contando o número de pisos"
      ]
    },
    {
      "cell_type": "code",
      "metadata": {
        "id": "TPLAuqKjL0pR",
        "outputId": "e664b857-4176-40d1-c122-006a3d9992a6",
        "colab": {
          "base_uri": "https://localhost:8080/",
          "height": 136
        }
      },
      "source": [
        "dataset['floors'].value_counts()"
      ],
      "execution_count": 8,
      "outputs": [
        {
          "output_type": "execute_result",
          "data": {
            "text/plain": [
              "1.0    9704\n",
              "2.0    6169\n",
              "1.5    1729\n",
              "3.0     293\n",
              "2.5     116\n",
              "3.5       5\n",
              "Name: floors, dtype: int64"
            ]
          },
          "metadata": {
            "tags": []
          },
          "execution_count": 8
        }
      ]
    },
    {
      "cell_type": "markdown",
      "metadata": {
        "id": "S4Lu3C9IL0pX"
      },
      "source": [
        "##### discretizando os valores do atributo floors e armazenando o resultado no atributo floors_labels"
      ]
    },
    {
      "cell_type": "code",
      "metadata": {
        "id": "ajpreSpbL0pY"
      },
      "source": [
        "dataset['floors_labels'] = pd.cut(\n",
        "    dataset['floors'],\n",
        "    5, # You can choose how many 'classification' will use to replace numbers \n",
        "    labels=['One-Floor','Two-Floors','Medium-size','Big-Size','Three-Floors']\n",
        ")"
      ],
      "execution_count": 13,
      "outputs": []
    },
    {
      "cell_type": "markdown",
      "metadata": {
        "id": "sDp6vx0cL0pd"
      },
      "source": [
        "##### verificando o novo atributo"
      ]
    },
    {
      "cell_type": "code",
      "metadata": {
        "id": "odD_d9tTL0pe",
        "outputId": "ae8193b6-a0a3-4d67-9b7a-a3a7141ed824",
        "colab": {
          "base_uri": "https://localhost:8080/",
          "height": 379
        }
      },
      "source": [
        "dataset.head(10)"
      ],
      "execution_count": 11,
      "outputs": [
        {
          "output_type": "execute_result",
          "data": {
            "text/html": [
              "<div>\n",
              "<style scoped>\n",
              "    .dataframe tbody tr th:only-of-type {\n",
              "        vertical-align: middle;\n",
              "    }\n",
              "\n",
              "    .dataframe tbody tr th {\n",
              "        vertical-align: top;\n",
              "    }\n",
              "\n",
              "    .dataframe thead th {\n",
              "        text-align: right;\n",
              "    }\n",
              "</style>\n",
              "<table border=\"1\" class=\"dataframe\">\n",
              "  <thead>\n",
              "    <tr style=\"text-align: right;\">\n",
              "      <th></th>\n",
              "      <th>id</th>\n",
              "      <th>date</th>\n",
              "      <th>price</th>\n",
              "      <th>bedrooms</th>\n",
              "      <th>bathrooms</th>\n",
              "      <th>sqft_living</th>\n",
              "      <th>sqft_lot</th>\n",
              "      <th>floors</th>\n",
              "      <th>waterfront</th>\n",
              "      <th>view</th>\n",
              "      <th>condition</th>\n",
              "      <th>grade</th>\n",
              "      <th>sqft_above</th>\n",
              "      <th>sqft_basement</th>\n",
              "      <th>yr_built</th>\n",
              "      <th>yr_renovated</th>\n",
              "      <th>zipcode</th>\n",
              "      <th>lat</th>\n",
              "      <th>long</th>\n",
              "      <th>sqft_living15</th>\n",
              "      <th>sqft_lot15</th>\n",
              "      <th>floors_labels</th>\n",
              "    </tr>\n",
              "  </thead>\n",
              "  <tbody>\n",
              "    <tr>\n",
              "      <th>0</th>\n",
              "      <td>7129300520</td>\n",
              "      <td>20141013T000000</td>\n",
              "      <td>221900.0</td>\n",
              "      <td>3.0</td>\n",
              "      <td>1.00</td>\n",
              "      <td>1180</td>\n",
              "      <td>5650</td>\n",
              "      <td>1.0</td>\n",
              "      <td>0</td>\n",
              "      <td>0</td>\n",
              "      <td>3.0</td>\n",
              "      <td>7.0</td>\n",
              "      <td>1180.0</td>\n",
              "      <td>0.0</td>\n",
              "      <td>1955.0</td>\n",
              "      <td>0.0</td>\n",
              "      <td>98178.0</td>\n",
              "      <td>47.5112</td>\n",
              "      <td>-122.257</td>\n",
              "      <td>1340.0</td>\n",
              "      <td>5650.0</td>\n",
              "      <td>One-Floor</td>\n",
              "    </tr>\n",
              "    <tr>\n",
              "      <th>1</th>\n",
              "      <td>6414100192</td>\n",
              "      <td>20141209T000000</td>\n",
              "      <td>538000.0</td>\n",
              "      <td>3.0</td>\n",
              "      <td>2.25</td>\n",
              "      <td>2570</td>\n",
              "      <td>7242</td>\n",
              "      <td>2.0</td>\n",
              "      <td>0</td>\n",
              "      <td>0</td>\n",
              "      <td>3.0</td>\n",
              "      <td>7.0</td>\n",
              "      <td>2170.0</td>\n",
              "      <td>400.0</td>\n",
              "      <td>1951.0</td>\n",
              "      <td>1991.0</td>\n",
              "      <td>98125.0</td>\n",
              "      <td>47.7210</td>\n",
              "      <td>-122.319</td>\n",
              "      <td>1690.0</td>\n",
              "      <td>7639.0</td>\n",
              "      <td>Two-Floors</td>\n",
              "    </tr>\n",
              "    <tr>\n",
              "      <th>2</th>\n",
              "      <td>5631500400</td>\n",
              "      <td>20150225T000000</td>\n",
              "      <td>180000.0</td>\n",
              "      <td>2.0</td>\n",
              "      <td>1.00</td>\n",
              "      <td>770</td>\n",
              "      <td>10000</td>\n",
              "      <td>1.0</td>\n",
              "      <td>0</td>\n",
              "      <td>0</td>\n",
              "      <td>3.0</td>\n",
              "      <td>6.0</td>\n",
              "      <td>770.0</td>\n",
              "      <td>0.0</td>\n",
              "      <td>1933.0</td>\n",
              "      <td>0.0</td>\n",
              "      <td>98028.0</td>\n",
              "      <td>47.7379</td>\n",
              "      <td>-122.233</td>\n",
              "      <td>2720.0</td>\n",
              "      <td>8062.0</td>\n",
              "      <td>One-Floor</td>\n",
              "    </tr>\n",
              "    <tr>\n",
              "      <th>3</th>\n",
              "      <td>2487200875</td>\n",
              "      <td>20141209T000000</td>\n",
              "      <td>604000.0</td>\n",
              "      <td>4.0</td>\n",
              "      <td>3.00</td>\n",
              "      <td>1960</td>\n",
              "      <td>5000</td>\n",
              "      <td>1.0</td>\n",
              "      <td>0</td>\n",
              "      <td>0</td>\n",
              "      <td>5.0</td>\n",
              "      <td>7.0</td>\n",
              "      <td>1050.0</td>\n",
              "      <td>910.0</td>\n",
              "      <td>1965.0</td>\n",
              "      <td>0.0</td>\n",
              "      <td>98136.0</td>\n",
              "      <td>47.5208</td>\n",
              "      <td>-122.393</td>\n",
              "      <td>1360.0</td>\n",
              "      <td>5000.0</td>\n",
              "      <td>One-Floor</td>\n",
              "    </tr>\n",
              "    <tr>\n",
              "      <th>4</th>\n",
              "      <td>1954400510</td>\n",
              "      <td>20150218T000000</td>\n",
              "      <td>510000.0</td>\n",
              "      <td>3.0</td>\n",
              "      <td>2.00</td>\n",
              "      <td>1680</td>\n",
              "      <td>8080</td>\n",
              "      <td>1.0</td>\n",
              "      <td>0</td>\n",
              "      <td>0</td>\n",
              "      <td>3.0</td>\n",
              "      <td>8.0</td>\n",
              "      <td>1680.0</td>\n",
              "      <td>0.0</td>\n",
              "      <td>1987.0</td>\n",
              "      <td>0.0</td>\n",
              "      <td>98074.0</td>\n",
              "      <td>47.6168</td>\n",
              "      <td>-122.045</td>\n",
              "      <td>1800.0</td>\n",
              "      <td>7503.0</td>\n",
              "      <td>One-Floor</td>\n",
              "    </tr>\n",
              "    <tr>\n",
              "      <th>5</th>\n",
              "      <td>7237550310</td>\n",
              "      <td>20140512T000000</td>\n",
              "      <td>1225000.0</td>\n",
              "      <td>4.0</td>\n",
              "      <td>4.50</td>\n",
              "      <td>5420</td>\n",
              "      <td>101930</td>\n",
              "      <td>1.0</td>\n",
              "      <td>0</td>\n",
              "      <td>0</td>\n",
              "      <td>3.0</td>\n",
              "      <td>11.0</td>\n",
              "      <td>3890.0</td>\n",
              "      <td>1530.0</td>\n",
              "      <td>2001.0</td>\n",
              "      <td>0.0</td>\n",
              "      <td>98053.0</td>\n",
              "      <td>47.6561</td>\n",
              "      <td>-122.005</td>\n",
              "      <td>4760.0</td>\n",
              "      <td>101930.0</td>\n",
              "      <td>One-Floor</td>\n",
              "    </tr>\n",
              "    <tr>\n",
              "      <th>6</th>\n",
              "      <td>1321400060</td>\n",
              "      <td>20140627T000000</td>\n",
              "      <td>257500.0</td>\n",
              "      <td>3.0</td>\n",
              "      <td>2.25</td>\n",
              "      <td>1715</td>\n",
              "      <td>6819</td>\n",
              "      <td>2.0</td>\n",
              "      <td>0</td>\n",
              "      <td>0</td>\n",
              "      <td>3.0</td>\n",
              "      <td>7.0</td>\n",
              "      <td>1715.0</td>\n",
              "      <td>0.0</td>\n",
              "      <td>1995.0</td>\n",
              "      <td>0.0</td>\n",
              "      <td>98003.0</td>\n",
              "      <td>47.3097</td>\n",
              "      <td>-122.327</td>\n",
              "      <td>2238.0</td>\n",
              "      <td>6819.0</td>\n",
              "      <td>Two-Floors</td>\n",
              "    </tr>\n",
              "    <tr>\n",
              "      <th>7</th>\n",
              "      <td>2008000270</td>\n",
              "      <td>20150115T000000</td>\n",
              "      <td>291850.0</td>\n",
              "      <td>3.0</td>\n",
              "      <td>1.50</td>\n",
              "      <td>1060</td>\n",
              "      <td>9711</td>\n",
              "      <td>1.0</td>\n",
              "      <td>0</td>\n",
              "      <td>0</td>\n",
              "      <td>3.0</td>\n",
              "      <td>7.0</td>\n",
              "      <td>1060.0</td>\n",
              "      <td>0.0</td>\n",
              "      <td>1963.0</td>\n",
              "      <td>0.0</td>\n",
              "      <td>98198.0</td>\n",
              "      <td>47.4095</td>\n",
              "      <td>-122.315</td>\n",
              "      <td>1650.0</td>\n",
              "      <td>9711.0</td>\n",
              "      <td>One-Floor</td>\n",
              "    </tr>\n",
              "    <tr>\n",
              "      <th>8</th>\n",
              "      <td>2414600126</td>\n",
              "      <td>20150415T000000</td>\n",
              "      <td>229500.0</td>\n",
              "      <td>3.0</td>\n",
              "      <td>1.00</td>\n",
              "      <td>1780</td>\n",
              "      <td>7470</td>\n",
              "      <td>1.0</td>\n",
              "      <td>0</td>\n",
              "      <td>0</td>\n",
              "      <td>3.0</td>\n",
              "      <td>7.0</td>\n",
              "      <td>1050.0</td>\n",
              "      <td>730.0</td>\n",
              "      <td>1960.0</td>\n",
              "      <td>0.0</td>\n",
              "      <td>98146.0</td>\n",
              "      <td>47.5123</td>\n",
              "      <td>-122.337</td>\n",
              "      <td>1780.0</td>\n",
              "      <td>8113.0</td>\n",
              "      <td>One-Floor</td>\n",
              "    </tr>\n",
              "    <tr>\n",
              "      <th>9</th>\n",
              "      <td>3793500160</td>\n",
              "      <td>20150312T000000</td>\n",
              "      <td>323000.0</td>\n",
              "      <td>3.0</td>\n",
              "      <td>2.50</td>\n",
              "      <td>1890</td>\n",
              "      <td>6560</td>\n",
              "      <td>2.0</td>\n",
              "      <td>0</td>\n",
              "      <td>0</td>\n",
              "      <td>3.0</td>\n",
              "      <td>7.0</td>\n",
              "      <td>1890.0</td>\n",
              "      <td>0.0</td>\n",
              "      <td>2003.0</td>\n",
              "      <td>0.0</td>\n",
              "      <td>98038.0</td>\n",
              "      <td>47.3684</td>\n",
              "      <td>-122.031</td>\n",
              "      <td>2390.0</td>\n",
              "      <td>7570.0</td>\n",
              "      <td>Two-Floors</td>\n",
              "    </tr>\n",
              "  </tbody>\n",
              "</table>\n",
              "</div>"
            ],
            "text/plain": [
              "           id             date  ...  sqft_lot15  floors_labels\n",
              "0  7129300520  20141013T000000  ...      5650.0      One-Floor\n",
              "1  6414100192  20141209T000000  ...      7639.0     Two-Floors\n",
              "2  5631500400  20150225T000000  ...      8062.0      One-Floor\n",
              "3  2487200875  20141209T000000  ...      5000.0      One-Floor\n",
              "4  1954400510  20150218T000000  ...      7503.0      One-Floor\n",
              "5  7237550310  20140512T000000  ...    101930.0      One-Floor\n",
              "6  1321400060  20140627T000000  ...      6819.0     Two-Floors\n",
              "7  2008000270  20150115T000000  ...      9711.0      One-Floor\n",
              "8  2414600126  20150415T000000  ...      8113.0      One-Floor\n",
              "9  3793500160  20150312T000000  ...      7570.0     Two-Floors\n",
              "\n",
              "[10 rows x 22 columns]"
            ]
          },
          "metadata": {
            "tags": []
          },
          "execution_count": 11
        }
      ]
    },
    {
      "cell_type": "markdown",
      "metadata": {
        "id": "dvK1cxdkL0pj"
      },
      "source": [
        "##### verificando os valores únicos do atributo"
      ]
    },
    {
      "cell_type": "code",
      "metadata": {
        "id": "SGBtZoO-L0pj",
        "outputId": "a219fc2b-4f12-4129-cd2e-9ffd9b7c4a75",
        "colab": {
          "base_uri": "https://localhost:8080/",
          "height": 51
        }
      },
      "source": [
        "dataset['floors_labels'].unique()"
      ],
      "execution_count": 14,
      "outputs": [
        {
          "output_type": "execute_result",
          "data": {
            "text/plain": [
              "['One-Floor', 'Two-Floors', NaN, 'Big-Size', 'Medium-size', 'Three-Floors']\n",
              "Categories (5, object): ['One-Floor' < 'Two-Floors' < 'Medium-size' < 'Big-Size' < 'Three-Floors']"
            ]
          },
          "metadata": {
            "tags": []
          },
          "execution_count": 14
        }
      ]
    },
    {
      "cell_type": "markdown",
      "metadata": {
        "id": "PJ5KRuq7L0ps"
      },
      "source": [
        "##### contagem de valores em cada bin ou categoria"
      ]
    },
    {
      "cell_type": "code",
      "metadata": {
        "id": "IhOP1y4ZL0pt",
        "outputId": "dd59d98e-18a6-4692-9644-5894aa2b303d",
        "colab": {
          "base_uri": "https://localhost:8080/",
          "height": 119
        }
      },
      "source": [
        "dataset['floors_labels'].value_counts()"
      ],
      "execution_count": 15,
      "outputs": [
        {
          "output_type": "execute_result",
          "data": {
            "text/plain": [
              "One-Floor       11433\n",
              "Two-Floors       6169\n",
              "Big-Size          293\n",
              "Medium-size       116\n",
              "Three-Floors        5\n",
              "Name: floors_labels, dtype: int64"
            ]
          },
          "metadata": {
            "tags": []
          },
          "execution_count": 15
        }
      ]
    },
    {
      "cell_type": "markdown",
      "metadata": {
        "id": "uEkQJ805L0py"
      },
      "source": [
        "## **Normalization**\n",
        "\n",
        "Apply the same rule to all data from your dataset. Tornar os dados proximos da normalizaçao normal, centralizado à média."
      ]
    },
    {
      "cell_type": "markdown",
      "metadata": {
        "id": "5AwZqG_AL0p1"
      },
      "source": [
        "##### importando as bibliotecas necessárias."
      ]
    },
    {
      "cell_type": "code",
      "metadata": {
        "id": "9xim0i9QL0p3"
      },
      "source": [
        "import warnings\n",
        "warnings.filterwarnings('ignore')\n",
        "from sklearn.preprocessing import Normalizer\n",
        "import numpy as np\n",
        "import seaborn as sns\n",
        "import matplotlib.pyplot as plt"
      ],
      "execution_count": 16,
      "outputs": []
    },
    {
      "cell_type": "markdown",
      "metadata": {
        "id": "02E5atiqL0p9"
      },
      "source": [
        "##### alguns dados de exemplo"
      ]
    },
    {
      "cell_type": "code",
      "metadata": {
        "id": "ZA9IOYnDL0p-",
        "outputId": "712c07aa-7342-4c06-ea59-152f67ca185b",
        "colab": {
          "base_uri": "https://localhost:8080/",
          "height": 34
        }
      },
      "source": [
        "data = [\n",
        "    [-1, 2],\n",
        "    [0.5, 6],\n",
        "    [0, 10],\n",
        "    [1, 18]\n",
        "]\n",
        "print (data)"
      ],
      "execution_count": 17,
      "outputs": [
        {
          "output_type": "stream",
          "text": [
            "[[-1, 2], [0.5, 6], [0, 10], [1, 18]]\n"
          ],
          "name": "stdout"
        }
      ]
    },
    {
      "cell_type": "markdown",
      "metadata": {
        "id": "b3ZCYpWoL0qB"
      },
      "source": [
        "#### valor da média"
      ]
    },
    {
      "cell_type": "code",
      "metadata": {
        "id": "Tw64OvYnL0qC",
        "outputId": "1636cc61-f515-4ac6-9f19-401833b26cfe",
        "colab": {
          "base_uri": "https://localhost:8080/",
          "height": 34
        }
      },
      "source": [
        "print (np.mean(data))"
      ],
      "execution_count": 18,
      "outputs": [
        {
          "output_type": "stream",
          "text": [
            "4.5625\n"
          ],
          "name": "stdout"
        }
      ]
    },
    {
      "cell_type": "markdown",
      "metadata": {
        "id": "kLaBHxTuL0qF"
      },
      "source": [
        "#### visualizando a distribuição dos dados"
      ]
    },
    {
      "cell_type": "code",
      "metadata": {
        "scrolled": false,
        "id": "HcBPU-phL0qG",
        "outputId": "2a5ad557-7412-45f5-a897-65c55324d61b",
        "colab": {
          "base_uri": "https://localhost:8080/",
          "height": 265
        }
      },
      "source": [
        "sns.distplot(np.array(data).reshape(-1))\n",
        "plt.show()"
      ],
      "execution_count": 19,
      "outputs": [
        {
          "output_type": "display_data",
          "data": {
            "image/png": "[encoded data removed]",
            "text/plain": [
              "<Figure size 432x288 with 1 Axes>"
            ]
          },
          "metadata": {
            "tags": [],
            "needs_background": "light"
          }
        }
      ]
    },
    {
      "cell_type": "markdown",
      "metadata": {
        "id": "oFELnTxVL0qM"
      },
      "source": [
        "##### instanciando o objeto Normalize"
      ]
    },
    {
      "cell_type": "code",
      "metadata": {
        "id": "x1ofn7pnL0qN"
      },
      "source": [
        "normalizer = Normalizer().fit(data)"
      ],
      "execution_count": 20,
      "outputs": []
    },
    {
      "cell_type": "markdown",
      "metadata": {
        "id": "bpbYNKKKL0qV"
      },
      "source": [
        "##### aplicando a normalização nos dados de exemplo utilizando a norma l2"
      ]
    },
    {
      "cell_type": "code",
      "metadata": {
        "id": "pMsBGMxfL0qW",
        "outputId": "6354c2ed-ec75-48e3-a1bc-0438fa6269a4",
        "colab": {
          "base_uri": "https://localhost:8080/",
          "height": 85
        }
      },
      "source": [
        "data2 = normalizer.transform(data)\n",
        "print(data2)"
      ],
      "execution_count": 21,
      "outputs": [
        {
          "output_type": "stream",
          "text": [
            "[[-0.4472136   0.89442719]\n",
            " [ 0.08304548  0.99654576]\n",
            " [ 0.          1.        ]\n",
            " [ 0.05547002  0.99846035]]\n"
          ],
          "name": "stdout"
        }
      ]
    },
    {
      "cell_type": "markdown",
      "metadata": {
        "id": "OHlqUviIL0qf"
      },
      "source": [
        "#### Alterando a forma dos dados para apenas uma dimensão"
      ]
    },
    {
      "cell_type": "code",
      "metadata": {
        "id": "jlMAFA4AL0qi"
      },
      "source": [
        "data2 = data2.reshape(-1)"
      ],
      "execution_count": 22,
      "outputs": []
    },
    {
      "cell_type": "markdown",
      "metadata": {
        "id": "z2Z0AroFL0qq"
      },
      "source": [
        "#### valor da média"
      ]
    },
    {
      "cell_type": "code",
      "metadata": {
        "scrolled": true,
        "id": "VD8_EOdiL0qr",
        "outputId": "ad1bc1d0-6d17-468c-c5d2-6094b90d7308",
        "colab": {
          "base_uri": "https://localhost:8080/",
          "height": 34
        }
      },
      "source": [
        "print(np.mean(data2))"
      ],
      "execution_count": 23,
      "outputs": [
        {
          "output_type": "stream",
          "text": [
            "0.4475919008033141\n"
          ],
          "name": "stdout"
        }
      ]
    },
    {
      "cell_type": "code",
      "metadata": {
        "id": "T4-E2m2UL0qw",
        "outputId": "61375455-793c-4937-91a9-d4c75854adf9",
        "colab": {
          "base_uri": "https://localhost:8080/",
          "height": 265
        }
      },
      "source": [
        "sns.distplot(data2)\n",
        "plt.show()"
      ],
      "execution_count": 24,
      "outputs": [
        {
          "output_type": "display_data",
          "data": {
            "image/png": "[encoded data removed]",
            "text/plain": [
              "<Figure size 432x288 with 1 Axes>"
            ]
          },
          "metadata": {
            "tags": [],
            "needs_background": "light"
          }
        }
      ]
    },
    {
      "cell_type": "markdown",
      "metadata": {
        "id": "rCZd8aWvL0rA"
      },
      "source": [
        "## **Standartization**\n",
        "\n",
        "Assume que não tenha valores discrepantes de dados. Transforma em média próxima a 0 e desvio padrão próximo a 1. Ou seja, numeros com escala de 0 a 1, onde maior valor é 1 e menor 0. Altera somente a faixa de valores."
      ]
    },
    {
      "cell_type": "code",
      "metadata": {
        "scrolled": true,
        "id": "64kaLthEL0rF",
        "outputId": "b7954302-3497-45f5-d521-6e0615a6599f",
        "colab": {
          "base_uri": "https://localhost:8080/",
          "height": 170
        }
      },
      "source": [
        "data = np.random.normal(size = 50)\n",
        "print(data)"
      ],
      "execution_count": 25,
      "outputs": [
        {
          "output_type": "stream",
          "text": [
            "[ 0.98511435 -1.13228199  2.03436605  0.30577563 -0.69374409 -0.139411\n",
            " -1.47035243  0.62482144  1.09256921 -0.11722158 -1.4794546   0.27018583\n",
            " -0.37421499  0.19498756 -1.78294235  2.13577481  0.10260487  1.33738194\n",
            "  0.81788454 -0.49193004  0.28599388 -0.23366817 -1.7805305   0.61943742\n",
            " -0.57430503 -0.25550704 -0.01125719  0.9715626   0.29701835 -0.46437064\n",
            " -1.18836855 -2.10269815 -1.64006349 -1.27648997  2.80403177 -1.10036594\n",
            " -0.11777508 -0.99179184  1.39037638 -1.75287896  1.53279633 -0.7853305\n",
            "  1.24074599  0.80645995 -1.74506055 -0.63257995 -1.874256   -1.48811986\n",
            " -0.0434686  -1.13558516]\n"
          ],
          "name": "stdout"
        }
      ]
    },
    {
      "cell_type": "markdown",
      "metadata": {
        "id": "3ulLDsnkL0rz"
      },
      "source": [
        "#### Alterando a forma dos dados para apenas uma dimensão"
      ]
    },
    {
      "cell_type": "code",
      "metadata": {
        "id": "4QL9WtTvL0r2"
      },
      "source": [
        "data = data.reshape(-1,1)"
      ],
      "execution_count": 28,
      "outputs": []
    },
    {
      "cell_type": "code",
      "metadata": {
        "id": "RLzHbZM4L0sD",
        "outputId": "871327d9-26fa-46c4-ead1-d205ee559cfc",
        "colab": {
          "base_uri": "https://localhost:8080/",
          "height": 265
        }
      },
      "source": [
        "sns.distplot(data)\n",
        "plt.show()"
      ],
      "execution_count": 29,
      "outputs": [
        {
          "output_type": "display_data",
          "data": {
            "image/png": "[encoded data removed]",
            "text/plain": [
              "<Figure size 432x288 with 1 Axes>"
            ]
          },
          "metadata": {
            "tags": [],
            "needs_background": "light"
          }
        }
      ]
    },
    {
      "cell_type": "markdown",
      "metadata": {
        "id": "yFTamsxpL0sR"
      },
      "source": [
        "##### importando as bibliotecas necessárias."
      ]
    },
    {
      "cell_type": "code",
      "metadata": {
        "id": "SW7HRJWOL0sS"
      },
      "source": [
        "from sklearn.preprocessing import MinMaxScaler"
      ],
      "execution_count": 35,
      "outputs": []
    },
    {
      "cell_type": "markdown",
      "metadata": {
        "id": "9ELE3urkL0so"
      },
      "source": [
        "##### instânciando o objeto scaler"
      ]
    },
    {
      "cell_type": "code",
      "metadata": {
        "id": "s4StQzi9L0sw"
      },
      "source": [
        "scaler = MinMaxScaler().fit(data)"
      ],
      "execution_count": 36,
      "outputs": []
    },
    {
      "cell_type": "markdown",
      "metadata": {
        "id": "lF4p5QkBL0tP"
      },
      "source": [
        "##### transformando os dados com o objeto scaler"
      ]
    },
    {
      "cell_type": "code",
      "metadata": {
        "id": "vjd_1werL0tU",
        "outputId": "c46e2336-fe6a-428a-a041-3b208c33548d",
        "colab": {
          "base_uri": "https://localhost:8080/",
          "height": 867
        }
      },
      "source": [
        "data_scaled = scaler.transform(data)\n",
        "print(data_scaled)"
      ],
      "execution_count": 32,
      "outputs": [
        {
          "output_type": "stream",
          "text": [
            "[[0.6293015 ]\n",
            " [0.19777248]\n",
            " [0.8431408 ]\n",
            " [0.4908511 ]\n",
            " [0.28714726]\n",
            " [0.4001213 ]\n",
            " [0.12887315]\n",
            " [0.55587319]\n",
            " [0.65120099]\n",
            " [0.40464354]\n",
            " [0.12701811]\n",
            " [0.48359784]\n",
            " [0.35226784]\n",
            " [0.4682723 ]\n",
            " [0.06516678]\n",
            " [0.86380808]\n",
            " [0.44944455]\n",
            " [0.70109424]\n",
            " [0.59521978]\n",
            " [0.32827731]\n",
            " [0.48681955]\n",
            " [0.38091153]\n",
            " [0.06565832]\n",
            " [0.55477591]\n",
            " [0.31148915]\n",
            " [0.37646073]\n",
            " [0.42623927]\n",
            " [0.62653963]\n",
            " [0.48906635]\n",
            " [0.33389397]\n",
            " [0.18634195]\n",
            " [0.        ]\n",
            " [0.09428574]\n",
            " [0.16838265]\n",
            " [1.        ]\n",
            " [0.20427703]\n",
            " [0.40453074]\n",
            " [0.22640462]\n",
            " [0.7118946 ]\n",
            " [0.07129375]\n",
            " [0.74092003]\n",
            " [0.2684818 ]\n",
            " [0.68139967]\n",
            " [0.59289143]\n",
            " [0.07288716]\n",
            " [0.29961262]\n",
            " [0.0465569 ]\n",
            " [0.12525211]\n",
            " [0.41967453]\n",
            " [0.19709929]]\n"
          ],
          "name": "stdout"
        }
      ]
    },
    {
      "cell_type": "markdown",
      "metadata": {
        "id": "paTQwiYML0tl"
      },
      "source": [
        "#### Alterando a forma dos dados para apenas uma dimensão"
      ]
    },
    {
      "cell_type": "code",
      "metadata": {
        "id": "ZytJIETFL0tx"
      },
      "source": [
        "data_scaled = data_scaled.reshape(-1,1)"
      ],
      "execution_count": 37,
      "outputs": []
    },
    {
      "cell_type": "code",
      "metadata": {
        "id": "-Dok7ibNL0ul",
        "outputId": "5125574b-2d83-4e56-8107-3eec1c2375c5",
        "colab": {
          "base_uri": "https://localhost:8080/",
          "height": 265
        }
      },
      "source": [
        "sns.distplot(data_scaled)\n",
        "plt.show()"
      ],
      "execution_count": 38,
      "outputs": [
        {
          "output_type": "display_data",
          "data": {
            "image/png": "[encoded data removed]",
            "text/plain": [
              "<Figure size 432x288 with 1 Axes>"
            ]
          },
          "metadata": {
            "tags": [],
            "needs_background": "light"
          }
        }
      ]
    },
    {
      "cell_type": "markdown",
      "metadata": {
        "id": "ER5SEaMqL0xq"
      },
      "source": [
        "## **StandardScaler** - Técnica de Pré-Processamento"
      ]
    },
    {
      "cell_type": "markdown",
      "metadata": {
        "id": "ANGEOOkNL0xs"
      },
      "source": [
        "* Padroniza a escala dos dados sem interferir na sua forma\n",
        "\n",
        "* Mantém a escala dos dados mais fiel que a Técnica MinMaxScale"
      ]
    },
    {
      "cell_type": "code",
      "metadata": {
        "id": "w5ul76TdL0xu",
        "outputId": "886f5752-3b68-425e-df55-497c1da2945e",
        "colab": {
          "base_uri": "https://localhost:8080/",
          "height": 170
        }
      },
      "source": [
        "data = np.random.normal(size = 50)\n",
        "print(data)"
      ],
      "execution_count": 39,
      "outputs": [
        {
          "output_type": "stream",
          "text": [
            "[ 0.92467794 -0.21411502 -1.03152488  0.0525514  -0.34417849 -2.06318265\n",
            " -1.79972741 -0.49404448  1.2952335   1.65705474  1.04904289 -1.6961479\n",
            " -1.0399514  -1.75823709 -1.97062009 -1.21979079  1.52426314 -0.57898852\n",
            " -0.61347982  0.76810308 -2.32237176 -0.05823148 -1.22754233  0.50455041\n",
            " -1.00712692 -0.57330142  2.05109693  1.93488175 -0.39977329  0.67017853\n",
            "  0.91854264  0.0390745  -0.13565311  0.74581048 -1.76412944 -0.45516212\n",
            " -0.28028748  0.92620056 -0.34436953 -1.23373517  0.2626977   0.91299017\n",
            "  1.6351753   0.70337627 -0.72990932 -1.60768995 -0.28490418 -0.3550056\n",
            " -0.89633944  1.29258962]\n"
          ],
          "name": "stdout"
        }
      ]
    },
    {
      "cell_type": "markdown",
      "metadata": {
        "id": "kHA4hL_NL0yB"
      },
      "source": [
        "#### Alterando a forma dos dados para apenas uma dimensão"
      ]
    },
    {
      "cell_type": "code",
      "metadata": {
        "id": "kFHbQGuZL0yD"
      },
      "source": [
        "data = data.reshape(-1,1)"
      ],
      "execution_count": 40,
      "outputs": []
    },
    {
      "cell_type": "code",
      "metadata": {
        "id": "-0Uh_bBzL0yk",
        "outputId": "b2c9b36b-a130-4c43-992d-38372f3c3d6d",
        "colab": {
          "base_uri": "https://localhost:8080/",
          "height": 265
        }
      },
      "source": [
        "sns.distplot(data)\n",
        "plt.show()"
      ],
      "execution_count": 41,
      "outputs": [
        {
          "output_type": "display_data",
          "data": {
            "image/png": "[encoded data removed]",
            "text/plain": [
              "<Figure size 432x288 with 1 Axes>"
            ]
          },
          "metadata": {
            "tags": [],
            "needs_background": "light"
          }
        }
      ]
    },
    {
      "cell_type": "markdown",
      "metadata": {
        "id": "u-IbLt5pL0yr"
      },
      "source": [
        "##### importando as bibliotecas necessárias."
      ]
    },
    {
      "cell_type": "code",
      "metadata": {
        "id": "z6oUis5AL0yr"
      },
      "source": [
        "from sklearn.preprocessing import StandardScaler"
      ],
      "execution_count": 42,
      "outputs": []
    },
    {
      "cell_type": "markdown",
      "metadata": {
        "id": "z_XA2m3nL0yy"
      },
      "source": [
        "##### instânciando o objeto scaler"
      ]
    },
    {
      "cell_type": "code",
      "metadata": {
        "id": "kErXA6PRL0yz"
      },
      "source": [
        "scaler = StandardScaler().fit(data)"
      ],
      "execution_count": 43,
      "outputs": []
    },
    {
      "cell_type": "markdown",
      "metadata": {
        "id": "PLOLeGuTL0zN"
      },
      "source": [
        "##### transformando os dados com o objeto scaler"
      ]
    },
    {
      "cell_type": "code",
      "metadata": {
        "scrolled": true,
        "id": "LiPMx4RTL0zb",
        "outputId": "fc09c378-8d3f-4fae-fa33-88e367d51192",
        "colab": {
          "base_uri": "https://localhost:8080/",
          "height": 867
        }
      },
      "source": [
        "data_scaled = scaler.transform(data)\n",
        "print(data_scaled)"
      ],
      "execution_count": 44,
      "outputs": [
        {
          "output_type": "stream",
          "text": [
            "[[ 0.9687334 ]\n",
            " [-0.0366254 ]\n",
            " [-0.75825806]\n",
            " [ 0.1987953 ]\n",
            " [-0.15144913]\n",
            " [-1.66903487]\n",
            " [-1.43644909]\n",
            " [-0.28375508]\n",
            " [ 1.29587038]\n",
            " [ 1.61529646]\n",
            " [ 1.07852631]\n",
            " [-1.34500615]\n",
            " [-0.76569723]\n",
            " [-1.39982026]\n",
            " [-1.58731801]\n",
            " [-0.92446456]\n",
            " [ 1.49806426]\n",
            " [-0.3587461 ]\n",
            " [-0.38919599]\n",
            " [ 0.83050466]\n",
            " [-1.89785438]\n",
            " [ 0.10099302]\n",
            " [-0.93130784]\n",
            " [ 0.59783287]\n",
            " [-0.73671884]\n",
            " [-0.35372537]\n",
            " [ 1.9631681 ]\n",
            " [ 1.86057003]\n",
            " [-0.20052979]\n",
            " [ 0.74405409]\n",
            " [ 0.96331698]\n",
            " [ 0.18689751]\n",
            " [ 0.03264301]\n",
            " [ 0.81082412]\n",
            " [-1.40502219]\n",
            " [-0.24942863]\n",
            " [-0.09504433]\n",
            " [ 0.97007761]\n",
            " [-0.15161778]\n",
            " [-0.93677506]\n",
            " [ 0.38431842]\n",
            " [ 0.9584151 ]\n",
            " [ 1.59598067]\n",
            " [ 0.77336199]\n",
            " [-0.49198327]\n",
            " [-1.26691296]\n",
            " [-0.09912009]\n",
            " [-0.16100761]\n",
            " [-0.63891251]\n",
            " [ 1.29353629]]\n"
          ],
          "name": "stdout"
        }
      ]
    },
    {
      "cell_type": "markdown",
      "metadata": {
        "id": "6uMk9f1LL00L"
      },
      "source": [
        "#### Alterando a forma dos dados para apenas uma dimensão"
      ]
    },
    {
      "cell_type": "code",
      "metadata": {
        "id": "2axvTbM9L00N"
      },
      "source": [
        "data_scaled = data_scaled.reshape(-1,1)"
      ],
      "execution_count": 45,
      "outputs": []
    },
    {
      "cell_type": "code",
      "metadata": {
        "id": "ICw0pkrPL00p",
        "outputId": "3a83ac1e-f3cd-41a3-e995-1b16c6203d1d",
        "colab": {
          "base_uri": "https://localhost:8080/",
          "height": 265
        }
      },
      "source": [
        "sns.distplot(data_scaled)\n",
        "plt.show()"
      ],
      "execution_count": 46,
      "outputs": [
        {
          "output_type": "display_data",
          "data": {
            "image/png": "[encoded data removed]",
            "text/plain": [
              "<Figure size 432x288 with 1 Axes>"
            ]
          },
          "metadata": {
            "tags": [],
            "needs_background": "light"
          }
        }
      ]
    }
  ]
}