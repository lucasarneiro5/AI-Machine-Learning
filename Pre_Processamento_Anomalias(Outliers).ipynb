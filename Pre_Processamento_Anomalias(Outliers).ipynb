{
  "nbformat": 4,
  "nbformat_minor": 0,
  "metadata": {
    "kernelspec": {
      "display_name": "Python 3",
      "language": "python",
      "name": "python3"
    },
    "language_info": {
      "codemirror_mode": {
        "name": "ipython",
        "version": 3
      },
      "file_extension": ".py",
      "mimetype": "text/x-python",
      "name": "python",
      "nbconvert_exporter": "python",
      "pygments_lexer": "ipython3",
      "version": "3.6.0"
    },
    "colab": {
      "name": "Pre-Processamento - Anomalias(Outliers).ipynb",
      "provenance": []
    }
  },
  "cells": [
    {
      "cell_type": "markdown",
      "metadata": {
        "id": "Y74PAa9OSbLy"
      },
      "source": [
        "# Curso Data Science do Zero - Minerando Dados"
      ]
    },
    {
      "cell_type": "markdown",
      "metadata": {
        "id": "7gHOr7xESbMD"
      },
      "source": [
        "## 5º Capítulo: Pre-processamento de Dados ##"
      ]
    },
    {
      "cell_type": "markdown",
      "metadata": {
        "id": "ONdl1BUUSbME"
      },
      "source": [
        "### Tratamento de Dados - Detecção de Anomalias"
      ]
    },
    {
      "cell_type": "markdown",
      "metadata": {
        "id": "JmRSYMysSbMG"
      },
      "source": [
        "##### dataset para simulação de anomalias"
      ]
    },
    {
      "cell_type": "code",
      "metadata": {
        "colab": {
          "base_uri": "https://localhost:8080/"
        },
        "id": "hbhI85LKSbMH",
        "outputId": "84dc91cb-0c1e-4da0-c759-443406d4bba5"
      },
      "source": [
        "import numpy\n",
        "\n",
        "dados = [10, 386, 479, 627, 20, 523, 482, 483, 542, 699, 535, 617, 577, 471, 615, 583, 441, 562, 563, 527, \n",
        "       453, 530, 433, 541, 585, 704, 443, 569, 430, 637, 331, 511, 552, 496, 484, 566, 554, 472, 335, \n",
        "       440, 579, 341, 545, 615, 548, 604, 439, 556, 442, 461, 624, 611, 444, 578, 405, 487, 490, 496, 398, \n",
        "       512, 422, 455, 449, 432, 607, 679, 434, 597, 639, 565, 415, 486, 668, 414, 665, 763, 557, 304, 404, 454, \n",
        "       689, 610, 483, 441, 657, 590, 492, 476, 437, 483, 529, 363, 711, 543,30, 1300, 1350, 1400]\n",
        "\n",
        "dados = numpy.array(dados)\n",
        "print(dados)"
      ],
      "execution_count": 5,
      "outputs": [
        {
          "output_type": "stream",
          "text": [
            "[  10  386  479  627   20  523  482  483  542  699  535  617  577  471\n",
            "  615  583  441  562  563  527  453  530  433  541  585  704  443  569\n",
            "  430  637  331  511  552  496  484  566  554  472  335  440  579  341\n",
            "  545  615  548  604  439  556  442  461  624  611  444  578  405  487\n",
            "  490  496  398  512  422  455  449  432  607  679  434  597  639  565\n",
            "  415  486  668  414  665  763  557  304  404  454  689  610  483  441\n",
            "  657  590  492  476  437  483  529  363  711  543   30 1300 1350 1400]\n"
          ],
          "name": "stdout"
        }
      ]
    },
    {
      "cell_type": "markdown",
      "metadata": {
        "id": "6bAr7rfgSbMK"
      },
      "source": [
        "#### visualizando os valores anômalos"
      ]
    },
    {
      "cell_type": "code",
      "metadata": {
        "colab": {
          "base_uri": "https://localhost:8080/",
          "height": 268
        },
        "id": "HCp0roqpSbMX",
        "outputId": "8f56c0c3-0f43-4e37-a2d4-9731b80ab5ac"
      },
      "source": [
        "%matplotlib inline\n",
        "import seaborn as sns\n",
        "sns.set(style=\"whitegrid\", color_codes=True)\n",
        "sns.boxplot(data=dados);"
      ],
      "execution_count": 6,
      "outputs": [
        {
          "output_type": "display_data",
          "data": {
            "image/png": "[encoded data removed]",
            "text/plain": [
              "<Figure size 432x288 with 1 Axes>"
            ]
          },
          "metadata": {
            "tags": []
          }
        }
      ]
    },
    {
      "cell_type": "markdown",
      "metadata": {
        "id": "fZpVz_dySbMZ"
      },
      "source": [
        "##### verificando o valor da média"
      ]
    },
    {
      "cell_type": "code",
      "metadata": {
        "scrolled": true,
        "colab": {
          "base_uri": "https://localhost:8080/"
        },
        "id": "5ljAQHVNSbMa",
        "outputId": "23b973d9-6f6c-4f08-c3e1-16715d2cf2a6"
      },
      "source": [
        "numpy.mean(dados, axis=0)"
      ],
      "execution_count": 7,
      "outputs": [
        {
          "output_type": "execute_result",
          "data": {
            "text/plain": [
              "530.3673469387755"
            ]
          },
          "metadata": {
            "tags": []
          },
          "execution_count": 7
        }
      ]
    },
    {
      "cell_type": "markdown",
      "metadata": {
        "id": "mk78iM6vSbMb"
      },
      "source": [
        "##### verificando o valor de desvio padrão"
      ]
    },
    {
      "cell_type": "code",
      "metadata": {
        "scrolled": true,
        "colab": {
          "base_uri": "https://localhost:8080/"
        },
        "id": "YobkzfKESbMc",
        "outputId": "f85bb92a-4998-4a70-8877-c938bb39280b"
      },
      "source": [
        "numpy.std(dados, axis=0)"
      ],
      "execution_count": 8,
      "outputs": [
        {
          "output_type": "execute_result",
          "data": {
            "text/plain": [
              "192.51166875607043"
            ]
          },
          "metadata": {
            "tags": []
          },
          "execution_count": 8
        }
      ]
    },
    {
      "cell_type": "markdown",
      "metadata": {
        "id": "nUCaoXLTSbMc"
      },
      "source": [
        "##### fronteira de valor abaixo da média em duas vezes o desvio padrão"
      ]
    },
    {
      "cell_type": "code",
      "metadata": {
        "collapsed": true,
        "id": "Zj0E3oyYSbMd"
      },
      "source": [
        "mean = numpy.mean(dados, axis=0)\n",
        "sd = numpy.std(dados, axis=0)"
      ],
      "execution_count": 9,
      "outputs": []
    },
    {
      "cell_type": "code",
      "metadata": {
        "scrolled": false,
        "colab": {
          "base_uri": "https://localhost:8080/"
        },
        "id": "BDwx-_LsSbMe",
        "outputId": "7e79518c-cded-4765-966d-38bb0474f703"
      },
      "source": [
        "mean - 2 * sd"
      ],
      "execution_count": 10,
      "outputs": [
        {
          "output_type": "execute_result",
          "data": {
            "text/plain": [
              "145.34400942663467"
            ]
          },
          "metadata": {
            "tags": []
          },
          "execution_count": 10
        }
      ]
    },
    {
      "cell_type": "markdown",
      "metadata": {
        "id": "HEc9ELBQSbMe"
      },
      "source": [
        "##### fronteira de valores acima da média em duas vezes o desvio padrão"
      ]
    },
    {
      "cell_type": "code",
      "metadata": {
        "scrolled": true,
        "colab": {
          "base_uri": "https://localhost:8080/"
        },
        "id": "YaKcTPc6SbMf",
        "outputId": "6eb25790-69b9-40c0-d8e0-e1051c7d9178"
      },
      "source": [
        "mean + 2 * sd"
      ],
      "execution_count": 11,
      "outputs": [
        {
          "output_type": "execute_result",
          "data": {
            "text/plain": [
              "915.3906844509164"
            ]
          },
          "metadata": {
            "tags": []
          },
          "execution_count": 11
        }
      ]
    },
    {
      "cell_type": "markdown",
      "metadata": {
        "id": "pLk2SKaFSbMg"
      },
      "source": [
        "##### listando os valores abaixo da média em duas vezes o desvio padrão"
      ]
    },
    {
      "cell_type": "code",
      "metadata": {
        "scrolled": true,
        "colab": {
          "base_uri": "https://localhost:8080/"
        },
        "id": "TUafhgekSbMg",
        "outputId": "33df29b5-5b6e-4af8-b985-4b3234cc08f9"
      },
      "source": [
        "for x in dados:\n",
        "        if (x < mean - 2 * sd):\n",
        "            print(x)"
      ],
      "execution_count": 12,
      "outputs": [
        {
          "output_type": "stream",
          "text": [
            "10\n",
            "20\n",
            "30\n"
          ],
          "name": "stdout"
        }
      ]
    },
    {
      "cell_type": "markdown",
      "metadata": {
        "id": "kOReTBTjSbMh"
      },
      "source": [
        "##### listando os valores acima da média em duas vezes o desvio padrão"
      ]
    },
    {
      "cell_type": "code",
      "metadata": {
        "scrolled": true,
        "colab": {
          "base_uri": "https://localhost:8080/"
        },
        "id": "N3ouN1vKSbMi",
        "outputId": "cc1e7b6c-b86f-4993-a21b-c4bda2cd6ec8"
      },
      "source": [
        "for x in dados:\n",
        "        if (x > mean + 2 * sd):\n",
        "            print(x)"
      ],
      "execution_count": 13,
      "outputs": [
        {
          "output_type": "stream",
          "text": [
            "1300\n",
            "1350\n",
            "1400\n"
          ],
          "name": "stdout"
        }
      ]
    },
    {
      "cell_type": "markdown",
      "metadata": {
        "id": "0csX3vwySbMj"
      },
      "source": [
        "#### removendo os valores muito abaixo da média (10,20,30)"
      ]
    },
    {
      "cell_type": "code",
      "metadata": {
        "colab": {
          "base_uri": "https://localhost:8080/"
        },
        "id": "mXLubkazSbMk",
        "outputId": "55e2be5c-de45-4a59-b2c7-d4b1585c6ba3"
      },
      "source": [
        "dados = [x for x in dados if (x > mean - 2 * sd)]\n",
        "print(dados)"
      ],
      "execution_count": 14,
      "outputs": [
        {
          "output_type": "stream",
          "text": [
            "[386, 479, 627, 523, 482, 483, 542, 699, 535, 617, 577, 471, 615, 583, 441, 562, 563, 527, 453, 530, 433, 541, 585, 704, 443, 569, 430, 637, 331, 511, 552, 496, 484, 566, 554, 472, 335, 440, 579, 341, 545, 615, 548, 604, 439, 556, 442, 461, 624, 611, 444, 578, 405, 487, 490, 496, 398, 512, 422, 455, 449, 432, 607, 679, 434, 597, 639, 565, 415, 486, 668, 414, 665, 763, 557, 304, 404, 454, 689, 610, 483, 441, 657, 590, 492, 476, 437, 483, 529, 363, 711, 543, 1300, 1350, 1400]\n"
          ],
          "name": "stdout"
        }
      ]
    },
    {
      "cell_type": "markdown",
      "metadata": {
        "id": "y_eyCjPTSbMl"
      },
      "source": [
        "#### removendo os valores muito acima da média (1300,1350,1400)"
      ]
    },
    {
      "cell_type": "code",
      "metadata": {
        "colab": {
          "base_uri": "https://localhost:8080/"
        },
        "id": "j7zbXK__SbMl",
        "outputId": "bfffb093-23d3-41ec-a313-3e8ae8a8ef5b"
      },
      "source": [
        "dados = [x for x in dados if (x < mean + 2 * sd)]\n",
        "print(dados)"
      ],
      "execution_count": 15,
      "outputs": [
        {
          "output_type": "stream",
          "text": [
            "[386, 479, 627, 523, 482, 483, 542, 699, 535, 617, 577, 471, 615, 583, 441, 562, 563, 527, 453, 530, 433, 541, 585, 704, 443, 569, 430, 637, 331, 511, 552, 496, 484, 566, 554, 472, 335, 440, 579, 341, 545, 615, 548, 604, 439, 556, 442, 461, 624, 611, 444, 578, 405, 487, 490, 496, 398, 512, 422, 455, 449, 432, 607, 679, 434, 597, 639, 565, 415, 486, 668, 414, 665, 763, 557, 304, 404, 454, 689, 610, 483, 441, 657, 590, 492, 476, 437, 483, 529, 363, 711, 543]\n"
          ],
          "name": "stdout"
        }
      ]
    },
    {
      "cell_type": "markdown",
      "metadata": {
        "id": "HCPfHo6iSbMl"
      },
      "source": [
        "#### visualizando os valores novamente"
      ]
    },
    {
      "cell_type": "code",
      "metadata": {
        "scrolled": true,
        "colab": {
          "base_uri": "https://localhost:8080/",
          "height": 268
        },
        "id": "dM16zN6PSbMm",
        "outputId": "f204f38b-bc33-4559-a648-8fe4e7fcd33a"
      },
      "source": [
        "sns.boxplot(data=dados);"
      ],
      "execution_count": 16,
      "outputs": [
        {
          "output_type": "display_data",
          "data": {
            "image/png": "[encoded data removed]",
            "text/plain": [
              "<Figure size 432x288 with 1 Axes>"
            ]
          },
          "metadata": {
            "tags": []
          }
        }
      ]
    }
  ]
}